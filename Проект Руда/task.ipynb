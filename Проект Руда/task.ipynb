{
 "cells": [
  {
   "cell_type": "markdown",
   "id": "90939745",
   "metadata": {},
   "source": [
    "# Очистка руды\n",
    "\n",
    "Проект по анализу данных по очистке руды.\n",
    "\n",
    "Основные цели проекта:\n",
    " - Обработать данные\n",
    " - Проанализировать данные\n",
    " - Обучить модель предсказывать эффективность обогащения\n",
    "\n",
    "Процесс очистки руды разделен на несколько этапов: флотация, первичная очистка, вторичная очистка. Нам доступно 3 датасета: тренировочный, тестовый и полный."
   ]
  },
  {
   "cell_type": "code",
   "execution_count": 1,
   "id": "f87306ce",
   "metadata": {},
   "outputs": [],
   "source": [
    "import pandas as pd\n",
    "import numpy as np\n",
    "import matplotlib.pyplot as plt\n",
    "import seaborn as sbs\n",
    "import sklearn as skl\n",
    "from sklearn.model_selection import GridSearchCV\n",
    "from sklearn.model_selection import cross_val_score\n",
    "from sklearn.metrics import mean_absolute_error\n",
    "from sklearn.metrics import make_scorer\n",
    "from sklearn.ensemble import GradientBoostingRegressor\n",
    "from sklearn.ensemble import RandomForestRegressor\n",
    "from sklearn.linear_model import LinearRegression\n",
    "from sklearn.multioutput import MultiOutputRegressor\n",
    "from sklearn.dummy import DummyRegressor\n",
    "from sklearn.preprocessing import StandardScaler\n",
    "from sklearn.tree import DecisionTreeRegressor\n",
    "from sklearn.model_selection import train_test_split\n",
    "from sklearn.utils import shuffle\n",
    "\n",
    "np.random.RandomState(42);"
   ]
  },
  {
   "cell_type": "markdown",
   "id": "b9c64227",
   "metadata": {},
   "source": [
    "## Подготовка данных"
   ]
  },
  {
   "cell_type": "markdown",
   "id": "b420157c",
   "metadata": {},
   "source": [
    "### Загрузка данных"
   ]
  },
  {
   "cell_type": "code",
   "execution_count": 2,
   "id": "66245a6d",
   "metadata": {},
   "outputs": [],
   "source": [
    "try:\n",
    "    train_set = pd.read_csv(\"gold_recovery_train_new.csv\")\n",
    "    test_set = pd.read_csv(\"gold_recovery_test_new.csv\")\n",
    "    full_set = pd.read_csv(\"gold_recovery_full_new.csv\")\n",
    "except:\n",
    "    train_set = pd.read_csv(\"/datasets/gold_recovery_train_new.csv\")\n",
    "    test_set = pd.read_csv(\"/datasets/gold_recovery_test_new.csv\")\n",
    "    full_set = pd.read_csv(\"/datasets/gold_recovery_full_new.csv\")"
   ]
  },
  {
   "cell_type": "markdown",
   "id": "c380492d",
   "metadata": {},
   "source": [
    "#### Train set"
   ]
  },
  {
   "cell_type": "code",
   "execution_count": 3,
   "id": "135c608a",
   "metadata": {},
   "outputs": [
    {
     "data": {
      "text/html": [
       "<div>\n",
       "<style scoped>\n",
       "    .dataframe tbody tr th:only-of-type {\n",
       "        vertical-align: middle;\n",
       "    }\n",
       "\n",
       "    .dataframe tbody tr th {\n",
       "        vertical-align: top;\n",
       "    }\n",
       "\n",
       "    .dataframe thead th {\n",
       "        text-align: right;\n",
       "    }\n",
       "</style>\n",
       "<table border=\"1\" class=\"dataframe\">\n",
       "  <thead>\n",
       "    <tr style=\"text-align: right;\">\n",
       "      <th></th>\n",
       "      <th>date</th>\n",
       "      <th>final.output.concentrate_ag</th>\n",
       "      <th>final.output.concentrate_pb</th>\n",
       "      <th>final.output.concentrate_sol</th>\n",
       "      <th>final.output.concentrate_au</th>\n",
       "      <th>final.output.recovery</th>\n",
       "      <th>final.output.tail_ag</th>\n",
       "      <th>final.output.tail_pb</th>\n",
       "      <th>final.output.tail_sol</th>\n",
       "      <th>final.output.tail_au</th>\n",
       "      <th>...</th>\n",
       "      <th>secondary_cleaner.state.floatbank4_a_air</th>\n",
       "      <th>secondary_cleaner.state.floatbank4_a_level</th>\n",
       "      <th>secondary_cleaner.state.floatbank4_b_air</th>\n",
       "      <th>secondary_cleaner.state.floatbank4_b_level</th>\n",
       "      <th>secondary_cleaner.state.floatbank5_a_air</th>\n",
       "      <th>secondary_cleaner.state.floatbank5_a_level</th>\n",
       "      <th>secondary_cleaner.state.floatbank5_b_air</th>\n",
       "      <th>secondary_cleaner.state.floatbank5_b_level</th>\n",
       "      <th>secondary_cleaner.state.floatbank6_a_air</th>\n",
       "      <th>secondary_cleaner.state.floatbank6_a_level</th>\n",
       "    </tr>\n",
       "  </thead>\n",
       "  <tbody>\n",
       "    <tr>\n",
       "      <th>5351</th>\n",
       "      <td>2017-02-04 15:59:59</td>\n",
       "      <td>7.561775</td>\n",
       "      <td>11.277356</td>\n",
       "      <td>14.772874</td>\n",
       "      <td>41.885446</td>\n",
       "      <td>70.755311</td>\n",
       "      <td>10.788319</td>\n",
       "      <td>3.853571</td>\n",
       "      <td>8.231798</td>\n",
       "      <td>3.543876</td>\n",
       "      <td>...</td>\n",
       "      <td>25.011146</td>\n",
       "      <td>-499.791423</td>\n",
       "      <td>22.945078</td>\n",
       "      <td>-500.264202</td>\n",
       "      <td>23.008423</td>\n",
       "      <td>-499.432909</td>\n",
       "      <td>20.009943</td>\n",
       "      <td>-499.935616</td>\n",
       "      <td>25.011898</td>\n",
       "      <td>-599.474714</td>\n",
       "    </tr>\n",
       "    <tr>\n",
       "      <th>4627</th>\n",
       "      <td>2016-08-29 11:59:59</td>\n",
       "      <td>4.203582</td>\n",
       "      <td>10.844220</td>\n",
       "      <td>7.061929</td>\n",
       "      <td>46.365194</td>\n",
       "      <td>52.021786</td>\n",
       "      <td>7.989551</td>\n",
       "      <td>2.650621</td>\n",
       "      <td>9.270781</td>\n",
       "      <td>3.429491</td>\n",
       "      <td>...</td>\n",
       "      <td>11.948399</td>\n",
       "      <td>-500.310994</td>\n",
       "      <td>7.971476</td>\n",
       "      <td>-500.553438</td>\n",
       "      <td>7.945115</td>\n",
       "      <td>-505.639327</td>\n",
       "      <td>4.982226</td>\n",
       "      <td>-500.314782</td>\n",
       "      <td>24.949593</td>\n",
       "      <td>-500.944729</td>\n",
       "    </tr>\n",
       "    <tr>\n",
       "      <th>2820</th>\n",
       "      <td>2016-06-06 08:59:59</td>\n",
       "      <td>3.939412</td>\n",
       "      <td>9.028539</td>\n",
       "      <td>7.933384</td>\n",
       "      <td>46.868205</td>\n",
       "      <td>59.443583</td>\n",
       "      <td>7.377918</td>\n",
       "      <td>1.718367</td>\n",
       "      <td>10.359901</td>\n",
       "      <td>2.953683</td>\n",
       "      <td>...</td>\n",
       "      <td>9.922839</td>\n",
       "      <td>-499.097413</td>\n",
       "      <td>8.016230</td>\n",
       "      <td>-502.921684</td>\n",
       "      <td>7.950181</td>\n",
       "      <td>-499.841728</td>\n",
       "      <td>5.990436</td>\n",
       "      <td>-500.539224</td>\n",
       "      <td>18.026694</td>\n",
       "      <td>-498.882824</td>\n",
       "    </tr>\n",
       "    <tr>\n",
       "      <th>7829</th>\n",
       "      <td>2017-06-07 11:59:59</td>\n",
       "      <td>4.653997</td>\n",
       "      <td>10.621529</td>\n",
       "      <td>7.566753</td>\n",
       "      <td>45.008186</td>\n",
       "      <td>52.636710</td>\n",
       "      <td>8.352781</td>\n",
       "      <td>2.727410</td>\n",
       "      <td>9.806659</td>\n",
       "      <td>2.828500</td>\n",
       "      <td>...</td>\n",
       "      <td>15.040756</td>\n",
       "      <td>-499.764644</td>\n",
       "      <td>10.042912</td>\n",
       "      <td>-379.824333</td>\n",
       "      <td>15.043622</td>\n",
       "      <td>-500.328587</td>\n",
       "      <td>10.021753</td>\n",
       "      <td>-500.211207</td>\n",
       "      <td>15.014802</td>\n",
       "      <td>-500.961724</td>\n",
       "    </tr>\n",
       "    <tr>\n",
       "      <th>3921</th>\n",
       "      <td>2016-07-29 00:59:59</td>\n",
       "      <td>5.157383</td>\n",
       "      <td>11.111976</td>\n",
       "      <td>10.878812</td>\n",
       "      <td>43.028728</td>\n",
       "      <td>60.317975</td>\n",
       "      <td>7.333551</td>\n",
       "      <td>2.277575</td>\n",
       "      <td>12.419501</td>\n",
       "      <td>3.322522</td>\n",
       "      <td>...</td>\n",
       "      <td>20.025118</td>\n",
       "      <td>-399.694092</td>\n",
       "      <td>10.132651</td>\n",
       "      <td>-400.350341</td>\n",
       "      <td>9.958249</td>\n",
       "      <td>-400.240048</td>\n",
       "      <td>4.921178</td>\n",
       "      <td>-400.187251</td>\n",
       "      <td>23.022678</td>\n",
       "      <td>-500.156026</td>\n",
       "    </tr>\n",
       "  </tbody>\n",
       "</table>\n",
       "<p>5 rows × 87 columns</p>\n",
       "</div>"
      ],
      "text/plain": [
       "                     date  final.output.concentrate_ag  \\\n",
       "5351  2017-02-04 15:59:59                     7.561775   \n",
       "4627  2016-08-29 11:59:59                     4.203582   \n",
       "2820  2016-06-06 08:59:59                     3.939412   \n",
       "7829  2017-06-07 11:59:59                     4.653997   \n",
       "3921  2016-07-29 00:59:59                     5.157383   \n",
       "\n",
       "      final.output.concentrate_pb  final.output.concentrate_sol  \\\n",
       "5351                    11.277356                     14.772874   \n",
       "4627                    10.844220                      7.061929   \n",
       "2820                     9.028539                      7.933384   \n",
       "7829                    10.621529                      7.566753   \n",
       "3921                    11.111976                     10.878812   \n",
       "\n",
       "      final.output.concentrate_au  final.output.recovery  \\\n",
       "5351                    41.885446              70.755311   \n",
       "4627                    46.365194              52.021786   \n",
       "2820                    46.868205              59.443583   \n",
       "7829                    45.008186              52.636710   \n",
       "3921                    43.028728              60.317975   \n",
       "\n",
       "      final.output.tail_ag  final.output.tail_pb  final.output.tail_sol  \\\n",
       "5351             10.788319              3.853571               8.231798   \n",
       "4627              7.989551              2.650621               9.270781   \n",
       "2820              7.377918              1.718367              10.359901   \n",
       "7829              8.352781              2.727410               9.806659   \n",
       "3921              7.333551              2.277575              12.419501   \n",
       "\n",
       "      final.output.tail_au  ...  secondary_cleaner.state.floatbank4_a_air  \\\n",
       "5351              3.543876  ...                                 25.011146   \n",
       "4627              3.429491  ...                                 11.948399   \n",
       "2820              2.953683  ...                                  9.922839   \n",
       "7829              2.828500  ...                                 15.040756   \n",
       "3921              3.322522  ...                                 20.025118   \n",
       "\n",
       "      secondary_cleaner.state.floatbank4_a_level  \\\n",
       "5351                                 -499.791423   \n",
       "4627                                 -500.310994   \n",
       "2820                                 -499.097413   \n",
       "7829                                 -499.764644   \n",
       "3921                                 -399.694092   \n",
       "\n",
       "      secondary_cleaner.state.floatbank4_b_air  \\\n",
       "5351                                 22.945078   \n",
       "4627                                  7.971476   \n",
       "2820                                  8.016230   \n",
       "7829                                 10.042912   \n",
       "3921                                 10.132651   \n",
       "\n",
       "      secondary_cleaner.state.floatbank4_b_level  \\\n",
       "5351                                 -500.264202   \n",
       "4627                                 -500.553438   \n",
       "2820                                 -502.921684   \n",
       "7829                                 -379.824333   \n",
       "3921                                 -400.350341   \n",
       "\n",
       "      secondary_cleaner.state.floatbank5_a_air  \\\n",
       "5351                                 23.008423   \n",
       "4627                                  7.945115   \n",
       "2820                                  7.950181   \n",
       "7829                                 15.043622   \n",
       "3921                                  9.958249   \n",
       "\n",
       "      secondary_cleaner.state.floatbank5_a_level  \\\n",
       "5351                                 -499.432909   \n",
       "4627                                 -505.639327   \n",
       "2820                                 -499.841728   \n",
       "7829                                 -500.328587   \n",
       "3921                                 -400.240048   \n",
       "\n",
       "      secondary_cleaner.state.floatbank5_b_air  \\\n",
       "5351                                 20.009943   \n",
       "4627                                  4.982226   \n",
       "2820                                  5.990436   \n",
       "7829                                 10.021753   \n",
       "3921                                  4.921178   \n",
       "\n",
       "      secondary_cleaner.state.floatbank5_b_level  \\\n",
       "5351                                 -499.935616   \n",
       "4627                                 -500.314782   \n",
       "2820                                 -500.539224   \n",
       "7829                                 -500.211207   \n",
       "3921                                 -400.187251   \n",
       "\n",
       "      secondary_cleaner.state.floatbank6_a_air  \\\n",
       "5351                                 25.011898   \n",
       "4627                                 24.949593   \n",
       "2820                                 18.026694   \n",
       "7829                                 15.014802   \n",
       "3921                                 23.022678   \n",
       "\n",
       "      secondary_cleaner.state.floatbank6_a_level  \n",
       "5351                                 -599.474714  \n",
       "4627                                 -500.944729  \n",
       "2820                                 -498.882824  \n",
       "7829                                 -500.961724  \n",
       "3921                                 -500.156026  \n",
       "\n",
       "[5 rows x 87 columns]"
      ]
     },
     "execution_count": 3,
     "metadata": {},
     "output_type": "execute_result"
    }
   ],
   "source": [
    "train_set.sample(5)"
   ]
  },
  {
   "cell_type": "code",
   "execution_count": 4,
   "id": "8de72ded",
   "metadata": {
    "scrolled": true
   },
   "outputs": [
    {
     "name": "stdout",
     "output_type": "stream",
     "text": [
      "<class 'pandas.core.frame.DataFrame'>\n",
      "RangeIndex: 14149 entries, 0 to 14148\n",
      "Data columns (total 87 columns):\n",
      " #   Column                                              Non-Null Count  Dtype  \n",
      "---  ------                                              --------------  -----  \n",
      " 0   date                                                14149 non-null  object \n",
      " 1   final.output.concentrate_ag                         14148 non-null  float64\n",
      " 2   final.output.concentrate_pb                         14148 non-null  float64\n",
      " 3   final.output.concentrate_sol                        13938 non-null  float64\n",
      " 4   final.output.concentrate_au                         14149 non-null  float64\n",
      " 5   final.output.recovery                               14149 non-null  float64\n",
      " 6   final.output.tail_ag                                14149 non-null  float64\n",
      " 7   final.output.tail_pb                                14049 non-null  float64\n",
      " 8   final.output.tail_sol                               14144 non-null  float64\n",
      " 9   final.output.tail_au                                14149 non-null  float64\n",
      " 10  primary_cleaner.input.sulfate                       14129 non-null  float64\n",
      " 11  primary_cleaner.input.depressant                    14117 non-null  float64\n",
      " 12  primary_cleaner.input.feed_size                     14149 non-null  float64\n",
      " 13  primary_cleaner.input.xanthate                      14049 non-null  float64\n",
      " 14  primary_cleaner.output.concentrate_ag               14149 non-null  float64\n",
      " 15  primary_cleaner.output.concentrate_pb               14063 non-null  float64\n",
      " 16  primary_cleaner.output.concentrate_sol              13863 non-null  float64\n",
      " 17  primary_cleaner.output.concentrate_au               14149 non-null  float64\n",
      " 18  primary_cleaner.output.tail_ag                      14148 non-null  float64\n",
      " 19  primary_cleaner.output.tail_pb                      14134 non-null  float64\n",
      " 20  primary_cleaner.output.tail_sol                     14103 non-null  float64\n",
      " 21  primary_cleaner.output.tail_au                      14149 non-null  float64\n",
      " 22  primary_cleaner.state.floatbank8_a_air              14145 non-null  float64\n",
      " 23  primary_cleaner.state.floatbank8_a_level            14148 non-null  float64\n",
      " 24  primary_cleaner.state.floatbank8_b_air              14145 non-null  float64\n",
      " 25  primary_cleaner.state.floatbank8_b_level            14148 non-null  float64\n",
      " 26  primary_cleaner.state.floatbank8_c_air              14147 non-null  float64\n",
      " 27  primary_cleaner.state.floatbank8_c_level            14148 non-null  float64\n",
      " 28  primary_cleaner.state.floatbank8_d_air              14146 non-null  float64\n",
      " 29  primary_cleaner.state.floatbank8_d_level            14148 non-null  float64\n",
      " 30  rougher.calculation.sulfate_to_au_concentrate       14148 non-null  float64\n",
      " 31  rougher.calculation.floatbank10_sulfate_to_au_feed  14148 non-null  float64\n",
      " 32  rougher.calculation.floatbank11_sulfate_to_au_feed  14148 non-null  float64\n",
      " 33  rougher.calculation.au_pb_ratio                     14149 non-null  float64\n",
      " 34  rougher.input.feed_ag                               14149 non-null  float64\n",
      " 35  rougher.input.feed_pb                               14049 non-null  float64\n",
      " 36  rougher.input.feed_rate                             14141 non-null  float64\n",
      " 37  rougher.input.feed_size                             14005 non-null  float64\n",
      " 38  rougher.input.feed_sol                              14071 non-null  float64\n",
      " 39  rougher.input.feed_au                               14149 non-null  float64\n",
      " 40  rougher.input.floatbank10_sulfate                   14120 non-null  float64\n",
      " 41  rougher.input.floatbank10_xanthate                  14141 non-null  float64\n",
      " 42  rougher.input.floatbank11_sulfate                   14113 non-null  float64\n",
      " 43  rougher.input.floatbank11_xanthate                  13721 non-null  float64\n",
      " 44  rougher.output.concentrate_ag                       14149 non-null  float64\n",
      " 45  rougher.output.concentrate_pb                       14149 non-null  float64\n",
      " 46  rougher.output.concentrate_sol                      14127 non-null  float64\n",
      " 47  rougher.output.concentrate_au                       14149 non-null  float64\n",
      " 48  rougher.output.recovery                             14149 non-null  float64\n",
      " 49  rougher.output.tail_ag                              14148 non-null  float64\n",
      " 50  rougher.output.tail_pb                              14149 non-null  float64\n",
      " 51  rougher.output.tail_sol                             14149 non-null  float64\n",
      " 52  rougher.output.tail_au                              14149 non-null  float64\n",
      " 53  rougher.state.floatbank10_a_air                     14148 non-null  float64\n",
      " 54  rougher.state.floatbank10_a_level                   14148 non-null  float64\n",
      " 55  rougher.state.floatbank10_b_air                     14148 non-null  float64\n",
      " 56  rougher.state.floatbank10_b_level                   14148 non-null  float64\n",
      " 57  rougher.state.floatbank10_c_air                     14148 non-null  float64\n",
      " 58  rougher.state.floatbank10_c_level                   14148 non-null  float64\n",
      " 59  rougher.state.floatbank10_d_air                     14149 non-null  float64\n",
      " 60  rougher.state.floatbank10_d_level                   14149 non-null  float64\n",
      " 61  rougher.state.floatbank10_e_air                     13713 non-null  float64\n",
      " 62  rougher.state.floatbank10_e_level                   14149 non-null  float64\n",
      " 63  rougher.state.floatbank10_f_air                     14149 non-null  float64\n",
      " 64  rougher.state.floatbank10_f_level                   14149 non-null  float64\n",
      " 65  secondary_cleaner.output.tail_ag                    14147 non-null  float64\n",
      " 66  secondary_cleaner.output.tail_pb                    14139 non-null  float64\n",
      " 67  secondary_cleaner.output.tail_sol                   12544 non-null  float64\n",
      " 68  secondary_cleaner.output.tail_au                    14149 non-null  float64\n",
      " 69  secondary_cleaner.state.floatbank2_a_air            13932 non-null  float64\n",
      " 70  secondary_cleaner.state.floatbank2_a_level          14148 non-null  float64\n",
      " 71  secondary_cleaner.state.floatbank2_b_air            14128 non-null  float64\n",
      " 72  secondary_cleaner.state.floatbank2_b_level          14148 non-null  float64\n",
      " 73  secondary_cleaner.state.floatbank3_a_air            14145 non-null  float64\n",
      " 74  secondary_cleaner.state.floatbank3_a_level          14148 non-null  float64\n",
      " 75  secondary_cleaner.state.floatbank3_b_air            14148 non-null  float64\n",
      " 76  secondary_cleaner.state.floatbank3_b_level          14148 non-null  float64\n",
      " 77  secondary_cleaner.state.floatbank4_a_air            14143 non-null  float64\n",
      " 78  secondary_cleaner.state.floatbank4_a_level          14148 non-null  float64\n",
      " 79  secondary_cleaner.state.floatbank4_b_air            14148 non-null  float64\n",
      " 80  secondary_cleaner.state.floatbank4_b_level          14148 non-null  float64\n",
      " 81  secondary_cleaner.state.floatbank5_a_air            14148 non-null  float64\n",
      " 82  secondary_cleaner.state.floatbank5_a_level          14148 non-null  float64\n",
      " 83  secondary_cleaner.state.floatbank5_b_air            14148 non-null  float64\n",
      " 84  secondary_cleaner.state.floatbank5_b_level          14148 non-null  float64\n",
      " 85  secondary_cleaner.state.floatbank6_a_air            14147 non-null  float64\n",
      " 86  secondary_cleaner.state.floatbank6_a_level          14148 non-null  float64\n",
      "dtypes: float64(86), object(1)\n",
      "memory usage: 9.4+ MB\n"
     ]
    }
   ],
   "source": [
    "train_set.info()"
   ]
  },
  {
   "cell_type": "code",
   "execution_count": 5,
   "id": "e835a60c",
   "metadata": {},
   "outputs": [
    {
     "data": {
      "text/html": [
       "<div>\n",
       "<style scoped>\n",
       "    .dataframe tbody tr th:only-of-type {\n",
       "        vertical-align: middle;\n",
       "    }\n",
       "\n",
       "    .dataframe tbody tr th {\n",
       "        vertical-align: top;\n",
       "    }\n",
       "\n",
       "    .dataframe thead th {\n",
       "        text-align: right;\n",
       "    }\n",
       "</style>\n",
       "<table border=\"1\" class=\"dataframe\">\n",
       "  <thead>\n",
       "    <tr style=\"text-align: right;\">\n",
       "      <th></th>\n",
       "      <th>final.output.concentrate_ag</th>\n",
       "      <th>final.output.concentrate_pb</th>\n",
       "      <th>final.output.concentrate_sol</th>\n",
       "      <th>final.output.concentrate_au</th>\n",
       "      <th>final.output.recovery</th>\n",
       "      <th>final.output.tail_ag</th>\n",
       "      <th>final.output.tail_pb</th>\n",
       "      <th>final.output.tail_sol</th>\n",
       "      <th>final.output.tail_au</th>\n",
       "      <th>primary_cleaner.input.sulfate</th>\n",
       "      <th>...</th>\n",
       "      <th>secondary_cleaner.state.floatbank4_a_air</th>\n",
       "      <th>secondary_cleaner.state.floatbank4_a_level</th>\n",
       "      <th>secondary_cleaner.state.floatbank4_b_air</th>\n",
       "      <th>secondary_cleaner.state.floatbank4_b_level</th>\n",
       "      <th>secondary_cleaner.state.floatbank5_a_air</th>\n",
       "      <th>secondary_cleaner.state.floatbank5_a_level</th>\n",
       "      <th>secondary_cleaner.state.floatbank5_b_air</th>\n",
       "      <th>secondary_cleaner.state.floatbank5_b_level</th>\n",
       "      <th>secondary_cleaner.state.floatbank6_a_air</th>\n",
       "      <th>secondary_cleaner.state.floatbank6_a_level</th>\n",
       "    </tr>\n",
       "  </thead>\n",
       "  <tbody>\n",
       "    <tr>\n",
       "      <th>count</th>\n",
       "      <td>14148.000000</td>\n",
       "      <td>14148.000000</td>\n",
       "      <td>13938.000000</td>\n",
       "      <td>14149.000000</td>\n",
       "      <td>14149.000000</td>\n",
       "      <td>14149.000000</td>\n",
       "      <td>14049.000000</td>\n",
       "      <td>14144.000000</td>\n",
       "      <td>14149.000000</td>\n",
       "      <td>14129.000000</td>\n",
       "      <td>...</td>\n",
       "      <td>14143.000000</td>\n",
       "      <td>14148.000000</td>\n",
       "      <td>14148.000000</td>\n",
       "      <td>14148.000000</td>\n",
       "      <td>14148.000000</td>\n",
       "      <td>14148.000000</td>\n",
       "      <td>14148.000000</td>\n",
       "      <td>14148.000000</td>\n",
       "      <td>14147.000000</td>\n",
       "      <td>14148.000000</td>\n",
       "    </tr>\n",
       "    <tr>\n",
       "      <th>mean</th>\n",
       "      <td>5.142034</td>\n",
       "      <td>10.132960</td>\n",
       "      <td>9.202849</td>\n",
       "      <td>44.003792</td>\n",
       "      <td>66.518832</td>\n",
       "      <td>9.607035</td>\n",
       "      <td>2.597298</td>\n",
       "      <td>10.512122</td>\n",
       "      <td>2.918421</td>\n",
       "      <td>133.320659</td>\n",
       "      <td>...</td>\n",
       "      <td>19.985454</td>\n",
       "      <td>-478.696836</td>\n",
       "      <td>15.487065</td>\n",
       "      <td>-460.229416</td>\n",
       "      <td>16.775136</td>\n",
       "      <td>-483.956022</td>\n",
       "      <td>13.064590</td>\n",
       "      <td>-483.966564</td>\n",
       "      <td>19.577539</td>\n",
       "      <td>-506.798480</td>\n",
       "    </tr>\n",
       "    <tr>\n",
       "      <th>std</th>\n",
       "      <td>1.369586</td>\n",
       "      <td>1.654930</td>\n",
       "      <td>2.790516</td>\n",
       "      <td>4.905261</td>\n",
       "      <td>10.295402</td>\n",
       "      <td>2.319069</td>\n",
       "      <td>0.971843</td>\n",
       "      <td>3.003617</td>\n",
       "      <td>0.903712</td>\n",
       "      <td>39.431659</td>\n",
       "      <td>...</td>\n",
       "      <td>5.657723</td>\n",
       "      <td>50.736021</td>\n",
       "      <td>5.255655</td>\n",
       "      <td>58.843586</td>\n",
       "      <td>5.831906</td>\n",
       "      <td>37.892788</td>\n",
       "      <td>5.765617</td>\n",
       "      <td>39.207913</td>\n",
       "      <td>5.764417</td>\n",
       "      <td>37.079249</td>\n",
       "    </tr>\n",
       "    <tr>\n",
       "      <th>min</th>\n",
       "      <td>0.000000</td>\n",
       "      <td>0.000000</td>\n",
       "      <td>0.000000</td>\n",
       "      <td>0.000000</td>\n",
       "      <td>0.000000</td>\n",
       "      <td>0.000000</td>\n",
       "      <td>0.000000</td>\n",
       "      <td>0.000000</td>\n",
       "      <td>0.000000</td>\n",
       "      <td>0.003112</td>\n",
       "      <td>...</td>\n",
       "      <td>0.000000</td>\n",
       "      <td>-799.709069</td>\n",
       "      <td>0.000000</td>\n",
       "      <td>-799.889113</td>\n",
       "      <td>-0.372054</td>\n",
       "      <td>-797.142475</td>\n",
       "      <td>0.646208</td>\n",
       "      <td>-800.006180</td>\n",
       "      <td>0.195324</td>\n",
       "      <td>-809.398668</td>\n",
       "    </tr>\n",
       "    <tr>\n",
       "      <th>25%</th>\n",
       "      <td>4.211620</td>\n",
       "      <td>9.297355</td>\n",
       "      <td>7.484645</td>\n",
       "      <td>43.276111</td>\n",
       "      <td>62.545817</td>\n",
       "      <td>7.997429</td>\n",
       "      <td>1.905973</td>\n",
       "      <td>8.811324</td>\n",
       "      <td>2.368607</td>\n",
       "      <td>107.006651</td>\n",
       "      <td>...</td>\n",
       "      <td>14.990775</td>\n",
       "      <td>-500.628656</td>\n",
       "      <td>11.894558</td>\n",
       "      <td>-500.149000</td>\n",
       "      <td>11.083980</td>\n",
       "      <td>-500.363177</td>\n",
       "      <td>8.994405</td>\n",
       "      <td>-500.105994</td>\n",
       "      <td>14.989304</td>\n",
       "      <td>-500.745104</td>\n",
       "    </tr>\n",
       "    <tr>\n",
       "      <th>50%</th>\n",
       "      <td>4.994652</td>\n",
       "      <td>10.297144</td>\n",
       "      <td>8.845462</td>\n",
       "      <td>44.872436</td>\n",
       "      <td>67.432775</td>\n",
       "      <td>9.480270</td>\n",
       "      <td>2.592022</td>\n",
       "      <td>10.514621</td>\n",
       "      <td>2.851025</td>\n",
       "      <td>133.018328</td>\n",
       "      <td>...</td>\n",
       "      <td>20.001789</td>\n",
       "      <td>-499.681450</td>\n",
       "      <td>14.975536</td>\n",
       "      <td>-499.388738</td>\n",
       "      <td>17.932223</td>\n",
       "      <td>-499.702452</td>\n",
       "      <td>11.997547</td>\n",
       "      <td>-499.914556</td>\n",
       "      <td>19.984175</td>\n",
       "      <td>-500.061431</td>\n",
       "    </tr>\n",
       "    <tr>\n",
       "      <th>75%</th>\n",
       "      <td>5.859540</td>\n",
       "      <td>11.170603</td>\n",
       "      <td>10.487508</td>\n",
       "      <td>46.166425</td>\n",
       "      <td>72.346428</td>\n",
       "      <td>11.003707</td>\n",
       "      <td>3.241723</td>\n",
       "      <td>11.933009</td>\n",
       "      <td>3.434764</td>\n",
       "      <td>159.825396</td>\n",
       "      <td>...</td>\n",
       "      <td>24.990826</td>\n",
       "      <td>-477.472413</td>\n",
       "      <td>20.059375</td>\n",
       "      <td>-400.039008</td>\n",
       "      <td>21.346550</td>\n",
       "      <td>-487.712108</td>\n",
       "      <td>17.982903</td>\n",
       "      <td>-453.186936</td>\n",
       "      <td>24.991623</td>\n",
       "      <td>-499.536466</td>\n",
       "    </tr>\n",
       "    <tr>\n",
       "      <th>max</th>\n",
       "      <td>16.001945</td>\n",
       "      <td>17.031899</td>\n",
       "      <td>18.124851</td>\n",
       "      <td>52.756638</td>\n",
       "      <td>100.000000</td>\n",
       "      <td>19.552149</td>\n",
       "      <td>5.639565</td>\n",
       "      <td>22.317730</td>\n",
       "      <td>8.197408</td>\n",
       "      <td>250.127834</td>\n",
       "      <td>...</td>\n",
       "      <td>30.115735</td>\n",
       "      <td>-245.239184</td>\n",
       "      <td>24.007913</td>\n",
       "      <td>-145.071088</td>\n",
       "      <td>43.709931</td>\n",
       "      <td>-275.073125</td>\n",
       "      <td>27.926001</td>\n",
       "      <td>-157.396071</td>\n",
       "      <td>32.188906</td>\n",
       "      <td>-104.427459</td>\n",
       "    </tr>\n",
       "  </tbody>\n",
       "</table>\n",
       "<p>8 rows × 86 columns</p>\n",
       "</div>"
      ],
      "text/plain": [
       "       final.output.concentrate_ag  final.output.concentrate_pb  \\\n",
       "count                 14148.000000                 14148.000000   \n",
       "mean                      5.142034                    10.132960   \n",
       "std                       1.369586                     1.654930   \n",
       "min                       0.000000                     0.000000   \n",
       "25%                       4.211620                     9.297355   \n",
       "50%                       4.994652                    10.297144   \n",
       "75%                       5.859540                    11.170603   \n",
       "max                      16.001945                    17.031899   \n",
       "\n",
       "       final.output.concentrate_sol  final.output.concentrate_au  \\\n",
       "count                  13938.000000                 14149.000000   \n",
       "mean                       9.202849                    44.003792   \n",
       "std                        2.790516                     4.905261   \n",
       "min                        0.000000                     0.000000   \n",
       "25%                        7.484645                    43.276111   \n",
       "50%                        8.845462                    44.872436   \n",
       "75%                       10.487508                    46.166425   \n",
       "max                       18.124851                    52.756638   \n",
       "\n",
       "       final.output.recovery  final.output.tail_ag  final.output.tail_pb  \\\n",
       "count           14149.000000          14149.000000          14049.000000   \n",
       "mean               66.518832              9.607035              2.597298   \n",
       "std                10.295402              2.319069              0.971843   \n",
       "min                 0.000000              0.000000              0.000000   \n",
       "25%                62.545817              7.997429              1.905973   \n",
       "50%                67.432775              9.480270              2.592022   \n",
       "75%                72.346428             11.003707              3.241723   \n",
       "max               100.000000             19.552149              5.639565   \n",
       "\n",
       "       final.output.tail_sol  final.output.tail_au  \\\n",
       "count           14144.000000          14149.000000   \n",
       "mean               10.512122              2.918421   \n",
       "std                 3.003617              0.903712   \n",
       "min                 0.000000              0.000000   \n",
       "25%                 8.811324              2.368607   \n",
       "50%                10.514621              2.851025   \n",
       "75%                11.933009              3.434764   \n",
       "max                22.317730              8.197408   \n",
       "\n",
       "       primary_cleaner.input.sulfate  ...  \\\n",
       "count                   14129.000000  ...   \n",
       "mean                      133.320659  ...   \n",
       "std                        39.431659  ...   \n",
       "min                         0.003112  ...   \n",
       "25%                       107.006651  ...   \n",
       "50%                       133.018328  ...   \n",
       "75%                       159.825396  ...   \n",
       "max                       250.127834  ...   \n",
       "\n",
       "       secondary_cleaner.state.floatbank4_a_air  \\\n",
       "count                              14143.000000   \n",
       "mean                                  19.985454   \n",
       "std                                    5.657723   \n",
       "min                                    0.000000   \n",
       "25%                                   14.990775   \n",
       "50%                                   20.001789   \n",
       "75%                                   24.990826   \n",
       "max                                   30.115735   \n",
       "\n",
       "       secondary_cleaner.state.floatbank4_a_level  \\\n",
       "count                                14148.000000   \n",
       "mean                                  -478.696836   \n",
       "std                                     50.736021   \n",
       "min                                   -799.709069   \n",
       "25%                                   -500.628656   \n",
       "50%                                   -499.681450   \n",
       "75%                                   -477.472413   \n",
       "max                                   -245.239184   \n",
       "\n",
       "       secondary_cleaner.state.floatbank4_b_air  \\\n",
       "count                              14148.000000   \n",
       "mean                                  15.487065   \n",
       "std                                    5.255655   \n",
       "min                                    0.000000   \n",
       "25%                                   11.894558   \n",
       "50%                                   14.975536   \n",
       "75%                                   20.059375   \n",
       "max                                   24.007913   \n",
       "\n",
       "       secondary_cleaner.state.floatbank4_b_level  \\\n",
       "count                                14148.000000   \n",
       "mean                                  -460.229416   \n",
       "std                                     58.843586   \n",
       "min                                   -799.889113   \n",
       "25%                                   -500.149000   \n",
       "50%                                   -499.388738   \n",
       "75%                                   -400.039008   \n",
       "max                                   -145.071088   \n",
       "\n",
       "       secondary_cleaner.state.floatbank5_a_air  \\\n",
       "count                              14148.000000   \n",
       "mean                                  16.775136   \n",
       "std                                    5.831906   \n",
       "min                                   -0.372054   \n",
       "25%                                   11.083980   \n",
       "50%                                   17.932223   \n",
       "75%                                   21.346550   \n",
       "max                                   43.709931   \n",
       "\n",
       "       secondary_cleaner.state.floatbank5_a_level  \\\n",
       "count                                14148.000000   \n",
       "mean                                  -483.956022   \n",
       "std                                     37.892788   \n",
       "min                                   -797.142475   \n",
       "25%                                   -500.363177   \n",
       "50%                                   -499.702452   \n",
       "75%                                   -487.712108   \n",
       "max                                   -275.073125   \n",
       "\n",
       "       secondary_cleaner.state.floatbank5_b_air  \\\n",
       "count                              14148.000000   \n",
       "mean                                  13.064590   \n",
       "std                                    5.765617   \n",
       "min                                    0.646208   \n",
       "25%                                    8.994405   \n",
       "50%                                   11.997547   \n",
       "75%                                   17.982903   \n",
       "max                                   27.926001   \n",
       "\n",
       "       secondary_cleaner.state.floatbank5_b_level  \\\n",
       "count                                14148.000000   \n",
       "mean                                  -483.966564   \n",
       "std                                     39.207913   \n",
       "min                                   -800.006180   \n",
       "25%                                   -500.105994   \n",
       "50%                                   -499.914556   \n",
       "75%                                   -453.186936   \n",
       "max                                   -157.396071   \n",
       "\n",
       "       secondary_cleaner.state.floatbank6_a_air  \\\n",
       "count                              14147.000000   \n",
       "mean                                  19.577539   \n",
       "std                                    5.764417   \n",
       "min                                    0.195324   \n",
       "25%                                   14.989304   \n",
       "50%                                   19.984175   \n",
       "75%                                   24.991623   \n",
       "max                                   32.188906   \n",
       "\n",
       "       secondary_cleaner.state.floatbank6_a_level  \n",
       "count                                14148.000000  \n",
       "mean                                  -506.798480  \n",
       "std                                     37.079249  \n",
       "min                                   -809.398668  \n",
       "25%                                   -500.745104  \n",
       "50%                                   -500.061431  \n",
       "75%                                   -499.536466  \n",
       "max                                   -104.427459  \n",
       "\n",
       "[8 rows x 86 columns]"
      ]
     },
     "execution_count": 5,
     "metadata": {},
     "output_type": "execute_result"
    }
   ],
   "source": [
    "train_set.describe()"
   ]
  },
  {
   "cell_type": "markdown",
   "id": "8a07b5e9",
   "metadata": {},
   "source": [
    "#### Test set"
   ]
  },
  {
   "cell_type": "code",
   "execution_count": 6,
   "id": "00a7dbf9",
   "metadata": {},
   "outputs": [
    {
     "data": {
      "text/html": [
       "<div>\n",
       "<style scoped>\n",
       "    .dataframe tbody tr th:only-of-type {\n",
       "        vertical-align: middle;\n",
       "    }\n",
       "\n",
       "    .dataframe tbody tr th {\n",
       "        vertical-align: top;\n",
       "    }\n",
       "\n",
       "    .dataframe thead th {\n",
       "        text-align: right;\n",
       "    }\n",
       "</style>\n",
       "<table border=\"1\" class=\"dataframe\">\n",
       "  <thead>\n",
       "    <tr style=\"text-align: right;\">\n",
       "      <th></th>\n",
       "      <th>date</th>\n",
       "      <th>primary_cleaner.input.sulfate</th>\n",
       "      <th>primary_cleaner.input.depressant</th>\n",
       "      <th>primary_cleaner.input.feed_size</th>\n",
       "      <th>primary_cleaner.input.xanthate</th>\n",
       "      <th>primary_cleaner.state.floatbank8_a_air</th>\n",
       "      <th>primary_cleaner.state.floatbank8_a_level</th>\n",
       "      <th>primary_cleaner.state.floatbank8_b_air</th>\n",
       "      <th>primary_cleaner.state.floatbank8_b_level</th>\n",
       "      <th>primary_cleaner.state.floatbank8_c_air</th>\n",
       "      <th>...</th>\n",
       "      <th>secondary_cleaner.state.floatbank4_a_air</th>\n",
       "      <th>secondary_cleaner.state.floatbank4_a_level</th>\n",
       "      <th>secondary_cleaner.state.floatbank4_b_air</th>\n",
       "      <th>secondary_cleaner.state.floatbank4_b_level</th>\n",
       "      <th>secondary_cleaner.state.floatbank5_a_air</th>\n",
       "      <th>secondary_cleaner.state.floatbank5_a_level</th>\n",
       "      <th>secondary_cleaner.state.floatbank5_b_air</th>\n",
       "      <th>secondary_cleaner.state.floatbank5_b_level</th>\n",
       "      <th>secondary_cleaner.state.floatbank6_a_air</th>\n",
       "      <th>secondary_cleaner.state.floatbank6_a_level</th>\n",
       "    </tr>\n",
       "  </thead>\n",
       "  <tbody>\n",
       "    <tr>\n",
       "      <th>608</th>\n",
       "      <td>2016-10-05 16:59:59</td>\n",
       "      <td>136.160058</td>\n",
       "      <td>4.001874</td>\n",
       "      <td>7.70</td>\n",
       "      <td>0.701256</td>\n",
       "      <td>1648.213302</td>\n",
       "      <td>-500.612006</td>\n",
       "      <td>1649.936185</td>\n",
       "      <td>-499.849197</td>\n",
       "      <td>1647.739364</td>\n",
       "      <td>...</td>\n",
       "      <td>13.988463</td>\n",
       "      <td>-498.835101</td>\n",
       "      <td>13.073075</td>\n",
       "      <td>-501.503654</td>\n",
       "      <td>10.127322</td>\n",
       "      <td>-498.489453</td>\n",
       "      <td>7.952812</td>\n",
       "      <td>-498.803034</td>\n",
       "      <td>22.987675</td>\n",
       "      <td>-500.658281</td>\n",
       "    </tr>\n",
       "    <tr>\n",
       "      <th>803</th>\n",
       "      <td>2016-10-14 12:59:59</td>\n",
       "      <td>186.040311</td>\n",
       "      <td>11.872236</td>\n",
       "      <td>7.35</td>\n",
       "      <td>0.896926</td>\n",
       "      <td>1612.630969</td>\n",
       "      <td>-499.651361</td>\n",
       "      <td>1697.995063</td>\n",
       "      <td>-500.029489</td>\n",
       "      <td>1701.320012</td>\n",
       "      <td>...</td>\n",
       "      <td>16.028999</td>\n",
       "      <td>-500.252434</td>\n",
       "      <td>12.029317</td>\n",
       "      <td>-498.969747</td>\n",
       "      <td>8.738052</td>\n",
       "      <td>-501.186846</td>\n",
       "      <td>7.900383</td>\n",
       "      <td>-500.114013</td>\n",
       "      <td>17.024957</td>\n",
       "      <td>-202.095303</td>\n",
       "    </tr>\n",
       "    <tr>\n",
       "      <th>4505</th>\n",
       "      <td>2017-11-26 11:59:59</td>\n",
       "      <td>235.278334</td>\n",
       "      <td>10.964035</td>\n",
       "      <td>8.26</td>\n",
       "      <td>2.186550</td>\n",
       "      <td>1550.222535</td>\n",
       "      <td>-498.097661</td>\n",
       "      <td>1547.502018</td>\n",
       "      <td>-500.924752</td>\n",
       "      <td>1549.501419</td>\n",
       "      <td>...</td>\n",
       "      <td>17.015321</td>\n",
       "      <td>-505.015696</td>\n",
       "      <td>14.971041</td>\n",
       "      <td>-503.654171</td>\n",
       "      <td>10.948181</td>\n",
       "      <td>-501.603712</td>\n",
       "      <td>9.034612</td>\n",
       "      <td>-501.079384</td>\n",
       "      <td>16.011743</td>\n",
       "      <td>-500.677209</td>\n",
       "    </tr>\n",
       "    <tr>\n",
       "      <th>4758</th>\n",
       "      <td>2017-12-07 11:59:59</td>\n",
       "      <td>173.216445</td>\n",
       "      <td>9.345100</td>\n",
       "      <td>6.60</td>\n",
       "      <td>1.423128</td>\n",
       "      <td>1547.790620</td>\n",
       "      <td>-496.160786</td>\n",
       "      <td>1550.691708</td>\n",
       "      <td>-503.945378</td>\n",
       "      <td>1549.078348</td>\n",
       "      <td>...</td>\n",
       "      <td>20.007241</td>\n",
       "      <td>-500.842419</td>\n",
       "      <td>15.020569</td>\n",
       "      <td>-118.414754</td>\n",
       "      <td>10.945486</td>\n",
       "      <td>-501.002555</td>\n",
       "      <td>9.006484</td>\n",
       "      <td>-500.062350</td>\n",
       "      <td>14.994113</td>\n",
       "      <td>-500.086192</td>\n",
       "    </tr>\n",
       "    <tr>\n",
       "      <th>333</th>\n",
       "      <td>2016-09-17 03:59:59</td>\n",
       "      <td>147.121302</td>\n",
       "      <td>7.440479</td>\n",
       "      <td>7.60</td>\n",
       "      <td>1.233143</td>\n",
       "      <td>1550.036831</td>\n",
       "      <td>-500.212624</td>\n",
       "      <td>1547.129534</td>\n",
       "      <td>-500.062353</td>\n",
       "      <td>1551.845474</td>\n",
       "      <td>...</td>\n",
       "      <td>7.897715</td>\n",
       "      <td>-499.618418</td>\n",
       "      <td>5.014250</td>\n",
       "      <td>-499.804006</td>\n",
       "      <td>7.973984</td>\n",
       "      <td>-499.220111</td>\n",
       "      <td>2.839161</td>\n",
       "      <td>-500.335833</td>\n",
       "      <td>19.987256</td>\n",
       "      <td>-499.855598</td>\n",
       "    </tr>\n",
       "  </tbody>\n",
       "</table>\n",
       "<p>5 rows × 53 columns</p>\n",
       "</div>"
      ],
      "text/plain": [
       "                     date  primary_cleaner.input.sulfate  \\\n",
       "608   2016-10-05 16:59:59                     136.160058   \n",
       "803   2016-10-14 12:59:59                     186.040311   \n",
       "4505  2017-11-26 11:59:59                     235.278334   \n",
       "4758  2017-12-07 11:59:59                     173.216445   \n",
       "333   2016-09-17 03:59:59                     147.121302   \n",
       "\n",
       "      primary_cleaner.input.depressant  primary_cleaner.input.feed_size  \\\n",
       "608                           4.001874                             7.70   \n",
       "803                          11.872236                             7.35   \n",
       "4505                         10.964035                             8.26   \n",
       "4758                          9.345100                             6.60   \n",
       "333                           7.440479                             7.60   \n",
       "\n",
       "      primary_cleaner.input.xanthate  primary_cleaner.state.floatbank8_a_air  \\\n",
       "608                         0.701256                             1648.213302   \n",
       "803                         0.896926                             1612.630969   \n",
       "4505                        2.186550                             1550.222535   \n",
       "4758                        1.423128                             1547.790620   \n",
       "333                         1.233143                             1550.036831   \n",
       "\n",
       "      primary_cleaner.state.floatbank8_a_level  \\\n",
       "608                                -500.612006   \n",
       "803                                -499.651361   \n",
       "4505                               -498.097661   \n",
       "4758                               -496.160786   \n",
       "333                                -500.212624   \n",
       "\n",
       "      primary_cleaner.state.floatbank8_b_air  \\\n",
       "608                              1649.936185   \n",
       "803                              1697.995063   \n",
       "4505                             1547.502018   \n",
       "4758                             1550.691708   \n",
       "333                              1547.129534   \n",
       "\n",
       "      primary_cleaner.state.floatbank8_b_level  \\\n",
       "608                                -499.849197   \n",
       "803                                -500.029489   \n",
       "4505                               -500.924752   \n",
       "4758                               -503.945378   \n",
       "333                                -500.062353   \n",
       "\n",
       "      primary_cleaner.state.floatbank8_c_air  ...  \\\n",
       "608                              1647.739364  ...   \n",
       "803                              1701.320012  ...   \n",
       "4505                             1549.501419  ...   \n",
       "4758                             1549.078348  ...   \n",
       "333                              1551.845474  ...   \n",
       "\n",
       "      secondary_cleaner.state.floatbank4_a_air  \\\n",
       "608                                  13.988463   \n",
       "803                                  16.028999   \n",
       "4505                                 17.015321   \n",
       "4758                                 20.007241   \n",
       "333                                   7.897715   \n",
       "\n",
       "      secondary_cleaner.state.floatbank4_a_level  \\\n",
       "608                                  -498.835101   \n",
       "803                                  -500.252434   \n",
       "4505                                 -505.015696   \n",
       "4758                                 -500.842419   \n",
       "333                                  -499.618418   \n",
       "\n",
       "      secondary_cleaner.state.floatbank4_b_air  \\\n",
       "608                                  13.073075   \n",
       "803                                  12.029317   \n",
       "4505                                 14.971041   \n",
       "4758                                 15.020569   \n",
       "333                                   5.014250   \n",
       "\n",
       "      secondary_cleaner.state.floatbank4_b_level  \\\n",
       "608                                  -501.503654   \n",
       "803                                  -498.969747   \n",
       "4505                                 -503.654171   \n",
       "4758                                 -118.414754   \n",
       "333                                  -499.804006   \n",
       "\n",
       "      secondary_cleaner.state.floatbank5_a_air  \\\n",
       "608                                  10.127322   \n",
       "803                                   8.738052   \n",
       "4505                                 10.948181   \n",
       "4758                                 10.945486   \n",
       "333                                   7.973984   \n",
       "\n",
       "      secondary_cleaner.state.floatbank5_a_level  \\\n",
       "608                                  -498.489453   \n",
       "803                                  -501.186846   \n",
       "4505                                 -501.603712   \n",
       "4758                                 -501.002555   \n",
       "333                                  -499.220111   \n",
       "\n",
       "      secondary_cleaner.state.floatbank5_b_air  \\\n",
       "608                                   7.952812   \n",
       "803                                   7.900383   \n",
       "4505                                  9.034612   \n",
       "4758                                  9.006484   \n",
       "333                                   2.839161   \n",
       "\n",
       "      secondary_cleaner.state.floatbank5_b_level  \\\n",
       "608                                  -498.803034   \n",
       "803                                  -500.114013   \n",
       "4505                                 -501.079384   \n",
       "4758                                 -500.062350   \n",
       "333                                  -500.335833   \n",
       "\n",
       "      secondary_cleaner.state.floatbank6_a_air  \\\n",
       "608                                  22.987675   \n",
       "803                                  17.024957   \n",
       "4505                                 16.011743   \n",
       "4758                                 14.994113   \n",
       "333                                  19.987256   \n",
       "\n",
       "      secondary_cleaner.state.floatbank6_a_level  \n",
       "608                                  -500.658281  \n",
       "803                                  -202.095303  \n",
       "4505                                 -500.677209  \n",
       "4758                                 -500.086192  \n",
       "333                                  -499.855598  \n",
       "\n",
       "[5 rows x 53 columns]"
      ]
     },
     "execution_count": 6,
     "metadata": {},
     "output_type": "execute_result"
    }
   ],
   "source": [
    "test_set.sample(5)"
   ]
  },
  {
   "cell_type": "code",
   "execution_count": 7,
   "id": "d18c4d59",
   "metadata": {
    "scrolled": true
   },
   "outputs": [
    {
     "name": "stdout",
     "output_type": "stream",
     "text": [
      "<class 'pandas.core.frame.DataFrame'>\n",
      "RangeIndex: 5290 entries, 0 to 5289\n",
      "Data columns (total 53 columns):\n",
      " #   Column                                      Non-Null Count  Dtype  \n",
      "---  ------                                      --------------  -----  \n",
      " 0   date                                        5290 non-null   object \n",
      " 1   primary_cleaner.input.sulfate               5286 non-null   float64\n",
      " 2   primary_cleaner.input.depressant            5285 non-null   float64\n",
      " 3   primary_cleaner.input.feed_size             5290 non-null   float64\n",
      " 4   primary_cleaner.input.xanthate              5286 non-null   float64\n",
      " 5   primary_cleaner.state.floatbank8_a_air      5290 non-null   float64\n",
      " 6   primary_cleaner.state.floatbank8_a_level    5290 non-null   float64\n",
      " 7   primary_cleaner.state.floatbank8_b_air      5290 non-null   float64\n",
      " 8   primary_cleaner.state.floatbank8_b_level    5290 non-null   float64\n",
      " 9   primary_cleaner.state.floatbank8_c_air      5290 non-null   float64\n",
      " 10  primary_cleaner.state.floatbank8_c_level    5290 non-null   float64\n",
      " 11  primary_cleaner.state.floatbank8_d_air      5290 non-null   float64\n",
      " 12  primary_cleaner.state.floatbank8_d_level    5290 non-null   float64\n",
      " 13  rougher.input.feed_ag                       5290 non-null   float64\n",
      " 14  rougher.input.feed_pb                       5290 non-null   float64\n",
      " 15  rougher.input.feed_rate                     5287 non-null   float64\n",
      " 16  rougher.input.feed_size                     5289 non-null   float64\n",
      " 17  rougher.input.feed_sol                      5269 non-null   float64\n",
      " 18  rougher.input.feed_au                       5290 non-null   float64\n",
      " 19  rougher.input.floatbank10_sulfate           5285 non-null   float64\n",
      " 20  rougher.input.floatbank10_xanthate          5290 non-null   float64\n",
      " 21  rougher.input.floatbank11_sulfate           5282 non-null   float64\n",
      " 22  rougher.input.floatbank11_xanthate          5265 non-null   float64\n",
      " 23  rougher.state.floatbank10_a_air             5290 non-null   float64\n",
      " 24  rougher.state.floatbank10_a_level           5290 non-null   float64\n",
      " 25  rougher.state.floatbank10_b_air             5290 non-null   float64\n",
      " 26  rougher.state.floatbank10_b_level           5290 non-null   float64\n",
      " 27  rougher.state.floatbank10_c_air             5290 non-null   float64\n",
      " 28  rougher.state.floatbank10_c_level           5290 non-null   float64\n",
      " 29  rougher.state.floatbank10_d_air             5290 non-null   float64\n",
      " 30  rougher.state.floatbank10_d_level           5290 non-null   float64\n",
      " 31  rougher.state.floatbank10_e_air             5290 non-null   float64\n",
      " 32  rougher.state.floatbank10_e_level           5290 non-null   float64\n",
      " 33  rougher.state.floatbank10_f_air             5290 non-null   float64\n",
      " 34  rougher.state.floatbank10_f_level           5290 non-null   float64\n",
      " 35  secondary_cleaner.state.floatbank2_a_air    5287 non-null   float64\n",
      " 36  secondary_cleaner.state.floatbank2_a_level  5290 non-null   float64\n",
      " 37  secondary_cleaner.state.floatbank2_b_air    5288 non-null   float64\n",
      " 38  secondary_cleaner.state.floatbank2_b_level  5290 non-null   float64\n",
      " 39  secondary_cleaner.state.floatbank3_a_air    5281 non-null   float64\n",
      " 40  secondary_cleaner.state.floatbank3_a_level  5290 non-null   float64\n",
      " 41  secondary_cleaner.state.floatbank3_b_air    5290 non-null   float64\n",
      " 42  secondary_cleaner.state.floatbank3_b_level  5290 non-null   float64\n",
      " 43  secondary_cleaner.state.floatbank4_a_air    5290 non-null   float64\n",
      " 44  secondary_cleaner.state.floatbank4_a_level  5290 non-null   float64\n",
      " 45  secondary_cleaner.state.floatbank4_b_air    5290 non-null   float64\n",
      " 46  secondary_cleaner.state.floatbank4_b_level  5290 non-null   float64\n",
      " 47  secondary_cleaner.state.floatbank5_a_air    5290 non-null   float64\n",
      " 48  secondary_cleaner.state.floatbank5_a_level  5290 non-null   float64\n",
      " 49  secondary_cleaner.state.floatbank5_b_air    5290 non-null   float64\n",
      " 50  secondary_cleaner.state.floatbank5_b_level  5290 non-null   float64\n",
      " 51  secondary_cleaner.state.floatbank6_a_air    5290 non-null   float64\n",
      " 52  secondary_cleaner.state.floatbank6_a_level  5290 non-null   float64\n",
      "dtypes: float64(52), object(1)\n",
      "memory usage: 2.1+ MB\n"
     ]
    }
   ],
   "source": [
    "test_set.info()"
   ]
  },
  {
   "cell_type": "code",
   "execution_count": 8,
   "id": "332a3e30",
   "metadata": {},
   "outputs": [
    {
     "data": {
      "text/html": [
       "<div>\n",
       "<style scoped>\n",
       "    .dataframe tbody tr th:only-of-type {\n",
       "        vertical-align: middle;\n",
       "    }\n",
       "\n",
       "    .dataframe tbody tr th {\n",
       "        vertical-align: top;\n",
       "    }\n",
       "\n",
       "    .dataframe thead th {\n",
       "        text-align: right;\n",
       "    }\n",
       "</style>\n",
       "<table border=\"1\" class=\"dataframe\">\n",
       "  <thead>\n",
       "    <tr style=\"text-align: right;\">\n",
       "      <th></th>\n",
       "      <th>primary_cleaner.input.sulfate</th>\n",
       "      <th>primary_cleaner.input.depressant</th>\n",
       "      <th>primary_cleaner.input.feed_size</th>\n",
       "      <th>primary_cleaner.input.xanthate</th>\n",
       "      <th>primary_cleaner.state.floatbank8_a_air</th>\n",
       "      <th>primary_cleaner.state.floatbank8_a_level</th>\n",
       "      <th>primary_cleaner.state.floatbank8_b_air</th>\n",
       "      <th>primary_cleaner.state.floatbank8_b_level</th>\n",
       "      <th>primary_cleaner.state.floatbank8_c_air</th>\n",
       "      <th>primary_cleaner.state.floatbank8_c_level</th>\n",
       "      <th>...</th>\n",
       "      <th>secondary_cleaner.state.floatbank4_a_air</th>\n",
       "      <th>secondary_cleaner.state.floatbank4_a_level</th>\n",
       "      <th>secondary_cleaner.state.floatbank4_b_air</th>\n",
       "      <th>secondary_cleaner.state.floatbank4_b_level</th>\n",
       "      <th>secondary_cleaner.state.floatbank5_a_air</th>\n",
       "      <th>secondary_cleaner.state.floatbank5_a_level</th>\n",
       "      <th>secondary_cleaner.state.floatbank5_b_air</th>\n",
       "      <th>secondary_cleaner.state.floatbank5_b_level</th>\n",
       "      <th>secondary_cleaner.state.floatbank6_a_air</th>\n",
       "      <th>secondary_cleaner.state.floatbank6_a_level</th>\n",
       "    </tr>\n",
       "  </thead>\n",
       "  <tbody>\n",
       "    <tr>\n",
       "      <th>count</th>\n",
       "      <td>5286.000000</td>\n",
       "      <td>5285.000000</td>\n",
       "      <td>5290.000000</td>\n",
       "      <td>5286.000000</td>\n",
       "      <td>5.290000e+03</td>\n",
       "      <td>5290.000000</td>\n",
       "      <td>5.290000e+03</td>\n",
       "      <td>5290.000000</td>\n",
       "      <td>5.290000e+03</td>\n",
       "      <td>5290.000000</td>\n",
       "      <td>...</td>\n",
       "      <td>5.290000e+03</td>\n",
       "      <td>5290.000000</td>\n",
       "      <td>5.290000e+03</td>\n",
       "      <td>5290.000000</td>\n",
       "      <td>5290.000000</td>\n",
       "      <td>5290.000000</td>\n",
       "      <td>5290.000000</td>\n",
       "      <td>5290.000000</td>\n",
       "      <td>5290.000000</td>\n",
       "      <td>5290.000000</td>\n",
       "    </tr>\n",
       "    <tr>\n",
       "      <th>mean</th>\n",
       "      <td>174.839652</td>\n",
       "      <td>8.683596</td>\n",
       "      <td>7.266339</td>\n",
       "      <td>1.383803</td>\n",
       "      <td>1.539494e+03</td>\n",
       "      <td>-497.665883</td>\n",
       "      <td>1.545174e+03</td>\n",
       "      <td>-500.273098</td>\n",
       "      <td>1.527272e+03</td>\n",
       "      <td>-498.330680</td>\n",
       "      <td>...</td>\n",
       "      <td>1.632007e+01</td>\n",
       "      <td>-505.144570</td>\n",
       "      <td>1.373544e+01</td>\n",
       "      <td>-463.349858</td>\n",
       "      <td>12.804186</td>\n",
       "      <td>-501.329122</td>\n",
       "      <td>9.881145</td>\n",
       "      <td>-495.663398</td>\n",
       "      <td>17.304935</td>\n",
       "      <td>-501.793193</td>\n",
       "    </tr>\n",
       "    <tr>\n",
       "      <th>std</th>\n",
       "      <td>43.027080</td>\n",
       "      <td>3.072050</td>\n",
       "      <td>0.610219</td>\n",
       "      <td>0.643474</td>\n",
       "      <td>1.167979e+02</td>\n",
       "      <td>19.952431</td>\n",
       "      <td>1.222246e+02</td>\n",
       "      <td>32.968307</td>\n",
       "      <td>1.225380e+02</td>\n",
       "      <td>21.964876</td>\n",
       "      <td>...</td>\n",
       "      <td>3.493583e+00</td>\n",
       "      <td>31.427337</td>\n",
       "      <td>3.430484e+00</td>\n",
       "      <td>86.189107</td>\n",
       "      <td>3.026591</td>\n",
       "      <td>17.951495</td>\n",
       "      <td>2.868205</td>\n",
       "      <td>34.535007</td>\n",
       "      <td>4.536544</td>\n",
       "      <td>39.044215</td>\n",
       "    </tr>\n",
       "    <tr>\n",
       "      <th>min</th>\n",
       "      <td>2.566156</td>\n",
       "      <td>0.003839</td>\n",
       "      <td>5.650000</td>\n",
       "      <td>0.004984</td>\n",
       "      <td>5.445860e-32</td>\n",
       "      <td>-795.316337</td>\n",
       "      <td>6.647490e-32</td>\n",
       "      <td>-799.997015</td>\n",
       "      <td>4.033736e-32</td>\n",
       "      <td>-799.960571</td>\n",
       "      <td>...</td>\n",
       "      <td>1.079872e-16</td>\n",
       "      <td>-799.798523</td>\n",
       "      <td>2.489718e-17</td>\n",
       "      <td>-800.836914</td>\n",
       "      <td>0.069227</td>\n",
       "      <td>-797.323986</td>\n",
       "      <td>0.528083</td>\n",
       "      <td>-800.220337</td>\n",
       "      <td>-0.079426</td>\n",
       "      <td>-809.741464</td>\n",
       "    </tr>\n",
       "    <tr>\n",
       "      <th>25%</th>\n",
       "      <td>147.121401</td>\n",
       "      <td>6.489555</td>\n",
       "      <td>6.890000</td>\n",
       "      <td>0.907623</td>\n",
       "      <td>1.498936e+03</td>\n",
       "      <td>-500.357298</td>\n",
       "      <td>1.498971e+03</td>\n",
       "      <td>-500.703002</td>\n",
       "      <td>1.473230e+03</td>\n",
       "      <td>-501.018117</td>\n",
       "      <td>...</td>\n",
       "      <td>1.403618e+01</td>\n",
       "      <td>-500.868258</td>\n",
       "      <td>1.202862e+01</td>\n",
       "      <td>-500.323028</td>\n",
       "      <td>10.914838</td>\n",
       "      <td>-500.726841</td>\n",
       "      <td>8.036719</td>\n",
       "      <td>-500.194668</td>\n",
       "      <td>13.997317</td>\n",
       "      <td>-500.690984</td>\n",
       "    </tr>\n",
       "    <tr>\n",
       "      <th>50%</th>\n",
       "      <td>177.828489</td>\n",
       "      <td>8.052207</td>\n",
       "      <td>7.250000</td>\n",
       "      <td>1.197610</td>\n",
       "      <td>1.585129e+03</td>\n",
       "      <td>-499.969164</td>\n",
       "      <td>1.595622e+03</td>\n",
       "      <td>-500.028514</td>\n",
       "      <td>1.549595e+03</td>\n",
       "      <td>-500.017711</td>\n",
       "      <td>...</td>\n",
       "      <td>1.700847e+01</td>\n",
       "      <td>-500.115727</td>\n",
       "      <td>1.496486e+01</td>\n",
       "      <td>-499.576513</td>\n",
       "      <td>12.954182</td>\n",
       "      <td>-499.990332</td>\n",
       "      <td>10.004301</td>\n",
       "      <td>-499.990535</td>\n",
       "      <td>16.014935</td>\n",
       "      <td>-500.007126</td>\n",
       "    </tr>\n",
       "    <tr>\n",
       "      <th>75%</th>\n",
       "      <td>208.125438</td>\n",
       "      <td>10.027764</td>\n",
       "      <td>7.600000</td>\n",
       "      <td>1.797819</td>\n",
       "      <td>1.602077e+03</td>\n",
       "      <td>-499.568951</td>\n",
       "      <td>1.602324e+03</td>\n",
       "      <td>-499.293257</td>\n",
       "      <td>1.601144e+03</td>\n",
       "      <td>-498.994130</td>\n",
       "      <td>...</td>\n",
       "      <td>1.803862e+01</td>\n",
       "      <td>-499.404224</td>\n",
       "      <td>1.596213e+01</td>\n",
       "      <td>-400.933805</td>\n",
       "      <td>15.097528</td>\n",
       "      <td>-499.283191</td>\n",
       "      <td>11.997467</td>\n",
       "      <td>-499.719913</td>\n",
       "      <td>21.020013</td>\n",
       "      <td>-499.373018</td>\n",
       "    </tr>\n",
       "    <tr>\n",
       "      <th>max</th>\n",
       "      <td>265.983123</td>\n",
       "      <td>40.000000</td>\n",
       "      <td>15.500000</td>\n",
       "      <td>4.102454</td>\n",
       "      <td>2.103104e+03</td>\n",
       "      <td>-57.195404</td>\n",
       "      <td>1.813084e+03</td>\n",
       "      <td>-142.527229</td>\n",
       "      <td>1.715054e+03</td>\n",
       "      <td>-150.937035</td>\n",
       "      <td>...</td>\n",
       "      <td>3.005180e+01</td>\n",
       "      <td>-401.565212</td>\n",
       "      <td>3.126971e+01</td>\n",
       "      <td>-6.506986</td>\n",
       "      <td>25.258848</td>\n",
       "      <td>-244.483566</td>\n",
       "      <td>14.086866</td>\n",
       "      <td>-137.740004</td>\n",
       "      <td>26.705889</td>\n",
       "      <td>-123.307487</td>\n",
       "    </tr>\n",
       "  </tbody>\n",
       "</table>\n",
       "<p>8 rows × 52 columns</p>\n",
       "</div>"
      ],
      "text/plain": [
       "       primary_cleaner.input.sulfate  primary_cleaner.input.depressant  \\\n",
       "count                    5286.000000                       5285.000000   \n",
       "mean                      174.839652                          8.683596   \n",
       "std                        43.027080                          3.072050   \n",
       "min                         2.566156                          0.003839   \n",
       "25%                       147.121401                          6.489555   \n",
       "50%                       177.828489                          8.052207   \n",
       "75%                       208.125438                         10.027764   \n",
       "max                       265.983123                         40.000000   \n",
       "\n",
       "       primary_cleaner.input.feed_size  primary_cleaner.input.xanthate  \\\n",
       "count                      5290.000000                     5286.000000   \n",
       "mean                          7.266339                        1.383803   \n",
       "std                           0.610219                        0.643474   \n",
       "min                           5.650000                        0.004984   \n",
       "25%                           6.890000                        0.907623   \n",
       "50%                           7.250000                        1.197610   \n",
       "75%                           7.600000                        1.797819   \n",
       "max                          15.500000                        4.102454   \n",
       "\n",
       "       primary_cleaner.state.floatbank8_a_air  \\\n",
       "count                            5.290000e+03   \n",
       "mean                             1.539494e+03   \n",
       "std                              1.167979e+02   \n",
       "min                              5.445860e-32   \n",
       "25%                              1.498936e+03   \n",
       "50%                              1.585129e+03   \n",
       "75%                              1.602077e+03   \n",
       "max                              2.103104e+03   \n",
       "\n",
       "       primary_cleaner.state.floatbank8_a_level  \\\n",
       "count                               5290.000000   \n",
       "mean                                -497.665883   \n",
       "std                                   19.952431   \n",
       "min                                 -795.316337   \n",
       "25%                                 -500.357298   \n",
       "50%                                 -499.969164   \n",
       "75%                                 -499.568951   \n",
       "max                                  -57.195404   \n",
       "\n",
       "       primary_cleaner.state.floatbank8_b_air  \\\n",
       "count                            5.290000e+03   \n",
       "mean                             1.545174e+03   \n",
       "std                              1.222246e+02   \n",
       "min                              6.647490e-32   \n",
       "25%                              1.498971e+03   \n",
       "50%                              1.595622e+03   \n",
       "75%                              1.602324e+03   \n",
       "max                              1.813084e+03   \n",
       "\n",
       "       primary_cleaner.state.floatbank8_b_level  \\\n",
       "count                               5290.000000   \n",
       "mean                                -500.273098   \n",
       "std                                   32.968307   \n",
       "min                                 -799.997015   \n",
       "25%                                 -500.703002   \n",
       "50%                                 -500.028514   \n",
       "75%                                 -499.293257   \n",
       "max                                 -142.527229   \n",
       "\n",
       "       primary_cleaner.state.floatbank8_c_air  \\\n",
       "count                            5.290000e+03   \n",
       "mean                             1.527272e+03   \n",
       "std                              1.225380e+02   \n",
       "min                              4.033736e-32   \n",
       "25%                              1.473230e+03   \n",
       "50%                              1.549595e+03   \n",
       "75%                              1.601144e+03   \n",
       "max                              1.715054e+03   \n",
       "\n",
       "       primary_cleaner.state.floatbank8_c_level  ...  \\\n",
       "count                               5290.000000  ...   \n",
       "mean                                -498.330680  ...   \n",
       "std                                   21.964876  ...   \n",
       "min                                 -799.960571  ...   \n",
       "25%                                 -501.018117  ...   \n",
       "50%                                 -500.017711  ...   \n",
       "75%                                 -498.994130  ...   \n",
       "max                                 -150.937035  ...   \n",
       "\n",
       "       secondary_cleaner.state.floatbank4_a_air  \\\n",
       "count                              5.290000e+03   \n",
       "mean                               1.632007e+01   \n",
       "std                                3.493583e+00   \n",
       "min                                1.079872e-16   \n",
       "25%                                1.403618e+01   \n",
       "50%                                1.700847e+01   \n",
       "75%                                1.803862e+01   \n",
       "max                                3.005180e+01   \n",
       "\n",
       "       secondary_cleaner.state.floatbank4_a_level  \\\n",
       "count                                 5290.000000   \n",
       "mean                                  -505.144570   \n",
       "std                                     31.427337   \n",
       "min                                   -799.798523   \n",
       "25%                                   -500.868258   \n",
       "50%                                   -500.115727   \n",
       "75%                                   -499.404224   \n",
       "max                                   -401.565212   \n",
       "\n",
       "       secondary_cleaner.state.floatbank4_b_air  \\\n",
       "count                              5.290000e+03   \n",
       "mean                               1.373544e+01   \n",
       "std                                3.430484e+00   \n",
       "min                                2.489718e-17   \n",
       "25%                                1.202862e+01   \n",
       "50%                                1.496486e+01   \n",
       "75%                                1.596213e+01   \n",
       "max                                3.126971e+01   \n",
       "\n",
       "       secondary_cleaner.state.floatbank4_b_level  \\\n",
       "count                                 5290.000000   \n",
       "mean                                  -463.349858   \n",
       "std                                     86.189107   \n",
       "min                                   -800.836914   \n",
       "25%                                   -500.323028   \n",
       "50%                                   -499.576513   \n",
       "75%                                   -400.933805   \n",
       "max                                     -6.506986   \n",
       "\n",
       "       secondary_cleaner.state.floatbank5_a_air  \\\n",
       "count                               5290.000000   \n",
       "mean                                  12.804186   \n",
       "std                                    3.026591   \n",
       "min                                    0.069227   \n",
       "25%                                   10.914838   \n",
       "50%                                   12.954182   \n",
       "75%                                   15.097528   \n",
       "max                                   25.258848   \n",
       "\n",
       "       secondary_cleaner.state.floatbank5_a_level  \\\n",
       "count                                 5290.000000   \n",
       "mean                                  -501.329122   \n",
       "std                                     17.951495   \n",
       "min                                   -797.323986   \n",
       "25%                                   -500.726841   \n",
       "50%                                   -499.990332   \n",
       "75%                                   -499.283191   \n",
       "max                                   -244.483566   \n",
       "\n",
       "       secondary_cleaner.state.floatbank5_b_air  \\\n",
       "count                               5290.000000   \n",
       "mean                                   9.881145   \n",
       "std                                    2.868205   \n",
       "min                                    0.528083   \n",
       "25%                                    8.036719   \n",
       "50%                                   10.004301   \n",
       "75%                                   11.997467   \n",
       "max                                   14.086866   \n",
       "\n",
       "       secondary_cleaner.state.floatbank5_b_level  \\\n",
       "count                                 5290.000000   \n",
       "mean                                  -495.663398   \n",
       "std                                     34.535007   \n",
       "min                                   -800.220337   \n",
       "25%                                   -500.194668   \n",
       "50%                                   -499.990535   \n",
       "75%                                   -499.719913   \n",
       "max                                   -137.740004   \n",
       "\n",
       "       secondary_cleaner.state.floatbank6_a_air  \\\n",
       "count                               5290.000000   \n",
       "mean                                  17.304935   \n",
       "std                                    4.536544   \n",
       "min                                   -0.079426   \n",
       "25%                                   13.997317   \n",
       "50%                                   16.014935   \n",
       "75%                                   21.020013   \n",
       "max                                   26.705889   \n",
       "\n",
       "       secondary_cleaner.state.floatbank6_a_level  \n",
       "count                                 5290.000000  \n",
       "mean                                  -501.793193  \n",
       "std                                     39.044215  \n",
       "min                                   -809.741464  \n",
       "25%                                   -500.690984  \n",
       "50%                                   -500.007126  \n",
       "75%                                   -499.373018  \n",
       "max                                   -123.307487  \n",
       "\n",
       "[8 rows x 52 columns]"
      ]
     },
     "execution_count": 8,
     "metadata": {},
     "output_type": "execute_result"
    }
   ],
   "source": [
    "test_set.describe()"
   ]
  },
  {
   "cell_type": "markdown",
   "id": "ea781f76",
   "metadata": {},
   "source": [
    "#### Full set"
   ]
  },
  {
   "cell_type": "code",
   "execution_count": 9,
   "id": "3d92145c",
   "metadata": {},
   "outputs": [
    {
     "data": {
      "text/html": [
       "<div>\n",
       "<style scoped>\n",
       "    .dataframe tbody tr th:only-of-type {\n",
       "        vertical-align: middle;\n",
       "    }\n",
       "\n",
       "    .dataframe tbody tr th {\n",
       "        vertical-align: top;\n",
       "    }\n",
       "\n",
       "    .dataframe thead th {\n",
       "        text-align: right;\n",
       "    }\n",
       "</style>\n",
       "<table border=\"1\" class=\"dataframe\">\n",
       "  <thead>\n",
       "    <tr style=\"text-align: right;\">\n",
       "      <th></th>\n",
       "      <th>date</th>\n",
       "      <th>final.output.concentrate_ag</th>\n",
       "      <th>final.output.concentrate_pb</th>\n",
       "      <th>final.output.concentrate_sol</th>\n",
       "      <th>final.output.concentrate_au</th>\n",
       "      <th>final.output.recovery</th>\n",
       "      <th>final.output.tail_ag</th>\n",
       "      <th>final.output.tail_pb</th>\n",
       "      <th>final.output.tail_sol</th>\n",
       "      <th>final.output.tail_au</th>\n",
       "      <th>...</th>\n",
       "      <th>secondary_cleaner.state.floatbank4_a_air</th>\n",
       "      <th>secondary_cleaner.state.floatbank4_a_level</th>\n",
       "      <th>secondary_cleaner.state.floatbank4_b_air</th>\n",
       "      <th>secondary_cleaner.state.floatbank4_b_level</th>\n",
       "      <th>secondary_cleaner.state.floatbank5_a_air</th>\n",
       "      <th>secondary_cleaner.state.floatbank5_a_level</th>\n",
       "      <th>secondary_cleaner.state.floatbank5_b_air</th>\n",
       "      <th>secondary_cleaner.state.floatbank5_b_level</th>\n",
       "      <th>secondary_cleaner.state.floatbank6_a_air</th>\n",
       "      <th>secondary_cleaner.state.floatbank6_a_level</th>\n",
       "    </tr>\n",
       "  </thead>\n",
       "  <tbody>\n",
       "    <tr>\n",
       "      <th>2153</th>\n",
       "      <td>2016-05-07 13:59:59</td>\n",
       "      <td>5.767439</td>\n",
       "      <td>11.356454</td>\n",
       "      <td>8.474878</td>\n",
       "      <td>42.585656</td>\n",
       "      <td>52.450098</td>\n",
       "      <td>7.652754</td>\n",
       "      <td>2.501162</td>\n",
       "      <td>11.437896</td>\n",
       "      <td>3.719466</td>\n",
       "      <td>...</td>\n",
       "      <td>14.016128</td>\n",
       "      <td>-499.355960</td>\n",
       "      <td>11.937755</td>\n",
       "      <td>-499.923850</td>\n",
       "      <td>11.035976</td>\n",
       "      <td>-497.192705</td>\n",
       "      <td>5.968632</td>\n",
       "      <td>-499.797154</td>\n",
       "      <td>19.995168</td>\n",
       "      <td>-497.960114</td>\n",
       "    </tr>\n",
       "    <tr>\n",
       "      <th>5402</th>\n",
       "      <td>2016-10-11 00:59:59</td>\n",
       "      <td>9.043217</td>\n",
       "      <td>10.327008</td>\n",
       "      <td>13.195151</td>\n",
       "      <td>38.128929</td>\n",
       "      <td>70.381134</td>\n",
       "      <td>12.538158</td>\n",
       "      <td>3.716032</td>\n",
       "      <td>10.433163</td>\n",
       "      <td>4.816392</td>\n",
       "      <td>...</td>\n",
       "      <td>11.933573</td>\n",
       "      <td>-500.063587</td>\n",
       "      <td>11.981546</td>\n",
       "      <td>-500.355499</td>\n",
       "      <td>9.861019</td>\n",
       "      <td>-500.357079</td>\n",
       "      <td>6.950656</td>\n",
       "      <td>-499.647764</td>\n",
       "      <td>16.972734</td>\n",
       "      <td>-500.100744</td>\n",
       "    </tr>\n",
       "    <tr>\n",
       "      <th>2729</th>\n",
       "      <td>2016-06-02 13:59:59</td>\n",
       "      <td>3.732673</td>\n",
       "      <td>10.932993</td>\n",
       "      <td>8.696075</td>\n",
       "      <td>44.642267</td>\n",
       "      <td>61.526940</td>\n",
       "      <td>7.249796</td>\n",
       "      <td>2.127955</td>\n",
       "      <td>11.062447</td>\n",
       "      <td>2.918407</td>\n",
       "      <td>...</td>\n",
       "      <td>9.973376</td>\n",
       "      <td>-500.773063</td>\n",
       "      <td>8.020805</td>\n",
       "      <td>-500.203196</td>\n",
       "      <td>8.024617</td>\n",
       "      <td>-497.972769</td>\n",
       "      <td>5.928280</td>\n",
       "      <td>-500.459943</td>\n",
       "      <td>18.007985</td>\n",
       "      <td>-498.927271</td>\n",
       "    </tr>\n",
       "    <tr>\n",
       "      <th>7261</th>\n",
       "      <td>2016-12-30 07:59:59</td>\n",
       "      <td>8.069634</td>\n",
       "      <td>8.291838</td>\n",
       "      <td>13.860966</td>\n",
       "      <td>42.609675</td>\n",
       "      <td>69.788584</td>\n",
       "      <td>10.820321</td>\n",
       "      <td>2.746906</td>\n",
       "      <td>9.178026</td>\n",
       "      <td>3.353987</td>\n",
       "      <td>...</td>\n",
       "      <td>17.008165</td>\n",
       "      <td>-498.009883</td>\n",
       "      <td>14.937640</td>\n",
       "      <td>-499.239135</td>\n",
       "      <td>14.681015</td>\n",
       "      <td>-499.609515</td>\n",
       "      <td>11.969323</td>\n",
       "      <td>-499.590726</td>\n",
       "      <td>19.998675</td>\n",
       "      <td>-499.607958</td>\n",
       "    </tr>\n",
       "    <tr>\n",
       "      <th>11203</th>\n",
       "      <td>2017-07-10 13:59:59</td>\n",
       "      <td>3.859521</td>\n",
       "      <td>11.346939</td>\n",
       "      <td>11.861984</td>\n",
       "      <td>45.192708</td>\n",
       "      <td>68.270714</td>\n",
       "      <td>6.170119</td>\n",
       "      <td>2.439318</td>\n",
       "      <td>12.174995</td>\n",
       "      <td>2.354639</td>\n",
       "      <td>...</td>\n",
       "      <td>22.039358</td>\n",
       "      <td>-499.644532</td>\n",
       "      <td>14.971107</td>\n",
       "      <td>-380.149739</td>\n",
       "      <td>18.009541</td>\n",
       "      <td>-500.104851</td>\n",
       "      <td>12.997489</td>\n",
       "      <td>-499.885053</td>\n",
       "      <td>15.018191</td>\n",
       "      <td>-500.109661</td>\n",
       "    </tr>\n",
       "  </tbody>\n",
       "</table>\n",
       "<p>5 rows × 87 columns</p>\n",
       "</div>"
      ],
      "text/plain": [
       "                      date  final.output.concentrate_ag  \\\n",
       "2153   2016-05-07 13:59:59                     5.767439   \n",
       "5402   2016-10-11 00:59:59                     9.043217   \n",
       "2729   2016-06-02 13:59:59                     3.732673   \n",
       "7261   2016-12-30 07:59:59                     8.069634   \n",
       "11203  2017-07-10 13:59:59                     3.859521   \n",
       "\n",
       "       final.output.concentrate_pb  final.output.concentrate_sol  \\\n",
       "2153                     11.356454                      8.474878   \n",
       "5402                     10.327008                     13.195151   \n",
       "2729                     10.932993                      8.696075   \n",
       "7261                      8.291838                     13.860966   \n",
       "11203                    11.346939                     11.861984   \n",
       "\n",
       "       final.output.concentrate_au  final.output.recovery  \\\n",
       "2153                     42.585656              52.450098   \n",
       "5402                     38.128929              70.381134   \n",
       "2729                     44.642267              61.526940   \n",
       "7261                     42.609675              69.788584   \n",
       "11203                    45.192708              68.270714   \n",
       "\n",
       "       final.output.tail_ag  final.output.tail_pb  final.output.tail_sol  \\\n",
       "2153               7.652754              2.501162              11.437896   \n",
       "5402              12.538158              3.716032              10.433163   \n",
       "2729               7.249796              2.127955              11.062447   \n",
       "7261              10.820321              2.746906               9.178026   \n",
       "11203              6.170119              2.439318              12.174995   \n",
       "\n",
       "       final.output.tail_au  ...  secondary_cleaner.state.floatbank4_a_air  \\\n",
       "2153               3.719466  ...                                 14.016128   \n",
       "5402               4.816392  ...                                 11.933573   \n",
       "2729               2.918407  ...                                  9.973376   \n",
       "7261               3.353987  ...                                 17.008165   \n",
       "11203              2.354639  ...                                 22.039358   \n",
       "\n",
       "       secondary_cleaner.state.floatbank4_a_level  \\\n",
       "2153                                  -499.355960   \n",
       "5402                                  -500.063587   \n",
       "2729                                  -500.773063   \n",
       "7261                                  -498.009883   \n",
       "11203                                 -499.644532   \n",
       "\n",
       "       secondary_cleaner.state.floatbank4_b_air  \\\n",
       "2153                                  11.937755   \n",
       "5402                                  11.981546   \n",
       "2729                                   8.020805   \n",
       "7261                                  14.937640   \n",
       "11203                                 14.971107   \n",
       "\n",
       "       secondary_cleaner.state.floatbank4_b_level  \\\n",
       "2153                                  -499.923850   \n",
       "5402                                  -500.355499   \n",
       "2729                                  -500.203196   \n",
       "7261                                  -499.239135   \n",
       "11203                                 -380.149739   \n",
       "\n",
       "       secondary_cleaner.state.floatbank5_a_air  \\\n",
       "2153                                  11.035976   \n",
       "5402                                   9.861019   \n",
       "2729                                   8.024617   \n",
       "7261                                  14.681015   \n",
       "11203                                 18.009541   \n",
       "\n",
       "       secondary_cleaner.state.floatbank5_a_level  \\\n",
       "2153                                  -497.192705   \n",
       "5402                                  -500.357079   \n",
       "2729                                  -497.972769   \n",
       "7261                                  -499.609515   \n",
       "11203                                 -500.104851   \n",
       "\n",
       "       secondary_cleaner.state.floatbank5_b_air  \\\n",
       "2153                                   5.968632   \n",
       "5402                                   6.950656   \n",
       "2729                                   5.928280   \n",
       "7261                                  11.969323   \n",
       "11203                                 12.997489   \n",
       "\n",
       "       secondary_cleaner.state.floatbank5_b_level  \\\n",
       "2153                                  -499.797154   \n",
       "5402                                  -499.647764   \n",
       "2729                                  -500.459943   \n",
       "7261                                  -499.590726   \n",
       "11203                                 -499.885053   \n",
       "\n",
       "       secondary_cleaner.state.floatbank6_a_air  \\\n",
       "2153                                  19.995168   \n",
       "5402                                  16.972734   \n",
       "2729                                  18.007985   \n",
       "7261                                  19.998675   \n",
       "11203                                 15.018191   \n",
       "\n",
       "       secondary_cleaner.state.floatbank6_a_level  \n",
       "2153                                  -497.960114  \n",
       "5402                                  -500.100744  \n",
       "2729                                  -498.927271  \n",
       "7261                                  -499.607958  \n",
       "11203                                 -500.109661  \n",
       "\n",
       "[5 rows x 87 columns]"
      ]
     },
     "execution_count": 9,
     "metadata": {},
     "output_type": "execute_result"
    }
   ],
   "source": [
    "full_set.sample(5)"
   ]
  },
  {
   "cell_type": "code",
   "execution_count": 10,
   "id": "063f0548",
   "metadata": {
    "scrolled": true
   },
   "outputs": [
    {
     "name": "stdout",
     "output_type": "stream",
     "text": [
      "<class 'pandas.core.frame.DataFrame'>\n",
      "RangeIndex: 19439 entries, 0 to 19438\n",
      "Data columns (total 87 columns):\n",
      " #   Column                                              Non-Null Count  Dtype  \n",
      "---  ------                                              --------------  -----  \n",
      " 0   date                                                19439 non-null  object \n",
      " 1   final.output.concentrate_ag                         19438 non-null  float64\n",
      " 2   final.output.concentrate_pb                         19438 non-null  float64\n",
      " 3   final.output.concentrate_sol                        19228 non-null  float64\n",
      " 4   final.output.concentrate_au                         19439 non-null  float64\n",
      " 5   final.output.recovery                               19439 non-null  float64\n",
      " 6   final.output.tail_ag                                19438 non-null  float64\n",
      " 7   final.output.tail_pb                                19338 non-null  float64\n",
      " 8   final.output.tail_sol                               19433 non-null  float64\n",
      " 9   final.output.tail_au                                19439 non-null  float64\n",
      " 10  primary_cleaner.input.sulfate                       19415 non-null  float64\n",
      " 11  primary_cleaner.input.depressant                    19402 non-null  float64\n",
      " 12  primary_cleaner.input.feed_size                     19439 non-null  float64\n",
      " 13  primary_cleaner.input.xanthate                      19335 non-null  float64\n",
      " 14  primary_cleaner.output.concentrate_ag               19439 non-null  float64\n",
      " 15  primary_cleaner.output.concentrate_pb               19323 non-null  float64\n",
      " 16  primary_cleaner.output.concentrate_sol              19069 non-null  float64\n",
      " 17  primary_cleaner.output.concentrate_au               19439 non-null  float64\n",
      " 18  primary_cleaner.output.tail_ag                      19435 non-null  float64\n",
      " 19  primary_cleaner.output.tail_pb                      19418 non-null  float64\n",
      " 20  primary_cleaner.output.tail_sol                     19377 non-null  float64\n",
      " 21  primary_cleaner.output.tail_au                      19439 non-null  float64\n",
      " 22  primary_cleaner.state.floatbank8_a_air              19435 non-null  float64\n",
      " 23  primary_cleaner.state.floatbank8_a_level            19438 non-null  float64\n",
      " 24  primary_cleaner.state.floatbank8_b_air              19435 non-null  float64\n",
      " 25  primary_cleaner.state.floatbank8_b_level            19438 non-null  float64\n",
      " 26  primary_cleaner.state.floatbank8_c_air              19437 non-null  float64\n",
      " 27  primary_cleaner.state.floatbank8_c_level            19438 non-null  float64\n",
      " 28  primary_cleaner.state.floatbank8_d_air              19436 non-null  float64\n",
      " 29  primary_cleaner.state.floatbank8_d_level            19438 non-null  float64\n",
      " 30  rougher.calculation.sulfate_to_au_concentrate       19437 non-null  float64\n",
      " 31  rougher.calculation.floatbank10_sulfate_to_au_feed  19437 non-null  float64\n",
      " 32  rougher.calculation.floatbank11_sulfate_to_au_feed  19437 non-null  float64\n",
      " 33  rougher.calculation.au_pb_ratio                     19439 non-null  float64\n",
      " 34  rougher.input.feed_ag                               19439 non-null  float64\n",
      " 35  rougher.input.feed_pb                               19339 non-null  float64\n",
      " 36  rougher.input.feed_rate                             19428 non-null  float64\n",
      " 37  rougher.input.feed_size                             19294 non-null  float64\n",
      " 38  rougher.input.feed_sol                              19340 non-null  float64\n",
      " 39  rougher.input.feed_au                               19439 non-null  float64\n",
      " 40  rougher.input.floatbank10_sulfate                   19405 non-null  float64\n",
      " 41  rougher.input.floatbank10_xanthate                  19431 non-null  float64\n",
      " 42  rougher.input.floatbank11_sulfate                   19395 non-null  float64\n",
      " 43  rougher.input.floatbank11_xanthate                  18986 non-null  float64\n",
      " 44  rougher.output.concentrate_ag                       19439 non-null  float64\n",
      " 45  rougher.output.concentrate_pb                       19439 non-null  float64\n",
      " 46  rougher.output.concentrate_sol                      19416 non-null  float64\n",
      " 47  rougher.output.concentrate_au                       19439 non-null  float64\n",
      " 48  rougher.output.recovery                             19439 non-null  float64\n",
      " 49  rougher.output.tail_ag                              19438 non-null  float64\n",
      " 50  rougher.output.tail_pb                              19439 non-null  float64\n",
      " 51  rougher.output.tail_sol                             19439 non-null  float64\n",
      " 52  rougher.output.tail_au                              19439 non-null  float64\n",
      " 53  rougher.state.floatbank10_a_air                     19438 non-null  float64\n",
      " 54  rougher.state.floatbank10_a_level                   19438 non-null  float64\n",
      " 55  rougher.state.floatbank10_b_air                     19438 non-null  float64\n",
      " 56  rougher.state.floatbank10_b_level                   19438 non-null  float64\n",
      " 57  rougher.state.floatbank10_c_air                     19438 non-null  float64\n",
      " 58  rougher.state.floatbank10_c_level                   19438 non-null  float64\n",
      " 59  rougher.state.floatbank10_d_air                     19439 non-null  float64\n",
      " 60  rougher.state.floatbank10_d_level                   19439 non-null  float64\n",
      " 61  rougher.state.floatbank10_e_air                     19003 non-null  float64\n",
      " 62  rougher.state.floatbank10_e_level                   19439 non-null  float64\n",
      " 63  rougher.state.floatbank10_f_air                     19439 non-null  float64\n",
      " 64  rougher.state.floatbank10_f_level                   19439 non-null  float64\n",
      " 65  secondary_cleaner.output.tail_ag                    19437 non-null  float64\n",
      " 66  secondary_cleaner.output.tail_pb                    19427 non-null  float64\n",
      " 67  secondary_cleaner.output.tail_sol                   17691 non-null  float64\n",
      " 68  secondary_cleaner.output.tail_au                    19439 non-null  float64\n",
      " 69  secondary_cleaner.state.floatbank2_a_air            19219 non-null  float64\n",
      " 70  secondary_cleaner.state.floatbank2_a_level          19438 non-null  float64\n",
      " 71  secondary_cleaner.state.floatbank2_b_air            19416 non-null  float64\n",
      " 72  secondary_cleaner.state.floatbank2_b_level          19438 non-null  float64\n",
      " 73  secondary_cleaner.state.floatbank3_a_air            19426 non-null  float64\n",
      " 74  secondary_cleaner.state.floatbank3_a_level          19438 non-null  float64\n",
      " 75  secondary_cleaner.state.floatbank3_b_air            19438 non-null  float64\n",
      " 76  secondary_cleaner.state.floatbank3_b_level          19438 non-null  float64\n",
      " 77  secondary_cleaner.state.floatbank4_a_air            19433 non-null  float64\n",
      " 78  secondary_cleaner.state.floatbank4_a_level          19438 non-null  float64\n",
      " 79  secondary_cleaner.state.floatbank4_b_air            19438 non-null  float64\n",
      " 80  secondary_cleaner.state.floatbank4_b_level          19438 non-null  float64\n",
      " 81  secondary_cleaner.state.floatbank5_a_air            19438 non-null  float64\n",
      " 82  secondary_cleaner.state.floatbank5_a_level          19438 non-null  float64\n",
      " 83  secondary_cleaner.state.floatbank5_b_air            19438 non-null  float64\n",
      " 84  secondary_cleaner.state.floatbank5_b_level          19438 non-null  float64\n",
      " 85  secondary_cleaner.state.floatbank6_a_air            19437 non-null  float64\n",
      " 86  secondary_cleaner.state.floatbank6_a_level          19438 non-null  float64\n",
      "dtypes: float64(86), object(1)\n",
      "memory usage: 12.9+ MB\n"
     ]
    }
   ],
   "source": [
    "full_set.info()"
   ]
  },
  {
   "cell_type": "code",
   "execution_count": 11,
   "id": "c7621bff",
   "metadata": {},
   "outputs": [
    {
     "data": {
      "text/html": [
       "<div>\n",
       "<style scoped>\n",
       "    .dataframe tbody tr th:only-of-type {\n",
       "        vertical-align: middle;\n",
       "    }\n",
       "\n",
       "    .dataframe tbody tr th {\n",
       "        vertical-align: top;\n",
       "    }\n",
       "\n",
       "    .dataframe thead th {\n",
       "        text-align: right;\n",
       "    }\n",
       "</style>\n",
       "<table border=\"1\" class=\"dataframe\">\n",
       "  <thead>\n",
       "    <tr style=\"text-align: right;\">\n",
       "      <th></th>\n",
       "      <th>final.output.concentrate_ag</th>\n",
       "      <th>final.output.concentrate_pb</th>\n",
       "      <th>final.output.concentrate_sol</th>\n",
       "      <th>final.output.concentrate_au</th>\n",
       "      <th>final.output.recovery</th>\n",
       "      <th>final.output.tail_ag</th>\n",
       "      <th>final.output.tail_pb</th>\n",
       "      <th>final.output.tail_sol</th>\n",
       "      <th>final.output.tail_au</th>\n",
       "      <th>primary_cleaner.input.sulfate</th>\n",
       "      <th>...</th>\n",
       "      <th>secondary_cleaner.state.floatbank4_a_air</th>\n",
       "      <th>secondary_cleaner.state.floatbank4_a_level</th>\n",
       "      <th>secondary_cleaner.state.floatbank4_b_air</th>\n",
       "      <th>secondary_cleaner.state.floatbank4_b_level</th>\n",
       "      <th>secondary_cleaner.state.floatbank5_a_air</th>\n",
       "      <th>secondary_cleaner.state.floatbank5_a_level</th>\n",
       "      <th>secondary_cleaner.state.floatbank5_b_air</th>\n",
       "      <th>secondary_cleaner.state.floatbank5_b_level</th>\n",
       "      <th>secondary_cleaner.state.floatbank6_a_air</th>\n",
       "      <th>secondary_cleaner.state.floatbank6_a_level</th>\n",
       "    </tr>\n",
       "  </thead>\n",
       "  <tbody>\n",
       "    <tr>\n",
       "      <th>count</th>\n",
       "      <td>19438.000000</td>\n",
       "      <td>19438.000000</td>\n",
       "      <td>19228.000000</td>\n",
       "      <td>19439.000000</td>\n",
       "      <td>19439.000000</td>\n",
       "      <td>19438.000000</td>\n",
       "      <td>19338.000000</td>\n",
       "      <td>19433.000000</td>\n",
       "      <td>19439.000000</td>\n",
       "      <td>19415.000000</td>\n",
       "      <td>...</td>\n",
       "      <td>19433.000000</td>\n",
       "      <td>19438.000000</td>\n",
       "      <td>19438.000000</td>\n",
       "      <td>19438.000000</td>\n",
       "      <td>19438.000000</td>\n",
       "      <td>19438.000000</td>\n",
       "      <td>19438.000000</td>\n",
       "      <td>19438.000000</td>\n",
       "      <td>19437.000000</td>\n",
       "      <td>19438.000000</td>\n",
       "    </tr>\n",
       "    <tr>\n",
       "      <th>mean</th>\n",
       "      <td>5.168470</td>\n",
       "      <td>9.978895</td>\n",
       "      <td>9.501224</td>\n",
       "      <td>44.076513</td>\n",
       "      <td>67.050208</td>\n",
       "      <td>9.688589</td>\n",
       "      <td>2.705795</td>\n",
       "      <td>10.583728</td>\n",
       "      <td>3.042467</td>\n",
       "      <td>144.624774</td>\n",
       "      <td>...</td>\n",
       "      <td>18.987674</td>\n",
       "      <td>-485.894516</td>\n",
       "      <td>15.010366</td>\n",
       "      <td>-461.078636</td>\n",
       "      <td>15.694452</td>\n",
       "      <td>-488.684065</td>\n",
       "      <td>12.198224</td>\n",
       "      <td>-487.149827</td>\n",
       "      <td>18.959024</td>\n",
       "      <td>-505.436305</td>\n",
       "    </tr>\n",
       "    <tr>\n",
       "      <th>std</th>\n",
       "      <td>1.372348</td>\n",
       "      <td>1.669240</td>\n",
       "      <td>2.787537</td>\n",
       "      <td>5.129784</td>\n",
       "      <td>10.125840</td>\n",
       "      <td>2.328642</td>\n",
       "      <td>0.949077</td>\n",
       "      <td>2.868782</td>\n",
       "      <td>0.922808</td>\n",
       "      <td>44.464071</td>\n",
       "      <td>...</td>\n",
       "      <td>5.411058</td>\n",
       "      <td>47.758570</td>\n",
       "      <td>4.890228</td>\n",
       "      <td>67.405524</td>\n",
       "      <td>5.510974</td>\n",
       "      <td>34.533396</td>\n",
       "      <td>5.333024</td>\n",
       "      <td>38.347312</td>\n",
       "      <td>5.550498</td>\n",
       "      <td>37.689057</td>\n",
       "    </tr>\n",
       "    <tr>\n",
       "      <th>min</th>\n",
       "      <td>0.000000</td>\n",
       "      <td>0.000000</td>\n",
       "      <td>0.000000</td>\n",
       "      <td>0.000000</td>\n",
       "      <td>0.000000</td>\n",
       "      <td>0.000000</td>\n",
       "      <td>0.000000</td>\n",
       "      <td>0.000000</td>\n",
       "      <td>0.000000</td>\n",
       "      <td>0.003112</td>\n",
       "      <td>...</td>\n",
       "      <td>0.000000</td>\n",
       "      <td>-799.798523</td>\n",
       "      <td>0.000000</td>\n",
       "      <td>-800.836914</td>\n",
       "      <td>-0.372054</td>\n",
       "      <td>-797.323986</td>\n",
       "      <td>0.528083</td>\n",
       "      <td>-800.220337</td>\n",
       "      <td>-0.079426</td>\n",
       "      <td>-809.741464</td>\n",
       "    </tr>\n",
       "    <tr>\n",
       "      <th>25%</th>\n",
       "      <td>4.251240</td>\n",
       "      <td>9.137262</td>\n",
       "      <td>7.722820</td>\n",
       "      <td>43.402215</td>\n",
       "      <td>63.299712</td>\n",
       "      <td>8.062878</td>\n",
       "      <td>2.040119</td>\n",
       "      <td>8.938947</td>\n",
       "      <td>2.461138</td>\n",
       "      <td>114.107029</td>\n",
       "      <td>...</td>\n",
       "      <td>14.975734</td>\n",
       "      <td>-500.704892</td>\n",
       "      <td>11.940294</td>\n",
       "      <td>-500.187742</td>\n",
       "      <td>10.988606</td>\n",
       "      <td>-500.458467</td>\n",
       "      <td>8.971105</td>\n",
       "      <td>-500.129462</td>\n",
       "      <td>14.983037</td>\n",
       "      <td>-500.728067</td>\n",
       "    </tr>\n",
       "    <tr>\n",
       "      <th>50%</th>\n",
       "      <td>5.066094</td>\n",
       "      <td>10.102433</td>\n",
       "      <td>9.218961</td>\n",
       "      <td>45.011244</td>\n",
       "      <td>68.172738</td>\n",
       "      <td>9.743623</td>\n",
       "      <td>2.748730</td>\n",
       "      <td>10.622456</td>\n",
       "      <td>2.984909</td>\n",
       "      <td>143.232103</td>\n",
       "      <td>...</td>\n",
       "      <td>18.017481</td>\n",
       "      <td>-499.837793</td>\n",
       "      <td>14.971014</td>\n",
       "      <td>-499.459786</td>\n",
       "      <td>15.000036</td>\n",
       "      <td>-499.802605</td>\n",
       "      <td>11.019433</td>\n",
       "      <td>-499.935317</td>\n",
       "      <td>19.960541</td>\n",
       "      <td>-500.048400</td>\n",
       "    </tr>\n",
       "    <tr>\n",
       "      <th>75%</th>\n",
       "      <td>5.895527</td>\n",
       "      <td>11.035769</td>\n",
       "      <td>10.947813</td>\n",
       "      <td>46.275313</td>\n",
       "      <td>72.686642</td>\n",
       "      <td>11.134294</td>\n",
       "      <td>3.333216</td>\n",
       "      <td>12.104271</td>\n",
       "      <td>3.571351</td>\n",
       "      <td>175.075656</td>\n",
       "      <td>...</td>\n",
       "      <td>23.012470</td>\n",
       "      <td>-498.249730</td>\n",
       "      <td>19.034162</td>\n",
       "      <td>-400.118106</td>\n",
       "      <td>18.026190</td>\n",
       "      <td>-498.384187</td>\n",
       "      <td>14.019088</td>\n",
       "      <td>-499.436708</td>\n",
       "      <td>24.003170</td>\n",
       "      <td>-499.495378</td>\n",
       "    </tr>\n",
       "    <tr>\n",
       "      <th>max</th>\n",
       "      <td>16.001945</td>\n",
       "      <td>17.031899</td>\n",
       "      <td>19.615720</td>\n",
       "      <td>52.756638</td>\n",
       "      <td>100.000000</td>\n",
       "      <td>19.552149</td>\n",
       "      <td>5.804178</td>\n",
       "      <td>22.317730</td>\n",
       "      <td>8.245022</td>\n",
       "      <td>265.983123</td>\n",
       "      <td>...</td>\n",
       "      <td>30.115735</td>\n",
       "      <td>-245.239184</td>\n",
       "      <td>31.269706</td>\n",
       "      <td>-6.506986</td>\n",
       "      <td>43.709931</td>\n",
       "      <td>-244.483566</td>\n",
       "      <td>27.926001</td>\n",
       "      <td>-137.740004</td>\n",
       "      <td>32.188906</td>\n",
       "      <td>-104.427459</td>\n",
       "    </tr>\n",
       "  </tbody>\n",
       "</table>\n",
       "<p>8 rows × 86 columns</p>\n",
       "</div>"
      ],
      "text/plain": [
       "       final.output.concentrate_ag  final.output.concentrate_pb  \\\n",
       "count                 19438.000000                 19438.000000   \n",
       "mean                      5.168470                     9.978895   \n",
       "std                       1.372348                     1.669240   \n",
       "min                       0.000000                     0.000000   \n",
       "25%                       4.251240                     9.137262   \n",
       "50%                       5.066094                    10.102433   \n",
       "75%                       5.895527                    11.035769   \n",
       "max                      16.001945                    17.031899   \n",
       "\n",
       "       final.output.concentrate_sol  final.output.concentrate_au  \\\n",
       "count                  19228.000000                 19439.000000   \n",
       "mean                       9.501224                    44.076513   \n",
       "std                        2.787537                     5.129784   \n",
       "min                        0.000000                     0.000000   \n",
       "25%                        7.722820                    43.402215   \n",
       "50%                        9.218961                    45.011244   \n",
       "75%                       10.947813                    46.275313   \n",
       "max                       19.615720                    52.756638   \n",
       "\n",
       "       final.output.recovery  final.output.tail_ag  final.output.tail_pb  \\\n",
       "count           19439.000000          19438.000000          19338.000000   \n",
       "mean               67.050208              9.688589              2.705795   \n",
       "std                10.125840              2.328642              0.949077   \n",
       "min                 0.000000              0.000000              0.000000   \n",
       "25%                63.299712              8.062878              2.040119   \n",
       "50%                68.172738              9.743623              2.748730   \n",
       "75%                72.686642             11.134294              3.333216   \n",
       "max               100.000000             19.552149              5.804178   \n",
       "\n",
       "       final.output.tail_sol  final.output.tail_au  \\\n",
       "count           19433.000000          19439.000000   \n",
       "mean               10.583728              3.042467   \n",
       "std                 2.868782              0.922808   \n",
       "min                 0.000000              0.000000   \n",
       "25%                 8.938947              2.461138   \n",
       "50%                10.622456              2.984909   \n",
       "75%                12.104271              3.571351   \n",
       "max                22.317730              8.245022   \n",
       "\n",
       "       primary_cleaner.input.sulfate  ...  \\\n",
       "count                   19415.000000  ...   \n",
       "mean                      144.624774  ...   \n",
       "std                        44.464071  ...   \n",
       "min                         0.003112  ...   \n",
       "25%                       114.107029  ...   \n",
       "50%                       143.232103  ...   \n",
       "75%                       175.075656  ...   \n",
       "max                       265.983123  ...   \n",
       "\n",
       "       secondary_cleaner.state.floatbank4_a_air  \\\n",
       "count                              19433.000000   \n",
       "mean                                  18.987674   \n",
       "std                                    5.411058   \n",
       "min                                    0.000000   \n",
       "25%                                   14.975734   \n",
       "50%                                   18.017481   \n",
       "75%                                   23.012470   \n",
       "max                                   30.115735   \n",
       "\n",
       "       secondary_cleaner.state.floatbank4_a_level  \\\n",
       "count                                19438.000000   \n",
       "mean                                  -485.894516   \n",
       "std                                     47.758570   \n",
       "min                                   -799.798523   \n",
       "25%                                   -500.704892   \n",
       "50%                                   -499.837793   \n",
       "75%                                   -498.249730   \n",
       "max                                   -245.239184   \n",
       "\n",
       "       secondary_cleaner.state.floatbank4_b_air  \\\n",
       "count                              19438.000000   \n",
       "mean                                  15.010366   \n",
       "std                                    4.890228   \n",
       "min                                    0.000000   \n",
       "25%                                   11.940294   \n",
       "50%                                   14.971014   \n",
       "75%                                   19.034162   \n",
       "max                                   31.269706   \n",
       "\n",
       "       secondary_cleaner.state.floatbank4_b_level  \\\n",
       "count                                19438.000000   \n",
       "mean                                  -461.078636   \n",
       "std                                     67.405524   \n",
       "min                                   -800.836914   \n",
       "25%                                   -500.187742   \n",
       "50%                                   -499.459786   \n",
       "75%                                   -400.118106   \n",
       "max                                     -6.506986   \n",
       "\n",
       "       secondary_cleaner.state.floatbank5_a_air  \\\n",
       "count                              19438.000000   \n",
       "mean                                  15.694452   \n",
       "std                                    5.510974   \n",
       "min                                   -0.372054   \n",
       "25%                                   10.988606   \n",
       "50%                                   15.000036   \n",
       "75%                                   18.026190   \n",
       "max                                   43.709931   \n",
       "\n",
       "       secondary_cleaner.state.floatbank5_a_level  \\\n",
       "count                                19438.000000   \n",
       "mean                                  -488.684065   \n",
       "std                                     34.533396   \n",
       "min                                   -797.323986   \n",
       "25%                                   -500.458467   \n",
       "50%                                   -499.802605   \n",
       "75%                                   -498.384187   \n",
       "max                                   -244.483566   \n",
       "\n",
       "       secondary_cleaner.state.floatbank5_b_air  \\\n",
       "count                              19438.000000   \n",
       "mean                                  12.198224   \n",
       "std                                    5.333024   \n",
       "min                                    0.528083   \n",
       "25%                                    8.971105   \n",
       "50%                                   11.019433   \n",
       "75%                                   14.019088   \n",
       "max                                   27.926001   \n",
       "\n",
       "       secondary_cleaner.state.floatbank5_b_level  \\\n",
       "count                                19438.000000   \n",
       "mean                                  -487.149827   \n",
       "std                                     38.347312   \n",
       "min                                   -800.220337   \n",
       "25%                                   -500.129462   \n",
       "50%                                   -499.935317   \n",
       "75%                                   -499.436708   \n",
       "max                                   -137.740004   \n",
       "\n",
       "       secondary_cleaner.state.floatbank6_a_air  \\\n",
       "count                              19437.000000   \n",
       "mean                                  18.959024   \n",
       "std                                    5.550498   \n",
       "min                                   -0.079426   \n",
       "25%                                   14.983037   \n",
       "50%                                   19.960541   \n",
       "75%                                   24.003170   \n",
       "max                                   32.188906   \n",
       "\n",
       "       secondary_cleaner.state.floatbank6_a_level  \n",
       "count                                19438.000000  \n",
       "mean                                  -505.436305  \n",
       "std                                     37.689057  \n",
       "min                                   -809.741464  \n",
       "25%                                   -500.728067  \n",
       "50%                                   -500.048400  \n",
       "75%                                   -499.495378  \n",
       "max                                   -104.427459  \n",
       "\n",
       "[8 rows x 86 columns]"
      ]
     },
     "execution_count": 11,
     "metadata": {},
     "output_type": "execute_result"
    }
   ],
   "source": [
    "full_set.describe()"
   ]
  },
  {
   "cell_type": "markdown",
   "id": "0c9db767",
   "metadata": {},
   "source": [
    "### Проверка оценки эффективности обогащения"
   ]
  },
  {
   "cell_type": "code",
   "execution_count": 12,
   "id": "bf26fc01",
   "metadata": {},
   "outputs": [],
   "source": [
    "C = train_set['rougher.output.concentrate_au']\n",
    "F = train_set['rougher.input.feed_au']\n",
    "T = train_set['rougher.output.tail_au']\n",
    "\n",
    "recovery = (C * (F - T)) / (F * (C - T)) * 100\n",
    "recovery_from_set = train_set['rougher.output.recovery']"
   ]
  },
  {
   "cell_type": "code",
   "execution_count": 13,
   "id": "102ba595",
   "metadata": {},
   "outputs": [
    {
     "data": {
      "text/plain": [
       "9.73512347450521e-15"
      ]
     },
     "execution_count": 13,
     "metadata": {},
     "output_type": "execute_result"
    }
   ],
   "source": [
    "mean_absolute_error(recovery_from_set, recovery)"
   ]
  },
  {
   "cell_type": "markdown",
   "id": "fd61df03",
   "metadata": {},
   "source": [
    "Есть небольшие отличия (из-за округления и/или из-за пропусков в признаках), однако оценка в датасете правильная"
   ]
  },
  {
   "cell_type": "markdown",
   "id": "d665d6cc",
   "metadata": {},
   "source": [
    "### Признаки тестовой выборки"
   ]
  },
  {
   "cell_type": "code",
   "execution_count": 14,
   "id": "1a0f03a7",
   "metadata": {},
   "outputs": [
    {
     "data": {
      "text/plain": [
       "Index(['final.output.concentrate_ag', 'final.output.concentrate_au',\n",
       "       'final.output.concentrate_pb', 'final.output.concentrate_sol',\n",
       "       'final.output.recovery', 'final.output.tail_ag', 'final.output.tail_au',\n",
       "       'final.output.tail_pb', 'final.output.tail_sol',\n",
       "       'primary_cleaner.output.concentrate_ag',\n",
       "       'primary_cleaner.output.concentrate_au',\n",
       "       'primary_cleaner.output.concentrate_pb',\n",
       "       'primary_cleaner.output.concentrate_sol',\n",
       "       'primary_cleaner.output.tail_ag', 'primary_cleaner.output.tail_au',\n",
       "       'primary_cleaner.output.tail_pb', 'primary_cleaner.output.tail_sol',\n",
       "       'rougher.calculation.au_pb_ratio',\n",
       "       'rougher.calculation.floatbank10_sulfate_to_au_feed',\n",
       "       'rougher.calculation.floatbank11_sulfate_to_au_feed',\n",
       "       'rougher.calculation.sulfate_to_au_concentrate',\n",
       "       'rougher.output.concentrate_ag', 'rougher.output.concentrate_au',\n",
       "       'rougher.output.concentrate_pb', 'rougher.output.concentrate_sol',\n",
       "       'rougher.output.recovery', 'rougher.output.tail_ag',\n",
       "       'rougher.output.tail_au', 'rougher.output.tail_pb',\n",
       "       'rougher.output.tail_sol', 'secondary_cleaner.output.tail_ag',\n",
       "       'secondary_cleaner.output.tail_au', 'secondary_cleaner.output.tail_pb',\n",
       "       'secondary_cleaner.output.tail_sol'],\n",
       "      dtype='object')"
      ]
     },
     "execution_count": 14,
     "metadata": {},
     "output_type": "execute_result"
    }
   ],
   "source": [
    "(train_set.columns.difference(test_set.columns))"
   ]
  },
  {
   "cell_type": "markdown",
   "id": "54e4d04a",
   "metadata": {},
   "source": [
    "В тестовой выборке отсутствуют все **output** и **calculation** признаки, а так же **final** этап. Другими словами, в тестовом множестве нет результатов отчистки руды на любом из этапов, в том числе и финальный результат. Эти данные не будут доступны при использовании модели для предсказаний. Все эти признаки являются количественными."
   ]
  },
  {
   "cell_type": "markdown",
   "id": "0b401403",
   "metadata": {},
   "source": [
    "### Предобработка"
   ]
  },
  {
   "cell_type": "markdown",
   "id": "fdbde3f3",
   "metadata": {},
   "source": [
    "#### Пропуски\n",
    "\n",
    "В датасете присутсвует небольшое число пропусков. Удалим примеры с пропусками, так мы практически не повлияем на результаты анализа. Однако важно понимать, что не все признаки нам важны, все (кроме целевых признаков) результаты очистки не будут использоваться при обучении модели (косвенно указывают на целевой признак, плюс эти данные будут недоступны в процессе предсказания), поэтому оставим примеры с пропусками в этих столбцах."
   ]
  },
  {
   "cell_type": "code",
   "execution_count": 15,
   "id": "e13c11dc",
   "metadata": {
    "scrolled": true
   },
   "outputs": [
    {
     "name": "stdout",
     "output_type": "stream",
     "text": [
      "<class 'pandas.core.frame.DataFrame'>\n",
      "RangeIndex: 12679 entries, 0 to 12678\n",
      "Data columns (total 87 columns):\n",
      " #   Column                                              Non-Null Count  Dtype  \n",
      "---  ------                                              --------------  -----  \n",
      " 0   date                                                12679 non-null  object \n",
      " 1   final.output.concentrate_ag                         12678 non-null  float64\n",
      " 2   final.output.concentrate_pb                         12678 non-null  float64\n",
      " 3   final.output.concentrate_sol                        12487 non-null  float64\n",
      " 4   final.output.concentrate_au                         12679 non-null  float64\n",
      " 5   final.output.recovery                               12679 non-null  float64\n",
      " 6   final.output.tail_ag                                12679 non-null  float64\n",
      " 7   final.output.tail_pb                                12663 non-null  float64\n",
      " 8   final.output.tail_sol                               12677 non-null  float64\n",
      " 9   final.output.tail_au                                12679 non-null  float64\n",
      " 10  primary_cleaner.input.sulfate                       12679 non-null  float64\n",
      " 11  primary_cleaner.input.depressant                    12679 non-null  float64\n",
      " 12  primary_cleaner.input.feed_size                     12679 non-null  float64\n",
      " 13  primary_cleaner.input.xanthate                      12679 non-null  float64\n",
      " 14  primary_cleaner.output.concentrate_ag               12679 non-null  float64\n",
      " 15  primary_cleaner.output.concentrate_pb               12613 non-null  float64\n",
      " 16  primary_cleaner.output.concentrate_sol              12500 non-null  float64\n",
      " 17  primary_cleaner.output.concentrate_au               12679 non-null  float64\n",
      " 18  primary_cleaner.output.tail_ag                      12678 non-null  float64\n",
      " 19  primary_cleaner.output.tail_pb                      12664 non-null  float64\n",
      " 20  primary_cleaner.output.tail_sol                     12644 non-null  float64\n",
      " 21  primary_cleaner.output.tail_au                      12679 non-null  float64\n",
      " 22  primary_cleaner.state.floatbank8_a_air              12679 non-null  float64\n",
      " 23  primary_cleaner.state.floatbank8_a_level            12679 non-null  float64\n",
      " 24  primary_cleaner.state.floatbank8_b_air              12679 non-null  float64\n",
      " 25  primary_cleaner.state.floatbank8_b_level            12679 non-null  float64\n",
      " 26  primary_cleaner.state.floatbank8_c_air              12679 non-null  float64\n",
      " 27  primary_cleaner.state.floatbank8_c_level            12679 non-null  float64\n",
      " 28  primary_cleaner.state.floatbank8_d_air              12679 non-null  float64\n",
      " 29  primary_cleaner.state.floatbank8_d_level            12679 non-null  float64\n",
      " 30  rougher.calculation.sulfate_to_au_concentrate       12679 non-null  float64\n",
      " 31  rougher.calculation.floatbank10_sulfate_to_au_feed  12679 non-null  float64\n",
      " 32  rougher.calculation.floatbank11_sulfate_to_au_feed  12679 non-null  float64\n",
      " 33  rougher.calculation.au_pb_ratio                     12679 non-null  float64\n",
      " 34  rougher.input.feed_ag                               12679 non-null  float64\n",
      " 35  rougher.input.feed_pb                               12679 non-null  float64\n",
      " 36  rougher.input.feed_rate                             12679 non-null  float64\n",
      " 37  rougher.input.feed_size                             12679 non-null  float64\n",
      " 38  rougher.input.feed_sol                              12679 non-null  float64\n",
      " 39  rougher.input.feed_au                               12679 non-null  float64\n",
      " 40  rougher.input.floatbank10_sulfate                   12679 non-null  float64\n",
      " 41  rougher.input.floatbank10_xanthate                  12679 non-null  float64\n",
      " 42  rougher.input.floatbank11_sulfate                   12679 non-null  float64\n",
      " 43  rougher.input.floatbank11_xanthate                  12679 non-null  float64\n",
      " 44  rougher.output.concentrate_ag                       12679 non-null  float64\n",
      " 45  rougher.output.concentrate_pb                       12679 non-null  float64\n",
      " 46  rougher.output.concentrate_sol                      12663 non-null  float64\n",
      " 47  rougher.output.concentrate_au                       12679 non-null  float64\n",
      " 48  rougher.output.recovery                             12679 non-null  float64\n",
      " 49  rougher.output.tail_ag                              12678 non-null  float64\n",
      " 50  rougher.output.tail_pb                              12679 non-null  float64\n",
      " 51  rougher.output.tail_sol                             12679 non-null  float64\n",
      " 52  rougher.output.tail_au                              12679 non-null  float64\n",
      " 53  rougher.state.floatbank10_a_air                     12679 non-null  float64\n",
      " 54  rougher.state.floatbank10_a_level                   12679 non-null  float64\n",
      " 55  rougher.state.floatbank10_b_air                     12679 non-null  float64\n",
      " 56  rougher.state.floatbank10_b_level                   12679 non-null  float64\n",
      " 57  rougher.state.floatbank10_c_air                     12679 non-null  float64\n",
      " 58  rougher.state.floatbank10_c_level                   12679 non-null  float64\n",
      " 59  rougher.state.floatbank10_d_air                     12679 non-null  float64\n",
      " 60  rougher.state.floatbank10_d_level                   12679 non-null  float64\n",
      " 61  rougher.state.floatbank10_e_air                     12679 non-null  float64\n",
      " 62  rougher.state.floatbank10_e_level                   12679 non-null  float64\n",
      " 63  rougher.state.floatbank10_f_air                     12679 non-null  float64\n",
      " 64  rougher.state.floatbank10_f_level                   12679 non-null  float64\n",
      " 65  secondary_cleaner.output.tail_ag                    12678 non-null  float64\n",
      " 66  secondary_cleaner.output.tail_pb                    12670 non-null  float64\n",
      " 67  secondary_cleaner.output.tail_sol                   11379 non-null  float64\n",
      " 68  secondary_cleaner.output.tail_au                    12679 non-null  float64\n",
      " 69  secondary_cleaner.state.floatbank2_a_air            12679 non-null  float64\n",
      " 70  secondary_cleaner.state.floatbank2_a_level          12679 non-null  float64\n",
      " 71  secondary_cleaner.state.floatbank2_b_air            12679 non-null  float64\n",
      " 72  secondary_cleaner.state.floatbank2_b_level          12679 non-null  float64\n",
      " 73  secondary_cleaner.state.floatbank3_a_air            12679 non-null  float64\n",
      " 74  secondary_cleaner.state.floatbank3_a_level          12679 non-null  float64\n",
      " 75  secondary_cleaner.state.floatbank3_b_air            12679 non-null  float64\n",
      " 76  secondary_cleaner.state.floatbank3_b_level          12679 non-null  float64\n",
      " 77  secondary_cleaner.state.floatbank4_a_air            12679 non-null  float64\n",
      " 78  secondary_cleaner.state.floatbank4_a_level          12679 non-null  float64\n",
      " 79  secondary_cleaner.state.floatbank4_b_air            12679 non-null  float64\n",
      " 80  secondary_cleaner.state.floatbank4_b_level          12679 non-null  float64\n",
      " 81  secondary_cleaner.state.floatbank5_a_air            12679 non-null  float64\n",
      " 82  secondary_cleaner.state.floatbank5_a_level          12679 non-null  float64\n",
      " 83  secondary_cleaner.state.floatbank5_b_air            12679 non-null  float64\n",
      " 84  secondary_cleaner.state.floatbank5_b_level          12679 non-null  float64\n",
      " 85  secondary_cleaner.state.floatbank6_a_air            12679 non-null  float64\n",
      " 86  secondary_cleaner.state.floatbank6_a_level          12679 non-null  float64\n",
      "dtypes: float64(86), object(1)\n",
      "memory usage: 8.4+ MB\n"
     ]
    }
   ],
   "source": [
    "train_set_nonan = train_set.dropna(subset=test_set.columns)\n",
    "train_set_nonan = train_set_nonan.dropna(subset=['rougher.output.recovery', 'final.output.recovery']).reset_index(drop=True)\n",
    "train_set_nonan.info()\n"
   ]
  },
  {
   "cell_type": "code",
   "execution_count": 16,
   "id": "77a8fd50",
   "metadata": {
    "scrolled": true
   },
   "outputs": [
    {
     "name": "stdout",
     "output_type": "stream",
     "text": [
      "<class 'pandas.core.frame.DataFrame'>\n",
      "RangeIndex: 5229 entries, 0 to 5228\n",
      "Data columns (total 53 columns):\n",
      " #   Column                                      Non-Null Count  Dtype  \n",
      "---  ------                                      --------------  -----  \n",
      " 0   date                                        5229 non-null   object \n",
      " 1   primary_cleaner.input.sulfate               5229 non-null   float64\n",
      " 2   primary_cleaner.input.depressant            5229 non-null   float64\n",
      " 3   primary_cleaner.input.feed_size             5229 non-null   float64\n",
      " 4   primary_cleaner.input.xanthate              5229 non-null   float64\n",
      " 5   primary_cleaner.state.floatbank8_a_air      5229 non-null   float64\n",
      " 6   primary_cleaner.state.floatbank8_a_level    5229 non-null   float64\n",
      " 7   primary_cleaner.state.floatbank8_b_air      5229 non-null   float64\n",
      " 8   primary_cleaner.state.floatbank8_b_level    5229 non-null   float64\n",
      " 9   primary_cleaner.state.floatbank8_c_air      5229 non-null   float64\n",
      " 10  primary_cleaner.state.floatbank8_c_level    5229 non-null   float64\n",
      " 11  primary_cleaner.state.floatbank8_d_air      5229 non-null   float64\n",
      " 12  primary_cleaner.state.floatbank8_d_level    5229 non-null   float64\n",
      " 13  rougher.input.feed_ag                       5229 non-null   float64\n",
      " 14  rougher.input.feed_pb                       5229 non-null   float64\n",
      " 15  rougher.input.feed_rate                     5229 non-null   float64\n",
      " 16  rougher.input.feed_size                     5229 non-null   float64\n",
      " 17  rougher.input.feed_sol                      5229 non-null   float64\n",
      " 18  rougher.input.feed_au                       5229 non-null   float64\n",
      " 19  rougher.input.floatbank10_sulfate           5229 non-null   float64\n",
      " 20  rougher.input.floatbank10_xanthate          5229 non-null   float64\n",
      " 21  rougher.input.floatbank11_sulfate           5229 non-null   float64\n",
      " 22  rougher.input.floatbank11_xanthate          5229 non-null   float64\n",
      " 23  rougher.state.floatbank10_a_air             5229 non-null   float64\n",
      " 24  rougher.state.floatbank10_a_level           5229 non-null   float64\n",
      " 25  rougher.state.floatbank10_b_air             5229 non-null   float64\n",
      " 26  rougher.state.floatbank10_b_level           5229 non-null   float64\n",
      " 27  rougher.state.floatbank10_c_air             5229 non-null   float64\n",
      " 28  rougher.state.floatbank10_c_level           5229 non-null   float64\n",
      " 29  rougher.state.floatbank10_d_air             5229 non-null   float64\n",
      " 30  rougher.state.floatbank10_d_level           5229 non-null   float64\n",
      " 31  rougher.state.floatbank10_e_air             5229 non-null   float64\n",
      " 32  rougher.state.floatbank10_e_level           5229 non-null   float64\n",
      " 33  rougher.state.floatbank10_f_air             5229 non-null   float64\n",
      " 34  rougher.state.floatbank10_f_level           5229 non-null   float64\n",
      " 35  secondary_cleaner.state.floatbank2_a_air    5229 non-null   float64\n",
      " 36  secondary_cleaner.state.floatbank2_a_level  5229 non-null   float64\n",
      " 37  secondary_cleaner.state.floatbank2_b_air    5229 non-null   float64\n",
      " 38  secondary_cleaner.state.floatbank2_b_level  5229 non-null   float64\n",
      " 39  secondary_cleaner.state.floatbank3_a_air    5229 non-null   float64\n",
      " 40  secondary_cleaner.state.floatbank3_a_level  5229 non-null   float64\n",
      " 41  secondary_cleaner.state.floatbank3_b_air    5229 non-null   float64\n",
      " 42  secondary_cleaner.state.floatbank3_b_level  5229 non-null   float64\n",
      " 43  secondary_cleaner.state.floatbank4_a_air    5229 non-null   float64\n",
      " 44  secondary_cleaner.state.floatbank4_a_level  5229 non-null   float64\n",
      " 45  secondary_cleaner.state.floatbank4_b_air    5229 non-null   float64\n",
      " 46  secondary_cleaner.state.floatbank4_b_level  5229 non-null   float64\n",
      " 47  secondary_cleaner.state.floatbank5_a_air    5229 non-null   float64\n",
      " 48  secondary_cleaner.state.floatbank5_a_level  5229 non-null   float64\n",
      " 49  secondary_cleaner.state.floatbank5_b_air    5229 non-null   float64\n",
      " 50  secondary_cleaner.state.floatbank5_b_level  5229 non-null   float64\n",
      " 51  secondary_cleaner.state.floatbank6_a_air    5229 non-null   float64\n",
      " 52  secondary_cleaner.state.floatbank6_a_level  5229 non-null   float64\n",
      "dtypes: float64(52), object(1)\n",
      "memory usage: 2.1+ MB\n"
     ]
    }
   ],
   "source": [
    "test_set_nonan = test_set.dropna().reset_index(drop=True)\n",
    "test_set_nonan.info()"
   ]
  },
  {
   "cell_type": "code",
   "execution_count": 17,
   "id": "63c3ed6d",
   "metadata": {
    "scrolled": true
   },
   "outputs": [
    {
     "name": "stdout",
     "output_type": "stream",
     "text": [
      "<class 'pandas.core.frame.DataFrame'>\n",
      "Int64Index: 17908 entries, 0 to 19438\n",
      "Data columns (total 87 columns):\n",
      " #   Column                                              Non-Null Count  Dtype  \n",
      "---  ------                                              --------------  -----  \n",
      " 0   date                                                17908 non-null  object \n",
      " 1   final.output.concentrate_ag                         17907 non-null  float64\n",
      " 2   final.output.concentrate_pb                         17907 non-null  float64\n",
      " 3   final.output.concentrate_sol                        17716 non-null  float64\n",
      " 4   final.output.concentrate_au                         17908 non-null  float64\n",
      " 5   final.output.recovery                               17908 non-null  float64\n",
      " 6   final.output.tail_ag                                17907 non-null  float64\n",
      " 7   final.output.tail_pb                                17891 non-null  float64\n",
      " 8   final.output.tail_sol                               17906 non-null  float64\n",
      " 9   final.output.tail_au                                17908 non-null  float64\n",
      " 10  primary_cleaner.input.sulfate                       17908 non-null  float64\n",
      " 11  primary_cleaner.input.depressant                    17908 non-null  float64\n",
      " 12  primary_cleaner.input.feed_size                     17908 non-null  float64\n",
      " 13  primary_cleaner.input.xanthate                      17908 non-null  float64\n",
      " 14  primary_cleaner.output.concentrate_ag               17908 non-null  float64\n",
      " 15  primary_cleaner.output.concentrate_pb               17820 non-null  float64\n",
      " 16  primary_cleaner.output.concentrate_sol              17658 non-null  float64\n",
      " 17  primary_cleaner.output.concentrate_au               17908 non-null  float64\n",
      " 18  primary_cleaner.output.tail_ag                      17904 non-null  float64\n",
      " 19  primary_cleaner.output.tail_pb                      17887 non-null  float64\n",
      " 20  primary_cleaner.output.tail_sol                     17860 non-null  float64\n",
      " 21  primary_cleaner.output.tail_au                      17908 non-null  float64\n",
      " 22  primary_cleaner.state.floatbank8_a_air              17908 non-null  float64\n",
      " 23  primary_cleaner.state.floatbank8_a_level            17908 non-null  float64\n",
      " 24  primary_cleaner.state.floatbank8_b_air              17908 non-null  float64\n",
      " 25  primary_cleaner.state.floatbank8_b_level            17908 non-null  float64\n",
      " 26  primary_cleaner.state.floatbank8_c_air              17908 non-null  float64\n",
      " 27  primary_cleaner.state.floatbank8_c_level            17908 non-null  float64\n",
      " 28  primary_cleaner.state.floatbank8_d_air              17908 non-null  float64\n",
      " 29  primary_cleaner.state.floatbank8_d_level            17908 non-null  float64\n",
      " 30  rougher.calculation.sulfate_to_au_concentrate       17908 non-null  float64\n",
      " 31  rougher.calculation.floatbank10_sulfate_to_au_feed  17908 non-null  float64\n",
      " 32  rougher.calculation.floatbank11_sulfate_to_au_feed  17908 non-null  float64\n",
      " 33  rougher.calculation.au_pb_ratio                     17908 non-null  float64\n",
      " 34  rougher.input.feed_ag                               17908 non-null  float64\n",
      " 35  rougher.input.feed_pb                               17908 non-null  float64\n",
      " 36  rougher.input.feed_rate                             17908 non-null  float64\n",
      " 37  rougher.input.feed_size                             17908 non-null  float64\n",
      " 38  rougher.input.feed_sol                              17908 non-null  float64\n",
      " 39  rougher.input.feed_au                               17908 non-null  float64\n",
      " 40  rougher.input.floatbank10_sulfate                   17908 non-null  float64\n",
      " 41  rougher.input.floatbank10_xanthate                  17908 non-null  float64\n",
      " 42  rougher.input.floatbank11_sulfate                   17908 non-null  float64\n",
      " 43  rougher.input.floatbank11_xanthate                  17908 non-null  float64\n",
      " 44  rougher.output.concentrate_ag                       17908 non-null  float64\n",
      " 45  rougher.output.concentrate_pb                       17908 non-null  float64\n",
      " 46  rougher.output.concentrate_sol                      17891 non-null  float64\n",
      " 47  rougher.output.concentrate_au                       17908 non-null  float64\n",
      " 48  rougher.output.recovery                             17908 non-null  float64\n",
      " 49  rougher.output.tail_ag                              17907 non-null  float64\n",
      " 50  rougher.output.tail_pb                              17908 non-null  float64\n",
      " 51  rougher.output.tail_sol                             17908 non-null  float64\n",
      " 52  rougher.output.tail_au                              17908 non-null  float64\n",
      " 53  rougher.state.floatbank10_a_air                     17908 non-null  float64\n",
      " 54  rougher.state.floatbank10_a_level                   17908 non-null  float64\n",
      " 55  rougher.state.floatbank10_b_air                     17908 non-null  float64\n",
      " 56  rougher.state.floatbank10_b_level                   17908 non-null  float64\n",
      " 57  rougher.state.floatbank10_c_air                     17908 non-null  float64\n",
      " 58  rougher.state.floatbank10_c_level                   17908 non-null  float64\n",
      " 59  rougher.state.floatbank10_d_air                     17908 non-null  float64\n",
      " 60  rougher.state.floatbank10_d_level                   17908 non-null  float64\n",
      " 61  rougher.state.floatbank10_e_air                     17908 non-null  float64\n",
      " 62  rougher.state.floatbank10_e_level                   17908 non-null  float64\n",
      " 63  rougher.state.floatbank10_f_air                     17908 non-null  float64\n",
      " 64  rougher.state.floatbank10_f_level                   17908 non-null  float64\n",
      " 65  secondary_cleaner.output.tail_ag                    17907 non-null  float64\n",
      " 66  secondary_cleaner.output.tail_pb                    17897 non-null  float64\n",
      " 67  secondary_cleaner.output.tail_sol                   16482 non-null  float64\n",
      " 68  secondary_cleaner.output.tail_au                    17908 non-null  float64\n",
      " 69  secondary_cleaner.state.floatbank2_a_air            17908 non-null  float64\n",
      " 70  secondary_cleaner.state.floatbank2_a_level          17908 non-null  float64\n",
      " 71  secondary_cleaner.state.floatbank2_b_air            17908 non-null  float64\n",
      " 72  secondary_cleaner.state.floatbank2_b_level          17908 non-null  float64\n",
      " 73  secondary_cleaner.state.floatbank3_a_air            17908 non-null  float64\n",
      " 74  secondary_cleaner.state.floatbank3_a_level          17908 non-null  float64\n",
      " 75  secondary_cleaner.state.floatbank3_b_air            17908 non-null  float64\n",
      " 76  secondary_cleaner.state.floatbank3_b_level          17908 non-null  float64\n",
      " 77  secondary_cleaner.state.floatbank4_a_air            17908 non-null  float64\n",
      " 78  secondary_cleaner.state.floatbank4_a_level          17908 non-null  float64\n",
      " 79  secondary_cleaner.state.floatbank4_b_air            17908 non-null  float64\n",
      " 80  secondary_cleaner.state.floatbank4_b_level          17908 non-null  float64\n",
      " 81  secondary_cleaner.state.floatbank5_a_air            17908 non-null  float64\n",
      " 82  secondary_cleaner.state.floatbank5_a_level          17908 non-null  float64\n",
      " 83  secondary_cleaner.state.floatbank5_b_air            17908 non-null  float64\n",
      " 84  secondary_cleaner.state.floatbank5_b_level          17908 non-null  float64\n",
      " 85  secondary_cleaner.state.floatbank6_a_air            17908 non-null  float64\n",
      " 86  secondary_cleaner.state.floatbank6_a_level          17908 non-null  float64\n",
      "dtypes: float64(86), object(1)\n",
      "memory usage: 12.0+ MB\n"
     ]
    }
   ],
   "source": [
    "full_set_nonan = full_set.dropna(subset=test_set.columns)\n",
    "ful_set_nonan = full_set_nonan.dropna(subset=['rougher.output.recovery', 'final.output.recovery']).reset_index(drop=True)\n",
    "full_set_nonan.info()"
   ]
  },
  {
   "cell_type": "markdown",
   "id": "6c8b5d06",
   "metadata": {},
   "source": [
    "#### Дубликаты\n",
    "\n",
    "Проверим явные дубликаты"
   ]
  },
  {
   "cell_type": "code",
   "execution_count": 18,
   "id": "4ccad60b",
   "metadata": {},
   "outputs": [
    {
     "data": {
      "text/plain": [
       "0"
      ]
     },
     "execution_count": 18,
     "metadata": {},
     "output_type": "execute_result"
    }
   ],
   "source": [
    "train_set_nonan.duplicated().sum()"
   ]
  },
  {
   "cell_type": "code",
   "execution_count": 19,
   "id": "35598334",
   "metadata": {},
   "outputs": [
    {
     "data": {
      "text/plain": [
       "0"
      ]
     },
     "execution_count": 19,
     "metadata": {},
     "output_type": "execute_result"
    }
   ],
   "source": [
    "test_set_nonan.duplicated().sum()"
   ]
  },
  {
   "cell_type": "markdown",
   "id": "7090476d",
   "metadata": {},
   "source": [
    "Дубликатов нет"
   ]
  },
  {
   "cell_type": "markdown",
   "id": "d91942d3",
   "metadata": {},
   "source": [
    "### Выводы раздела\n",
    "\n",
    "Были загружены данные. Проверена оценка эффективности восстановления золота и проведена предобработка данных."
   ]
  },
  {
   "cell_type": "markdown",
   "id": "79697c53",
   "metadata": {},
   "source": [
    "## Анализ данных"
   ]
  },
  {
   "cell_type": "markdown",
   "id": "1e0796d2",
   "metadata": {},
   "source": [
    "### Изменение концентрации металлов"
   ]
  },
  {
   "cell_type": "code",
   "execution_count": 20,
   "id": "283774f8",
   "metadata": {},
   "outputs": [],
   "source": [
    "def analyse_metal(metal_name: str, step: str):\n",
    "    if step == 'input':\n",
    "        step = 'rougher'\n",
    "        metal_name = '.input.feed_' + metal_name\n",
    "    else:\n",
    "        metal_name = '.output.concentrate_' + metal_name\n",
    "    rougher_mean = train_set_nonan[step + metal_name].mean()\n",
    "    rougher_std = train_set_nonan[step + metal_name].std()\n",
    "    nan_amount = train_set_nonan[step + metal_name].isna().sum()\n",
    "    print(\"_________________\")\n",
    "    print(f\"Этап {step}:\")\n",
    "    print(f'Средняя концентрация {metal_name}: {rougher_mean} +- {rougher_std}')\n",
    "    print(f'Пропусков в столбце: {nan_amount}')\n",
    "    sbs.histplot(train_set_nonan, x=step + metal_name)\n",
    "    plt.title(step + \" step\")\n",
    "    plt.xlabel(\"concentration\")\n",
    "    plt.show()\n",
    "    \n",
    "def cycle_through_steps(metal_name: str):\n",
    "    steps = ['input', 'rougher', 'primary_cleaner', 'final']\n",
    "    for step in steps:\n",
    "        analyse_metal(metal_name, step)"
   ]
  },
  {
   "cell_type": "markdown",
   "id": "dd2e372d",
   "metadata": {},
   "source": [
    "#### Золото"
   ]
  },
  {
   "cell_type": "code",
   "execution_count": 21,
   "id": "8695c9db",
   "metadata": {},
   "outputs": [
    {
     "name": "stdout",
     "output_type": "stream",
     "text": [
      "_________________\n",
      "Этап rougher:\n",
      "Средняя концентрация .input.feed_au: 7.887687591730546 +- 1.8449044835528985\n",
      "Пропусков в столбце: 0\n"
     ]
    },
    {
     "data": {
      "image/png": "[encoded data removed]",
      "text/plain": [
       "<Figure size 432x288 with 1 Axes>"
      ]
     },
     "metadata": {
      "needs_background": "light"
     },
     "output_type": "display_data"
    },
    {
     "name": "stdout",
     "output_type": "stream",
     "text": [
      "_________________\n",
      "Этап rougher:\n",
      "Средняя концентрация .output.concentrate_au: 19.611547102275516 +- 3.5059768108408447\n",
      "Пропусков в столбце: 0\n"
     ]
    },
    {
     "data": {
      "image/png": "[encoded data removed]",
      "text/plain": [
       "<Figure size 432x288 with 1 Axes>"
      ]
     },
     "metadata": {
      "needs_background": "light"
     },
     "output_type": "display_data"
    },
    {
     "name": "stdout",
     "output_type": "stream",
     "text": [
      "_________________\n",
      "Этап primary_cleaner:\n",
      "Средняя концентрация .output.concentrate_au: 32.45419952082138 +- 5.481556754839819\n",
      "Пропусков в столбце: 0\n"
     ]
    },
    {
     "data": {
      "image/png": "[encoded data removed]",
      "text/plain": [
       "<Figure size 432x288 with 1 Axes>"
      ]
     },
     "metadata": {
      "needs_background": "light"
     },
     "output_type": "display_data"
    },
    {
     "name": "stdout",
     "output_type": "stream",
     "text": [
      "_________________\n",
      "Этап final:\n",
      "Средняя концентрация .output.concentrate_au: 44.09227926085609 +- 4.469787149756651\n",
      "Пропусков в столбце: 0\n"
     ]
    },
    {
     "data": {
      "image/png": "[encoded data removed]",
      "text/plain": [
       "<Figure size 432x288 with 1 Axes>"
      ]
     },
     "metadata": {
      "needs_background": "light"
     },
     "output_type": "display_data"
    }
   ],
   "source": [
    "cycle_through_steps('au')"
   ]
  },
  {
   "cell_type": "markdown",
   "id": "d129e290",
   "metadata": {},
   "source": [
    "Наблюдается анамально много нулевых значений. Вероятнее всего при некоторых конфигурациях получается очень мало продукта\n",
    "\n",
    "Концентрация золота ожидаемо растет с каждым этапом.\n",
    "\n",
    "Так же стоит заметить, что при очистке распределение стремится к нормальному"
   ]
  },
  {
   "cell_type": "markdown",
   "id": "2b9d2378",
   "metadata": {},
   "source": [
    "#### Серебро"
   ]
  },
  {
   "cell_type": "code",
   "execution_count": 22,
   "id": "f1ffe242",
   "metadata": {},
   "outputs": [
    {
     "name": "stdout",
     "output_type": "stream",
     "text": [
      "_________________\n",
      "Этап rougher:\n",
      "Средняя концентрация .input.feed_ag: 8.58264518484057 +- 1.886908387511635\n",
      "Пропусков в столбце: 0\n"
     ]
    },
    {
     "data": {
      "image/png": "[encoded data removed]",
      "text/plain": [
       "<Figure size 432x288 with 1 Axes>"
      ]
     },
     "metadata": {
      "needs_background": "light"
     },
     "output_type": "display_data"
    },
    {
     "name": "stdout",
     "output_type": "stream",
     "text": [
      "_________________\n",
      "Этап rougher:\n",
      "Средняя концентрация .output.concentrate_ag: 11.790123117326752 +- 2.5892717832600676\n",
      "Пропусков в столбце: 0\n"
     ]
    },
    {
     "data": {
      "image/png": "[encoded data removed]",
      "text/plain": [
       "<Figure size 432x288 with 1 Axes>"
      ]
     },
     "metadata": {
      "needs_background": "light"
     },
     "output_type": "display_data"
    },
    {
     "name": "stdout",
     "output_type": "stream",
     "text": [
      "_________________\n",
      "Этап primary_cleaner:\n",
      "Средняя концентрация .output.concentrate_ag: 8.248937848529977 +- 1.951048638039553\n",
      "Пропусков в столбце: 0\n"
     ]
    },
    {
     "data": {
      "image/png": "[encoded data removed]",
      "text/plain": [
       "<Figure size 432x288 with 1 Axes>"
      ]
     },
     "metadata": {
      "needs_background": "light"
     },
     "output_type": "display_data"
    },
    {
     "name": "stdout",
     "output_type": "stream",
     "text": [
      "_________________\n",
      "Этап final:\n",
      "Средняя концентрация .output.concentrate_ag: 5.112700973925577 +- 1.3564685210461325\n",
      "Пропусков в столбце: 1\n"
     ]
    },
    {
     "data": {
      "image/png": "[encoded data removed]",
      "text/plain": [
       "<Figure size 432x288 with 1 Axes>"
      ]
     },
     "metadata": {
      "needs_background": "light"
     },
     "output_type": "display_data"
    }
   ],
   "source": [
    "cycle_through_steps('ag')"
   ]
  },
  {
   "cell_type": "markdown",
   "id": "51e14e02",
   "metadata": {},
   "source": [
    "Концентрация серебра наоборот падает"
   ]
  },
  {
   "cell_type": "markdown",
   "id": "5ff7e971",
   "metadata": {},
   "source": [
    "#### Свинец"
   ]
  },
  {
   "cell_type": "code",
   "execution_count": 23,
   "id": "c3e03e65",
   "metadata": {},
   "outputs": [
    {
     "name": "stdout",
     "output_type": "stream",
     "text": [
      "_________________\n",
      "Этап rougher:\n",
      "Средняя концентрация .input.feed_pb: 3.5253779359222235 +- 1.0798228190600996\n",
      "Пропусков в столбце: 0\n"
     ]
    },
    {
     "data": {
      "image/png": "[encoded data removed]",
      "text/plain": [
       "<Figure size 432x288 with 1 Axes>"
      ]
     },
     "metadata": {
      "needs_background": "light"
     },
     "output_type": "display_data"
    },
    {
     "name": "stdout",
     "output_type": "stream",
     "text": [
      "_________________\n",
      "Этап rougher:\n",
      "Средняя концентрация .output.concentrate_pb: 7.7331543874629824 +- 1.7548766699084002\n",
      "Пропусков в столбце: 0\n"
     ]
    },
    {
     "data": {
      "image/png": "[encoded data removed]",
      "text/plain": [
       "<Figure size 432x288 with 1 Axes>"
      ]
     },
     "metadata": {
      "needs_background": "light"
     },
     "output_type": "display_data"
    },
    {
     "name": "stdout",
     "output_type": "stream",
     "text": [
      "_________________\n",
      "Этап primary_cleaner:\n",
      "Средняя концентрация .output.concentrate_pb: 9.624350707566874 +- 2.629372733416603\n",
      "Пропусков в столбце: 66\n"
     ]
    },
    {
     "data": {
      "image/png": "[encoded data removed]",
      "text/plain": [
       "<Figure size 432x288 with 1 Axes>"
      ]
     },
     "metadata": {
      "needs_background": "light"
     },
     "output_type": "display_data"
    },
    {
     "name": "stdout",
     "output_type": "stream",
     "text": [
      "_________________\n",
      "Этап final:\n",
      "Средняя концентрация .output.concentrate_pb: 10.19381035940789 +- 1.6017251540498774\n",
      "Пропусков в столбце: 1\n"
     ]
    },
    {
     "data": {
      "image/png": "[encoded data removed]",
      "text/plain": [
       "<Figure size 432x288 with 1 Axes>"
      ]
     },
     "metadata": {
      "needs_background": "light"
     },
     "output_type": "display_data"
    }
   ],
   "source": [
    "cycle_through_steps('pb')"
   ]
  },
  {
   "cell_type": "markdown",
   "id": "1be955c0",
   "metadata": {},
   "source": [
    "Концентрация свинца растет"
   ]
  },
  {
   "cell_type": "markdown",
   "id": "ac6b3bd7",
   "metadata": {},
   "source": [
    "**Выводы**: Концентрация золота и свинца с каждым этапом растет, концентрация серебра падает. Есть много примеров, где концентрация близка (или равна) нулю."
   ]
  },
  {
   "cell_type": "markdown",
   "id": "a0508cdf",
   "metadata": {},
   "source": [
    "### Распределение размеров гранул"
   ]
  },
  {
   "cell_type": "code",
   "execution_count": 24,
   "id": "d1cf9799",
   "metadata": {},
   "outputs": [],
   "source": [
    "def size_hist(df_train, df_test, step: str, x_range: list = [20, 120]):\n",
    "    sbs.histplot(df_train, x=step + '.input.feed_size', color='blue', alpha=0.5, label='train set', stat='density')\n",
    "    sbs.histplot(df_test, x=step + '.input.feed_size', color='red', alpha=0.5, label='test set', stat='density')\n",
    "    plt.xlim(x_range)\n",
    "    plt.grid()\n",
    "    plt.legend()"
   ]
  },
  {
   "cell_type": "markdown",
   "id": "b7a49b85",
   "metadata": {},
   "source": [
    "### Этап флотации"
   ]
  },
  {
   "cell_type": "code",
   "execution_count": 25,
   "id": "d656dbbd",
   "metadata": {},
   "outputs": [
    {
     "data": {
      "image/png": "[encoded data removed]",
      "text/plain": [
       "<Figure size 432x288 with 1 Axes>"
      ]
     },
     "metadata": {
      "needs_background": "light"
     },
     "output_type": "display_data"
    }
   ],
   "source": [
    "size_hist(train_set_nonan, test_set_nonan, 'rougher')"
   ]
  },
  {
   "cell_type": "markdown",
   "id": "54ac92a8",
   "metadata": {},
   "source": [
    "Распределения отличаются, но незначительно."
   ]
  },
  {
   "cell_type": "markdown",
   "id": "d6d94ffb",
   "metadata": {},
   "source": [
    "### Этап первичной очистки"
   ]
  },
  {
   "cell_type": "code",
   "execution_count": 26,
   "id": "33077a36",
   "metadata": {},
   "outputs": [
    {
     "data": {
      "image/png": "[encoded data removed]",
      "text/plain": [
       "<Figure size 432x288 with 1 Axes>"
      ]
     },
     "metadata": {
      "needs_background": "light"
     },
     "output_type": "display_data"
    }
   ],
   "source": [
    "size_hist(train_set_nonan, test_set_nonan, 'primary_cleaner', [5, 10])"
   ]
  },
  {
   "cell_type": "markdown",
   "id": "c0ae6564",
   "metadata": {},
   "source": [
    "Распределения на этом этапе практически идентичны"
   ]
  },
  {
   "cell_type": "markdown",
   "id": "0eef6fa6",
   "metadata": {},
   "source": [
    "### Суммарная концентрация"
   ]
  },
  {
   "cell_type": "code",
   "execution_count": 27,
   "id": "8b8dfa9e",
   "metadata": {},
   "outputs": [],
   "source": [
    "def calculate_sum(step: str):\n",
    "    print(f\"Этап {step}\")\n",
    "    if step == 'input':\n",
    "        step = 'rougher.input.feed_'\n",
    "    else:\n",
    "        step += '.output.concentrate_'\n",
    "    concentration_sum = train_set_nonan[[step + 'au', step + 'ag', step + 'pb', step + 'sol']].sum(axis=1)\n",
    "    print(f'Среднее значение: {concentration_sum.mean()} +- {concentration_sum.std()}')\n",
    "    sbs.histplot(concentration_sum)\n",
    "    plt.title('Sum concentration')"
   ]
  },
  {
   "cell_type": "markdown",
   "id": "466232d2",
   "metadata": {},
   "source": [
    "#### Сырая концентрация"
   ]
  },
  {
   "cell_type": "code",
   "execution_count": 28,
   "id": "5c599da8",
   "metadata": {},
   "outputs": [
    {
     "name": "stdout",
     "output_type": "stream",
     "text": [
      "Этап input\n",
      "Среднее значение: 56.38899688601989 +- 6.765005062839049\n"
     ]
    },
    {
     "data": {
      "image/png": "[encoded data removed]",
      "text/plain": [
       "<Figure size 432x288 with 1 Axes>"
      ]
     },
     "metadata": {
      "needs_background": "light"
     },
     "output_type": "display_data"
    }
   ],
   "source": [
    "calculate_sum('input')"
   ]
  },
  {
   "cell_type": "markdown",
   "id": "95270636",
   "metadata": {},
   "source": [
    "#### Черновая концентрация"
   ]
  },
  {
   "cell_type": "code",
   "execution_count": 29,
   "id": "fe48aa35",
   "metadata": {},
   "outputs": [
    {
     "name": "stdout",
     "output_type": "stream",
     "text": [
      "Этап rougher\n",
      "Среднее значение: 67.58261383846909 +- 11.888300085478823\n"
     ]
    },
    {
     "data": {
      "image/png": "[encoded data removed]",
      "text/plain": [
       "<Figure size 432x288 with 1 Axes>"
      ]
     },
     "metadata": {
      "needs_background": "light"
     },
     "output_type": "display_data"
    }
   ],
   "source": [
    "calculate_sum('rougher')"
   ]
  },
  {
   "cell_type": "markdown",
   "id": "69f5cf9d",
   "metadata": {},
   "source": [
    "#### Финальная концентрация"
   ]
  },
  {
   "cell_type": "code",
   "execution_count": 30,
   "id": "0b450c52",
   "metadata": {},
   "outputs": [
    {
     "name": "stdout",
     "output_type": "stream",
     "text": [
      "Этап final\n",
      "Среднее значение: 68.5778640910366 +- 6.420816897156155\n"
     ]
    },
    {
     "data": {
      "image/png": "[encoded data removed]",
      "text/plain": [
       "<Figure size 432x288 with 1 Axes>"
      ]
     },
     "metadata": {
      "needs_background": "light"
     },
     "output_type": "display_data"
    }
   ],
   "source": [
    "calculate_sum('final')"
   ]
  },
  {
   "cell_type": "markdown",
   "id": "7cd9c3b0",
   "metadata": {},
   "source": [
    "Концентрация выросла после флотации. Средняя финальная концентрация не сильно отличается от среднего концентрации после флотации, однако уменьшилась стандартное отклонение (Результат сходится к среднему значению 68,5%)\n",
    "\n",
    "Стоит обратить внимание на нулевые значения: крайне маловероятно что концетрация всех металлов сразу будет равна нулю, поэтому следует удалить примеры с нулевой общей концентрацией"
   ]
  },
  {
   "cell_type": "code",
   "execution_count": 31,
   "id": "df9b9b88",
   "metadata": {},
   "outputs": [
    {
     "data": {
      "text/plain": [
       "(12469, 87)"
      ]
     },
     "execution_count": 31,
     "metadata": {},
     "output_type": "execute_result"
    }
   ],
   "source": [
    "sum_of_metals_rougher = train_set_nonan[['rougher.output.concentrate_au',\n",
    "                                 'rougher.output.concentrate_ag',\n",
    "                                 'rougher.output.concentrate_pb',\n",
    "                                 'rougher.output.concentrate_sol']].sum(axis=1)\n",
    "train_set_nonan = train_set_nonan[sum_of_metals_rougher != 0]\n",
    "train_set_nonan.shape"
   ]
  },
  {
   "cell_type": "code",
   "execution_count": 32,
   "id": "24e8a337",
   "metadata": {},
   "outputs": [
    {
     "data": {
      "text/plain": [
       "(12434, 87)"
      ]
     },
     "execution_count": 32,
     "metadata": {},
     "output_type": "execute_result"
    }
   ],
   "source": [
    "sum_of_metals_final = train_set_nonan[['final.output.concentrate_au',\n",
    "                                 'final.output.concentrate_ag',\n",
    "                                 'final.output.concentrate_pb',\n",
    "                                 'final.output.concentrate_sol']].sum(axis=1)\n",
    "train_set_nonan = train_set_nonan[sum_of_metals_final != 0]\n",
    "train_set_nonan.shape"
   ]
  },
  {
   "cell_type": "code",
   "execution_count": 33,
   "id": "5c16658a",
   "metadata": {},
   "outputs": [
    {
     "name": "stdout",
     "output_type": "stream",
     "text": [
      "Этап rougher\n",
      "Среднее значение: 68.7203607412444 +- 8.076544782197486\n"
     ]
    },
    {
     "data": {
      "image/png": "[encoded data removed]",
      "text/plain": [
       "<Figure size 432x288 with 1 Axes>"
      ]
     },
     "metadata": {
      "needs_background": "light"
     },
     "output_type": "display_data"
    }
   ],
   "source": [
    "calculate_sum('rougher')"
   ]
  },
  {
   "cell_type": "code",
   "execution_count": 34,
   "id": "91f599fd",
   "metadata": {},
   "outputs": [
    {
     "name": "stdout",
     "output_type": "stream",
     "text": [
      "Этап final\n",
      "Среднее значение: 68.77973922151736 +- 5.215055891184526\n"
     ]
    },
    {
     "data": {
      "image/png": "[encoded data removed]",
      "text/plain": [
       "<Figure size 432x288 with 1 Axes>"
      ]
     },
     "metadata": {
      "needs_background": "light"
     },
     "output_type": "display_data"
    }
   ],
   "source": [
    "calculate_sum('final')"
   ]
  },
  {
   "cell_type": "markdown",
   "id": "2f3f453d",
   "metadata": {},
   "source": [
    "## Обучение модели"
   ]
  },
  {
   "cell_type": "markdown",
   "id": "f46d1bd2",
   "metadata": {},
   "source": [
    "### sMAPE"
   ]
  },
  {
   "cell_type": "code",
   "execution_count": 35,
   "id": "8a179520",
   "metadata": {},
   "outputs": [],
   "source": [
    "def sMAPE(y_true, y_pred):\n",
    "    y_true = y_true.to_numpy()\n",
    "    y_true += 0.0001 # Для случаев, когда предсказание = истинное значение = 0\n",
    "    y_pred += 0.0001\n",
    "    result = 25 / y_true.shape[0] * (np.abs(y_true[:,0] - y_pred[:,0]) / (np.abs(y_true[:,0]) + np.abs(y_pred[:,0]))).sum() * 2\n",
    "    result += 75 / y_true.shape[0] * (np.abs(y_true[:,1] - y_pred[:,1]) / (np.abs(y_true[:,1]) + np.abs(y_pred[:,1]))).sum() * 2\n",
    "    return result\n",
    "\n",
    "sMAPE_score = make_scorer(sMAPE, greater_is_better=False)"
   ]
  },
  {
   "cell_type": "markdown",
   "id": "88a6badc",
   "metadata": {},
   "source": [
    "### Выделение целевого признака"
   ]
  },
  {
   "cell_type": "code",
   "execution_count": 36,
   "id": "f3e66e43",
   "metadata": {},
   "outputs": [
    {
     "data": {
      "text/plain": [
       "(12434, 52)"
      ]
     },
     "execution_count": 36,
     "metadata": {},
     "output_type": "execute_result"
    }
   ],
   "source": [
    "X_train = train_set_nonan[test_set_nonan.columns].drop('date', axis=1)\n",
    "y_train = train_set_nonan[['rougher.output.recovery', 'final.output.recovery']]\n",
    "X_train.shape"
   ]
  },
  {
   "cell_type": "code",
   "execution_count": 37,
   "id": "392d7df8",
   "metadata": {},
   "outputs": [],
   "source": [
    "X_train, y_train = shuffle(X_train, y_train, random_state=42)"
   ]
  },
  {
   "cell_type": "code",
   "execution_count": 38,
   "id": "d4f11e65",
   "metadata": {},
   "outputs": [
    {
     "data": {
      "text/plain": [
       "(5229, 87)"
      ]
     },
     "execution_count": 38,
     "metadata": {},
     "output_type": "execute_result"
    }
   ],
   "source": [
    "diff_in_columns = (train_set.columns.difference(test_set.columns)).append(pd.Index(['date']))\n",
    "test_set_full = test_set_nonan.merge(right=full_set[diff_in_columns], on='date')\n",
    "test_set_full.shape\n"
   ]
  },
  {
   "cell_type": "code",
   "execution_count": 39,
   "id": "511f81e3",
   "metadata": {},
   "outputs": [
    {
     "data": {
      "text/plain": [
       "(5229, 52)"
      ]
     },
     "execution_count": 39,
     "metadata": {},
     "output_type": "execute_result"
    }
   ],
   "source": [
    "X_test = test_set_full[test_set_nonan.columns].drop('date', axis=1)\n",
    "y_test = test_set_full[['rougher.output.recovery', 'final.output.recovery']]\n",
    "X_test.shape"
   ]
  },
  {
   "cell_type": "code",
   "execution_count": 34,
   "id": "ffe798eb",
   "metadata": {},
   "outputs": [],
   "source": [
    "#X_train, X_test, y_train, y_test = train_test_split(X, y, test_size=0.25, random_state=42)"
   ]
  },
  {
   "cell_type": "markdown",
   "id": "71cf1c3d",
   "metadata": {},
   "source": [
    "### Скейлинг"
   ]
  },
  {
   "cell_type": "markdown",
   "id": "af6e419f",
   "metadata": {},
   "source": [
    "Проведем скалирование данных"
   ]
  },
  {
   "cell_type": "code",
   "execution_count": 38,
   "id": "365963e8",
   "metadata": {},
   "outputs": [],
   "source": [
    "#scaler = StandardScaler().fit(X_train)"
   ]
  },
  {
   "cell_type": "code",
   "execution_count": 39,
   "id": "7fcf2b97",
   "metadata": {},
   "outputs": [],
   "source": [
    "#X_train = scaler.transform(X_train)"
   ]
  },
  {
   "cell_type": "code",
   "execution_count": 40,
   "id": "9f186c15",
   "metadata": {},
   "outputs": [],
   "source": [
    "#X_test = scaler.transform(X_test)"
   ]
  },
  {
   "cell_type": "markdown",
   "id": "71adaf9b",
   "metadata": {},
   "source": [
    "### Выбор модели"
   ]
  },
  {
   "cell_type": "markdown",
   "id": "5e3c6113",
   "metadata": {},
   "source": [
    "Необходимо решить задачу регрессии. Проверим несколько моделей. Для проверки адекватности и для сравнения, сначала сделаем дамми модель"
   ]
  },
  {
   "cell_type": "markdown",
   "id": "35548205",
   "metadata": {},
   "source": [
    "#### Dummy model"
   ]
  },
  {
   "cell_type": "code",
   "execution_count": 42,
   "id": "33219113",
   "metadata": {},
   "outputs": [
    {
     "data": {
      "text/plain": [
       "8.934382291454998"
      ]
     },
     "execution_count": 42,
     "metadata": {},
     "output_type": "execute_result"
    }
   ],
   "source": [
    "model = DummyRegressor().fit(X_train, y_train)\n",
    "score = cross_val_score(model, X_train, y_train, scoring=sMAPE_score)\n",
    "abs(score.mean())"
   ]
  },
  {
   "cell_type": "markdown",
   "id": "a757776d",
   "metadata": {},
   "source": [
    "#### Linear regression"
   ]
  },
  {
   "cell_type": "code",
   "execution_count": 43,
   "id": "841e8dc8",
   "metadata": {},
   "outputs": [
    {
     "data": {
      "text/plain": [
       "6.686499507337272"
      ]
     },
     "execution_count": 43,
     "metadata": {},
     "output_type": "execute_result"
    }
   ],
   "source": [
    "model = LinearRegression()\n",
    "\n",
    "score = cross_val_score(model, X_train, y_train, scoring=sMAPE_score)\n",
    "abs(score.mean())"
   ]
  },
  {
   "cell_type": "markdown",
   "id": "77ed7d43",
   "metadata": {},
   "source": [
    "#### Decision tree"
   ]
  },
  {
   "cell_type": "code",
   "execution_count": 44,
   "id": "783b1440",
   "metadata": {},
   "outputs": [
    {
     "name": "stdout",
     "output_type": "stream",
     "text": [
      "CPU times: user 40.4 s, sys: 31.6 ms, total: 40.5 s\n",
      "Wall time: 40.6 s\n"
     ]
    }
   ],
   "source": [
    "%%time\n",
    "\n",
    "model = DecisionTreeRegressor(random_state=42)\n",
    "\n",
    "parameters = {'max_depth': [i for i in range(1, 20)]}\n",
    "\n",
    "regr_tree = GridSearchCV(estimator=model, param_grid=parameters, scoring=sMAPE_score).fit(X_train, y_train)"
   ]
  },
  {
   "cell_type": "code",
   "execution_count": 45,
   "id": "1f79dca4",
   "metadata": {},
   "outputs": [
    {
     "data": {
      "text/plain": [
       "5.9780273935688015"
      ]
     },
     "execution_count": 45,
     "metadata": {},
     "output_type": "execute_result"
    }
   ],
   "source": [
    "np.abs(regr_tree.best_score_)"
   ]
  },
  {
   "cell_type": "code",
   "execution_count": 46,
   "id": "f830d976",
   "metadata": {},
   "outputs": [
    {
     "data": {
      "text/plain": [
       "{'max_depth': 11}"
      ]
     },
     "execution_count": 46,
     "metadata": {},
     "output_type": "execute_result"
    }
   ],
   "source": [
    "regr_tree.best_params_"
   ]
  },
  {
   "cell_type": "markdown",
   "id": "5dc19d63",
   "metadata": {},
   "source": [
    "#### Random Forest"
   ]
  },
  {
   "cell_type": "code",
   "execution_count": 47,
   "id": "e75ad2c0",
   "metadata": {},
   "outputs": [
    {
     "name": "stdout",
     "output_type": "stream",
     "text": [
      "CPU times: user 2min 8s, sys: 157 ms, total: 2min 8s\n",
      "Wall time: 2min 8s\n"
     ]
    }
   ],
   "source": [
    "%%time\n",
    "\n",
    "model = RandomForestRegressor(random_state=42, max_depth = 11)\n",
    "\n",
    "parameters = {'n_estimators': [i for i in range(10, 60, 10)]}\n",
    "\n",
    "regr_forest = GridSearchCV(estimator=model, param_grid=parameters, scoring=sMAPE_score, cv=3).fit(X_train, y_train)"
   ]
  },
  {
   "cell_type": "code",
   "execution_count": 48,
   "id": "6617b04c",
   "metadata": {},
   "outputs": [
    {
     "data": {
      "text/plain": [
       "5.0856058512825895"
      ]
     },
     "execution_count": 48,
     "metadata": {},
     "output_type": "execute_result"
    }
   ],
   "source": [
    "np.abs(regr_forest.best_score_)"
   ]
  },
  {
   "cell_type": "code",
   "execution_count": 49,
   "id": "0f8f8f43",
   "metadata": {},
   "outputs": [
    {
     "data": {
      "text/plain": [
       "{'n_estimators': 50}"
      ]
     },
     "execution_count": 49,
     "metadata": {},
     "output_type": "execute_result"
    }
   ],
   "source": [
    "regr_forest.best_params_"
   ]
  },
  {
   "cell_type": "code",
   "execution_count": 50,
   "id": "11967531",
   "metadata": {},
   "outputs": [
    {
     "data": {
      "text/plain": [
       "array([-5.24080334, -5.13780536, -5.10327178, -5.09854617, -5.08560585])"
      ]
     },
     "execution_count": 50,
     "metadata": {},
     "output_type": "execute_result"
    }
   ],
   "source": [
    "regr_forest.cv_results_['mean_test_score']"
   ]
  },
  {
   "cell_type": "markdown",
   "id": "e90ff9ea",
   "metadata": {},
   "source": [
    "Для оптимизации выберем n_estimators = 50. На всякий случай попробуем увеличить максимальную глубину"
   ]
  },
  {
   "cell_type": "code",
   "execution_count": 55,
   "id": "42b79d3a",
   "metadata": {},
   "outputs": [
    {
     "name": "stdout",
     "output_type": "stream",
     "text": [
      "CPU times: user 6min 5s, sys: 508 ms, total: 6min 5s\n",
      "Wall time: 6min 7s\n"
     ]
    }
   ],
   "source": [
    "%%time\n",
    "\n",
    "model = RandomForestRegressor(random_state=42, n_estimators=50)\n",
    "\n",
    "parameters = {'max_depth': [i for i in range(11, 42, 5)]}\n",
    "\n",
    "regr_forest = GridSearchCV(estimator=model, param_grid=parameters, scoring=sMAPE_score, cv=3).fit(X_train, y_train)"
   ]
  },
  {
   "cell_type": "code",
   "execution_count": 56,
   "id": "7b19b0e0",
   "metadata": {},
   "outputs": [
    {
     "data": {
      "text/plain": [
       "4.644464316649905"
      ]
     },
     "execution_count": 56,
     "metadata": {},
     "output_type": "execute_result"
    }
   ],
   "source": [
    "np.abs(regr_forest.best_score_)"
   ]
  },
  {
   "cell_type": "code",
   "execution_count": 57,
   "id": "314da0c3",
   "metadata": {},
   "outputs": [
    {
     "data": {
      "text/plain": [
       "{'max_depth': 26}"
      ]
     },
     "execution_count": 57,
     "metadata": {},
     "output_type": "execute_result"
    }
   ],
   "source": [
    "regr_forest.best_params_"
   ]
  },
  {
   "cell_type": "code",
   "execution_count": 58,
   "id": "54927a00",
   "metadata": {},
   "outputs": [
    {
     "data": {
      "text/plain": [
       "array([-5.08560585, -4.73907905, -4.66694507, -4.64446432, -4.65301009,\n",
       "       -4.65377214, -4.65281191])"
      ]
     },
     "execution_count": 58,
     "metadata": {},
     "output_type": "execute_result"
    }
   ],
   "source": [
    "regr_forest.cv_results_['mean_test_score']"
   ]
  },
  {
   "cell_type": "markdown",
   "id": "b54da882",
   "metadata": {},
   "source": [
    "#### Gradient boosting"
   ]
  },
  {
   "cell_type": "markdown",
   "id": "20a24e37",
   "metadata": {},
   "source": [
    "Для быстроты, проверим градиентный бустинг с использыванием лучшей max_depth из предыдущих моделей"
   ]
  },
  {
   "cell_type": "code",
   "execution_count": 59,
   "id": "b392ebe2",
   "metadata": {},
   "outputs": [
    {
     "name": "stdout",
     "output_type": "stream",
     "text": [
      "CPU times: user 7min 41s, sys: 292 ms, total: 7min 42s\n",
      "Wall time: 7min 43s\n"
     ]
    }
   ],
   "source": [
    "%%time\n",
    "\n",
    "model = GradientBoostingRegressor(random_state=42,\n",
    "                                  n_estimators=200,\n",
    "                                  learning_rate=0.05,\n",
    "                                  max_depth=11\n",
    "                                  )\n",
    "estimator = MultiOutputRegressor(model)\n",
    "\n",
    "score_11 = cross_val_score(estimator, X_train, y_train, cv=3, scoring=sMAPE_score)"
   ]
  },
  {
   "cell_type": "code",
   "execution_count": 63,
   "id": "09d594f7",
   "metadata": {},
   "outputs": [
    {
     "data": {
      "text/plain": [
       "4.606442650364724"
      ]
     },
     "execution_count": 63,
     "metadata": {},
     "output_type": "execute_result"
    }
   ],
   "source": [
    "np.abs(score_11).mean()"
   ]
  },
  {
   "cell_type": "code",
   "execution_count": 64,
   "id": "640b06cb",
   "metadata": {},
   "outputs": [
    {
     "name": "stdout",
     "output_type": "stream",
     "text": [
      "CPU times: user 10min 45s, sys: 1.99 s, total: 10min 47s\n",
      "Wall time: 10min 47s\n"
     ]
    }
   ],
   "source": [
    "%%time\n",
    "\n",
    "model = GradientBoostingRegressor(random_state=42,\n",
    "                                  n_estimators=200,\n",
    "                                  learning_rate=0.05,\n",
    "                                  max_depth=26\n",
    "                                  )\n",
    "estimator = MultiOutputRegressor(model)\n",
    "\n",
    "score_26 = cross_val_score(estimator, X_train, y_train, cv=3, scoring=sMAPE_score)"
   ]
  },
  {
   "cell_type": "code",
   "execution_count": 65,
   "id": "fb848fff",
   "metadata": {},
   "outputs": [
    {
     "data": {
      "text/plain": [
       "6.015238541766679"
      ]
     },
     "execution_count": 65,
     "metadata": {},
     "output_type": "execute_result"
    }
   ],
   "source": [
    "np.abs(score_26).mean()"
   ]
  },
  {
   "cell_type": "markdown",
   "id": "5fca702c",
   "metadata": {},
   "source": [
    "### Проверка на тестовом множестве"
   ]
  },
  {
   "cell_type": "markdown",
   "id": "9923be06",
   "metadata": {},
   "source": [
    "Самой лучше моделью оказалась модель градиентного бустинга с max_depth = 11. Проверим модель на тестовом множестве"
   ]
  },
  {
   "cell_type": "code",
   "execution_count": 67,
   "id": "da123ff6",
   "metadata": {},
   "outputs": [
    {
     "name": "stdout",
     "output_type": "stream",
     "text": [
      "CPU times: user 4min 13s, sys: 512 ms, total: 4min 14s\n",
      "Wall time: 4min 14s\n"
     ]
    }
   ],
   "source": [
    "%%time\n",
    "\n",
    "model =  GradientBoostingRegressor(random_state=42,\n",
    "                                  n_estimators=200,\n",
    "                                  learning_rate=0.05,\n",
    "                                  max_depth=11\n",
    "                                  )\n",
    "final_model = MultiOutputRegressor(model).fit(X_train, y_train)"
   ]
  },
  {
   "cell_type": "code",
   "execution_count": 72,
   "id": "65d9c676",
   "metadata": {},
   "outputs": [
    {
     "data": {
      "text/plain": [
       "array([[ 0.496352  ,  1.03339066],\n",
       "       [ 1.64288338,  0.74818187],\n",
       "       [ 0.50566383,  0.36645403],\n",
       "       [ 1.13605568,  2.1513871 ],\n",
       "       [ 1.98683835,  7.38756009],\n",
       "       [ 4.15481547, 10.53013705],\n",
       "       [ 1.27494598, 11.83808868],\n",
       "       [ 4.32903028,  5.79707189],\n",
       "       [ 4.64859081,  5.15773825],\n",
       "       [ 2.05309162,  6.45818208]])"
      ]
     },
     "execution_count": 72,
     "metadata": {},
     "output_type": "execute_result"
    }
   ],
   "source": [
    "predictions = final_model.predict(X_test)\n",
    "np.abs(y_test.to_numpy()[:10] - predictions[:10]) # Для доп наглядности посмотрим на абсолютную ошибку"
   ]
  },
  {
   "cell_type": "code",
   "execution_count": 73,
   "id": "1b013bf8",
   "metadata": {},
   "outputs": [
    {
     "name": "stdout",
     "output_type": "stream",
     "text": [
      "sMAPE метрика на тестовом наборе: 8.69\n"
     ]
    }
   ],
   "source": [
    "print(f'sMAPE метрика на тестовом наборе: {sMAPE(y_test, predictions):.2f}')"
   ]
  },
  {
   "cell_type": "markdown",
   "id": "3b967720",
   "metadata": {},
   "source": [
    "К сожалению, на тестовой выборке качество модели сильно проседает. Вероятнее всего это связано с тем, что тестовая выборке несколько отличается по распределению от тренировочной."
   ]
  },
  {
   "cell_type": "markdown",
   "id": "9753a32a",
   "metadata": {},
   "source": [
    "## Выводы"
   ]
  },
  {
   "cell_type": "markdown",
   "id": "93953d27",
   "metadata": {},
   "source": [
    "В процессе работы были:\n",
    " - Выполнена подготовка данных:\n",
    "     - Загружены данные\n",
    "     - Выполнена проверка оценки эффективности обогащения. Оценка в датасете верная\n",
    "     - Проанализированы недоступные в тестовой выборке признаки. Недоступны все резуьтаты обработки руды вместе с целевыми признаками\n",
    "     - Выполнена предобработка данных (удалены пропуски и ненужный столбец date)\n",
    " - Проведен анализ данных:\n",
    "    - Изучено распределение концентратов различных металлов на всех этапах. Концетрация золота и свинца в среднем возрастает, а концентрация серебра - падает\n",
    "    - Изучены распределения размеров гранул тестовой и тренировочной выборок. Распределения не сильно отличаются\n",
    "    - Изучены распределения суммарной концентрации металлов на всех этапах. После флотации концентрация в среднем возрастает, далее остается примерно постоянной. Удалены примеры с нулевыми значениями суммарной концентрации\n",
    " - Проведено обучение модели:\n",
    "     - Написана функция метрики sMAPE\n",
    "     - Выделены таргет признаки\n",
    "     - выбрана модель градиентного бустинга\n",
    "     - модель успешно протестирована на тестовом наборе данных"
   ]
  },
  {
   "cell_type": "code",
   "execution_count": null,
   "id": "4163e71d",
   "metadata": {},
   "outputs": [],
   "source": []
  }
 ],
 "metadata": {
  "ExecuteTimeLog": [
   {
    "duration": 0,
    "start_time": "2023-01-25T07:02:51.346Z"
   },
   {
    "duration": 9,
    "start_time": "2023-01-25T07:02:56.889Z"
   },
   {
    "duration": 5,
    "start_time": "2023-01-25T07:03:04.596Z"
   },
   {
    "duration": 47,
    "start_time": "2023-01-26T07:01:27.243Z"
   },
   {
    "duration": 2044,
    "start_time": "2023-01-26T07:01:33.647Z"
   },
   {
    "duration": 3329,
    "start_time": "2023-01-26T07:01:35.693Z"
   },
   {
    "duration": 25,
    "start_time": "2023-01-26T07:01:39.024Z"
   },
   {
    "duration": 16,
    "start_time": "2023-01-26T07:01:39.050Z"
   },
   {
    "duration": 223,
    "start_time": "2023-01-26T07:01:39.067Z"
   },
   {
    "duration": 19,
    "start_time": "2023-01-26T07:01:39.292Z"
   },
   {
    "duration": 12,
    "start_time": "2023-01-26T07:01:40.466Z"
   },
   {
    "duration": 119,
    "start_time": "2023-01-26T07:01:41.786Z"
   },
   {
    "duration": 20,
    "start_time": "2023-01-26T07:01:42.076Z"
   },
   {
    "duration": 17,
    "start_time": "2023-01-26T07:01:42.215Z"
   },
   {
    "duration": 244,
    "start_time": "2023-01-26T07:01:43.376Z"
   },
   {
    "duration": 6,
    "start_time": "2023-01-26T07:01:44.106Z"
   },
   {
    "duration": 5,
    "start_time": "2023-01-26T07:01:45.836Z"
   },
   {
    "duration": 5,
    "start_time": "2023-01-26T07:01:52.990Z"
   },
   {
    "duration": 132,
    "start_time": "2023-01-26T07:02:06.876Z"
   },
   {
    "duration": 4,
    "start_time": "2023-01-26T07:02:10.666Z"
   },
   {
    "duration": 69,
    "start_time": "2023-01-26T07:02:14.646Z"
   },
   {
    "duration": 9,
    "start_time": "2023-01-26T07:02:18.746Z"
   },
   {
    "duration": 6,
    "start_time": "2023-01-26T07:02:23.776Z"
   },
   {
    "duration": 79,
    "start_time": "2023-01-26T07:02:31.896Z"
   },
   {
    "duration": 5,
    "start_time": "2023-01-26T07:02:37.285Z"
   },
   {
    "duration": 8,
    "start_time": "2023-01-26T07:04:26.188Z"
   },
   {
    "duration": 5,
    "start_time": "2023-01-26T07:04:32.367Z"
   },
   {
    "duration": 38,
    "start_time": "2023-01-26T07:08:00.991Z"
   },
   {
    "duration": 16,
    "start_time": "2023-01-26T07:08:02.211Z"
   },
   {
    "duration": 43,
    "start_time": "2023-01-26T07:08:02.361Z"
   },
   {
    "duration": 109,
    "start_time": "2023-01-26T07:08:16.181Z"
   },
   {
    "duration": 20,
    "start_time": "2023-01-26T07:08:17.431Z"
   },
   {
    "duration": 11,
    "start_time": "2023-01-26T07:08:17.971Z"
   },
   {
    "duration": 30,
    "start_time": "2023-01-26T07:08:32.882Z"
   },
   {
    "duration": 17,
    "start_time": "2023-01-26T07:08:34.029Z"
   },
   {
    "duration": 38,
    "start_time": "2023-01-26T07:08:34.261Z"
   },
   {
    "duration": 100,
    "start_time": "2023-01-26T07:08:38.901Z"
   },
   {
    "duration": 24,
    "start_time": "2023-01-26T07:08:39.270Z"
   },
   {
    "duration": 5,
    "start_time": "2023-01-26T07:08:45.781Z"
   },
   {
    "duration": 958,
    "start_time": "2023-01-26T07:08:48.091Z"
   },
   {
    "duration": 823,
    "start_time": "2023-01-26T07:08:52.001Z"
   },
   {
    "duration": 679,
    "start_time": "2023-01-26T07:08:56.672Z"
   },
   {
    "duration": 6,
    "start_time": "2023-01-26T07:10:43.734Z"
   },
   {
    "duration": 22,
    "start_time": "2023-01-26T07:10:47.903Z"
   },
   {
    "duration": 5,
    "start_time": "2023-01-26T07:11:30.155Z"
   },
   {
    "duration": 960,
    "start_time": "2023-01-26T07:11:31.835Z"
   },
   {
    "duration": 5,
    "start_time": "2023-01-26T07:11:45.495Z"
   },
   {
    "duration": 761,
    "start_time": "2023-01-26T07:11:46.844Z"
   },
   {
    "duration": 5,
    "start_time": "2023-01-26T07:12:05.655Z"
   },
   {
    "duration": 1180,
    "start_time": "2023-01-26T07:12:08.474Z"
   },
   {
    "duration": 893,
    "start_time": "2023-01-26T07:12:35.605Z"
   },
   {
    "duration": 1010,
    "start_time": "2023-01-26T07:12:42.925Z"
   },
   {
    "duration": 4,
    "start_time": "2023-01-26T07:12:51.035Z"
   },
   {
    "duration": 1013,
    "start_time": "2023-01-26T07:12:52.870Z"
   },
   {
    "duration": 519,
    "start_time": "2023-01-26T07:12:53.935Z"
   },
   {
    "duration": 5,
    "start_time": "2023-01-26T07:13:00.115Z"
   },
   {
    "duration": 278,
    "start_time": "2023-01-26T07:13:01.425Z"
   },
   {
    "duration": 287,
    "start_time": "2023-01-26T07:13:02.917Z"
   },
   {
    "duration": 599,
    "start_time": "2023-01-26T07:13:04.445Z"
   },
   {
    "duration": 10,
    "start_time": "2023-01-26T07:16:53.219Z"
   },
   {
    "duration": 19,
    "start_time": "2023-01-26T07:18:13.500Z"
   },
   {
    "duration": 10,
    "start_time": "2023-01-26T07:19:10.862Z"
   },
   {
    "duration": 9,
    "start_time": "2023-01-26T07:19:27.632Z"
   },
   {
    "duration": 10,
    "start_time": "2023-01-26T07:21:30.232Z"
   },
   {
    "duration": 4,
    "start_time": "2023-01-26T07:21:54.159Z"
   },
   {
    "duration": 245,
    "start_time": "2023-01-26T07:21:54.743Z"
   },
   {
    "duration": 255,
    "start_time": "2023-01-26T07:21:56.343Z"
   },
   {
    "duration": 525,
    "start_time": "2023-01-26T07:22:00.053Z"
   },
   {
    "duration": 9,
    "start_time": "2023-01-26T07:22:08.132Z"
   },
   {
    "duration": 9,
    "start_time": "2023-01-26T07:22:08.493Z"
   },
   {
    "duration": 265,
    "start_time": "2023-01-26T07:22:16.083Z"
   },
   {
    "duration": 420,
    "start_time": "2023-01-26T07:22:22.714Z"
   },
   {
    "duration": 4,
    "start_time": "2023-01-26T07:22:34.496Z"
   },
   {
    "duration": 14,
    "start_time": "2023-01-26T07:24:29.066Z"
   },
   {
    "duration": 14,
    "start_time": "2023-01-26T07:24:33.178Z"
   },
   {
    "duration": 14,
    "start_time": "2023-01-26T07:24:36.085Z"
   },
   {
    "duration": 9,
    "start_time": "2023-01-26T07:24:40.767Z"
   },
   {
    "duration": 27,
    "start_time": "2023-01-26T07:25:52.396Z"
   },
   {
    "duration": 44,
    "start_time": "2023-01-26T07:26:23.947Z"
   },
   {
    "duration": 6,
    "start_time": "2023-01-26T07:27:06.462Z"
   },
   {
    "duration": 717,
    "start_time": "2023-01-26T07:27:06.976Z"
   },
   {
    "duration": 19,
    "start_time": "2023-01-26T07:27:07.695Z"
   },
   {
    "duration": 20,
    "start_time": "2023-01-26T07:27:07.715Z"
   },
   {
    "duration": 221,
    "start_time": "2023-01-26T07:27:07.736Z"
   },
   {
    "duration": 19,
    "start_time": "2023-01-26T07:27:07.959Z"
   },
   {
    "duration": 11,
    "start_time": "2023-01-26T07:27:07.996Z"
   },
   {
    "duration": 126,
    "start_time": "2023-01-26T07:27:08.147Z"
   },
   {
    "duration": 21,
    "start_time": "2023-01-26T07:27:08.437Z"
   },
   {
    "duration": 18,
    "start_time": "2023-01-26T07:27:08.576Z"
   },
   {
    "duration": 228,
    "start_time": "2023-01-26T07:27:08.737Z"
   },
   {
    "duration": 6,
    "start_time": "2023-01-26T07:27:09.016Z"
   },
   {
    "duration": 5,
    "start_time": "2023-01-26T07:27:09.177Z"
   },
   {
    "duration": 4,
    "start_time": "2023-01-26T07:27:09.767Z"
   },
   {
    "duration": 31,
    "start_time": "2023-01-26T07:27:10.506Z"
   },
   {
    "duration": 17,
    "start_time": "2023-01-26T07:27:10.665Z"
   },
   {
    "duration": 36,
    "start_time": "2023-01-26T07:27:10.817Z"
   },
   {
    "duration": 102,
    "start_time": "2023-01-26T07:27:11.276Z"
   },
   {
    "duration": 19,
    "start_time": "2023-01-26T07:27:11.437Z"
   },
   {
    "duration": 5,
    "start_time": "2023-01-26T07:27:12.366Z"
   },
   {
    "duration": 1217,
    "start_time": "2023-01-26T07:27:12.671Z"
   },
   {
    "duration": 993,
    "start_time": "2023-01-26T07:27:13.890Z"
   },
   {
    "duration": 885,
    "start_time": "2023-01-26T07:27:14.885Z"
   },
   {
    "duration": 4,
    "start_time": "2023-01-26T07:27:15.772Z"
   },
   {
    "duration": 1005,
    "start_time": "2023-01-26T07:27:15.777Z"
   },
   {
    "duration": 636,
    "start_time": "2023-01-26T07:27:16.783Z"
   },
   {
    "duration": 4,
    "start_time": "2023-01-26T07:27:17.420Z"
   },
   {
    "duration": 267,
    "start_time": "2023-01-26T07:27:17.426Z"
   },
   {
    "duration": 267,
    "start_time": "2023-01-26T07:27:17.695Z"
   },
   {
    "duration": 448,
    "start_time": "2023-01-26T07:27:17.963Z"
   },
   {
    "duration": 10,
    "start_time": "2023-01-26T07:27:18.818Z"
   },
   {
    "duration": 9,
    "start_time": "2023-01-26T07:27:19.148Z"
   },
   {
    "duration": 257,
    "start_time": "2023-01-26T07:27:19.977Z"
   },
   {
    "duration": 541,
    "start_time": "2023-01-26T07:27:20.297Z"
   },
   {
    "duration": 5,
    "start_time": "2023-01-26T07:27:23.816Z"
   },
   {
    "duration": 10,
    "start_time": "2023-01-26T07:27:26.236Z"
   },
   {
    "duration": 19,
    "start_time": "2023-01-26T07:27:49.447Z"
   },
   {
    "duration": 18,
    "start_time": "2023-01-26T07:27:53.063Z"
   },
   {
    "duration": 11,
    "start_time": "2023-01-26T07:28:17.461Z"
   },
   {
    "duration": 36,
    "start_time": "2023-01-26T07:28:47.509Z"
   },
   {
    "duration": 26,
    "start_time": "2023-01-26T07:29:02.373Z"
   },
   {
    "duration": 12,
    "start_time": "2023-01-26T07:30:27.790Z"
   },
   {
    "duration": 19,
    "start_time": "2023-01-26T07:30:33.830Z"
   },
   {
    "duration": 24,
    "start_time": "2023-01-26T07:32:14.902Z"
   },
   {
    "duration": 13,
    "start_time": "2023-01-26T07:33:50.703Z"
   },
   {
    "duration": 23,
    "start_time": "2023-01-26T07:34:04.113Z"
   },
   {
    "duration": 20,
    "start_time": "2023-01-26T07:34:24.034Z"
   },
   {
    "duration": 9,
    "start_time": "2023-01-26T07:35:00.954Z"
   },
   {
    "duration": 24,
    "start_time": "2023-01-26T07:35:18.434Z"
   },
   {
    "duration": 27,
    "start_time": "2023-01-26T07:35:28.194Z"
   },
   {
    "duration": 27,
    "start_time": "2023-01-26T07:35:39.805Z"
   },
   {
    "duration": 23,
    "start_time": "2023-01-26T07:37:40.346Z"
   },
   {
    "duration": 18,
    "start_time": "2023-01-26T07:37:50.466Z"
   },
   {
    "duration": 19,
    "start_time": "2023-01-26T07:38:21.147Z"
   },
   {
    "duration": 19,
    "start_time": "2023-01-26T07:38:26.077Z"
   },
   {
    "duration": 19,
    "start_time": "2023-01-26T07:39:25.547Z"
   },
   {
    "duration": 4,
    "start_time": "2023-01-26T07:41:53.710Z"
   },
   {
    "duration": 16,
    "start_time": "2023-01-26T07:42:21.020Z"
   },
   {
    "duration": 9,
    "start_time": "2023-01-26T07:42:41.652Z"
   },
   {
    "duration": 815,
    "start_time": "2023-01-26T07:42:50.150Z"
   },
   {
    "duration": 733,
    "start_time": "2023-01-26T07:43:07.951Z"
   },
   {
    "duration": 5,
    "start_time": "2023-01-26T07:43:58.832Z"
   },
   {
    "duration": 16,
    "start_time": "2023-01-26T07:44:31.222Z"
   },
   {
    "duration": 9,
    "start_time": "2023-01-26T07:45:02.383Z"
   },
   {
    "duration": 5,
    "start_time": "2023-01-26T07:45:09.883Z"
   },
   {
    "duration": 4,
    "start_time": "2023-01-26T07:45:18.843Z"
   },
   {
    "duration": 10,
    "start_time": "2023-01-26T07:45:40.053Z"
   },
   {
    "duration": 10,
    "start_time": "2023-01-26T07:46:03.273Z"
   },
   {
    "duration": 5,
    "start_time": "2023-01-26T07:46:15.063Z"
   },
   {
    "duration": 5,
    "start_time": "2023-01-26T07:46:22.773Z"
   },
   {
    "duration": 19,
    "start_time": "2023-01-26T07:46:59.095Z"
   },
   {
    "duration": 18,
    "start_time": "2023-01-26T07:47:09.275Z"
   },
   {
    "duration": 9,
    "start_time": "2023-01-26T07:47:27.786Z"
   },
   {
    "duration": 17,
    "start_time": "2023-01-26T07:47:49.936Z"
   },
   {
    "duration": 8,
    "start_time": "2023-01-26T07:47:50.386Z"
   },
   {
    "duration": 27101,
    "start_time": "2023-01-26T07:49:09.108Z"
   },
   {
    "duration": 43,
    "start_time": "2023-01-26T07:49:45.318Z"
   },
   {
    "duration": 7,
    "start_time": "2023-01-26T07:49:46.784Z"
   },
   {
    "duration": 4,
    "start_time": "2023-01-26T07:49:54.568Z"
   },
   {
    "duration": 25,
    "start_time": "2023-01-26T07:50:21.859Z"
   },
   {
    "duration": 861,
    "start_time": "2023-01-26T07:50:24.688Z"
   },
   {
    "duration": 7,
    "start_time": "2023-01-26T07:50:51.619Z"
   },
   {
    "duration": 5,
    "start_time": "2023-01-26T07:51:04.533Z"
   },
   {
    "duration": 7,
    "start_time": "2023-01-26T07:51:48.061Z"
   },
   {
    "duration": 3,
    "start_time": "2023-01-26T07:51:57.502Z"
   },
   {
    "duration": 4,
    "start_time": "2023-01-26T07:51:58.063Z"
   },
   {
    "duration": 1036,
    "start_time": "2023-01-26T07:52:02.821Z"
   },
   {
    "duration": 25,
    "start_time": "2023-01-26T07:52:18.832Z"
   },
   {
    "duration": 935,
    "start_time": "2023-01-26T07:52:20.515Z"
   },
   {
    "duration": 40623,
    "start_time": "2023-01-26T07:52:24.722Z"
   },
   {
    "duration": 4,
    "start_time": "2023-01-26T07:53:11.002Z"
   },
   {
    "duration": 4,
    "start_time": "2023-01-26T07:53:11.842Z"
   },
   {
    "duration": 1340,
    "start_time": "2023-01-26T07:53:47.034Z"
   },
   {
    "duration": 710,
    "start_time": "2023-01-26T07:53:48.994Z"
   },
   {
    "duration": 26,
    "start_time": "2023-01-26T07:53:49.706Z"
   },
   {
    "duration": 29,
    "start_time": "2023-01-26T07:53:49.734Z"
   },
   {
    "duration": 224,
    "start_time": "2023-01-26T07:53:49.764Z"
   },
   {
    "duration": 19,
    "start_time": "2023-01-26T07:53:49.990Z"
   },
   {
    "duration": 11,
    "start_time": "2023-01-26T07:53:50.047Z"
   },
   {
    "duration": 121,
    "start_time": "2023-01-26T07:53:50.183Z"
   },
   {
    "duration": 21,
    "start_time": "2023-01-26T07:53:50.473Z"
   },
   {
    "duration": 16,
    "start_time": "2023-01-26T07:53:50.625Z"
   },
   {
    "duration": 227,
    "start_time": "2023-01-26T07:53:50.754Z"
   },
   {
    "duration": 6,
    "start_time": "2023-01-26T07:53:51.053Z"
   },
   {
    "duration": 5,
    "start_time": "2023-01-26T07:53:51.214Z"
   },
   {
    "duration": 5,
    "start_time": "2023-01-26T07:53:51.803Z"
   },
   {
    "duration": 40,
    "start_time": "2023-01-26T07:53:52.563Z"
   },
   {
    "duration": 17,
    "start_time": "2023-01-26T07:53:52.713Z"
   },
   {
    "duration": 41,
    "start_time": "2023-01-26T07:53:52.854Z"
   },
   {
    "duration": 107,
    "start_time": "2023-01-26T07:53:53.345Z"
   },
   {
    "duration": 21,
    "start_time": "2023-01-26T07:53:53.494Z"
   },
   {
    "duration": 5,
    "start_time": "2023-01-26T07:53:54.454Z"
   },
   {
    "duration": 1131,
    "start_time": "2023-01-26T07:53:54.773Z"
   },
   {
    "duration": 1006,
    "start_time": "2023-01-26T07:53:55.906Z"
   },
   {
    "duration": 989,
    "start_time": "2023-01-26T07:53:56.914Z"
   },
   {
    "duration": 3,
    "start_time": "2023-01-26T07:53:57.905Z"
   },
   {
    "duration": 907,
    "start_time": "2023-01-26T07:53:57.910Z"
   },
   {
    "duration": 629,
    "start_time": "2023-01-26T07:53:58.819Z"
   },
   {
    "duration": 4,
    "start_time": "2023-01-26T07:53:59.450Z"
   },
   {
    "duration": 253,
    "start_time": "2023-01-26T07:53:59.455Z"
   },
   {
    "duration": 262,
    "start_time": "2023-01-26T07:53:59.710Z"
   },
   {
    "duration": 464,
    "start_time": "2023-01-26T07:53:59.973Z"
   },
   {
    "duration": 11,
    "start_time": "2023-01-26T07:54:00.439Z"
   },
   {
    "duration": 24,
    "start_time": "2023-01-26T07:54:00.452Z"
   },
   {
    "duration": 415,
    "start_time": "2023-01-26T07:54:00.478Z"
   },
   {
    "duration": 423,
    "start_time": "2023-01-26T07:54:00.894Z"
   },
   {
    "duration": 4,
    "start_time": "2023-01-26T07:54:04.038Z"
   },
   {
    "duration": 9,
    "start_time": "2023-01-26T07:54:22.634Z"
   },
   {
    "duration": 6,
    "start_time": "2023-01-26T07:54:23.685Z"
   },
   {
    "duration": 22,
    "start_time": "2023-01-26T07:54:27.554Z"
   },
   {
    "duration": 9,
    "start_time": "2023-01-26T07:54:32.406Z"
   },
   {
    "duration": 4,
    "start_time": "2023-01-26T07:54:36.654Z"
   },
   {
    "duration": 4,
    "start_time": "2023-01-26T07:54:37.004Z"
   },
   {
    "duration": 25,
    "start_time": "2023-01-26T07:54:49.795Z"
   },
   {
    "duration": 776,
    "start_time": "2023-01-26T07:54:52.074Z"
   },
   {
    "duration": 40592,
    "start_time": "2023-01-26T07:54:57.335Z"
   },
   {
    "duration": 4,
    "start_time": "2023-01-26T07:55:52.665Z"
   },
   {
    "duration": 3,
    "start_time": "2023-01-26T07:55:53.656Z"
   },
   {
    "duration": 128339,
    "start_time": "2023-01-26T07:56:29.997Z"
   },
   {
    "duration": 4,
    "start_time": "2023-01-26T07:58:38.338Z"
   },
   {
    "duration": 6,
    "start_time": "2023-01-26T07:58:38.348Z"
   },
   {
    "duration": 9,
    "start_time": "2023-01-26T07:58:38.355Z"
   },
   {
    "duration": 223282,
    "start_time": "2023-01-26T08:00:37.841Z"
   },
   {
    "duration": 4,
    "start_time": "2023-01-26T08:04:21.125Z"
   },
   {
    "duration": 7,
    "start_time": "2023-01-26T08:04:21.130Z"
   },
   {
    "duration": 4,
    "start_time": "2023-01-26T08:04:21.149Z"
   },
   {
    "duration": 367160,
    "start_time": "2023-01-26T08:06:01.467Z"
   },
   {
    "duration": 4,
    "start_time": "2023-01-26T08:12:08.629Z"
   },
   {
    "duration": 16,
    "start_time": "2023-01-26T08:12:08.634Z"
   },
   {
    "duration": 7,
    "start_time": "2023-01-26T08:12:08.652Z"
   },
   {
    "duration": 463365,
    "start_time": "2023-01-26T08:14:05.575Z"
   },
   {
    "duration": 113,
    "start_time": "2023-01-26T08:21:48.942Z"
   },
   {
    "duration": 4,
    "start_time": "2023-01-26T08:23:33.774Z"
   },
   {
    "duration": 4,
    "start_time": "2023-01-26T08:23:48.514Z"
   },
   {
    "duration": 4,
    "start_time": "2023-01-26T08:24:13.785Z"
   },
   {
    "duration": 647938,
    "start_time": "2023-01-26T08:24:25.766Z"
   },
   {
    "duration": 4,
    "start_time": "2023-01-26T08:35:13.706Z"
   },
   {
    "duration": 5,
    "start_time": "2023-01-26T08:37:31.049Z"
   },
   {
    "duration": 254466,
    "start_time": "2023-01-26T08:37:41.759Z"
   },
   {
    "duration": 108,
    "start_time": "2023-01-26T08:41:56.228Z"
   },
   {
    "duration": 13,
    "start_time": "2023-01-26T08:41:56.338Z"
   },
   {
    "duration": 44,
    "start_time": "2023-01-26T08:46:59.758Z"
   },
   {
    "duration": 4,
    "start_time": "2023-01-26T08:47:00.948Z"
   },
   {
    "duration": 92,
    "start_time": "2023-01-26T08:47:11.468Z"
   },
   {
    "duration": 4,
    "start_time": "2023-01-26T08:47:12.079Z"
   }
  ],
  "kernelspec": {
   "display_name": "Python 3 (ipykernel)",
   "language": "python",
   "name": "python3"
  },
  "language_info": {
   "codemirror_mode": {
    "name": "ipython",
    "version": 3
   },
   "file_extension": ".py",
   "mimetype": "text/x-python",
   "name": "python",
   "nbconvert_exporter": "python",
   "pygments_lexer": "ipython3",
   "version": "3.9.13"
  },
  "toc": {
   "base_numbering": 1,
   "nav_menu": {},
   "number_sections": true,
   "sideBar": true,
   "skip_h1_title": true,
   "title_cell": "Table of Contents",
   "title_sidebar": "Contents",
   "toc_cell": false,
   "toc_position": {
    "height": "calc(100% - 180px)",
    "left": "10px",
    "top": "150px",
    "width": "165px"
   },
   "toc_section_display": true,
   "toc_window_display": true
  }
 },
 "nbformat": 4,
 "nbformat_minor": 5
}
