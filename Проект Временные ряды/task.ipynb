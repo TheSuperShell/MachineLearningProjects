{
 "cells": [
  {
   "cell_type": "markdown",
   "metadata": {},
   "source": [
    "#  Прогнозирование заказов такси"
   ]
  },
  {
   "attachments": {},
   "cell_type": "markdown",
   "metadata": {},
   "source": [
    "Компания собрала исторические данные о заказах такси в аэропортах. Чтобы привлекать больше водителей в период пиковой нагрузки, нужно спрогнозировать количество заказов такси на следующий час. Необходимо построить модель для такого предсказания.\n",
    "\n",
    "Значение метрики *RMSE* на тестовой выборке должно быть не больше 48.\n",
    "\n",
    "Нужно:\n",
    "\n",
    "1. Загрузить данные и выполнить их ресемплирование по одному часу.\n",
    "2. Проанализировать данные.\n",
    "3. Обучить разные модели с различными гиперпараметрами. Сделать тестовую выборку размером 10% от исходных данных.\n",
    "4. Проверить данные на тестовой выборке и сделать выводы.\n",
    "\n",
    "\n",
    "Данные лежат в файле `taxi.csv`. Количество заказов находится в столбце `num_orders`"
   ]
  },
  {
   "cell_type": "code",
   "execution_count": 1,
   "metadata": {},
   "outputs": [],
   "source": [
    "import pandas as pd\n",
    "import numpy as np\n",
    "import matplotlib.pyplot as plt\n",
    "import seaborn as sbs\n",
    "\n",
    "from statsmodels.tsa.seasonal import seasonal_decompose\n",
    "\n",
    "from sklearn.model_selection import train_test_split\n",
    "from sklearn.model_selection import cross_val_score\n",
    "from sklearn.model_selection import TimeSeriesSplit\n",
    "from sklearn.model_selection import GridSearchCV\n",
    "\n",
    "from sklearn.metrics import mean_squared_error\n",
    "from sklearn.metrics import make_scorer\n",
    "\n",
    "from sklearn.dummy import DummyRegressor\n",
    "from sklearn.linear_model import LinearRegression\n",
    "from sklearn.tree import DecisionTreeRegressor\n",
    "from sklearn.ensemble import RandomForestRegressor\n",
    "from catboost import CatBoostRegressor"
   ]
  },
  {
   "cell_type": "markdown",
   "metadata": {},
   "source": [
    "## Подготовка"
   ]
  },
  {
   "cell_type": "markdown",
   "metadata": {},
   "source": [
    "### Загрузка данных"
   ]
  },
  {
   "cell_type": "code",
   "execution_count": 2,
   "metadata": {},
   "outputs": [
    {
     "data": {
      "text/html": [
       "<div>\n",
       "<style scoped>\n",
       "    .dataframe tbody tr th:only-of-type {\n",
       "        vertical-align: middle;\n",
       "    }\n",
       "\n",
       "    .dataframe tbody tr th {\n",
       "        vertical-align: top;\n",
       "    }\n",
       "\n",
       "    .dataframe thead th {\n",
       "        text-align: right;\n",
       "    }\n",
       "</style>\n",
       "<table border=\"1\" class=\"dataframe\">\n",
       "  <thead>\n",
       "    <tr style=\"text-align: right;\">\n",
       "      <th></th>\n",
       "      <th>datetime</th>\n",
       "      <th>num_orders</th>\n",
       "    </tr>\n",
       "  </thead>\n",
       "  <tbody>\n",
       "    <tr>\n",
       "      <th>0</th>\n",
       "      <td>2018-03-01 00:00:00</td>\n",
       "      <td>9</td>\n",
       "    </tr>\n",
       "    <tr>\n",
       "      <th>1</th>\n",
       "      <td>2018-03-01 00:10:00</td>\n",
       "      <td>14</td>\n",
       "    </tr>\n",
       "    <tr>\n",
       "      <th>2</th>\n",
       "      <td>2018-03-01 00:20:00</td>\n",
       "      <td>28</td>\n",
       "    </tr>\n",
       "    <tr>\n",
       "      <th>3</th>\n",
       "      <td>2018-03-01 00:30:00</td>\n",
       "      <td>20</td>\n",
       "    </tr>\n",
       "    <tr>\n",
       "      <th>4</th>\n",
       "      <td>2018-03-01 00:40:00</td>\n",
       "      <td>32</td>\n",
       "    </tr>\n",
       "  </tbody>\n",
       "</table>\n",
       "</div>"
      ],
      "text/plain": [
       "              datetime  num_orders\n",
       "0  2018-03-01 00:00:00           9\n",
       "1  2018-03-01 00:10:00          14\n",
       "2  2018-03-01 00:20:00          28\n",
       "3  2018-03-01 00:30:00          20\n",
       "4  2018-03-01 00:40:00          32"
      ]
     },
     "execution_count": 2,
     "metadata": {},
     "output_type": "execute_result"
    }
   ],
   "source": [
    "data = pd.read_csv('/datasets/taxi.csv')\n",
    "data.head()"
   ]
  },
  {
   "cell_type": "code",
   "execution_count": 3,
   "metadata": {},
   "outputs": [
    {
     "data": {
      "text/html": [
       "<div>\n",
       "<style scoped>\n",
       "    .dataframe tbody tr th:only-of-type {\n",
       "        vertical-align: middle;\n",
       "    }\n",
       "\n",
       "    .dataframe tbody tr th {\n",
       "        vertical-align: top;\n",
       "    }\n",
       "\n",
       "    .dataframe thead th {\n",
       "        text-align: right;\n",
       "    }\n",
       "</style>\n",
       "<table border=\"1\" class=\"dataframe\">\n",
       "  <thead>\n",
       "    <tr style=\"text-align: right;\">\n",
       "      <th></th>\n",
       "      <th>datetime</th>\n",
       "      <th>num_orders</th>\n",
       "    </tr>\n",
       "  </thead>\n",
       "  <tbody>\n",
       "    <tr>\n",
       "      <th>26491</th>\n",
       "      <td>2018-08-31 23:10:00</td>\n",
       "      <td>32</td>\n",
       "    </tr>\n",
       "    <tr>\n",
       "      <th>26492</th>\n",
       "      <td>2018-08-31 23:20:00</td>\n",
       "      <td>24</td>\n",
       "    </tr>\n",
       "    <tr>\n",
       "      <th>26493</th>\n",
       "      <td>2018-08-31 23:30:00</td>\n",
       "      <td>27</td>\n",
       "    </tr>\n",
       "    <tr>\n",
       "      <th>26494</th>\n",
       "      <td>2018-08-31 23:40:00</td>\n",
       "      <td>39</td>\n",
       "    </tr>\n",
       "    <tr>\n",
       "      <th>26495</th>\n",
       "      <td>2018-08-31 23:50:00</td>\n",
       "      <td>53</td>\n",
       "    </tr>\n",
       "  </tbody>\n",
       "</table>\n",
       "</div>"
      ],
      "text/plain": [
       "                  datetime  num_orders\n",
       "26491  2018-08-31 23:10:00          32\n",
       "26492  2018-08-31 23:20:00          24\n",
       "26493  2018-08-31 23:30:00          27\n",
       "26494  2018-08-31 23:40:00          39\n",
       "26495  2018-08-31 23:50:00          53"
      ]
     },
     "execution_count": 3,
     "metadata": {},
     "output_type": "execute_result"
    }
   ],
   "source": [
    "data.tail()"
   ]
  },
  {
   "cell_type": "code",
   "execution_count": 4,
   "metadata": {},
   "outputs": [
    {
     "name": "stdout",
     "output_type": "stream",
     "text": [
      "<class 'pandas.core.frame.DataFrame'>\n",
      "RangeIndex: 26496 entries, 0 to 26495\n",
      "Data columns (total 2 columns):\n",
      " #   Column      Non-Null Count  Dtype \n",
      "---  ------      --------------  ----- \n",
      " 0   datetime    26496 non-null  object\n",
      " 1   num_orders  26496 non-null  int64 \n",
      "dtypes: int64(1), object(1)\n",
      "memory usage: 414.1+ KB\n"
     ]
    }
   ],
   "source": [
    "data.info()"
   ]
  },
  {
   "cell_type": "code",
   "execution_count": 5,
   "metadata": {
    "scrolled": false
   },
   "outputs": [
    {
     "data": {
      "text/html": [
       "<div>\n",
       "<style scoped>\n",
       "    .dataframe tbody tr th:only-of-type {\n",
       "        vertical-align: middle;\n",
       "    }\n",
       "\n",
       "    .dataframe tbody tr th {\n",
       "        vertical-align: top;\n",
       "    }\n",
       "\n",
       "    .dataframe thead th {\n",
       "        text-align: right;\n",
       "    }\n",
       "</style>\n",
       "<table border=\"1\" class=\"dataframe\">\n",
       "  <thead>\n",
       "    <tr style=\"text-align: right;\">\n",
       "      <th></th>\n",
       "      <th>num_orders</th>\n",
       "    </tr>\n",
       "  </thead>\n",
       "  <tbody>\n",
       "    <tr>\n",
       "      <th>count</th>\n",
       "      <td>26496.000000</td>\n",
       "    </tr>\n",
       "    <tr>\n",
       "      <th>mean</th>\n",
       "      <td>14.070463</td>\n",
       "    </tr>\n",
       "    <tr>\n",
       "      <th>std</th>\n",
       "      <td>9.211330</td>\n",
       "    </tr>\n",
       "    <tr>\n",
       "      <th>min</th>\n",
       "      <td>0.000000</td>\n",
       "    </tr>\n",
       "    <tr>\n",
       "      <th>25%</th>\n",
       "      <td>8.000000</td>\n",
       "    </tr>\n",
       "    <tr>\n",
       "      <th>50%</th>\n",
       "      <td>13.000000</td>\n",
       "    </tr>\n",
       "    <tr>\n",
       "      <th>75%</th>\n",
       "      <td>19.000000</td>\n",
       "    </tr>\n",
       "    <tr>\n",
       "      <th>max</th>\n",
       "      <td>119.000000</td>\n",
       "    </tr>\n",
       "  </tbody>\n",
       "</table>\n",
       "</div>"
      ],
      "text/plain": [
       "         num_orders\n",
       "count  26496.000000\n",
       "mean      14.070463\n",
       "std        9.211330\n",
       "min        0.000000\n",
       "25%        8.000000\n",
       "50%       13.000000\n",
       "75%       19.000000\n",
       "max      119.000000"
      ]
     },
     "execution_count": 5,
     "metadata": {},
     "output_type": "execute_result"
    }
   ],
   "source": [
    "data.describe()"
   ]
  },
  {
   "cell_type": "markdown",
   "metadata": {},
   "source": [
    "### Datetime"
   ]
  },
  {
   "cell_type": "code",
   "execution_count": 6,
   "metadata": {},
   "outputs": [],
   "source": [
    "data['datetime'] = pd.to_datetime(data['datetime'])"
   ]
  },
  {
   "cell_type": "code",
   "execution_count": 7,
   "metadata": {},
   "outputs": [
    {
     "data": {
      "text/html": [
       "<div>\n",
       "<style scoped>\n",
       "    .dataframe tbody tr th:only-of-type {\n",
       "        vertical-align: middle;\n",
       "    }\n",
       "\n",
       "    .dataframe tbody tr th {\n",
       "        vertical-align: top;\n",
       "    }\n",
       "\n",
       "    .dataframe thead th {\n",
       "        text-align: right;\n",
       "    }\n",
       "</style>\n",
       "<table border=\"1\" class=\"dataframe\">\n",
       "  <thead>\n",
       "    <tr style=\"text-align: right;\">\n",
       "      <th></th>\n",
       "      <th>num_orders</th>\n",
       "    </tr>\n",
       "    <tr>\n",
       "      <th>datetime</th>\n",
       "      <th></th>\n",
       "    </tr>\n",
       "  </thead>\n",
       "  <tbody>\n",
       "    <tr>\n",
       "      <th>2018-06-06 08:00:00</th>\n",
       "      <td>19</td>\n",
       "    </tr>\n",
       "    <tr>\n",
       "      <th>2018-07-27 22:50:00</th>\n",
       "      <td>33</td>\n",
       "    </tr>\n",
       "    <tr>\n",
       "      <th>2018-03-08 10:10:00</th>\n",
       "      <td>8</td>\n",
       "    </tr>\n",
       "    <tr>\n",
       "      <th>2018-08-29 21:50:00</th>\n",
       "      <td>36</td>\n",
       "    </tr>\n",
       "    <tr>\n",
       "      <th>2018-04-02 03:40:00</th>\n",
       "      <td>11</td>\n",
       "    </tr>\n",
       "  </tbody>\n",
       "</table>\n",
       "</div>"
      ],
      "text/plain": [
       "                     num_orders\n",
       "datetime                       \n",
       "2018-06-06 08:00:00          19\n",
       "2018-07-27 22:50:00          33\n",
       "2018-03-08 10:10:00           8\n",
       "2018-08-29 21:50:00          36\n",
       "2018-04-02 03:40:00          11"
      ]
     },
     "execution_count": 7,
     "metadata": {},
     "output_type": "execute_result"
    }
   ],
   "source": [
    "data = data.set_index('datetime')\n",
    "data.sample(5)"
   ]
  },
  {
   "cell_type": "code",
   "execution_count": 8,
   "metadata": {},
   "outputs": [
    {
     "data": {
      "text/plain": [
       "True"
      ]
     },
     "execution_count": 8,
     "metadata": {},
     "output_type": "execute_result"
    }
   ],
   "source": [
    "data.index.is_monotonic"
   ]
  },
  {
   "cell_type": "code",
   "execution_count": 9,
   "metadata": {},
   "outputs": [
    {
     "data": {
      "text/html": [
       "<div>\n",
       "<style scoped>\n",
       "    .dataframe tbody tr th:only-of-type {\n",
       "        vertical-align: middle;\n",
       "    }\n",
       "\n",
       "    .dataframe tbody tr th {\n",
       "        vertical-align: top;\n",
       "    }\n",
       "\n",
       "    .dataframe thead th {\n",
       "        text-align: right;\n",
       "    }\n",
       "</style>\n",
       "<table border=\"1\" class=\"dataframe\">\n",
       "  <thead>\n",
       "    <tr style=\"text-align: right;\">\n",
       "      <th></th>\n",
       "      <th>num_orders</th>\n",
       "    </tr>\n",
       "    <tr>\n",
       "      <th>datetime</th>\n",
       "      <th></th>\n",
       "    </tr>\n",
       "  </thead>\n",
       "  <tbody>\n",
       "    <tr>\n",
       "      <th>2018-03-01 00:00:00</th>\n",
       "      <td>124</td>\n",
       "    </tr>\n",
       "    <tr>\n",
       "      <th>2018-03-01 01:00:00</th>\n",
       "      <td>85</td>\n",
       "    </tr>\n",
       "    <tr>\n",
       "      <th>2018-03-01 02:00:00</th>\n",
       "      <td>71</td>\n",
       "    </tr>\n",
       "    <tr>\n",
       "      <th>2018-03-01 03:00:00</th>\n",
       "      <td>66</td>\n",
       "    </tr>\n",
       "    <tr>\n",
       "      <th>2018-03-01 04:00:00</th>\n",
       "      <td>43</td>\n",
       "    </tr>\n",
       "  </tbody>\n",
       "</table>\n",
       "</div>"
      ],
      "text/plain": [
       "                     num_orders\n",
       "datetime                       \n",
       "2018-03-01 00:00:00         124\n",
       "2018-03-01 01:00:00          85\n",
       "2018-03-01 02:00:00          71\n",
       "2018-03-01 03:00:00          66\n",
       "2018-03-01 04:00:00          43"
      ]
     },
     "execution_count": 9,
     "metadata": {},
     "output_type": "execute_result"
    }
   ],
   "source": [
    "data = data.resample('1H').sum()\n",
    "data.head(5)"
   ]
  },
  {
   "cell_type": "markdown",
   "metadata": {},
   "source": [
    "Данные готовы для анализа"
   ]
  },
  {
   "cell_type": "markdown",
   "metadata": {},
   "source": [
    "## Анализ"
   ]
  },
  {
   "cell_type": "markdown",
   "metadata": {},
   "source": [
    "### Сырые данные"
   ]
  },
  {
   "cell_type": "markdown",
   "metadata": {},
   "source": [
    "Дла начала построим график в \"сыром\" виде"
   ]
  },
  {
   "cell_type": "code",
   "execution_count": 10,
   "metadata": {
    "scrolled": false
   },
   "outputs": [
    {
     "data": {
      "image/png": "[encoded data removed]",
      "text/plain": [
       "<Figure size 864x576 with 1 Axes>"
      ]
     },
     "metadata": {
      "needs_background": "light"
     },
     "output_type": "display_data"
    }
   ],
   "source": [
    "data.plot(grid=True, figsize=(12, 8))\n",
    "plt.ylabel('Количество заказов')\n",
    "plt.xlabel('Дата, час')\n",
    "plt.title('Временной ряд для количества заказов');"
   ]
  },
  {
   "cell_type": "markdown",
   "metadata": {},
   "source": [
    "### Скользящее среднее"
   ]
  },
  {
   "cell_type": "markdown",
   "metadata": {},
   "source": [
    "Рассмотрим скользящее среднее и стандартное отклонение"
   ]
  },
  {
   "cell_type": "code",
   "execution_count": 11,
   "metadata": {},
   "outputs": [
    {
     "data": {
      "image/png": "[encoded data removed]",
      "text/plain": [
       "<Figure size 864x576 with 1 Axes>"
      ]
     },
     "metadata": {
      "needs_background": "light"
     },
     "output_type": "display_data"
    }
   ],
   "source": [
    "data['rolling_mean'] = data.rolling(24).mean()\n",
    "data['rolling_std'] = data['num_orders'].rolling(24).std()\n",
    "data.plot(grid=True, figsize=(12, 8))\n",
    "plt.ylabel('Количество заказов')\n",
    "plt.xlabel('Дата, час')\n",
    "plt.title('Временной ряд для количества заказов');"
   ]
  },
  {
   "cell_type": "markdown",
   "metadata": {},
   "source": [
    "Происходит рост числа заказов со временем. Изучим тренд и сезонность"
   ]
  },
  {
   "cell_type": "markdown",
   "metadata": {},
   "source": [
    "### Сезонность и тренд"
   ]
  },
  {
   "cell_type": "code",
   "execution_count": 12,
   "metadata": {},
   "outputs": [],
   "source": [
    "def decompose(data):\n",
    "    decomposition = seasonal_decompose(data)\n",
    "    \n",
    "    plt.figure(figsize=(15, 10))\n",
    "\n",
    "    plt.subplot(3, 1, 1)\n",
    "    decomposition.trend.plot(ax=plt.gca())\n",
    "    plt.grid(True)\n",
    "    plt.ylabel('Количество заказов')\n",
    "    plt.title('Тренд')\n",
    "    \n",
    "    \n",
    "    plt.subplot(3, 1, 2)\n",
    "    decomposition.seasonal.plot(ax=plt.gca())\n",
    "    plt.grid(True)\n",
    "    plt.title('Сезонность')\n",
    "    \n",
    "    plt.subplot(3, 1, 3)\n",
    "    decomposition.resid.plot(ax=plt.gca())\n",
    "    plt.grid(True)\n",
    "    plt.title('Шум')\n",
    "    \n",
    "    plt.xlabel('Дата, час')\n",
    "    \n",
    "    plt.show()\n",
    "    \n",
    "    return decomposition"
   ]
  },
  {
   "cell_type": "code",
   "execution_count": 13,
   "metadata": {},
   "outputs": [
    {
     "data": {
      "image/png": "[encoded data removed]",
      "text/plain": [
       "<Figure size 1080x720 with 3 Axes>"
      ]
     },
     "metadata": {
      "needs_background": "light"
     },
     "output_type": "display_data"
    }
   ],
   "source": [
    "decomposition = decompose(data['num_orders'])"
   ]
  },
  {
   "cell_type": "markdown",
   "metadata": {},
   "source": [
    "Тренд идет вверх. Сезонность необходимо рассмотреть более детально"
   ]
  },
  {
   "cell_type": "code",
   "execution_count": 14,
   "metadata": {},
   "outputs": [
    {
     "data": {
      "image/png": "[encoded data removed]",
      "text/plain": [
       "<Figure size 432x288 with 1 Axes>"
      ]
     },
     "metadata": {
      "needs_background": "light"
     },
     "output_type": "display_data"
    }
   ],
   "source": [
    "decomposition.seasonal['2018-03-05':'2018-03-19'].plot(grid=True)\n",
    "plt.xlabel('Дата')\n",
    "plt.title('Сезонность за 2 недели');"
   ]
  },
  {
   "cell_type": "markdown",
   "metadata": {},
   "source": [
    "В течении недели особых изменений не наблюдается"
   ]
  },
  {
   "cell_type": "code",
   "execution_count": 15,
   "metadata": {},
   "outputs": [
    {
     "data": {
      "image/png": "[encoded data removed]",
      "text/plain": [
       "<Figure size 432x288 with 1 Axes>"
      ]
     },
     "metadata": {
      "needs_background": "light"
     },
     "output_type": "display_data"
    }
   ],
   "source": [
    "decomposition.seasonal['2018-03-05':'2018-03-07'].plot(grid=True)\n",
    "plt.xlabel('Дата')\n",
    "plt.title('Сезонность за 2 дня');"
   ]
  },
  {
   "cell_type": "code",
   "execution_count": 16,
   "metadata": {},
   "outputs": [
    {
     "data": {
      "image/png": "[encoded data removed]",
      "text/plain": [
       "<Figure size 432x288 with 1 Axes>"
      ]
     },
     "metadata": {
      "needs_background": "light"
     },
     "output_type": "display_data"
    }
   ],
   "source": [
    "decomposition.seasonal['2018-03-05':'2018-03-05'].plot(grid=True)\n",
    "plt.xlabel('Дата')\n",
    "plt.title('Сезонность за сутки');"
   ]
  },
  {
   "cell_type": "markdown",
   "metadata": {},
   "source": [
    "Чаще всего такси заказывают в районе полуночи. Меньше всего - в 6 ночи. Утром все едут на работу, а в районе 17 часов возвращаются, поэтому частота поездок примерно одинаковая"
   ]
  },
  {
   "cell_type": "markdown",
   "metadata": {},
   "source": [
    "Рассмотрим декомпозицию при ресемплинге по дням"
   ]
  },
  {
   "cell_type": "code",
   "execution_count": 17,
   "metadata": {
    "scrolled": false
   },
   "outputs": [
    {
     "data": {
      "image/png": "[encoded data removed]",
      "text/plain": [
       "<Figure size 1080x720 with 3 Axes>"
      ]
     },
     "metadata": {
      "needs_background": "light"
     },
     "output_type": "display_data"
    }
   ],
   "source": [
    "decomposition = decompose(data.resample('1D').sum()['num_orders'])"
   ]
  },
  {
   "cell_type": "code",
   "execution_count": 18,
   "metadata": {},
   "outputs": [
    {
     "data": {
      "text/plain": [
       "Int64Index([0, 1], dtype='int64', name='datetime')"
      ]
     },
     "execution_count": 18,
     "metadata": {},
     "output_type": "execute_result"
    }
   ],
   "source": [
    "decomposition.seasonal['2018-03-05':'2018-03-06'].index.dayofweek"
   ]
  },
  {
   "cell_type": "code",
   "execution_count": 19,
   "metadata": {},
   "outputs": [
    {
     "data": {
      "image/png": "[encoded data removed]",
      "text/plain": [
       "<Figure size 432x288 with 1 Axes>"
      ]
     },
     "metadata": {
      "needs_background": "light"
     },
     "output_type": "display_data"
    }
   ],
   "source": [
    "decomposition.seasonal['2018-03-05':'2018-03-11'].plot(grid=True)\n",
    "plt.xlabel('Дата')\n",
    "plt.title('Сезонность за неделю');"
   ]
  },
  {
   "cell_type": "markdown",
   "metadata": {},
   "source": [
    "Наблюдаем периодичность и в течении недели. Во вторник меньше всего заказов. Больше всего в понедельник и пятницу"
   ]
  },
  {
   "cell_type": "markdown",
   "metadata": {},
   "source": [
    "### Разность временного ряда"
   ]
  },
  {
   "cell_type": "markdown",
   "metadata": {},
   "source": [
    "Рассмотрим разность временного ряда"
   ]
  },
  {
   "cell_type": "code",
   "execution_count": 20,
   "metadata": {},
   "outputs": [
    {
     "data": {
      "image/png": "[encoded data removed]",
      "text/plain": [
       "<Figure size 432x288 with 1 Axes>"
      ]
     },
     "metadata": {
      "needs_background": "light"
     },
     "output_type": "display_data"
    }
   ],
   "source": [
    "diff = pd.DataFrame(data = data['num_orders'] - data['num_orders'].shift(), index=data.index)\n",
    "diff['mean'] = diff.rolling(24).mean()\n",
    "diff['std'] = diff['num_orders'].rolling(24).mean()\n",
    "diff.plot();"
   ]
  },
  {
   "cell_type": "markdown",
   "metadata": {},
   "source": [
    "Разность стационарна. Значит, изменение временного ряда не меняется со временем => мы способны делать адекватные предсказания"
   ]
  },
  {
   "cell_type": "markdown",
   "metadata": {},
   "source": [
    "## Обучение"
   ]
  },
  {
   "cell_type": "markdown",
   "metadata": {},
   "source": [
    "### Создание признаков"
   ]
  },
  {
   "cell_type": "markdown",
   "metadata": {},
   "source": [
    "Создадим признаки для датасета. Ежечасное, еждневное и ежемесячное изменение данных играет роль. Также важен день недели. Создадим столбцы лага, а так же скользящего среднего"
   ]
  },
  {
   "cell_type": "code",
   "execution_count": 21,
   "metadata": {},
   "outputs": [],
   "source": [
    "def create_dataset(max_lag, window):\n",
    "    dataset = pd.DataFrame(data=data['num_orders'], index=data.index)\n",
    "    dataset['hour'] = dataset.index.hour\n",
    "    dataset['day'] = dataset.index.day\n",
    "    dataset['month'] = dataset.index.month\n",
    "    \n",
    "    for i in range(1, max_lag+1):\n",
    "        dataset[f'lag_{i}'] = dataset['num_orders'].shift(i)\n",
    "    \n",
    "    dataset['rolling_mean'] = dataset['num_orders'].rolling(window).mean()\n",
    "    return dataset\n",
    "    "
   ]
  },
  {
   "cell_type": "markdown",
   "metadata": {},
   "source": [
    "В качестве лага используем половину суток (за половину суток происходят самые большие изменения). В качестве окна выберем жвое суток, так мы сможешь \"отслеживать\" тренд"
   ]
  },
  {
   "cell_type": "code",
   "execution_count": 22,
   "metadata": {
    "scrolled": true
   },
   "outputs": [
    {
     "data": {
      "text/html": [
       "<div>\n",
       "<style scoped>\n",
       "    .dataframe tbody tr th:only-of-type {\n",
       "        vertical-align: middle;\n",
       "    }\n",
       "\n",
       "    .dataframe tbody tr th {\n",
       "        vertical-align: top;\n",
       "    }\n",
       "\n",
       "    .dataframe thead th {\n",
       "        text-align: right;\n",
       "    }\n",
       "</style>\n",
       "<table border=\"1\" class=\"dataframe\">\n",
       "  <thead>\n",
       "    <tr style=\"text-align: right;\">\n",
       "      <th></th>\n",
       "      <th>num_orders</th>\n",
       "      <th>hour</th>\n",
       "      <th>day</th>\n",
       "      <th>month</th>\n",
       "      <th>lag_1</th>\n",
       "      <th>lag_2</th>\n",
       "      <th>lag_3</th>\n",
       "      <th>lag_4</th>\n",
       "      <th>lag_5</th>\n",
       "      <th>lag_6</th>\n",
       "      <th>lag_7</th>\n",
       "      <th>lag_8</th>\n",
       "      <th>lag_9</th>\n",
       "      <th>lag_10</th>\n",
       "      <th>lag_11</th>\n",
       "      <th>lag_12</th>\n",
       "      <th>rolling_mean</th>\n",
       "    </tr>\n",
       "    <tr>\n",
       "      <th>datetime</th>\n",
       "      <th></th>\n",
       "      <th></th>\n",
       "      <th></th>\n",
       "      <th></th>\n",
       "      <th></th>\n",
       "      <th></th>\n",
       "      <th></th>\n",
       "      <th></th>\n",
       "      <th></th>\n",
       "      <th></th>\n",
       "      <th></th>\n",
       "      <th></th>\n",
       "      <th></th>\n",
       "      <th></th>\n",
       "      <th></th>\n",
       "      <th></th>\n",
       "      <th></th>\n",
       "    </tr>\n",
       "  </thead>\n",
       "  <tbody>\n",
       "    <tr>\n",
       "      <th>2018-05-31 06:00:00</th>\n",
       "      <td>6</td>\n",
       "      <td>6</td>\n",
       "      <td>31</td>\n",
       "      <td>5</td>\n",
       "      <td>48.0</td>\n",
       "      <td>142.0</td>\n",
       "      <td>92.0</td>\n",
       "      <td>101.0</td>\n",
       "      <td>61.0</td>\n",
       "      <td>137.0</td>\n",
       "      <td>85.0</td>\n",
       "      <td>79.0</td>\n",
       "      <td>115.0</td>\n",
       "      <td>98.0</td>\n",
       "      <td>102.0</td>\n",
       "      <td>53.0</td>\n",
       "      <td>72.479167</td>\n",
       "    </tr>\n",
       "    <tr>\n",
       "      <th>2018-08-27 06:00:00</th>\n",
       "      <td>31</td>\n",
       "      <td>6</td>\n",
       "      <td>27</td>\n",
       "      <td>8</td>\n",
       "      <td>62.0</td>\n",
       "      <td>295.0</td>\n",
       "      <td>208.0</td>\n",
       "      <td>408.0</td>\n",
       "      <td>222.0</td>\n",
       "      <td>263.0</td>\n",
       "      <td>238.0</td>\n",
       "      <td>145.0</td>\n",
       "      <td>107.0</td>\n",
       "      <td>122.0</td>\n",
       "      <td>126.0</td>\n",
       "      <td>127.0</td>\n",
       "      <td>145.791667</td>\n",
       "    </tr>\n",
       "    <tr>\n",
       "      <th>2018-04-02 13:00:00</th>\n",
       "      <td>64</td>\n",
       "      <td>13</td>\n",
       "      <td>2</td>\n",
       "      <td>4</td>\n",
       "      <td>57.0</td>\n",
       "      <td>82.0</td>\n",
       "      <td>111.0</td>\n",
       "      <td>57.0</td>\n",
       "      <td>62.0</td>\n",
       "      <td>7.0</td>\n",
       "      <td>20.0</td>\n",
       "      <td>33.0</td>\n",
       "      <td>33.0</td>\n",
       "      <td>47.0</td>\n",
       "      <td>57.0</td>\n",
       "      <td>101.0</td>\n",
       "      <td>57.979167</td>\n",
       "    </tr>\n",
       "    <tr>\n",
       "      <th>2018-08-31 13:00:00</th>\n",
       "      <td>166</td>\n",
       "      <td>13</td>\n",
       "      <td>31</td>\n",
       "      <td>8</td>\n",
       "      <td>136.0</td>\n",
       "      <td>167.0</td>\n",
       "      <td>191.0</td>\n",
       "      <td>203.0</td>\n",
       "      <td>182.0</td>\n",
       "      <td>46.0</td>\n",
       "      <td>35.0</td>\n",
       "      <td>78.0</td>\n",
       "      <td>268.0</td>\n",
       "      <td>99.0</td>\n",
       "      <td>230.0</td>\n",
       "      <td>194.0</td>\n",
       "      <td>170.645833</td>\n",
       "    </tr>\n",
       "    <tr>\n",
       "      <th>2018-08-25 22:00:00</th>\n",
       "      <td>155</td>\n",
       "      <td>22</td>\n",
       "      <td>25</td>\n",
       "      <td>8</td>\n",
       "      <td>162.0</td>\n",
       "      <td>105.0</td>\n",
       "      <td>123.0</td>\n",
       "      <td>123.0</td>\n",
       "      <td>158.0</td>\n",
       "      <td>182.0</td>\n",
       "      <td>150.0</td>\n",
       "      <td>130.0</td>\n",
       "      <td>63.0</td>\n",
       "      <td>114.0</td>\n",
       "      <td>103.0</td>\n",
       "      <td>126.0</td>\n",
       "      <td>141.583333</td>\n",
       "    </tr>\n",
       "  </tbody>\n",
       "</table>\n",
       "</div>"
      ],
      "text/plain": [
       "                     num_orders  hour  day  month  lag_1  lag_2  lag_3  lag_4  \\\n",
       "datetime                                                                        \n",
       "2018-05-31 06:00:00           6     6   31      5   48.0  142.0   92.0  101.0   \n",
       "2018-08-27 06:00:00          31     6   27      8   62.0  295.0  208.0  408.0   \n",
       "2018-04-02 13:00:00          64    13    2      4   57.0   82.0  111.0   57.0   \n",
       "2018-08-31 13:00:00         166    13   31      8  136.0  167.0  191.0  203.0   \n",
       "2018-08-25 22:00:00         155    22   25      8  162.0  105.0  123.0  123.0   \n",
       "\n",
       "                     lag_5  lag_6  lag_7  lag_8  lag_9  lag_10  lag_11  \\\n",
       "datetime                                                                 \n",
       "2018-05-31 06:00:00   61.0  137.0   85.0   79.0  115.0    98.0   102.0   \n",
       "2018-08-27 06:00:00  222.0  263.0  238.0  145.0  107.0   122.0   126.0   \n",
       "2018-04-02 13:00:00   62.0    7.0   20.0   33.0   33.0    47.0    57.0   \n",
       "2018-08-31 13:00:00  182.0   46.0   35.0   78.0  268.0    99.0   230.0   \n",
       "2018-08-25 22:00:00  158.0  182.0  150.0  130.0   63.0   114.0   103.0   \n",
       "\n",
       "                     lag_12  rolling_mean  \n",
       "datetime                                   \n",
       "2018-05-31 06:00:00    53.0     72.479167  \n",
       "2018-08-27 06:00:00   127.0    145.791667  \n",
       "2018-04-02 13:00:00   101.0     57.979167  \n",
       "2018-08-31 13:00:00   194.0    170.645833  \n",
       "2018-08-25 22:00:00   126.0    141.583333  "
      ]
     },
     "execution_count": 22,
     "metadata": {},
     "output_type": "execute_result"
    }
   ],
   "source": [
    "dataset = create_dataset(12, 48)\n",
    "dataset.sample(5)"
   ]
  },
  {
   "cell_type": "markdown",
   "metadata": {},
   "source": [
    "### Разделение на выборки"
   ]
  },
  {
   "cell_type": "code",
   "execution_count": 23,
   "metadata": {},
   "outputs": [],
   "source": [
    "train, test = train_test_split(dataset, test_size=0.1, shuffle=False)\n",
    "train = train.dropna()"
   ]
  },
  {
   "cell_type": "code",
   "execution_count": 24,
   "metadata": {},
   "outputs": [],
   "source": [
    "X_train, y_train = train.drop('num_orders', axis=1), train['num_orders']"
   ]
  },
  {
   "cell_type": "code",
   "execution_count": 25,
   "metadata": {},
   "outputs": [
    {
     "data": {
      "text/plain": [
       "(3927, 16)"
      ]
     },
     "execution_count": 25,
     "metadata": {},
     "output_type": "execute_result"
    }
   ],
   "source": [
    "X_train.shape"
   ]
  },
  {
   "cell_type": "code",
   "execution_count": 26,
   "metadata": {},
   "outputs": [],
   "source": [
    "X_test, y_test = test.drop('num_orders', axis=1), test['num_orders']"
   ]
  },
  {
   "cell_type": "code",
   "execution_count": 27,
   "metadata": {},
   "outputs": [
    {
     "data": {
      "text/plain": [
       "(442, 16)"
      ]
     },
     "execution_count": 27,
     "metadata": {},
     "output_type": "execute_result"
    }
   ],
   "source": [
    "X_test.shape"
   ]
  },
  {
   "cell_type": "markdown",
   "metadata": {},
   "source": [
    "### Обучение моделей"
   ]
  },
  {
   "cell_type": "markdown",
   "metadata": {},
   "source": [
    "#### rmse"
   ]
  },
  {
   "cell_type": "code",
   "execution_count": 28,
   "metadata": {},
   "outputs": [],
   "source": [
    "rmse = make_scorer(lambda x, y: np.sqrt(mean_squared_error(x, y)), greater_is_better=False)"
   ]
  },
  {
   "cell_type": "code",
   "execution_count": 29,
   "metadata": {},
   "outputs": [],
   "source": [
    "time_series_split = TimeSeriesSplit(n_splits=3)"
   ]
  },
  {
   "cell_type": "markdown",
   "metadata": {},
   "source": [
    "#### Dummy model"
   ]
  },
  {
   "cell_type": "markdown",
   "metadata": {},
   "source": [
    "Обучим дамми модель для сравнения"
   ]
  },
  {
   "cell_type": "code",
   "execution_count": 31,
   "metadata": {},
   "outputs": [
    {
     "data": {
      "text/plain": [
       "-42.66886165931078"
      ]
     },
     "execution_count": 31,
     "metadata": {},
     "output_type": "execute_result"
    }
   ],
   "source": [
    "try:\n",
    "    dummy_score = cross_val_score(DummyRegressor(), X_train, y_train, scoring=rmse, cv=time_series_split)\n",
    "except Exception as e:\n",
    "    print(\"Couldn't use TimeSeriesSplit\", e)\n",
    "    dummy_score = cross_val_score(DummyRegressor(), X_train, y_train)\n",
    "dummy_score.mean()"
   ]
  },
  {
   "cell_type": "markdown",
   "metadata": {},
   "source": [
    "#### Linear Regressor"
   ]
  },
  {
   "cell_type": "code",
   "execution_count": 32,
   "metadata": {},
   "outputs": [],
   "source": [
    "linear_model_score = cross_val_score(LinearRegression(), X_train, y_train, cv=time_series_split, scoring=rmse)"
   ]
  },
  {
   "cell_type": "code",
   "execution_count": 33,
   "metadata": {},
   "outputs": [
    {
     "data": {
      "text/plain": [
       "-32.043324119948615"
      ]
     },
     "execution_count": 33,
     "metadata": {},
     "output_type": "execute_result"
    }
   ],
   "source": [
    "linear_model_score.mean()"
   ]
  },
  {
   "cell_type": "markdown",
   "metadata": {},
   "source": [
    "#### Decision Tree"
   ]
  },
  {
   "cell_type": "code",
   "execution_count": 34,
   "metadata": {},
   "outputs": [],
   "source": [
    "params = {'max_depth': range(1, 25)}"
   ]
  },
  {
   "cell_type": "code",
   "execution_count": 35,
   "metadata": {},
   "outputs": [
    {
     "name": "stdout",
     "output_type": "stream",
     "text": [
      "CPU times: user 1.54 s, sys: 116 µs, total: 1.54 s\n",
      "Wall time: 1.54 s\n"
     ]
    }
   ],
   "source": [
    "%%time\n",
    "\n",
    "tree_model = GridSearchCV(DecisionTreeRegressor(), param_grid=params, cv=time_series_split, scoring=rmse).fit(X_train, y_train)"
   ]
  },
  {
   "cell_type": "code",
   "execution_count": 36,
   "metadata": {},
   "outputs": [
    {
     "data": {
      "text/plain": [
       "-33.5788104282959"
      ]
     },
     "execution_count": 36,
     "metadata": {},
     "output_type": "execute_result"
    }
   ],
   "source": [
    "tree_model.best_score_"
   ]
  },
  {
   "cell_type": "code",
   "execution_count": 37,
   "metadata": {},
   "outputs": [
    {
     "data": {
      "text/plain": [
       "{'max_depth': 4}"
      ]
     },
     "execution_count": 37,
     "metadata": {},
     "output_type": "execute_result"
    }
   ],
   "source": [
    "tree_model.best_params_"
   ]
  },
  {
   "cell_type": "markdown",
   "metadata": {},
   "source": [
    "#### Forest"
   ]
  },
  {
   "cell_type": "code",
   "execution_count": 38,
   "metadata": {},
   "outputs": [],
   "source": [
    "params = {'max_depth': range(5, 15), 'n_estimators': range(50, 201, 50)}"
   ]
  },
  {
   "cell_type": "code",
   "execution_count": 39,
   "metadata": {},
   "outputs": [
    {
     "name": "stdout",
     "output_type": "stream",
     "text": [
      "CPU times: user 2min 41s, sys: 747 ms, total: 2min 42s\n",
      "Wall time: 2min 42s\n"
     ]
    }
   ],
   "source": [
    "%%time\n",
    "\n",
    "forest_model = GridSearchCV(RandomForestRegressor(),\n",
    "                            param_grid=params,\n",
    "                            cv=time_series_split,\n",
    "                            scoring=rmse).fit(X_train, y_train)"
   ]
  },
  {
   "cell_type": "code",
   "execution_count": 40,
   "metadata": {},
   "outputs": [
    {
     "data": {
      "text/plain": [
       "-26.486414732932598"
      ]
     },
     "execution_count": 40,
     "metadata": {},
     "output_type": "execute_result"
    }
   ],
   "source": [
    "forest_model.best_score_"
   ]
  },
  {
   "cell_type": "code",
   "execution_count": 41,
   "metadata": {},
   "outputs": [
    {
     "data": {
      "text/plain": [
       "{'max_depth': 14, 'n_estimators': 200}"
      ]
     },
     "execution_count": 41,
     "metadata": {},
     "output_type": "execute_result"
    }
   ],
   "source": [
    "forest_model.best_params_"
   ]
  },
  {
   "cell_type": "markdown",
   "metadata": {},
   "source": [
    "#### Catboost"
   ]
  },
  {
   "cell_type": "code",
   "execution_count": 42,
   "metadata": {},
   "outputs": [],
   "source": [
    "params = {'max_depth': range(1, 5), 'iterations': range(500, 1001, 100)}"
   ]
  },
  {
   "cell_type": "code",
   "execution_count": 43,
   "metadata": {},
   "outputs": [
    {
     "name": "stdout",
     "output_type": "stream",
     "text": [
      "CPU times: user 43.5 s, sys: 4.38 s, total: 47.9 s\n",
      "Wall time: 1min 44s\n"
     ]
    }
   ],
   "source": [
    "%%time\n",
    "\n",
    "boosting_model = GridSearchCV(CatBoostRegressor(verbose=False),\n",
    "                              param_grid=params,\n",
    "                              cv=time_series_split,\n",
    "                              scoring=rmse).fit(X_train, y_train)"
   ]
  },
  {
   "cell_type": "code",
   "execution_count": 44,
   "metadata": {},
   "outputs": [
    {
     "data": {
      "text/plain": [
       "-26.321346197274455"
      ]
     },
     "execution_count": 44,
     "metadata": {},
     "output_type": "execute_result"
    }
   ],
   "source": [
    "boosting_model.best_score_"
   ]
  },
  {
   "cell_type": "code",
   "execution_count": 45,
   "metadata": {},
   "outputs": [
    {
     "data": {
      "text/plain": [
       "{'iterations': 600, 'max_depth': 3}"
      ]
     },
     "execution_count": 45,
     "metadata": {},
     "output_type": "execute_result"
    }
   ],
   "source": [
    "boosting_model.best_params_"
   ]
  },
  {
   "cell_type": "markdown",
   "metadata": {},
   "source": [
    "### Итоги"
   ]
  },
  {
   "cell_type": "code",
   "execution_count": 46,
   "metadata": {},
   "outputs": [
    {
     "data": {
      "text/html": [
       "<div>\n",
       "<style scoped>\n",
       "    .dataframe tbody tr th:only-of-type {\n",
       "        vertical-align: middle;\n",
       "    }\n",
       "\n",
       "    .dataframe tbody tr th {\n",
       "        vertical-align: top;\n",
       "    }\n",
       "\n",
       "    .dataframe thead th {\n",
       "        text-align: right;\n",
       "    }\n",
       "</style>\n",
       "<table border=\"1\" class=\"dataframe\">\n",
       "  <thead>\n",
       "    <tr style=\"text-align: right;\">\n",
       "      <th></th>\n",
       "      <th>rmse score</th>\n",
       "    </tr>\n",
       "  </thead>\n",
       "  <tbody>\n",
       "    <tr>\n",
       "      <th>dummy</th>\n",
       "      <td>42.7</td>\n",
       "    </tr>\n",
       "    <tr>\n",
       "      <th>linear regressor</th>\n",
       "      <td>32.0</td>\n",
       "    </tr>\n",
       "    <tr>\n",
       "      <th>tree</th>\n",
       "      <td>33.6</td>\n",
       "    </tr>\n",
       "    <tr>\n",
       "      <th>forest</th>\n",
       "      <td>26.4</td>\n",
       "    </tr>\n",
       "    <tr>\n",
       "      <th>boosting</th>\n",
       "      <td>26.3</td>\n",
       "    </tr>\n",
       "  </tbody>\n",
       "</table>\n",
       "</div>"
      ],
      "text/plain": [
       "                  rmse score\n",
       "dummy                   42.7\n",
       "linear regressor        32.0\n",
       "tree                    33.6\n",
       "forest                  26.4\n",
       "boosting                26.3"
      ]
     },
     "execution_count": 46,
     "metadata": {},
     "output_type": "execute_result"
    }
   ],
   "source": [
    "results_table = pd.DataFrame(data=[42.7, 32.0, 33.6, 26.4, 26.3],\n",
    "                             columns=['rmse score'],\n",
    "                             index=['dummy', 'linear regressor', 'tree', 'forest', 'boosting'])\n",
    "results_table"
   ]
  },
  {
   "cell_type": "code",
   "execution_count": 47,
   "metadata": {},
   "outputs": [
    {
     "data": {
      "image/png": "[encoded data removed]",
      "text/plain": [
       "<Figure size 720x504 with 1 Axes>"
      ]
     },
     "metadata": {
      "needs_background": "light"
     },
     "output_type": "display_data"
    }
   ],
   "source": [
    "plt.figure(figsize=(10, 7))\n",
    "sbs.barplot(x=results_table.index, y=results_table['rmse score'])\n",
    "plt.xlabel('Модель')\n",
    "plt.ylabel('RMSE метрика');"
   ]
  },
  {
   "cell_type": "markdown",
   "metadata": {},
   "source": [
    "Лучший результат показала модель catboost"
   ]
  },
  {
   "cell_type": "markdown",
   "metadata": {},
   "source": [
    "## Тестирование"
   ]
  },
  {
   "cell_type": "markdown",
   "metadata": {},
   "source": [
    "Протестируем модель на тестовой выборке"
   ]
  },
  {
   "cell_type": "code",
   "execution_count": 48,
   "metadata": {},
   "outputs": [
    {
     "data": {
      "text/plain": [
       "45.3278343549692"
      ]
     },
     "execution_count": 48,
     "metadata": {},
     "output_type": "execute_result"
    }
   ],
   "source": [
    "best_model = boosting_model.best_estimator_\n",
    "predictions = best_model.predict(X_test)\n",
    "\n",
    "np.sqrt(mean_squared_error(y_test, predictions))"
   ]
  },
  {
   "cell_type": "code",
   "execution_count": 49,
   "metadata": {
    "scrolled": false
   },
   "outputs": [
    {
     "data": {
      "text/plain": [
       "<matplotlib.legend.Legend at 0x7fcf060c8760>"
      ]
     },
     "execution_count": 49,
     "metadata": {},
     "output_type": "execute_result"
    },
    {
     "data": {
      "image/png": "[encoded data removed]",
      "text/plain": [
       "<Figure size 720x504 with 1 Axes>"
      ]
     },
     "metadata": {
      "needs_background": "light"
     },
     "output_type": "display_data"
    }
   ],
   "source": [
    "plt.figure(figsize=(10, 7))\n",
    "plt.plot(X_test.index, predictions, label='prediction')\n",
    "y_test.plot(ax=plt.gca())\n",
    "plt.grid(True)\n",
    "plt.legend()"
   ]
  },
  {
   "cell_type": "markdown",
   "metadata": {},
   "source": [
    "RMSE ниже 48"
   ]
  },
  {
   "cell_type": "markdown",
   "metadata": {},
   "source": [
    "## Выводы"
   ]
  },
  {
   "cell_type": "markdown",
   "metadata": {},
   "source": [
    "В процессе работы было выполнено:\n",
    " - загрузка и предобработка данных\n",
    " - анализ данных:\n",
    "  - проанализирован график \"сырых\" данных\n",
    "  - проанализированы графики тренда и сезонности\n",
    "  - проанализирован график сдвига\n",
    " - добавлены признаки для обучения\n",
    " - выбрана модель catboost\n",
    " - модель протестирована на тестовой выборке"
   ]
  }
 ],
 "metadata": {
  "ExecuteTimeLog": [
   {
    "duration": 567,
    "start_time": "2023-03-10T16:22:07.451Z"
   },
   {
    "duration": 822,
    "start_time": "2023-03-10T16:22:25.139Z"
   },
   {
    "duration": 94,
    "start_time": "2023-03-10T16:22:40.930Z"
   },
   {
    "duration": 45,
    "start_time": "2023-03-10T16:22:44.649Z"
   },
   {
    "duration": 148,
    "start_time": "2023-03-10T16:22:59.460Z"
   },
   {
    "duration": 9,
    "start_time": "2023-03-10T16:23:09.985Z"
   },
   {
    "duration": 49,
    "start_time": "2023-03-10T16:23:51.480Z"
   },
   {
    "duration": 67,
    "start_time": "2023-03-10T16:24:29.200Z"
   },
   {
    "duration": 308,
    "start_time": "2023-03-10T16:24:32.443Z"
   },
   {
    "duration": 46,
    "start_time": "2023-03-10T16:25:36.421Z"
   },
   {
    "duration": 12,
    "start_time": "2023-03-10T16:26:02.781Z"
   },
   {
    "duration": 13,
    "start_time": "2023-03-10T16:26:11.021Z"
   },
   {
    "duration": 6,
    "start_time": "2023-03-10T16:27:15.154Z"
   },
   {
    "duration": 46,
    "start_time": "2023-03-10T16:27:30.677Z"
   },
   {
    "duration": 13,
    "start_time": "2023-03-10T16:27:31.021Z"
   },
   {
    "duration": 13,
    "start_time": "2023-03-10T16:27:31.354Z"
   },
   {
    "duration": 16,
    "start_time": "2023-03-10T16:27:32.731Z"
   },
   {
    "duration": 9,
    "start_time": "2023-03-10T16:27:40.231Z"
   },
   {
    "duration": 43,
    "start_time": "2023-03-10T16:27:42.682Z"
   },
   {
    "duration": 12,
    "start_time": "2023-03-10T16:27:42.862Z"
   },
   {
    "duration": 13,
    "start_time": "2023-03-10T16:27:43.031Z"
   },
   {
    "duration": 10,
    "start_time": "2023-03-10T16:27:44.354Z"
   },
   {
    "duration": 1303,
    "start_time": "2023-03-10T16:28:03.943Z"
   },
   {
    "duration": 55,
    "start_time": "2023-03-10T16:28:08.012Z"
   },
   {
    "duration": 12,
    "start_time": "2023-03-10T16:28:08.154Z"
   },
   {
    "duration": 13,
    "start_time": "2023-03-10T16:28:08.312Z"
   },
   {
    "duration": 8,
    "start_time": "2023-03-10T16:28:08.602Z"
   },
   {
    "duration": 8,
    "start_time": "2023-03-10T16:28:10.902Z"
   },
   {
    "duration": 16,
    "start_time": "2023-03-10T16:29:08.233Z"
   },
   {
    "duration": 4,
    "start_time": "2023-03-10T16:30:02.694Z"
   },
   {
    "duration": 11,
    "start_time": "2023-03-10T16:30:21.154Z"
   },
   {
    "duration": 10,
    "start_time": "2023-03-10T16:30:25.744Z"
   },
   {
    "duration": 245,
    "start_time": "2023-03-10T16:31:35.085Z"
   },
   {
    "duration": 10,
    "start_time": "2023-03-10T16:32:54.905Z"
   },
   {
    "duration": 1377,
    "start_time": "2023-03-10T16:33:53.909Z"
   },
   {
    "duration": 1187,
    "start_time": "2023-03-10T16:34:16.686Z"
   },
   {
    "duration": 1165,
    "start_time": "2023-03-10T16:35:00.797Z"
   },
   {
    "duration": 55,
    "start_time": "2023-03-10T16:35:01.963Z"
   },
   {
    "duration": 11,
    "start_time": "2023-03-10T16:35:02.020Z"
   },
   {
    "duration": 48,
    "start_time": "2023-03-10T16:35:02.033Z"
   },
   {
    "duration": 9,
    "start_time": "2023-03-10T16:35:21.037Z"
   },
   {
    "duration": 9,
    "start_time": "2023-03-10T16:35:21.457Z"
   },
   {
    "duration": 5,
    "start_time": "2023-03-10T16:35:22.157Z"
   },
   {
    "duration": 12,
    "start_time": "2023-03-10T16:35:22.417Z"
   },
   {
    "duration": 222,
    "start_time": "2023-03-10T16:35:23.600Z"
   },
   {
    "duration": 1245,
    "start_time": "2023-03-10T16:35:24.457Z"
   },
   {
    "duration": 5,
    "start_time": "2023-03-10T16:35:36.327Z"
   },
   {
    "duration": 15,
    "start_time": "2023-03-10T16:35:41.917Z"
   },
   {
    "duration": 6,
    "start_time": "2023-03-10T16:36:16.818Z"
   },
   {
    "duration": 268,
    "start_time": "2023-03-10T16:36:21.497Z"
   },
   {
    "duration": 284,
    "start_time": "2023-03-10T16:36:36.717Z"
   },
   {
    "duration": 470,
    "start_time": "2023-03-10T16:36:47.208Z"
   },
   {
    "duration": 326,
    "start_time": "2023-03-10T16:36:52.507Z"
   },
   {
    "duration": 361,
    "start_time": "2023-03-10T16:36:58.448Z"
   },
   {
    "duration": 391,
    "start_time": "2023-03-10T16:37:05.297Z"
   },
   {
    "duration": 319,
    "start_time": "2023-03-10T16:37:23.438Z"
   },
   {
    "duration": 99,
    "start_time": "2023-03-10T16:42:13.632Z"
   },
   {
    "duration": 7,
    "start_time": "2023-03-10T16:42:38.582Z"
   },
   {
    "duration": 13,
    "start_time": "2023-03-10T16:43:13.002Z"
   },
   {
    "duration": 10339,
    "start_time": "2023-03-10T16:43:27.222Z"
   },
   {
    "duration": 241,
    "start_time": "2023-03-10T16:44:01.702Z"
   },
   {
    "duration": 205,
    "start_time": "2023-03-10T16:44:11.043Z"
   },
   {
    "duration": 5,
    "start_time": "2023-03-10T16:44:18.573Z"
   },
   {
    "duration": 209,
    "start_time": "2023-03-10T16:44:24.843Z"
   },
   {
    "duration": 311,
    "start_time": "2023-03-10T16:45:27.174Z"
   },
   {
    "duration": 329,
    "start_time": "2023-03-10T16:45:56.625Z"
   },
   {
    "duration": 421,
    "start_time": "2023-03-10T16:46:07.305Z"
   },
   {
    "duration": 421,
    "start_time": "2023-03-10T16:46:16.255Z"
   },
   {
    "duration": 697,
    "start_time": "2023-03-10T16:46:57.206Z"
   },
   {
    "duration": 680,
    "start_time": "2023-03-10T16:47:04.655Z"
   },
   {
    "duration": 602,
    "start_time": "2023-03-10T16:47:22.554Z"
   },
   {
    "duration": 687,
    "start_time": "2023-03-10T16:47:57.346Z"
   },
   {
    "duration": 582,
    "start_time": "2023-03-10T16:48:02.215Z"
   },
   {
    "duration": 750,
    "start_time": "2023-03-10T16:48:10.586Z"
   },
   {
    "duration": 598,
    "start_time": "2023-03-10T16:48:28.667Z"
   },
   {
    "duration": 1277,
    "start_time": "2023-03-10T16:48:47.017Z"
   },
   {
    "duration": 53,
    "start_time": "2023-03-10T16:48:48.296Z"
   },
   {
    "duration": 15,
    "start_time": "2023-03-10T16:48:48.351Z"
   },
   {
    "duration": 15,
    "start_time": "2023-03-10T16:48:48.368Z"
   },
   {
    "duration": 9,
    "start_time": "2023-03-10T16:48:48.385Z"
   },
   {
    "duration": 10,
    "start_time": "2023-03-10T16:48:48.486Z"
   },
   {
    "duration": 4,
    "start_time": "2023-03-10T16:48:48.697Z"
   },
   {
    "duration": 13,
    "start_time": "2023-03-10T16:48:48.916Z"
   },
   {
    "duration": 266,
    "start_time": "2023-03-10T16:48:49.846Z"
   },
   {
    "duration": 337,
    "start_time": "2023-03-10T16:48:50.597Z"
   },
   {
    "duration": 6,
    "start_time": "2023-03-10T16:48:51.307Z"
   },
   {
    "duration": 719,
    "start_time": "2023-03-10T16:48:51.777Z"
   },
   {
    "duration": 212,
    "start_time": "2023-03-10T16:49:48.797Z"
   },
   {
    "duration": 270,
    "start_time": "2023-03-10T16:50:11.129Z"
   },
   {
    "duration": 146,
    "start_time": "2023-03-10T16:50:26.848Z"
   },
   {
    "duration": 142,
    "start_time": "2023-03-10T16:50:38.879Z"
   },
   {
    "duration": 134,
    "start_time": "2023-03-10T16:50:50.579Z"
   },
   {
    "duration": 194,
    "start_time": "2023-03-10T16:51:12.158Z"
   },
   {
    "duration": 127,
    "start_time": "2023-03-10T16:51:44.598Z"
   },
   {
    "duration": 142,
    "start_time": "2023-03-10T16:52:05.389Z"
   },
   {
    "duration": 150,
    "start_time": "2023-03-10T16:52:11.629Z"
   },
   {
    "duration": 159,
    "start_time": "2023-03-10T16:52:41.939Z"
   },
   {
    "duration": 141,
    "start_time": "2023-03-10T16:52:48.659Z"
   },
   {
    "duration": 7,
    "start_time": "2023-03-10T17:05:50.169Z"
   },
   {
    "duration": 8,
    "start_time": "2023-03-10T17:05:58.998Z"
   },
   {
    "duration": 320,
    "start_time": "2023-03-10T17:06:08.239Z"
   },
   {
    "duration": 1371,
    "start_time": "2023-03-10T17:06:56.931Z"
   },
   {
    "duration": 32,
    "start_time": "2023-03-10T17:07:05.060Z"
   },
   {
    "duration": 31,
    "start_time": "2023-03-10T17:07:23.241Z"
   },
   {
    "duration": 16,
    "start_time": "2023-03-10T17:09:47.623Z"
   },
   {
    "duration": 322,
    "start_time": "2023-03-10T17:10:13.068Z"
   },
   {
    "duration": 4,
    "start_time": "2023-03-10T17:14:01.476Z"
   },
   {
    "duration": 48,
    "start_time": "2023-03-10T17:18:03.004Z"
   },
   {
    "duration": 6,
    "start_time": "2023-03-10T17:18:04.918Z"
   },
   {
    "duration": 6,
    "start_time": "2023-03-10T17:21:57.172Z"
   },
   {
    "duration": 16,
    "start_time": "2023-03-10T17:22:15.161Z"
   },
   {
    "duration": 6,
    "start_time": "2023-03-10T17:22:51.429Z"
   },
   {
    "duration": 22,
    "start_time": "2023-03-10T17:22:52.351Z"
   },
   {
    "duration": 5,
    "start_time": "2023-03-10T17:22:56.663Z"
   },
   {
    "duration": 28,
    "start_time": "2023-03-10T17:22:56.932Z"
   },
   {
    "duration": 5,
    "start_time": "2023-03-10T17:23:03.972Z"
   },
   {
    "duration": 29,
    "start_time": "2023-03-10T17:23:04.192Z"
   },
   {
    "duration": 4,
    "start_time": "2023-03-10T17:23:07.812Z"
   },
   {
    "duration": 19,
    "start_time": "2023-03-10T17:23:08.402Z"
   },
   {
    "duration": 24,
    "start_time": "2023-03-10T17:23:13.291Z"
   },
   {
    "duration": 60,
    "start_time": "2023-03-10T17:23:19.279Z"
   },
   {
    "duration": 1145,
    "start_time": "2023-03-10T17:23:55.182Z"
   },
   {
    "duration": 54,
    "start_time": "2023-03-10T17:23:56.330Z"
   },
   {
    "duration": 7,
    "start_time": "2023-03-10T17:23:56.388Z"
   },
   {
    "duration": 24,
    "start_time": "2023-03-10T17:23:56.399Z"
   },
   {
    "duration": 30,
    "start_time": "2023-03-10T17:23:56.425Z"
   },
   {
    "duration": 9,
    "start_time": "2023-03-10T17:23:56.456Z"
   },
   {
    "duration": 12,
    "start_time": "2023-03-10T17:23:56.467Z"
   },
   {
    "duration": 14,
    "start_time": "2023-03-10T17:23:56.480Z"
   },
   {
    "duration": 19,
    "start_time": "2023-03-10T17:23:56.495Z"
   },
   {
    "duration": 311,
    "start_time": "2023-03-10T17:23:56.515Z"
   },
   {
    "duration": 395,
    "start_time": "2023-03-10T17:23:56.827Z"
   },
   {
    "duration": 7,
    "start_time": "2023-03-10T17:23:57.223Z"
   },
   {
    "duration": 806,
    "start_time": "2023-03-10T17:23:57.233Z"
   },
   {
    "duration": 315,
    "start_time": "2023-03-10T17:23:58.053Z"
   },
   {
    "duration": 169,
    "start_time": "2023-03-10T17:23:58.370Z"
   },
   {
    "duration": 199,
    "start_time": "2023-03-10T17:23:58.550Z"
   },
   {
    "duration": 351,
    "start_time": "2023-03-10T17:23:58.754Z"
   },
   {
    "duration": 6,
    "start_time": "2023-03-10T17:24:02.874Z"
   },
   {
    "duration": 41,
    "start_time": "2023-03-10T17:24:03.159Z"
   },
   {
    "duration": 6,
    "start_time": "2023-03-10T17:25:06.207Z"
   },
   {
    "duration": 430,
    "start_time": "2023-03-10T17:25:34.018Z"
   },
   {
    "duration": 6,
    "start_time": "2023-03-10T17:25:56.099Z"
   },
   {
    "duration": 4,
    "start_time": "2023-03-10T17:26:00.078Z"
   },
   {
    "duration": 5,
    "start_time": "2023-03-10T17:26:39.160Z"
   },
   {
    "duration": 114,
    "start_time": "2023-03-10T17:26:47.080Z"
   },
   {
    "duration": 6,
    "start_time": "2023-03-10T17:26:49.841Z"
   },
   {
    "duration": 4,
    "start_time": "2023-03-10T17:26:53.370Z"
   },
   {
    "duration": 9,
    "start_time": "2023-03-10T17:26:58.070Z"
   },
   {
    "duration": 4,
    "start_time": "2023-03-10T17:26:59.820Z"
   },
   {
    "duration": 4,
    "start_time": "2023-03-10T17:31:27.010Z"
   },
   {
    "duration": 593,
    "start_time": "2023-03-10T17:31:28.431Z"
   },
   {
    "duration": 526,
    "start_time": "2023-03-10T17:32:08.970Z"
   },
   {
    "duration": 177,
    "start_time": "2023-03-10T17:35:10.235Z"
   },
   {
    "duration": 9,
    "start_time": "2023-03-10T17:37:15.667Z"
   },
   {
    "duration": 5,
    "start_time": "2023-03-10T17:37:18.088Z"
   },
   {
    "duration": 14,
    "start_time": "2023-03-10T17:37:43.499Z"
   },
   {
    "duration": 13,
    "start_time": "2023-03-10T17:38:16.070Z"
   },
   {
    "duration": 9,
    "start_time": "2023-03-10T17:38:59.680Z"
   },
   {
    "duration": 606,
    "start_time": "2023-03-10T17:39:09.490Z"
   },
   {
    "duration": 1151,
    "start_time": "2023-03-10T17:39:12.030Z"
   },
   {
    "duration": 601,
    "start_time": "2023-03-10T17:39:24.709Z"
   },
   {
    "duration": 191,
    "start_time": "2023-03-10T17:39:29.311Z"
   },
   {
    "duration": 9,
    "start_time": "2023-03-10T17:39:41.821Z"
   },
   {
    "duration": 9,
    "start_time": "2023-03-10T17:40:00.431Z"
   },
   {
    "duration": 500,
    "start_time": "2023-03-10T17:40:03.552Z"
   },
   {
    "duration": 3,
    "start_time": "2023-03-10T17:40:05.181Z"
   },
   {
    "duration": 117,
    "start_time": "2023-03-10T17:40:48.203Z"
   },
   {
    "duration": 117,
    "start_time": "2023-03-10T17:40:55.543Z"
   },
   {
    "duration": 12,
    "start_time": "2023-03-10T17:42:08.124Z"
   },
   {
    "duration": 518,
    "start_time": "2023-03-10T17:42:12.444Z"
   },
   {
    "duration": 10,
    "start_time": "2023-03-10T17:42:13.494Z"
   },
   {
    "duration": 7,
    "start_time": "2023-03-10T17:42:33.154Z"
   },
   {
    "duration": 182,
    "start_time": "2023-03-10T17:42:39.115Z"
   },
   {
    "duration": 266,
    "start_time": "2023-03-10T17:42:58.185Z"
   },
   {
    "duration": 163,
    "start_time": "2023-03-10T17:43:17.524Z"
   },
   {
    "duration": 22,
    "start_time": "2023-03-10T17:45:31.579Z"
   },
   {
    "duration": 5,
    "start_time": "2023-03-10T17:45:37.898Z"
   },
   {
    "duration": 5,
    "start_time": "2023-03-10T17:45:38.298Z"
   },
   {
    "duration": 6,
    "start_time": "2023-03-10T17:45:38.618Z"
   },
   {
    "duration": 4,
    "start_time": "2023-03-10T17:45:38.947Z"
   },
   {
    "duration": 4,
    "start_time": "2023-03-10T17:45:39.365Z"
   },
   {
    "duration": 58,
    "start_time": "2023-03-10T17:49:05.031Z"
   },
   {
    "duration": 7,
    "start_time": "2023-03-10T17:50:28.647Z"
   },
   {
    "duration": 5,
    "start_time": "2023-03-10T17:51:49.155Z"
   },
   {
    "duration": 3,
    "start_time": "2023-03-10T17:52:28.875Z"
   },
   {
    "duration": 15,
    "start_time": "2023-03-10T17:52:35.595Z"
   },
   {
    "duration": 16,
    "start_time": "2023-03-10T17:52:52.365Z"
   },
   {
    "duration": 15,
    "start_time": "2023-03-10T17:53:29.467Z"
   },
   {
    "duration": 15,
    "start_time": "2023-03-10T17:53:33.462Z"
   },
   {
    "duration": 17,
    "start_time": "2023-03-10T17:55:40.464Z"
   },
   {
    "duration": 8,
    "start_time": "2023-03-10T17:55:42.288Z"
   },
   {
    "duration": 3,
    "start_time": "2023-03-10T17:55:42.491Z"
   },
   {
    "duration": 8,
    "start_time": "2023-03-10T17:55:47.164Z"
   },
   {
    "duration": 4,
    "start_time": "2023-03-10T17:56:11.199Z"
   },
   {
    "duration": 5,
    "start_time": "2023-03-10T17:56:17.656Z"
   },
   {
    "duration": 3,
    "start_time": "2023-03-10T17:56:20.529Z"
   },
   {
    "duration": 23,
    "start_time": "2023-03-10T17:56:27.339Z"
   },
   {
    "duration": 15,
    "start_time": "2023-03-10T17:56:31.360Z"
   },
   {
    "duration": 15,
    "start_time": "2023-03-10T17:56:36.359Z"
   },
   {
    "duration": 17,
    "start_time": "2023-03-10T17:56:59.509Z"
   },
   {
    "duration": 22,
    "start_time": "2023-03-10T17:57:05.230Z"
   },
   {
    "duration": 16,
    "start_time": "2023-03-10T17:57:21.960Z"
   },
   {
    "duration": 15,
    "start_time": "2023-03-10T17:58:20.971Z"
   },
   {
    "duration": 48,
    "start_time": "2023-03-10T17:58:28.222Z"
   },
   {
    "duration": 4,
    "start_time": "2023-03-10T17:58:33.001Z"
   },
   {
    "duration": 10,
    "start_time": "2023-03-10T18:01:27.092Z"
   },
   {
    "duration": 2,
    "start_time": "2023-03-10T18:01:32.772Z"
   },
   {
    "duration": 2430,
    "start_time": "2023-03-10T18:01:33.563Z"
   },
   {
    "duration": 4,
    "start_time": "2023-03-10T18:01:37.112Z"
   },
   {
    "duration": 2386,
    "start_time": "2023-03-10T18:01:44.272Z"
   },
   {
    "duration": 4,
    "start_time": "2023-03-10T18:01:54.257Z"
   },
   {
    "duration": 3,
    "start_time": "2023-03-10T18:02:00.164Z"
   },
   {
    "duration": 2718,
    "start_time": "2023-03-10T18:02:00.492Z"
   },
   {
    "duration": 7,
    "start_time": "2023-03-10T18:02:04.249Z"
   },
   {
    "duration": 5,
    "start_time": "2023-03-10T18:02:05.222Z"
   },
   {
    "duration": 4,
    "start_time": "2023-03-10T18:03:07.394Z"
   },
   {
    "duration": 123,
    "start_time": "2023-03-10T18:03:55.515Z"
   },
   {
    "duration": 3,
    "start_time": "2023-03-10T18:04:14.496Z"
   },
   {
    "duration": 24845,
    "start_time": "2023-03-10T18:04:14.855Z"
   },
   {
    "duration": 5,
    "start_time": "2023-03-10T18:04:39.702Z"
   },
   {
    "duration": 6,
    "start_time": "2023-03-10T18:04:39.708Z"
   },
   {
    "duration": 44,
    "start_time": "2023-03-10T18:05:01.084Z"
   },
   {
    "duration": 7,
    "start_time": "2023-03-10T18:06:40.937Z"
   },
   {
    "duration": 3,
    "start_time": "2023-03-10T18:08:17.187Z"
   },
   {
    "duration": 116740,
    "start_time": "2023-03-10T18:08:17.438Z"
   },
   {
    "duration": 124295,
    "start_time": "2023-03-10T18:12:22.032Z"
   },
   {
    "duration": 8,
    "start_time": "2023-03-10T18:14:26.329Z"
   },
   {
    "duration": 0,
    "start_time": "2023-03-10T18:14:26.339Z"
   },
   {
    "duration": 3,
    "start_time": "2023-03-10T18:16:41.255Z"
   },
   {
    "duration": 3,
    "start_time": "2023-03-10T18:16:41.975Z"
   },
   {
    "duration": 21,
    "start_time": "2023-03-10T18:19:04.783Z"
   },
   {
    "duration": 16,
    "start_time": "2023-03-10T18:19:15.207Z"
   },
   {
    "duration": 4,
    "start_time": "2023-03-10T18:19:49.658Z"
   },
   {
    "duration": 8,
    "start_time": "2023-03-10T18:19:52.919Z"
   },
   {
    "duration": 10,
    "start_time": "2023-03-10T18:35:01.091Z"
   },
   {
    "duration": 6,
    "start_time": "2023-03-10T18:35:08.841Z"
   },
   {
    "duration": 4,
    "start_time": "2023-03-10T18:35:39.541Z"
   },
   {
    "duration": 6,
    "start_time": "2023-03-10T18:35:46.811Z"
   },
   {
    "duration": 12,
    "start_time": "2023-03-10T18:36:04.371Z"
   },
   {
    "duration": 5,
    "start_time": "2023-03-10T18:36:13.351Z"
   },
   {
    "duration": 17,
    "start_time": "2023-03-10T18:37:47.113Z"
   },
   {
    "duration": 17,
    "start_time": "2023-03-10T18:37:56.872Z"
   },
   {
    "duration": 4,
    "start_time": "2023-03-10T18:38:00.172Z"
   },
   {
    "duration": 4,
    "start_time": "2023-03-10T18:38:05.752Z"
   },
   {
    "duration": 6,
    "start_time": "2023-03-10T18:38:53.743Z"
   },
   {
    "duration": 5,
    "start_time": "2023-03-10T18:39:04.935Z"
   },
   {
    "duration": 4,
    "start_time": "2023-03-10T18:50:05.673Z"
   },
   {
    "duration": 28,
    "start_time": "2023-03-10T18:50:16.203Z"
   },
   {
    "duration": 15,
    "start_time": "2023-03-10T18:51:23.844Z"
   },
   {
    "duration": 4,
    "start_time": "2023-03-10T18:51:48.634Z"
   },
   {
    "duration": 3,
    "start_time": "2023-03-10T18:52:11.864Z"
   },
   {
    "duration": 43,
    "start_time": "2023-03-10T18:52:21.674Z"
   },
   {
    "duration": 16,
    "start_time": "2023-03-10T18:54:17.907Z"
   },
   {
    "duration": 19,
    "start_time": "2023-03-10T18:54:28.227Z"
   },
   {
    "duration": 4,
    "start_time": "2023-03-10T18:54:43.177Z"
   },
   {
    "duration": 17,
    "start_time": "2023-03-10T18:54:44.957Z"
   },
   {
    "duration": 9,
    "start_time": "2023-03-10T18:54:55.857Z"
   },
   {
    "duration": 17,
    "start_time": "2023-03-10T18:55:01.467Z"
   },
   {
    "duration": 5,
    "start_time": "2023-03-10T18:55:07.827Z"
   },
   {
    "duration": 11,
    "start_time": "2023-03-10T18:55:27.478Z"
   },
   {
    "duration": 10,
    "start_time": "2023-03-10T18:55:40.717Z"
   },
   {
    "duration": 11,
    "start_time": "2023-03-10T18:55:44.447Z"
   },
   {
    "duration": 3,
    "start_time": "2023-03-10T18:57:35.358Z"
   },
   {
    "duration": 16,
    "start_time": "2023-03-10T18:57:39.479Z"
   },
   {
    "duration": 5,
    "start_time": "2023-03-10T18:59:25.010Z"
   },
   {
    "duration": 4,
    "start_time": "2023-03-10T18:59:38.671Z"
   },
   {
    "duration": 5,
    "start_time": "2023-03-10T18:59:41.650Z"
   },
   {
    "duration": 17,
    "start_time": "2023-03-10T18:59:46.502Z"
   },
   {
    "duration": 16,
    "start_time": "2023-03-10T18:59:55.891Z"
   },
   {
    "duration": 21,
    "start_time": "2023-03-10T18:59:59.231Z"
   },
   {
    "duration": 7,
    "start_time": "2023-03-10T19:04:08.845Z"
   },
   {
    "duration": 14,
    "start_time": "2023-03-10T19:04:12.064Z"
   },
   {
    "duration": 5,
    "start_time": "2023-03-10T19:04:24.295Z"
   },
   {
    "duration": 9,
    "start_time": "2023-03-10T19:04:35.145Z"
   },
   {
    "duration": 5,
    "start_time": "2023-03-10T19:04:40.665Z"
   },
   {
    "duration": 3,
    "start_time": "2023-03-10T19:04:45.235Z"
   },
   {
    "duration": 18,
    "start_time": "2023-03-10T19:04:49.026Z"
   },
   {
    "duration": 25,
    "start_time": "2023-03-10T19:05:51.946Z"
   },
   {
    "duration": 5,
    "start_time": "2023-03-10T19:07:17.738Z"
   },
   {
    "duration": 3,
    "start_time": "2023-03-10T19:07:21.987Z"
   },
   {
    "duration": 22,
    "start_time": "2023-03-10T19:07:26.748Z"
   },
   {
    "duration": 18,
    "start_time": "2023-03-10T19:17:05.915Z"
   },
   {
    "duration": 1871,
    "start_time": "2023-03-11T05:13:31.718Z"
   },
   {
    "duration": 108,
    "start_time": "2023-03-11T05:13:33.590Z"
   },
   {
    "duration": 7,
    "start_time": "2023-03-11T05:13:33.700Z"
   },
   {
    "duration": 38,
    "start_time": "2023-03-11T05:13:33.708Z"
   },
   {
    "duration": 14,
    "start_time": "2023-03-11T05:13:33.747Z"
   },
   {
    "duration": 12,
    "start_time": "2023-03-11T05:13:33.763Z"
   },
   {
    "duration": 21,
    "start_time": "2023-03-11T05:13:33.777Z"
   },
   {
    "duration": 18,
    "start_time": "2023-03-11T05:13:33.800Z"
   },
   {
    "duration": 32,
    "start_time": "2023-03-11T05:13:33.820Z"
   },
   {
    "duration": 264,
    "start_time": "2023-03-11T05:13:33.856Z"
   },
   {
    "duration": 384,
    "start_time": "2023-03-11T05:13:34.121Z"
   },
   {
    "duration": 4,
    "start_time": "2023-03-11T05:13:34.506Z"
   },
   {
    "duration": 542,
    "start_time": "2023-03-11T05:13:34.512Z"
   },
   {
    "duration": 181,
    "start_time": "2023-03-11T05:13:35.056Z"
   },
   {
    "duration": 146,
    "start_time": "2023-03-11T05:13:35.238Z"
   },
   {
    "duration": 154,
    "start_time": "2023-03-11T05:13:35.386Z"
   },
   {
    "duration": 588,
    "start_time": "2023-03-11T05:13:35.542Z"
   },
   {
    "duration": 7,
    "start_time": "2023-03-11T05:13:36.132Z"
   },
   {
    "duration": 131,
    "start_time": "2023-03-11T05:13:36.141Z"
   },
   {
    "duration": 275,
    "start_time": "2023-03-11T05:13:36.274Z"
   },
   {
    "duration": 4,
    "start_time": "2023-03-11T05:13:36.550Z"
   },
   {
    "duration": 28,
    "start_time": "2023-03-11T05:13:36.555Z"
   },
   {
    "duration": 7,
    "start_time": "2023-03-11T05:13:36.584Z"
   },
   {
    "duration": 15,
    "start_time": "2023-03-11T05:13:36.592Z"
   },
   {
    "duration": 6,
    "start_time": "2023-03-11T05:13:36.608Z"
   },
   {
    "duration": 20,
    "start_time": "2023-03-11T05:13:36.616Z"
   },
   {
    "duration": 14,
    "start_time": "2023-03-11T05:13:36.638Z"
   },
   {
    "duration": 5,
    "start_time": "2023-03-11T05:13:36.655Z"
   },
   {
    "duration": 12,
    "start_time": "2023-03-11T05:13:36.661Z"
   },
   {
    "duration": 28,
    "start_time": "2023-03-11T05:13:36.675Z"
   },
   {
    "duration": 77,
    "start_time": "2023-03-11T05:13:36.705Z"
   },
   {
    "duration": 4,
    "start_time": "2023-03-11T05:13:36.784Z"
   },
   {
    "duration": 14,
    "start_time": "2023-03-11T05:13:36.790Z"
   },
   {
    "duration": 2505,
    "start_time": "2023-03-11T05:13:36.807Z"
   },
   {
    "duration": 4,
    "start_time": "2023-03-11T05:13:39.313Z"
   },
   {
    "duration": 12,
    "start_time": "2023-03-11T05:13:39.319Z"
   },
   {
    "duration": 5,
    "start_time": "2023-03-11T05:13:39.333Z"
   },
   {
    "duration": 23047,
    "start_time": "2023-03-11T05:13:39.339Z"
   },
   {
    "duration": 3,
    "start_time": "2023-03-11T05:14:02.387Z"
   },
   {
    "duration": 59,
    "start_time": "2023-03-11T05:14:02.392Z"
   },
   {
    "duration": 4,
    "start_time": "2023-03-11T05:14:02.453Z"
   },
   {
    "duration": 108763,
    "start_time": "2023-03-11T05:14:02.458Z"
   },
   {
    "duration": 4,
    "start_time": "2023-03-11T05:15:51.223Z"
   },
   {
    "duration": 13,
    "start_time": "2023-03-11T05:15:51.228Z"
   },
   {
    "duration": 19,
    "start_time": "2023-03-11T05:15:51.243Z"
   },
   {
    "duration": 42,
    "start_time": "2023-03-11T05:15:51.263Z"
   },
   {
    "duration": 3,
    "start_time": "2023-03-11T05:25:18.564Z"
   },
   {
    "duration": 3,
    "start_time": "2023-03-11T05:25:33.190Z"
   },
   {
    "duration": 3,
    "start_time": "2023-03-11T05:25:39.956Z"
   },
   {
    "duration": 36,
    "start_time": "2023-03-11T05:26:14.892Z"
   },
   {
    "duration": 15,
    "start_time": "2023-03-11T05:26:30.150Z"
   },
   {
    "duration": 3,
    "start_time": "2023-03-11T05:29:19.570Z"
   },
   {
    "duration": 16,
    "start_time": "2023-03-11T05:29:21.914Z"
   },
   {
    "duration": 4,
    "start_time": "2023-03-11T05:31:41.351Z"
   },
   {
    "duration": 10,
    "start_time": "2023-03-11T05:32:23.952Z"
   },
   {
    "duration": 3,
    "start_time": "2023-03-11T05:32:45.712Z"
   },
   {
    "duration": 5,
    "start_time": "2023-03-11T05:32:54.330Z"
   },
   {
    "duration": 54,
    "start_time": "2023-03-11T10:25:34.624Z"
   },
   {
    "duration": 1910,
    "start_time": "2023-03-11T10:26:59.622Z"
   },
   {
    "duration": 24,
    "start_time": "2023-03-11T10:27:44.877Z"
   },
   {
    "duration": 4,
    "start_time": "2023-03-11T10:27:47.364Z"
   },
   {
    "duration": 136,
    "start_time": "2023-03-11T10:28:35.610Z"
   },
   {
    "duration": 140,
    "start_time": "2023-03-11T10:28:45.513Z"
   },
   {
    "duration": 7,
    "start_time": "2023-03-11T10:28:45.729Z"
   },
   {
    "duration": 35,
    "start_time": "2023-03-11T10:28:45.965Z"
   },
   {
    "duration": 16,
    "start_time": "2023-03-11T10:28:46.168Z"
   },
   {
    "duration": 8,
    "start_time": "2023-03-11T10:28:47.437Z"
   },
   {
    "duration": 8,
    "start_time": "2023-03-11T10:28:47.617Z"
   },
   {
    "duration": 4,
    "start_time": "2023-03-11T10:28:47.772Z"
   },
   {
    "duration": 54,
    "start_time": "2023-03-11T10:28:48.772Z"
   },
   {
    "duration": 316,
    "start_time": "2023-03-11T10:29:35.149Z"
   },
   {
    "duration": 369,
    "start_time": "2023-03-11T10:29:58.165Z"
   },
   {
    "duration": 73,
    "start_time": "2023-03-11T10:30:03.197Z"
   },
   {
    "duration": 278,
    "start_time": "2023-03-11T10:30:05.020Z"
   },
   {
    "duration": 276,
    "start_time": "2023-03-11T10:30:40.421Z"
   },
   {
    "duration": 314,
    "start_time": "2023-03-11T10:31:06.313Z"
   },
   {
    "duration": 25,
    "start_time": "2023-03-11T10:31:22.877Z"
   },
   {
    "duration": 761,
    "start_time": "2023-03-11T10:31:24.831Z"
   },
   {
    "duration": 14,
    "start_time": "2023-03-11T10:32:01.122Z"
   },
   {
    "duration": 607,
    "start_time": "2023-03-11T10:32:02.410Z"
   },
   {
    "duration": 4,
    "start_time": "2023-03-11T10:32:15.708Z"
   },
   {
    "duration": 608,
    "start_time": "2023-03-11T10:32:17.435Z"
   },
   {
    "duration": 4,
    "start_time": "2023-03-11T10:33:05.709Z"
   },
   {
    "duration": 678,
    "start_time": "2023-03-11T10:33:06.869Z"
   },
   {
    "duration": 199,
    "start_time": "2023-03-11T10:33:43.714Z"
   },
   {
    "duration": 129,
    "start_time": "2023-03-11T10:33:52.311Z"
   },
   {
    "duration": 140,
    "start_time": "2023-03-11T10:34:00.622Z"
   },
   {
    "duration": 599,
    "start_time": "2023-03-11T10:34:04.814Z"
   },
   {
    "duration": 148,
    "start_time": "2023-03-11T10:34:17.951Z"
   },
   {
    "duration": 3,
    "start_time": "2023-03-11T10:37:03.135Z"
   },
   {
    "duration": 2,
    "start_time": "2023-03-11T10:37:03.426Z"
   },
   {
    "duration": 37,
    "start_time": "2023-03-11T10:37:05.073Z"
   },
   {
    "duration": 4,
    "start_time": "2023-03-11T10:37:11.929Z"
   },
   {
    "duration": 37,
    "start_time": "2023-03-11T10:37:12.976Z"
   },
   {
    "duration": 7,
    "start_time": "2023-03-11T10:37:18.711Z"
   },
   {
    "duration": 5,
    "start_time": "2023-03-11T10:37:19.902Z"
   },
   {
    "duration": 4,
    "start_time": "2023-03-11T10:37:20.036Z"
   },
   {
    "duration": 4,
    "start_time": "2023-03-11T10:37:20.407Z"
   },
   {
    "duration": 4,
    "start_time": "2023-03-11T10:37:21.311Z"
   },
   {
    "duration": 4,
    "start_time": "2023-03-11T10:37:23.207Z"
   },
   {
    "duration": 3,
    "start_time": "2023-03-11T10:37:23.525Z"
   },
   {
    "duration": 33,
    "start_time": "2023-03-11T10:37:25.280Z"
   },
   {
    "duration": 13,
    "start_time": "2023-03-11T10:37:44.027Z"
   },
   {
    "duration": 17,
    "start_time": "2023-03-11T10:37:50.036Z"
   },
   {
    "duration": 23,
    "start_time": "2023-03-11T10:38:10.809Z"
   },
   {
    "duration": 14,
    "start_time": "2023-03-11T10:38:31.306Z"
   },
   {
    "duration": 17,
    "start_time": "2023-03-11T10:38:36.109Z"
   },
   {
    "duration": 27,
    "start_time": "2023-03-11T10:38:52.827Z"
   },
   {
    "duration": 8,
    "start_time": "2023-03-11T10:38:53.902Z"
   },
   {
    "duration": 3,
    "start_time": "2023-03-11T10:39:02.826Z"
   },
   {
    "duration": 1749,
    "start_time": "2023-03-11T10:39:10.599Z"
   },
   {
    "duration": 4,
    "start_time": "2023-03-11T10:39:16.910Z"
   },
   {
    "duration": 4,
    "start_time": "2023-03-11T10:39:22.506Z"
   },
   {
    "duration": 13,
    "start_time": "2023-03-11T10:39:35.280Z"
   },
   {
    "duration": 16052,
    "start_time": "2023-03-11T10:39:56.894Z"
   },
   {
    "duration": 3,
    "start_time": "2023-03-11T10:40:12.947Z"
   },
   {
    "duration": 8,
    "start_time": "2023-03-11T10:40:12.952Z"
   },
   {
    "duration": 4,
    "start_time": "2023-03-11T10:43:06.989Z"
   },
   {
    "duration": 12,
    "start_time": "2023-03-11T10:43:15.803Z"
   },
   {
    "duration": 26,
    "start_time": "2023-03-11T10:43:24.521Z"
   },
   {
    "duration": 4,
    "start_time": "2023-03-11T10:43:24.821Z"
   },
   {
    "duration": 3,
    "start_time": "2023-03-11T10:43:27.201Z"
   },
   {
    "duration": 1904,
    "start_time": "2023-03-11T10:43:28.531Z"
   },
   {
    "duration": 13,
    "start_time": "2023-03-11T10:43:31.576Z"
   },
   {
    "duration": 9,
    "start_time": "2023-03-11T10:43:32.602Z"
   },
   {
    "duration": 4,
    "start_time": "2023-03-11T10:43:40.642Z"
   },
   {
    "duration": 3,
    "start_time": "2023-03-11T10:44:02.613Z"
   },
   {
    "duration": 16217,
    "start_time": "2023-03-11T10:44:05.672Z"
   },
   {
    "duration": 4,
    "start_time": "2023-03-11T10:44:21.894Z"
   },
   {
    "duration": 8,
    "start_time": "2023-03-11T10:44:21.900Z"
   },
   {
    "duration": 3,
    "start_time": "2023-03-11T10:44:55.178Z"
   },
   {
    "duration": 98936,
    "start_time": "2023-03-11T10:44:56.490Z"
   },
   {
    "duration": 3,
    "start_time": "2023-03-11T10:46:35.428Z"
   },
   {
    "duration": 15,
    "start_time": "2023-03-11T10:46:35.432Z"
   },
   {
    "duration": 5220,
    "start_time": "2023-03-11T10:47:40.895Z"
   },
   {
    "duration": 4,
    "start_time": "2023-03-11T10:47:47.293Z"
   },
   {
    "duration": 122496,
    "start_time": "2023-03-11T10:47:47.628Z"
   },
   {
    "duration": 4,
    "start_time": "2023-03-11T10:49:50.126Z"
   },
   {
    "duration": 7,
    "start_time": "2023-03-11T10:49:50.132Z"
   },
   {
    "duration": 11,
    "start_time": "2023-03-11T10:50:32.431Z"
   },
   {
    "duration": 3,
    "start_time": "2023-03-11T10:52:00.523Z"
   },
   {
    "duration": 51557,
    "start_time": "2023-03-11T10:52:04.175Z"
   },
   {
    "duration": 4,
    "start_time": "2023-03-11T10:52:55.734Z"
   },
   {
    "duration": 9,
    "start_time": "2023-03-11T10:52:55.739Z"
   },
   {
    "duration": 3,
    "start_time": "2023-03-11T10:53:45.717Z"
   },
   {
    "duration": 5,
    "start_time": "2023-03-11T10:53:46.104Z"
   },
   {
    "duration": 10,
    "start_time": "2023-03-11T10:54:07.924Z"
   },
   {
    "duration": 15,
    "start_time": "2023-03-11T10:54:09.899Z"
   },
   {
    "duration": 131,
    "start_time": "2023-03-11T10:54:28.508Z"
   },
   {
    "duration": 166,
    "start_time": "2023-03-11T10:54:35.435Z"
   },
   {
    "duration": 219,
    "start_time": "2023-03-11T10:54:39.099Z"
   },
   {
    "duration": 136,
    "start_time": "2023-03-11T10:55:21.625Z"
   },
   {
    "duration": 173,
    "start_time": "2023-03-11T10:55:25.901Z"
   },
   {
    "duration": 133,
    "start_time": "2023-03-11T10:55:29.501Z"
   },
   {
    "duration": 153,
    "start_time": "2023-03-11T10:55:41.006Z"
   },
   {
    "duration": 155,
    "start_time": "2023-03-11T10:55:55.399Z"
   },
   {
    "duration": 6,
    "start_time": "2023-03-11T10:56:03.246Z"
   },
   {
    "duration": 20,
    "start_time": "2023-03-11T10:56:26.882Z"
   },
   {
    "duration": 7,
    "start_time": "2023-03-11T10:56:41.482Z"
   },
   {
    "duration": 3,
    "start_time": "2023-03-11T10:57:25.307Z"
   },
   {
    "duration": 12,
    "start_time": "2023-03-11T10:57:27.049Z"
   },
   {
    "duration": 12,
    "start_time": "2023-03-11T10:57:29.529Z"
   },
   {
    "duration": 332,
    "start_time": "2023-03-11T10:57:36.948Z"
   },
   {
    "duration": 6,
    "start_time": "2023-03-11T10:57:37.382Z"
   },
   {
    "duration": 75,
    "start_time": "2023-03-11T10:58:17.739Z"
   },
   {
    "duration": 842,
    "start_time": "2023-03-11T10:58:27.100Z"
   },
   {
    "duration": 6,
    "start_time": "2023-03-11T10:58:35.665Z"
   },
   {
    "duration": 5,
    "start_time": "2023-03-11T10:59:26.951Z"
   },
   {
    "duration": 267,
    "start_time": "2023-03-11T11:00:01.050Z"
   },
   {
    "duration": 118,
    "start_time": "2023-03-11T11:00:24.102Z"
   },
   {
    "duration": 216,
    "start_time": "2023-03-11T11:00:26.894Z"
   },
   {
    "duration": 199,
    "start_time": "2023-03-11T11:00:34.498Z"
   },
   {
    "duration": 189,
    "start_time": "2023-03-11T11:00:48.001Z"
   },
   {
    "duration": 643,
    "start_time": "2023-03-11T11:01:45.703Z"
   },
   {
    "duration": 10,
    "start_time": "2023-03-11T11:01:47.753Z"
   },
   {
    "duration": 198,
    "start_time": "2023-03-11T11:01:49.497Z"
   },
   {
    "duration": 1601,
    "start_time": "2023-03-11T11:02:52.333Z"
   },
   {
    "duration": 189,
    "start_time": "2023-03-11T11:03:10.643Z"
   },
   {
    "duration": 236,
    "start_time": "2023-03-11T11:03:21.229Z"
   },
   {
    "duration": 332,
    "start_time": "2023-03-11T11:03:42.200Z"
   },
   {
    "duration": 1120,
    "start_time": "2023-03-11T11:04:03.294Z"
   },
   {
    "duration": 1149,
    "start_time": "2023-03-11T11:04:35.725Z"
   },
   {
    "duration": 212,
    "start_time": "2023-03-11T11:04:57.299Z"
   },
   {
    "duration": 194,
    "start_time": "2023-03-11T11:05:08.410Z"
   },
   {
    "duration": 193,
    "start_time": "2023-03-11T11:05:32.117Z"
   },
   {
    "duration": 245,
    "start_time": "2023-03-11T11:05:37.519Z"
   },
   {
    "duration": 285,
    "start_time": "2023-03-11T11:05:47.546Z"
   },
   {
    "duration": 25,
    "start_time": "2023-03-11T11:06:46.412Z"
   },
   {
    "duration": 8,
    "start_time": "2023-03-11T11:07:06.927Z"
   },
   {
    "duration": 5,
    "start_time": "2023-03-11T11:07:07.307Z"
   },
   {
    "duration": 4,
    "start_time": "2023-03-11T11:07:07.812Z"
   },
   {
    "duration": 5,
    "start_time": "2023-03-11T11:07:08.203Z"
   },
   {
    "duration": 3,
    "start_time": "2023-03-11T11:07:08.799Z"
   },
   {
    "duration": 3,
    "start_time": "2023-03-11T11:07:11.547Z"
   },
   {
    "duration": 6,
    "start_time": "2023-03-11T11:07:12.077Z"
   },
   {
    "duration": 12,
    "start_time": "2023-03-11T11:07:15.727Z"
   },
   {
    "duration": 288,
    "start_time": "2023-03-11T11:07:23.697Z"
   },
   {
    "duration": 7,
    "start_time": "2023-03-11T11:07:23.988Z"
   },
   {
    "duration": 3,
    "start_time": "2023-03-11T11:07:27.438Z"
   },
   {
    "duration": 1531,
    "start_time": "2023-03-11T11:07:27.799Z"
   },
   {
    "duration": 4,
    "start_time": "2023-03-11T11:07:31.048Z"
   },
   {
    "duration": 4,
    "start_time": "2023-03-11T11:07:31.437Z"
   },
   {
    "duration": 4,
    "start_time": "2023-03-11T11:07:41.327Z"
   },
   {
    "duration": 92733,
    "start_time": "2023-03-11T11:07:44.940Z"
   },
   {
    "duration": 18,
    "start_time": "2023-03-11T11:09:17.675Z"
   },
   {
    "duration": 13,
    "start_time": "2023-03-11T11:09:17.702Z"
   },
   {
    "duration": 7,
    "start_time": "2023-03-11T11:09:17.717Z"
   },
   {
    "duration": 32938,
    "start_time": "2023-03-11T11:09:17.726Z"
   },
   {
    "duration": 4,
    "start_time": "2023-03-11T11:09:50.665Z"
   },
   {
    "duration": 4,
    "start_time": "2023-03-11T11:09:50.672Z"
   },
   {
    "duration": 7,
    "start_time": "2023-03-11T11:11:48.526Z"
   },
   {
    "duration": 159,
    "start_time": "2023-03-11T11:11:49.506Z"
   },
   {
    "duration": 1366,
    "start_time": "2023-03-11T11:11:58.917Z"
   },
   {
    "duration": 8,
    "start_time": "2023-03-11T11:12:02.235Z"
   },
   {
    "duration": 246,
    "start_time": "2023-03-11T11:12:04.410Z"
   },
   {
    "duration": 1189,
    "start_time": "2023-03-11T11:12:20.432Z"
   },
   {
    "duration": 14,
    "start_time": "2023-03-11T11:12:25.116Z"
   },
   {
    "duration": 266,
    "start_time": "2023-03-11T11:12:26.306Z"
   },
   {
    "duration": 3,
    "start_time": "2023-03-11T11:14:23.806Z"
   },
   {
    "duration": 86587,
    "start_time": "2023-03-11T11:14:24.778Z"
   },
   {
    "duration": 5,
    "start_time": "2023-03-11T11:15:51.368Z"
   },
   {
    "duration": 36,
    "start_time": "2023-03-11T11:15:51.375Z"
   },
   {
    "duration": 2479,
    "start_time": "2023-03-11T11:20:19.166Z"
   },
   {
    "duration": 13,
    "start_time": "2023-03-11T11:20:21.647Z"
   },
   {
    "duration": 305,
    "start_time": "2023-03-11T11:20:21.664Z"
   },
   {
    "duration": 5,
    "start_time": "2023-03-11T11:20:28.321Z"
   },
   {
    "duration": 9,
    "start_time": "2023-03-11T11:20:28.964Z"
   },
   {
    "duration": 326,
    "start_time": "2023-03-11T11:20:29.349Z"
   },
   {
    "duration": 4,
    "start_time": "2023-03-11T11:20:42.537Z"
   },
   {
    "duration": 117125,
    "start_time": "2023-03-11T11:20:43.303Z"
   },
   {
    "duration": 5,
    "start_time": "2023-03-11T11:22:40.430Z"
   },
   {
    "duration": 23,
    "start_time": "2023-03-11T11:22:40.436Z"
   },
   {
    "duration": 99,
    "start_time": "2023-03-11T11:22:58.706Z"
   },
   {
    "duration": 3,
    "start_time": "2023-03-11T11:23:01.923Z"
   },
   {
    "duration": 194692,
    "start_time": "2023-03-11T11:23:02.750Z"
   },
   {
    "duration": 4,
    "start_time": "2023-03-11T11:26:17.445Z"
   },
   {
    "duration": 7,
    "start_time": "2023-03-11T11:26:17.451Z"
   },
   {
    "duration": 10,
    "start_time": "2023-03-11T11:27:23.186Z"
   },
   {
    "duration": 193,
    "start_time": "2023-03-11T11:27:23.775Z"
   },
   {
    "duration": 7,
    "start_time": "2023-03-11T11:27:29.659Z"
   },
   {
    "duration": 306,
    "start_time": "2023-03-11T11:27:31.147Z"
   },
   {
    "duration": 168,
    "start_time": "2023-03-11T11:28:15.366Z"
   },
   {
    "duration": 18,
    "start_time": "2023-03-11T11:28:44.833Z"
   },
   {
    "duration": 408,
    "start_time": "2023-03-11T11:28:45.921Z"
   },
   {
    "duration": 7,
    "start_time": "2023-03-11T11:28:49.723Z"
   },
   {
    "duration": 216,
    "start_time": "2023-03-11T11:28:50.239Z"
   },
   {
    "duration": 430,
    "start_time": "2023-03-11T11:29:44.022Z"
   },
   {
    "duration": 415,
    "start_time": "2023-03-11T11:29:56.026Z"
   },
   {
    "duration": 6,
    "start_time": "2023-03-11T11:30:04.709Z"
   },
   {
    "duration": 714,
    "start_time": "2023-03-11T11:30:06.709Z"
   },
   {
    "duration": 293,
    "start_time": "2023-03-11T11:31:34.434Z"
   },
   {
    "duration": 125,
    "start_time": "2023-03-11T11:34:53.136Z"
   },
   {
    "duration": 141,
    "start_time": "2023-03-11T11:35:02.438Z"
   },
   {
    "duration": 1938,
    "start_time": "2023-03-12T05:11:01.571Z"
   },
   {
    "duration": 50,
    "start_time": "2023-03-12T05:11:03.511Z"
   },
   {
    "duration": 8,
    "start_time": "2023-03-12T05:11:03.563Z"
   },
   {
    "duration": 15,
    "start_time": "2023-03-12T05:11:03.574Z"
   },
   {
    "duration": 19,
    "start_time": "2023-03-12T05:11:03.591Z"
   },
   {
    "duration": 18,
    "start_time": "2023-03-12T05:11:03.611Z"
   },
   {
    "duration": 26,
    "start_time": "2023-03-12T05:11:03.631Z"
   },
   {
    "duration": 18,
    "start_time": "2023-03-12T05:11:03.659Z"
   },
   {
    "duration": 21,
    "start_time": "2023-03-12T05:11:03.679Z"
   },
   {
    "duration": 308,
    "start_time": "2023-03-12T05:11:03.703Z"
   },
   {
    "duration": 456,
    "start_time": "2023-03-12T05:11:04.013Z"
   },
   {
    "duration": 5,
    "start_time": "2023-03-12T05:11:04.477Z"
   },
   {
    "duration": 714,
    "start_time": "2023-03-12T05:11:04.484Z"
   },
   {
    "duration": 212,
    "start_time": "2023-03-12T05:11:05.200Z"
   },
   {
    "duration": 166,
    "start_time": "2023-03-12T05:11:05.415Z"
   },
   {
    "duration": 175,
    "start_time": "2023-03-12T05:11:05.583Z"
   },
   {
    "duration": 671,
    "start_time": "2023-03-12T05:11:05.760Z"
   },
   {
    "duration": 7,
    "start_time": "2023-03-12T05:11:06.433Z"
   },
   {
    "duration": 162,
    "start_time": "2023-03-12T05:11:06.442Z"
   },
   {
    "duration": 329,
    "start_time": "2023-03-12T05:11:06.607Z"
   },
   {
    "duration": 4,
    "start_time": "2023-03-12T05:11:06.938Z"
   },
   {
    "duration": 44,
    "start_time": "2023-03-12T05:11:06.944Z"
   },
   {
    "duration": 7,
    "start_time": "2023-03-12T05:11:06.990Z"
   },
   {
    "duration": 17,
    "start_time": "2023-03-12T05:11:06.999Z"
   },
   {
    "duration": 10,
    "start_time": "2023-03-12T05:11:07.018Z"
   },
   {
    "duration": 17,
    "start_time": "2023-03-12T05:11:07.030Z"
   },
   {
    "duration": 34,
    "start_time": "2023-03-12T05:11:07.049Z"
   },
   {
    "duration": 9,
    "start_time": "2023-03-12T05:11:07.087Z"
   },
   {
    "duration": 21,
    "start_time": "2023-03-12T05:11:07.098Z"
   },
   {
    "duration": 25,
    "start_time": "2023-03-12T05:11:07.121Z"
   },
   {
    "duration": 13,
    "start_time": "2023-03-12T05:11:07.148Z"
   },
   {
    "duration": 120,
    "start_time": "2023-03-12T05:11:07.163Z"
   },
   {
    "duration": 196,
    "start_time": "2023-03-12T05:11:07.286Z"
   },
   {
    "duration": 7,
    "start_time": "2023-03-12T05:11:07.484Z"
   },
   {
    "duration": 1554,
    "start_time": "2023-03-12T05:11:07.493Z"
   },
   {
    "duration": 3,
    "start_time": "2023-03-12T05:11:09.049Z"
   },
   {
    "duration": 46,
    "start_time": "2023-03-12T05:11:09.054Z"
   },
   {
    "duration": 69,
    "start_time": "2023-03-12T05:11:09.102Z"
   },
   {
    "duration": 162657,
    "start_time": "2023-03-12T05:11:09.173Z"
   },
   {
    "duration": 4,
    "start_time": "2023-03-12T05:13:51.832Z"
   },
   {
    "duration": 17,
    "start_time": "2023-03-12T05:13:51.838Z"
   },
   {
    "duration": 13,
    "start_time": "2023-03-12T05:13:51.856Z"
   },
   {
    "duration": 104801,
    "start_time": "2023-03-12T05:13:51.871Z"
   },
   {
    "duration": 4,
    "start_time": "2023-03-12T05:15:36.674Z"
   },
   {
    "duration": 13,
    "start_time": "2023-03-12T05:15:36.679Z"
   },
   {
    "duration": 11,
    "start_time": "2023-03-12T05:15:36.694Z"
   },
   {
    "duration": 173,
    "start_time": "2023-03-12T05:15:36.707Z"
   },
   {
    "duration": 7,
    "start_time": "2023-03-12T05:15:36.882Z"
   },
   {
    "duration": 342,
    "start_time": "2023-03-12T05:15:36.891Z"
   },
   {
    "duration": 12,
    "start_time": "2023-03-12T05:15:37.237Z"
   }
  ],
  "kernelspec": {
   "display_name": "Python 3 (ipykernel)",
   "language": "python",
   "name": "python3"
  },
  "language_info": {
   "codemirror_mode": {
    "name": "ipython",
    "version": 3
   },
   "file_extension": ".py",
   "mimetype": "text/x-python",
   "name": "python",
   "nbconvert_exporter": "python",
   "pygments_lexer": "ipython3",
   "version": "3.9.5"
  },
  "toc": {
   "base_numbering": 1,
   "nav_menu": {},
   "number_sections": true,
   "sideBar": true,
   "skip_h1_title": true,
   "title_cell": "Содержание",
   "title_sidebar": "Contents",
   "toc_cell": true,
   "toc_position": {},
   "toc_section_display": true,
   "toc_window_display": true
  }
 },
 "nbformat": 4,
 "nbformat_minor": 2
}
