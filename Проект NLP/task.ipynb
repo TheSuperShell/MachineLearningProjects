{
 "cells": [
  {
   "cell_type": "markdown",
   "metadata": {},
   "source": [
    "# Проект для «Викишоп»"
   ]
  },
  {
   "attachments": {},
   "cell_type": "markdown",
   "metadata": {},
   "source": [
    "Интернет-магазин запускает новый сервис. Теперь пользователи могут редактировать и дополнять описания товаров, как в вики-сообществах. То есть клиенты предлагают свои правки и комментируют изменения других. Магазину нужен инструмент, который будет искать токсичные комментарии и отправлять их на модерацию. \n",
    "\n",
    "Необходимо обучить модель классифицировать комментарии на позитивные и негативные. Доступен набор данных с разметкой о токсичности правок.\n",
    "\n",
    "Необходима модель со значением метрики качества *F1* не меньше 0.75. \n",
    "\n",
    "**Этапы выполнения проекта**\n",
    "\n",
    "1. Загрузка и подготовка данных.\n",
    "2. Обучение моделей. \n",
    "3. Проверка лучшей модели\n",
    "\n",
    "**Описание данных**\n",
    "\n",
    "Данные находятся в файле `toxic_comments.csv`. Столбец *text* в нём содержит текст комментария, а *toxic* — целевой признак."
   ]
  },
  {
   "cell_type": "code",
   "execution_count": 33,
   "metadata": {},
   "outputs": [],
   "source": [
    "import numpy as np\n",
    "import pandas as pd\n",
    "import matplotlib.pyplot as plt\n",
    "import seaborn as sbs\n",
    "\n",
    "from sklearn.feature_extraction.text import TfidfVectorizer\n",
    "from sklearn.model_selection import train_test_split\n",
    "from sklearn.pipeline import Pipeline\n",
    "from sklearn.model_selection import RandomizedSearchCV, cross_val_score\n",
    "from sklearn.metrics import f1_score\n",
    "from sklearn.dummy import DummyClassifier\n",
    "from sklearn.linear_model import LogisticRegression\n",
    "from sklearn.tree import DecisionTreeClassifier\n",
    "from catboost import CatBoostClassifier\n",
    "import re\n",
    "import nltk\n",
    "from nltk.corpus import stopwords as nltk_stopwords\n",
    "from nltk.stem import WordNetLemmatizer"
   ]
  },
  {
   "cell_type": "markdown",
   "metadata": {},
   "source": [
    "## Подготовка"
   ]
  },
  {
   "cell_type": "code",
   "execution_count": 3,
   "metadata": {},
   "outputs": [
    {
     "data": {
      "text/html": [
       "<div>\n",
       "<style scoped>\n",
       "    .dataframe tbody tr th:only-of-type {\n",
       "        vertical-align: middle;\n",
       "    }\n",
       "\n",
       "    .dataframe tbody tr th {\n",
       "        vertical-align: top;\n",
       "    }\n",
       "\n",
       "    .dataframe thead th {\n",
       "        text-align: right;\n",
       "    }\n",
       "</style>\n",
       "<table border=\"1\" class=\"dataframe\">\n",
       "  <thead>\n",
       "    <tr style=\"text-align: right;\">\n",
       "      <th></th>\n",
       "      <th>text</th>\n",
       "      <th>toxic</th>\n",
       "    </tr>\n",
       "  </thead>\n",
       "  <tbody>\n",
       "    <tr>\n",
       "      <th>54326</th>\n",
       "      <td>Thank you for experimenting with the page Nint...</td>\n",
       "      <td>0</td>\n",
       "    </tr>\n",
       "    <tr>\n",
       "      <th>68243</th>\n",
       "      <td>Yes, you are the very model of flexibility and...</td>\n",
       "      <td>0</td>\n",
       "    </tr>\n",
       "    <tr>\n",
       "      <th>113732</th>\n",
       "      <td>Please stop. If you continue to vandalize Wiki...</td>\n",
       "      <td>0</td>\n",
       "    </tr>\n",
       "    <tr>\n",
       "      <th>8452</th>\n",
       "      <td>\"\\nYes, it seems to have calmed down and thank...</td>\n",
       "      <td>0</td>\n",
       "    </tr>\n",
       "    <tr>\n",
       "      <th>134428</th>\n",
       "      <td>Please undo your revert, there was no need for...</td>\n",
       "      <td>0</td>\n",
       "    </tr>\n",
       "  </tbody>\n",
       "</table>\n",
       "</div>"
      ],
      "text/plain": [
       "                                                     text  toxic\n",
       "54326   Thank you for experimenting with the page Nint...      0\n",
       "68243   Yes, you are the very model of flexibility and...      0\n",
       "113732  Please stop. If you continue to vandalize Wiki...      0\n",
       "8452    \"\\nYes, it seems to have calmed down and thank...      0\n",
       "134428  Please undo your revert, there was no need for...      0"
      ]
     },
     "execution_count": 3,
     "metadata": {},
     "output_type": "execute_result"
    }
   ],
   "source": [
    "data = pd.read_csv(\"/datasets/toxic_comments.csv\", index_col=0)\n",
    "data.sample(5)"
   ]
  },
  {
   "cell_type": "markdown",
   "metadata": {},
   "source": [
    "<div class=\"alert alert-success\">\n",
    "<b>Комментарий ревьюера ✔️:</b> Огонь, данные на месте:)</div>"
   ]
  },
  {
   "cell_type": "code",
   "execution_count": 4,
   "metadata": {},
   "outputs": [
    {
     "name": "stdout",
     "output_type": "stream",
     "text": [
      "<class 'pandas.core.frame.DataFrame'>\n",
      "Int64Index: 159292 entries, 0 to 159450\n",
      "Data columns (total 2 columns):\n",
      " #   Column  Non-Null Count   Dtype \n",
      "---  ------  --------------   ----- \n",
      " 0   text    159292 non-null  object\n",
      " 1   toxic   159292 non-null  int64 \n",
      "dtypes: int64(1), object(1)\n",
      "memory usage: 3.6+ MB\n"
     ]
    }
   ],
   "source": [
    "data.info()"
   ]
  },
  {
   "cell_type": "markdown",
   "metadata": {},
   "source": [
    "Данные загружены"
   ]
  },
  {
   "cell_type": "markdown",
   "metadata": {},
   "source": [
    "### Лемматизация"
   ]
  },
  {
   "cell_type": "code",
   "execution_count": 5,
   "metadata": {},
   "outputs": [],
   "source": [
    "lemmatizer = WordNetLemmatizer()\n",
    "def lemmatize(text):\n",
    "    lemmatized = []\n",
    "    for word in nltk.word_tokenize(text):\n",
    "        lemmatized.append(lemmatizer.lemmatize(word))\n",
    "    return ' '.join(lemmatized)"
   ]
  },
  {
   "cell_type": "code",
   "execution_count": 6,
   "metadata": {},
   "outputs": [
    {
     "name": "stdout",
     "output_type": "stream",
     "text": [
      "CPU times: user 1.26 s, sys: 52.2 ms, total: 1.31 s\n",
      "Wall time: 1.31 s\n"
     ]
    },
    {
     "data": {
      "text/plain": [
       "\"Explanation Why the edits made under my username Hardcore Metallica Fan were reverted ? They were n't vandalism , just closure on some GAs after I voted at New York Dolls FAC . And please do n't remove the template from the talk page since I 'm retired now.89.205.38.27\""
      ]
     },
     "execution_count": 6,
     "metadata": {},
     "output_type": "execute_result"
    }
   ],
   "source": [
    "%%time\n",
    "\n",
    "lemmatize(data['text'][0])"
   ]
  },
  {
   "cell_type": "markdown",
   "metadata": {},
   "source": [
    "### Отчистка"
   ]
  },
  {
   "cell_type": "code",
   "execution_count": 7,
   "metadata": {},
   "outputs": [],
   "source": [
    "def clean_text(text):\n",
    "    cleaned_text = re.sub(r'[^a-zA-Z ]', ' ', text).split()\n",
    "    return ' '.join(cleaned_text)"
   ]
  },
  {
   "cell_type": "code",
   "execution_count": 8,
   "metadata": {},
   "outputs": [
    {
     "data": {
      "text/plain": [
       "'Hey man I m really not trying to edit war It s just that this guy is constantly removing relevant information and talking to me through edits instead of my talk page He seems to care more about the formatting than the actual info'"
      ]
     },
     "execution_count": 8,
     "metadata": {},
     "output_type": "execute_result"
    }
   ],
   "source": [
    "clean_text(data['text'][2])"
   ]
  },
  {
   "cell_type": "code",
   "execution_count": 9,
   "metadata": {},
   "outputs": [
    {
     "name": "stdout",
     "output_type": "stream",
     "text": [
      "CPU times: user 2min 24s, sys: 403 ms, total: 2min 24s\n",
      "Wall time: 2min 24s\n"
     ]
    }
   ],
   "source": [
    "%%time\n",
    "\n",
    "data['cleaned_text'] = data['text'].apply(lambda x: clean_text(lemmatize(x.lower())))"
   ]
  },
  {
   "cell_type": "code",
   "execution_count": 10,
   "metadata": {},
   "outputs": [
    {
     "data": {
      "text/html": [
       "<div>\n",
       "<style scoped>\n",
       "    .dataframe tbody tr th:only-of-type {\n",
       "        vertical-align: middle;\n",
       "    }\n",
       "\n",
       "    .dataframe tbody tr th {\n",
       "        vertical-align: top;\n",
       "    }\n",
       "\n",
       "    .dataframe thead th {\n",
       "        text-align: right;\n",
       "    }\n",
       "</style>\n",
       "<table border=\"1\" class=\"dataframe\">\n",
       "  <thead>\n",
       "    <tr style=\"text-align: right;\">\n",
       "      <th></th>\n",
       "      <th>text</th>\n",
       "      <th>toxic</th>\n",
       "      <th>cleaned_text</th>\n",
       "    </tr>\n",
       "  </thead>\n",
       "  <tbody>\n",
       "    <tr>\n",
       "      <th>2861</th>\n",
       "      <td>\"Just to make the point that I'm not making th...</td>\n",
       "      <td>0</td>\n",
       "      <td>just to make the point that i m not making thi...</td>\n",
       "    </tr>\n",
       "    <tr>\n",
       "      <th>51233</th>\n",
       "      <td>\"\\nWhen the producer goes to Jones \"\"Truth mea...</td>\n",
       "      <td>0</td>\n",
       "      <td>when the producer go to jones truth meating th...</td>\n",
       "    </tr>\n",
       "    <tr>\n",
       "      <th>150067</th>\n",
       "      <td>2010 (UTC)\\n2 or 5   13:03, 22 September</td>\n",
       "      <td>0</td>\n",
       "      <td>utc or september</td>\n",
       "    </tr>\n",
       "    <tr>\n",
       "      <th>47365</th>\n",
       "      <td>\"\\n\\nAlthough I respect your admiration for it...</td>\n",
       "      <td>0</td>\n",
       "      <td>although i respect your admiration for it is n...</td>\n",
       "    </tr>\n",
       "    <tr>\n",
       "      <th>5402</th>\n",
       "      <td>Please stop removing referenced information fr...</td>\n",
       "      <td>0</td>\n",
       "      <td>please stop removing referenced information fr...</td>\n",
       "    </tr>\n",
       "  </tbody>\n",
       "</table>\n",
       "</div>"
      ],
      "text/plain": [
       "                                                     text  toxic  \\\n",
       "2861    \"Just to make the point that I'm not making th...      0   \n",
       "51233   \"\\nWhen the producer goes to Jones \"\"Truth mea...      0   \n",
       "150067           2010 (UTC)\\n2 or 5   13:03, 22 September      0   \n",
       "47365   \"\\n\\nAlthough I respect your admiration for it...      0   \n",
       "5402    Please stop removing referenced information fr...      0   \n",
       "\n",
       "                                             cleaned_text  \n",
       "2861    just to make the point that i m not making thi...  \n",
       "51233   when the producer go to jones truth meating th...  \n",
       "150067                                   utc or september  \n",
       "47365   although i respect your admiration for it is n...  \n",
       "5402    please stop removing referenced information fr...  "
      ]
     },
     "execution_count": 10,
     "metadata": {},
     "output_type": "execute_result"
    }
   ],
   "source": [
    "data.sample(5)"
   ]
  },
  {
   "cell_type": "markdown",
   "metadata": {},
   "source": [
    "Текст обработан"
   ]
  },
  {
   "cell_type": "markdown",
   "metadata": {},
   "source": [
    "## Обучение"
   ]
  },
  {
   "cell_type": "markdown",
   "metadata": {},
   "source": [
    "### Разделение данных"
   ]
  },
  {
   "cell_type": "code",
   "execution_count": 11,
   "metadata": {},
   "outputs": [],
   "source": [
    "X, y = data['cleaned_text'], data['toxic']"
   ]
  },
  {
   "cell_type": "code",
   "execution_count": 12,
   "metadata": {},
   "outputs": [],
   "source": [
    "X_train, X_test, y_train, y_test = train_test_split(X, y, test_size=0.2)"
   ]
  },
  {
   "cell_type": "code",
   "execution_count": 13,
   "metadata": {},
   "outputs": [
    {
     "data": {
      "text/plain": [
       "(127433,)"
      ]
     },
     "execution_count": 13,
     "metadata": {},
     "output_type": "execute_result"
    }
   ],
   "source": [
    "X_train.shape"
   ]
  },
  {
   "cell_type": "code",
   "execution_count": 14,
   "metadata": {},
   "outputs": [
    {
     "data": {
      "text/plain": [
       "(31859,)"
      ]
     },
     "execution_count": 14,
     "metadata": {},
     "output_type": "execute_result"
    }
   ],
   "source": [
    "X_test.shape"
   ]
  },
  {
   "cell_type": "markdown",
   "metadata": {},
   "source": [
    "### Tf-Idf"
   ]
  },
  {
   "cell_type": "code",
   "execution_count": 17,
   "metadata": {},
   "outputs": [
    {
     "name": "stderr",
     "output_type": "stream",
     "text": [
      "[nltk_data] Downloading package stopwords to /home/jovyan/nltk_data...\n",
      "[nltk_data]   Package stopwords is already up-to-date!\n"
     ]
    }
   ],
   "source": [
    "nltk.download('stopwords')\n",
    "stopwords = set(nltk_stopwords.words('english'))"
   ]
  },
  {
   "cell_type": "code",
   "execution_count": 18,
   "metadata": {},
   "outputs": [],
   "source": [
    "tf_idf = TfidfVectorizer(stop_words=stopwords)"
   ]
  },
  {
   "cell_type": "markdown",
   "metadata": {},
   "source": [
    "### Выбор модели\n",
    "\n",
    "Использование кроссвалидации требует использование пайплайна, что занимает много времени. Поэтому обучим одну модель и проверим ее на уже подготовленных валидационных данных"
   ]
  },
  {
   "cell_type": "markdown",
   "metadata": {},
   "source": [
    "#### Dummy"
   ]
  },
  {
   "cell_type": "code",
   "execution_count": 23,
   "metadata": {},
   "outputs": [],
   "source": [
    "dummy_model = Pipeline(steps=[('transform', tf_idf), ('clf', DummyClassifier())])\n",
    "dummy_score = cross_val_score(dummy_model, X_train, y_train, scoring='f1')"
   ]
  },
  {
   "cell_type": "code",
   "execution_count": 24,
   "metadata": {},
   "outputs": [
    {
     "data": {
      "text/plain": [
       "array([0., 0., 0., 0., 0.])"
      ]
     },
     "execution_count": 24,
     "metadata": {},
     "output_type": "execute_result"
    }
   ],
   "source": [
    "dummy_score"
   ]
  },
  {
   "cell_type": "markdown",
   "metadata": {},
   "source": [
    "#### Logistic regression"
   ]
  },
  {
   "cell_type": "code",
   "execution_count": 35,
   "metadata": {},
   "outputs": [
    {
     "name": "stdout",
     "output_type": "stream",
     "text": [
      "Fitting 3 folds for each of 10 candidates, totalling 30 fits\n",
      "[CV 1/3; 1/10] START clf__C=6, transformer__max_df=0.25, transformer__ngram_range=(1, 2)\n",
      "[CV 1/3; 1/10] END clf__C=6, transformer__max_df=0.25, transformer__ngram_range=(1, 2); total time= 3.6min\n",
      "[CV 2/3; 1/10] START clf__C=6, transformer__max_df=0.25, transformer__ngram_range=(1, 2)\n",
      "[CV 2/3; 1/10] END clf__C=6, transformer__max_df=0.25, transformer__ngram_range=(1, 2); total time= 3.2min\n",
      "[CV 3/3; 1/10] START clf__C=6, transformer__max_df=0.25, transformer__ngram_range=(1, 2)\n",
      "[CV 3/3; 1/10] END clf__C=6, transformer__max_df=0.25, transformer__ngram_range=(1, 2); total time= 2.7min\n",
      "[CV 1/3; 2/10] START clf__C=6, transformer__max_df=0.75, transformer__ngram_range=(1, 3)\n",
      "[CV 1/3; 2/10] END clf__C=6, transformer__max_df=0.75, transformer__ngram_range=(1, 3); total time= 6.0min\n",
      "[CV 2/3; 2/10] START clf__C=6, transformer__max_df=0.75, transformer__ngram_range=(1, 3)\n",
      "[CV 2/3; 2/10] END clf__C=6, transformer__max_df=0.75, transformer__ngram_range=(1, 3); total time= 5.5min\n",
      "[CV 3/3; 2/10] START clf__C=6, transformer__max_df=0.75, transformer__ngram_range=(1, 3)\n",
      "[CV 3/3; 2/10] END clf__C=6, transformer__max_df=0.75, transformer__ngram_range=(1, 3); total time= 5.5min\n",
      "[CV 1/3; 3/10] START clf__C=1, transformer__max_df=0.75, transformer__ngram_range=(1, 3)\n",
      "[CV 1/3; 3/10] END clf__C=1, transformer__max_df=0.75, transformer__ngram_range=(1, 3); total time= 3.4min\n",
      "[CV 2/3; 3/10] START clf__C=1, transformer__max_df=0.75, transformer__ngram_range=(1, 3)\n",
      "[CV 2/3; 3/10] END clf__C=1, transformer__max_df=0.75, transformer__ngram_range=(1, 3); total time= 4.1min\n",
      "[CV 3/3; 3/10] START clf__C=1, transformer__max_df=0.75, transformer__ngram_range=(1, 3)\n",
      "[CV 3/3; 3/10] END clf__C=1, transformer__max_df=0.75, transformer__ngram_range=(1, 3); total time= 3.7min\n",
      "[CV 1/3; 4/10] START clf__C=6, transformer__max_df=0.5, transformer__ngram_range=(1, 1)\n",
      "[CV 1/3; 4/10] END clf__C=6, transformer__max_df=0.5, transformer__ngram_range=(1, 1); total time=  44.3s\n",
      "[CV 2/3; 4/10] START clf__C=6, transformer__max_df=0.5, transformer__ngram_range=(1, 1)\n",
      "[CV 2/3; 4/10] END clf__C=6, transformer__max_df=0.5, transformer__ngram_range=(1, 1); total time= 1.2min\n",
      "[CV 3/3; 4/10] START clf__C=6, transformer__max_df=0.5, transformer__ngram_range=(1, 1)\n",
      "[CV 3/3; 4/10] END clf__C=6, transformer__max_df=0.5, transformer__ngram_range=(1, 1); total time= 1.5min\n",
      "[CV 1/3; 5/10] START clf__C=6, transformer__max_df=0.5, transformer__ngram_range=(1, 2)\n",
      "[CV 1/3; 5/10] END clf__C=6, transformer__max_df=0.5, transformer__ngram_range=(1, 2); total time= 3.4min\n",
      "[CV 2/3; 5/10] START clf__C=6, transformer__max_df=0.5, transformer__ngram_range=(1, 2)\n",
      "[CV 2/3; 5/10] END clf__C=6, transformer__max_df=0.5, transformer__ngram_range=(1, 2); total time= 3.1min\n",
      "[CV 3/3; 5/10] START clf__C=6, transformer__max_df=0.5, transformer__ngram_range=(1, 2)\n",
      "[CV 3/3; 5/10] END clf__C=6, transformer__max_df=0.5, transformer__ngram_range=(1, 2); total time= 2.7min\n",
      "[CV 1/3; 6/10] START clf__C=6, transformer__max_df=0.25, transformer__ngram_range=(1, 1)\n",
      "[CV 1/3; 6/10] END clf__C=6, transformer__max_df=0.25, transformer__ngram_range=(1, 1); total time=  40.6s\n",
      "[CV 2/3; 6/10] START clf__C=6, transformer__max_df=0.25, transformer__ngram_range=(1, 1)\n",
      "[CV 2/3; 6/10] END clf__C=6, transformer__max_df=0.25, transformer__ngram_range=(1, 1); total time= 1.1min\n",
      "[CV 3/3; 6/10] START clf__C=6, transformer__max_df=0.25, transformer__ngram_range=(1, 1)\n",
      "[CV 3/3; 6/10] END clf__C=6, transformer__max_df=0.25, transformer__ngram_range=(1, 1); total time= 1.5min\n",
      "[CV 1/3; 7/10] START clf__C=2, transformer__max_df=0.5, transformer__ngram_range=(1, 1)\n",
      "[CV 1/3; 7/10] END clf__C=2, transformer__max_df=0.5, transformer__ngram_range=(1, 1); total time=  53.0s\n",
      "[CV 2/3; 7/10] START clf__C=2, transformer__max_df=0.5, transformer__ngram_range=(1, 1)\n",
      "[CV 2/3; 7/10] END clf__C=2, transformer__max_df=0.5, transformer__ngram_range=(1, 1); total time=  46.3s\n",
      "[CV 3/3; 7/10] START clf__C=2, transformer__max_df=0.5, transformer__ngram_range=(1, 1)\n",
      "[CV 3/3; 7/10] END clf__C=2, transformer__max_df=0.5, transformer__ngram_range=(1, 1); total time=  39.4s\n",
      "[CV 1/3; 8/10] START clf__C=2, transformer__max_df=0.75, transformer__ngram_range=(1, 2)\n",
      "[CV 1/3; 8/10] END clf__C=2, transformer__max_df=0.75, transformer__ngram_range=(1, 2); total time= 2.4min\n",
      "[CV 2/3; 8/10] START clf__C=2, transformer__max_df=0.75, transformer__ngram_range=(1, 2)\n",
      "[CV 2/3; 8/10] END clf__C=2, transformer__max_df=0.75, transformer__ngram_range=(1, 2); total time= 2.3min\n",
      "[CV 3/3; 8/10] START clf__C=2, transformer__max_df=0.75, transformer__ngram_range=(1, 2)\n",
      "[CV 3/3; 8/10] END clf__C=2, transformer__max_df=0.75, transformer__ngram_range=(1, 2); total time= 2.4min\n",
      "[CV 1/3; 9/10] START clf__C=1, transformer__max_df=0.25, transformer__ngram_range=(1, 3)\n",
      "[CV 1/3; 9/10] END clf__C=1, transformer__max_df=0.25, transformer__ngram_range=(1, 3); total time= 3.4min\n",
      "[CV 2/3; 9/10] START clf__C=1, transformer__max_df=0.25, transformer__ngram_range=(1, 3)\n",
      "[CV 2/3; 9/10] END clf__C=1, transformer__max_df=0.25, transformer__ngram_range=(1, 3); total time= 4.1min\n",
      "[CV 3/3; 9/10] START clf__C=1, transformer__max_df=0.25, transformer__ngram_range=(1, 3)\n",
      "[CV 3/3; 9/10] END clf__C=1, transformer__max_df=0.25, transformer__ngram_range=(1, 3); total time= 3.6min\n",
      "[CV 1/3; 10/10] START clf__C=1, transformer__max_df=0.25, transformer__ngram_range=(1, 2)\n",
      "[CV 1/3; 10/10] END clf__C=1, transformer__max_df=0.25, transformer__ngram_range=(1, 2); total time= 2.0min\n",
      "[CV 2/3; 10/10] START clf__C=1, transformer__max_df=0.25, transformer__ngram_range=(1, 2)\n",
      "[CV 2/3; 10/10] END clf__C=1, transformer__max_df=0.25, transformer__ngram_range=(1, 2); total time= 2.0min\n",
      "[CV 3/3; 10/10] START clf__C=1, transformer__max_df=0.25, transformer__ngram_range=(1, 2)\n",
      "[CV 3/3; 10/10] END clf__C=1, transformer__max_df=0.25, transformer__ngram_range=(1, 2); total time= 1.6min\n",
      "CPU times: user 54min 19s, sys: 27min 15s, total: 1h 21min 34s\n",
      "Wall time: 1h 21min 40s\n"
     ]
    }
   ],
   "source": [
    "%%time\n",
    "\n",
    "log_reg_pipeline = Pipeline(steps=[('transformer', tf_idf), (\"clf\", LogisticRegression(max_iter=300))])\n",
    "\n",
    "parameters = {\n",
    "    'transformer__max_df': (0.25, 0.5, 0.75),\n",
    "    'transformer__ngram_range': [(1, 1), (1, 2), (1, 3)],\n",
    "    'clf__C': [1,2,6]\n",
    "}\n",
    "\n",
    "log_reg_model = RandomizedSearchCV(log_reg_pipeline,\n",
    "                                   parameters,\n",
    "                                   scoring='f1',\n",
    "                                   cv=3,\n",
    "                                   verbose=10,\n",
    "                                   n_jobs=-1).fit(X_train, y_train)"
   ]
  },
  {
   "cell_type": "code",
   "execution_count": 36,
   "metadata": {},
   "outputs": [
    {
     "data": {
      "text/plain": [
       "0.7677701060377763"
      ]
     },
     "execution_count": 36,
     "metadata": {},
     "output_type": "execute_result"
    }
   ],
   "source": [
    "log_reg_model.best_score_"
   ]
  },
  {
   "cell_type": "code",
   "execution_count": 37,
   "metadata": {},
   "outputs": [
    {
     "data": {
      "text/plain": [
       "{'transformer__ngram_range': (1, 1), 'transformer__max_df': 0.5, 'clf__C': 6}"
      ]
     },
     "execution_count": 37,
     "metadata": {},
     "output_type": "execute_result"
    }
   ],
   "source": [
    "log_reg_model.best_params_"
   ]
  },
  {
   "cell_type": "markdown",
   "metadata": {},
   "source": [
    "#### Decision Tree"
   ]
  },
  {
   "cell_type": "code",
   "execution_count": 38,
   "metadata": {},
   "outputs": [
    {
     "name": "stdout",
     "output_type": "stream",
     "text": [
      "Fitting 3 folds for each of 10 candidates, totalling 30 fits\n",
      "[CV 1/3; 1/10] START clf__max_depth=3, transformer__max_df=0.25, transformer__ngram_range=(1, 2)\n",
      "[CV 1/3; 1/10] END clf__max_depth=3, transformer__max_df=0.25, transformer__ngram_range=(1, 2); total time=  24.9s\n",
      "[CV 2/3; 1/10] START clf__max_depth=3, transformer__max_df=0.25, transformer__ngram_range=(1, 2)\n",
      "[CV 2/3; 1/10] END clf__max_depth=3, transformer__max_df=0.25, transformer__ngram_range=(1, 2); total time=  25.6s\n",
      "[CV 3/3; 1/10] START clf__max_depth=3, transformer__max_df=0.25, transformer__ngram_range=(1, 2)\n",
      "[CV 3/3; 1/10] END clf__max_depth=3, transformer__max_df=0.25, transformer__ngram_range=(1, 2); total time=  24.9s\n",
      "[CV 1/3; 2/10] START clf__max_depth=6, transformer__max_df=0.75, transformer__ngram_range=(1, 3)\n",
      "[CV 1/3; 2/10] END clf__max_depth=6, transformer__max_df=0.75, transformer__ngram_range=(1, 3); total time= 1.1min\n",
      "[CV 2/3; 2/10] START clf__max_depth=6, transformer__max_df=0.75, transformer__ngram_range=(1, 3)\n",
      "[CV 2/3; 2/10] END clf__max_depth=6, transformer__max_df=0.75, transformer__ngram_range=(1, 3); total time= 1.1min\n",
      "[CV 3/3; 2/10] START clf__max_depth=6, transformer__max_df=0.75, transformer__ngram_range=(1, 3)\n",
      "[CV 3/3; 2/10] END clf__max_depth=6, transformer__max_df=0.75, transformer__ngram_range=(1, 3); total time= 1.1min\n",
      "[CV 1/3; 3/10] START clf__max_depth=7, transformer__max_df=0.75, transformer__ngram_range=(1, 2)\n",
      "[CV 1/3; 3/10] END clf__max_depth=7, transformer__max_df=0.75, transformer__ngram_range=(1, 2); total time=  33.5s\n",
      "[CV 2/3; 3/10] START clf__max_depth=7, transformer__max_df=0.75, transformer__ngram_range=(1, 2)\n",
      "[CV 2/3; 3/10] END clf__max_depth=7, transformer__max_df=0.75, transformer__ngram_range=(1, 2); total time=  33.0s\n",
      "[CV 3/3; 3/10] START clf__max_depth=7, transformer__max_df=0.75, transformer__ngram_range=(1, 2)\n",
      "[CV 3/3; 3/10] END clf__max_depth=7, transformer__max_df=0.75, transformer__ngram_range=(1, 2); total time=  33.6s\n",
      "[CV 1/3; 4/10] START clf__max_depth=3, transformer__max_df=0.75, transformer__ngram_range=(1, 1)\n",
      "[CV 1/3; 4/10] END clf__max_depth=3, transformer__max_df=0.75, transformer__ngram_range=(1, 1); total time=   6.9s\n",
      "[CV 2/3; 4/10] START clf__max_depth=3, transformer__max_df=0.75, transformer__ngram_range=(1, 1)\n",
      "[CV 2/3; 4/10] END clf__max_depth=3, transformer__max_df=0.75, transformer__ngram_range=(1, 1); total time=   7.0s\n",
      "[CV 3/3; 4/10] START clf__max_depth=3, transformer__max_df=0.75, transformer__ngram_range=(1, 1)\n",
      "[CV 3/3; 4/10] END clf__max_depth=3, transformer__max_df=0.75, transformer__ngram_range=(1, 1); total time=   6.9s\n",
      "[CV 1/3; 5/10] START clf__max_depth=7, transformer__max_df=0.75, transformer__ngram_range=(1, 3)\n",
      "[CV 1/3; 5/10] END clf__max_depth=7, transformer__max_df=0.75, transformer__ngram_range=(1, 3); total time= 1.2min\n",
      "[CV 2/3; 5/10] START clf__max_depth=7, transformer__max_df=0.75, transformer__ngram_range=(1, 3)\n",
      "[CV 2/3; 5/10] END clf__max_depth=7, transformer__max_df=0.75, transformer__ngram_range=(1, 3); total time= 1.2min\n",
      "[CV 3/3; 5/10] START clf__max_depth=7, transformer__max_df=0.75, transformer__ngram_range=(1, 3)\n",
      "[CV 3/3; 5/10] END clf__max_depth=7, transformer__max_df=0.75, transformer__ngram_range=(1, 3); total time= 1.2min\n",
      "[CV 1/3; 6/10] START clf__max_depth=7, transformer__max_df=0.25, transformer__ngram_range=(1, 1)\n",
      "[CV 1/3; 6/10] END clf__max_depth=7, transformer__max_df=0.25, transformer__ngram_range=(1, 1); total time=   8.3s\n",
      "[CV 2/3; 6/10] START clf__max_depth=7, transformer__max_df=0.25, transformer__ngram_range=(1, 1)\n",
      "[CV 2/3; 6/10] END clf__max_depth=7, transformer__max_df=0.25, transformer__ngram_range=(1, 1); total time=   8.7s\n",
      "[CV 3/3; 6/10] START clf__max_depth=7, transformer__max_df=0.25, transformer__ngram_range=(1, 1)\n",
      "[CV 3/3; 6/10] END clf__max_depth=7, transformer__max_df=0.25, transformer__ngram_range=(1, 1); total time=   8.2s\n",
      "[CV 1/3; 7/10] START clf__max_depth=5, transformer__max_df=0.5, transformer__ngram_range=(1, 1)\n",
      "[CV 1/3; 7/10] END clf__max_depth=5, transformer__max_df=0.5, transformer__ngram_range=(1, 1); total time=   7.5s\n",
      "[CV 2/3; 7/10] START clf__max_depth=5, transformer__max_df=0.5, transformer__ngram_range=(1, 1)\n",
      "[CV 2/3; 7/10] END clf__max_depth=5, transformer__max_df=0.5, transformer__ngram_range=(1, 1); total time=   7.8s\n",
      "[CV 3/3; 7/10] START clf__max_depth=5, transformer__max_df=0.5, transformer__ngram_range=(1, 1)\n",
      "[CV 3/3; 7/10] END clf__max_depth=5, transformer__max_df=0.5, transformer__ngram_range=(1, 1); total time=   7.7s\n",
      "[CV 1/3; 8/10] START clf__max_depth=7, transformer__max_df=0.25, transformer__ngram_range=(1, 3)\n",
      "[CV 1/3; 8/10] END clf__max_depth=7, transformer__max_df=0.25, transformer__ngram_range=(1, 3); total time= 1.3min\n",
      "[CV 2/3; 8/10] START clf__max_depth=7, transformer__max_df=0.25, transformer__ngram_range=(1, 3)\n",
      "[CV 2/3; 8/10] END clf__max_depth=7, transformer__max_df=0.25, transformer__ngram_range=(1, 3); total time= 1.2min\n",
      "[CV 3/3; 8/10] START clf__max_depth=7, transformer__max_df=0.25, transformer__ngram_range=(1, 3)\n",
      "[CV 3/3; 8/10] END clf__max_depth=7, transformer__max_df=0.25, transformer__ngram_range=(1, 3); total time= 1.2min\n",
      "[CV 1/3; 9/10] START clf__max_depth=8, transformer__max_df=0.25, transformer__ngram_range=(1, 1)\n",
      "[CV 1/3; 9/10] END clf__max_depth=8, transformer__max_df=0.25, transformer__ngram_range=(1, 1); total time=   9.5s\n",
      "[CV 2/3; 9/10] START clf__max_depth=8, transformer__max_df=0.25, transformer__ngram_range=(1, 1)\n",
      "[CV 2/3; 9/10] END clf__max_depth=8, transformer__max_df=0.25, transformer__ngram_range=(1, 1); total time=   9.7s\n",
      "[CV 3/3; 9/10] START clf__max_depth=8, transformer__max_df=0.25, transformer__ngram_range=(1, 1)\n",
      "[CV 3/3; 9/10] END clf__max_depth=8, transformer__max_df=0.25, transformer__ngram_range=(1, 1); total time=   8.5s\n",
      "[CV 1/3; 10/10] START clf__max_depth=4, transformer__max_df=0.75, transformer__ngram_range=(1, 2)\n",
      "[CV 1/3; 10/10] END clf__max_depth=4, transformer__max_df=0.75, transformer__ngram_range=(1, 2); total time=  26.0s\n",
      "[CV 2/3; 10/10] START clf__max_depth=4, transformer__max_df=0.75, transformer__ngram_range=(1, 2)\n",
      "[CV 2/3; 10/10] END clf__max_depth=4, transformer__max_df=0.75, transformer__ngram_range=(1, 2); total time=  26.7s\n",
      "[CV 3/3; 10/10] START clf__max_depth=4, transformer__max_df=0.75, transformer__ngram_range=(1, 2)\n",
      "[CV 3/3; 10/10] END clf__max_depth=4, transformer__max_df=0.75, transformer__ngram_range=(1, 2); total time=  28.0s\n",
      "CPU times: user 16min 41s, sys: 1.69 s, total: 16min 43s\n",
      "Wall time: 16min 44s\n"
     ]
    }
   ],
   "source": [
    "%%time\n",
    "\n",
    "tree_pipeline = Pipeline(steps=[\n",
    "    ('transformer', tf_idf),\n",
    "    ('clf', DecisionTreeClassifier())\n",
    "])\n",
    "\n",
    "parameters = {\n",
    "    'transformer__max_df': (0.25, 0.5, 0.75),\n",
    "    'transformer__ngram_range': ((1, 1), (1, 2), (1, 3)),\n",
    "    'clf__max_depth': range(3, 10)\n",
    "}\n",
    "\n",
    "tree_model = RandomizedSearchCV(tree_pipeline,\n",
    "                                   parameters,\n",
    "                                   scoring='f1',\n",
    "                                   cv=3,\n",
    "                                   verbose=10,\n",
    "                                   n_jobs=-1).fit(X_train, y_train)"
   ]
  },
  {
   "cell_type": "code",
   "execution_count": 39,
   "metadata": {},
   "outputs": [
    {
     "data": {
      "text/plain": [
       "0.5704684268109356"
      ]
     },
     "execution_count": 39,
     "metadata": {},
     "output_type": "execute_result"
    }
   ],
   "source": [
    "tree_model.best_score_"
   ]
  },
  {
   "cell_type": "code",
   "execution_count": 40,
   "metadata": {},
   "outputs": [
    {
     "data": {
      "text/plain": [
       "{'transformer__ngram_range': (1, 1),\n",
       " 'transformer__max_df': 0.25,\n",
       " 'clf__max_depth': 8}"
      ]
     },
     "execution_count": 40,
     "metadata": {},
     "output_type": "execute_result"
    }
   ],
   "source": [
    "tree_model.best_params_"
   ]
  },
  {
   "cell_type": "markdown",
   "metadata": {},
   "source": [
    "Лучшей оказалась модель ллгистической регрессии"
   ]
  },
  {
   "cell_type": "markdown",
   "metadata": {},
   "source": [
    "## Тестирование модели"
   ]
  },
  {
   "cell_type": "markdown",
   "metadata": {},
   "source": [
    "Протестируем модель на тестовой выборке"
   ]
  },
  {
   "cell_type": "code",
   "execution_count": 42,
   "metadata": {},
   "outputs": [
    {
     "data": {
      "text/plain": [
       "0.7629551820728292"
      ]
     },
     "execution_count": 42,
     "metadata": {},
     "output_type": "execute_result"
    }
   ],
   "source": [
    "f1_score(y_test, log_reg_model.best_estimator_.predict(X_test))"
   ]
  },
  {
   "cell_type": "markdown",
   "metadata": {},
   "source": [
    "Модель достаточно хороша"
   ]
  },
  {
   "cell_type": "markdown",
   "metadata": {},
   "source": [
    "## Выводы"
   ]
  },
  {
   "cell_type": "markdown",
   "metadata": {},
   "source": [
    "В результате работы было выполнено:\n",
    " - Загружены данные\n",
    " - Проведена предобработка текста: леммантизация, отчистка\n",
    " - Проведена векторизация слов при помощи tf-idf\n",
    " - Проведен процесс выбора модели. Лучшей оказалася градиентный бустинг\n",
    " - Проведено тестирование модели"
   ]
  }
 ],
 "metadata": {
  "ExecuteTimeLog": [
   {
    "duration": 2005,
    "start_time": "2023-03-25T14:55:03.131Z"
   },
   {
    "duration": 1285,
    "start_time": "2023-03-25T14:55:22.554Z"
   },
   {
    "duration": 883,
    "start_time": "2023-03-25T14:55:59.721Z"
   },
   {
    "duration": 38,
    "start_time": "2023-03-25T14:56:13.555Z"
   },
   {
    "duration": 3,
    "start_time": "2023-03-25T14:56:57.416Z"
   },
   {
    "duration": 5,
    "start_time": "2023-03-25T14:57:46.119Z"
   },
   {
    "duration": 684,
    "start_time": "2023-03-25T14:57:56.836Z"
   },
   {
    "duration": 3,
    "start_time": "2023-03-25T14:58:33.023Z"
   },
   {
    "duration": 4,
    "start_time": "2023-03-25T15:00:13.259Z"
   },
   {
    "duration": 122,
    "start_time": "2023-03-25T15:00:22.489Z"
   },
   {
    "duration": 3,
    "start_time": "2023-03-25T15:00:26.901Z"
   },
   {
    "duration": 5,
    "start_time": "2023-03-25T15:00:27.369Z"
   },
   {
    "duration": 3,
    "start_time": "2023-03-25T15:00:58.030Z"
   },
   {
    "duration": 5,
    "start_time": "2023-03-25T15:00:58.300Z"
   },
   {
    "duration": 4,
    "start_time": "2023-03-25T15:01:27.542Z"
   },
   {
    "duration": 22,
    "start_time": "2023-03-25T15:01:28.061Z"
   },
   {
    "duration": 5,
    "start_time": "2023-03-25T15:01:37.211Z"
   },
   {
    "duration": 23,
    "start_time": "2023-03-25T15:01:37.762Z"
   },
   {
    "duration": 4,
    "start_time": "2023-03-25T15:01:40.710Z"
   },
   {
    "duration": 4,
    "start_time": "2023-03-25T15:01:41.181Z"
   },
   {
    "duration": 3,
    "start_time": "2023-03-25T15:01:58.760Z"
   },
   {
    "duration": 4,
    "start_time": "2023-03-25T15:01:59.071Z"
   },
   {
    "duration": 4,
    "start_time": "2023-03-25T15:02:04.351Z"
   },
   {
    "duration": 5,
    "start_time": "2023-03-25T15:02:04.630Z"
   },
   {
    "duration": 4,
    "start_time": "2023-03-25T15:02:10.161Z"
   },
   {
    "duration": 3,
    "start_time": "2023-03-25T15:03:01.162Z"
   },
   {
    "duration": 6,
    "start_time": "2023-03-25T15:03:01.431Z"
   },
   {
    "duration": 3,
    "start_time": "2023-03-25T15:03:12.412Z"
   },
   {
    "duration": 4,
    "start_time": "2023-03-25T15:03:12.732Z"
   },
   {
    "duration": 115906,
    "start_time": "2023-03-25T15:03:53.782Z"
   },
   {
    "duration": 6,
    "start_time": "2023-03-25T15:05:49.690Z"
   },
   {
    "duration": 48,
    "start_time": "2023-03-25T15:07:00.345Z"
   },
   {
    "duration": 213,
    "start_time": "2023-03-25T15:09:58.250Z"
   },
   {
    "duration": 23,
    "start_time": "2023-03-25T15:10:03.568Z"
   },
   {
    "duration": 2,
    "start_time": "2023-03-25T15:10:04.519Z"
   },
   {
    "duration": 1347,
    "start_time": "2023-03-25T15:10:05.028Z"
   },
   {
    "duration": 3,
    "start_time": "2023-03-25T15:10:13.481Z"
   },
   {
    "duration": 5,
    "start_time": "2023-03-25T15:10:13.739Z"
   },
   {
    "duration": 3,
    "start_time": "2023-03-25T15:10:38.979Z"
   },
   {
    "duration": 3,
    "start_time": "2023-03-25T15:10:39.289Z"
   },
   {
    "duration": 5,
    "start_time": "2023-03-25T15:10:39.568Z"
   },
   {
    "duration": 4,
    "start_time": "2023-03-25T15:11:02.625Z"
   },
   {
    "duration": 33,
    "start_time": "2023-03-25T15:13:09.061Z"
   },
   {
    "duration": 28903,
    "start_time": "2023-03-25T15:13:19.411Z"
   },
   {
    "duration": 8654,
    "start_time": "2023-03-25T15:13:51.272Z"
   },
   {
    "duration": 2507,
    "start_time": "2023-03-25T15:15:23.963Z"
   },
   {
    "duration": 4,
    "start_time": "2023-03-25T15:15:28.904Z"
   },
   {
    "duration": 956,
    "start_time": "2023-03-25T15:15:32.468Z"
   },
   {
    "duration": 39,
    "start_time": "2023-03-25T15:15:33.593Z"
   },
   {
    "duration": 3,
    "start_time": "2023-03-25T15:15:55.094Z"
   },
   {
    "duration": 59,
    "start_time": "2023-03-25T15:15:56.254Z"
   },
   {
    "duration": 471,
    "start_time": "2023-03-25T15:16:10.216Z"
   },
   {
    "duration": 180,
    "start_time": "2023-03-25T15:16:16.924Z"
   },
   {
    "duration": 4,
    "start_time": "2023-03-25T15:16:30.244Z"
   },
   {
    "duration": 4,
    "start_time": "2023-03-25T15:16:30.534Z"
   },
   {
    "duration": 3,
    "start_time": "2023-03-25T15:17:00.035Z"
   },
   {
    "duration": 866725,
    "start_time": "2023-03-25T15:19:24.979Z"
   },
   {
    "duration": 11,
    "start_time": "2023-03-25T15:33:51.707Z"
   },
   {
    "duration": 903,
    "start_time": "2023-03-25T15:33:51.720Z"
   },
   {
    "duration": 0,
    "start_time": "2023-03-25T15:33:52.625Z"
   },
   {
    "duration": 0,
    "start_time": "2023-03-25T15:33:52.626Z"
   },
   {
    "duration": 0,
    "start_time": "2023-03-25T15:33:52.627Z"
   },
   {
    "duration": 0,
    "start_time": "2023-03-25T15:33:52.630Z"
   },
   {
    "duration": 0,
    "start_time": "2023-03-25T15:33:52.633Z"
   },
   {
    "duration": 0,
    "start_time": "2023-03-25T15:33:52.634Z"
   },
   {
    "duration": 2239,
    "start_time": "2023-03-25T15:34:03.440Z"
   },
   {
    "duration": 46,
    "start_time": "2023-03-25T15:34:07.950Z"
   },
   {
    "duration": 2297,
    "start_time": "2023-03-25T15:34:31.440Z"
   },
   {
    "duration": 15,
    "start_time": "2023-03-25T15:34:35.080Z"
   },
   {
    "duration": 3,
    "start_time": "2023-03-25T15:34:46.100Z"
   },
   {
    "duration": 11,
    "start_time": "2023-03-25T15:34:46.930Z"
   },
   {
    "duration": 57,
    "start_time": "2023-03-25T15:34:49.950Z"
   },
   {
    "duration": 35,
    "start_time": "2023-03-25T15:34:53.830Z"
   },
   {
    "duration": 7,
    "start_time": "2023-03-25T15:34:55.728Z"
   },
   {
    "duration": 35,
    "start_time": "2023-03-25T15:34:55.738Z"
   },
   {
    "duration": 18,
    "start_time": "2023-03-25T15:34:59.271Z"
   },
   {
    "duration": 7,
    "start_time": "2023-03-25T15:35:19.382Z"
   },
   {
    "duration": 6,
    "start_time": "2023-03-25T15:35:25.102Z"
   },
   {
    "duration": 2,
    "start_time": "2023-03-25T15:35:30.811Z"
   },
   {
    "duration": 32988,
    "start_time": "2023-03-25T15:35:32.701Z"
   },
   {
    "duration": 12,
    "start_time": "2023-03-25T15:37:13.212Z"
   },
   {
    "duration": 23,
    "start_time": "2023-03-25T15:37:29.212Z"
   },
   {
    "duration": 6491,
    "start_time": "2023-03-25T15:37:45.394Z"
   },
   {
    "duration": 6659,
    "start_time": "2023-03-25T15:37:56.383Z"
   },
   {
    "duration": 1523,
    "start_time": "2023-03-25T15:38:10.662Z"
   },
   {
    "duration": 13,
    "start_time": "2023-03-25T15:38:20.313Z"
   },
   {
    "duration": 13,
    "start_time": "2023-03-25T15:38:22.693Z"
   },
   {
    "duration": 11,
    "start_time": "2023-03-25T15:38:25.414Z"
   },
   {
    "duration": 1504,
    "start_time": "2023-03-25T15:38:30.183Z"
   },
   {
    "duration": 1503,
    "start_time": "2023-03-25T15:38:48.464Z"
   },
   {
    "duration": 32643,
    "start_time": "2023-03-25T15:39:02.683Z"
   },
   {
    "duration": 33202,
    "start_time": "2023-03-25T15:40:16.064Z"
   },
   {
    "duration": 37,
    "start_time": "2023-03-25T15:41:50.586Z"
   },
   {
    "duration": 34,
    "start_time": "2023-03-25T15:41:50.867Z"
   },
   {
    "duration": 4,
    "start_time": "2023-03-25T15:41:51.246Z"
   },
   {
    "duration": 4,
    "start_time": "2023-03-25T15:41:56.516Z"
   },
   {
    "duration": 4,
    "start_time": "2023-03-25T15:41:56.898Z"
   },
   {
    "duration": 39,
    "start_time": "2023-03-25T15:42:02.536Z"
   },
   {
    "duration": 34,
    "start_time": "2023-03-25T15:42:02.706Z"
   },
   {
    "duration": 3,
    "start_time": "2023-03-25T15:42:02.927Z"
   },
   {
    "duration": 4,
    "start_time": "2023-03-25T15:42:03.266Z"
   },
   {
    "duration": 4,
    "start_time": "2023-03-25T15:42:03.676Z"
   },
   {
    "duration": 5140,
    "start_time": "2023-03-25T15:42:43.967Z"
   },
   {
    "duration": 47,
    "start_time": "2023-03-25T15:43:21.058Z"
   },
   {
    "duration": 9,
    "start_time": "2023-03-25T15:43:23.797Z"
   },
   {
    "duration": 2541,
    "start_time": "2023-03-25T15:43:29.947Z"
   },
   {
    "duration": 13612,
    "start_time": "2023-03-25T15:43:32.490Z"
   },
   {
    "duration": 1248,
    "start_time": "2023-03-25T15:43:51.973Z"
   },
   {
    "duration": 37,
    "start_time": "2023-03-25T15:43:53.223Z"
   },
   {
    "duration": 3,
    "start_time": "2023-03-25T15:43:56.698Z"
   },
   {
    "duration": 3,
    "start_time": "2023-03-25T15:43:57.738Z"
   },
   {
    "duration": 3,
    "start_time": "2023-03-25T15:44:01.948Z"
   },
   {
    "duration": 17,
    "start_time": "2023-03-25T15:44:02.208Z"
   },
   {
    "duration": 3,
    "start_time": "2023-03-25T15:44:03.257Z"
   },
   {
    "duration": 5,
    "start_time": "2023-03-25T15:44:03.657Z"
   },
   {
    "duration": 2336,
    "start_time": "2023-03-25T15:44:04.107Z"
   },
   {
    "duration": 49,
    "start_time": "2023-03-25T15:44:06.446Z"
   },
   {
    "duration": 4,
    "start_time": "2023-03-25T15:44:08.657Z"
   },
   {
    "duration": 34,
    "start_time": "2023-03-25T15:44:08.961Z"
   },
   {
    "duration": 33,
    "start_time": "2023-03-25T15:44:09.317Z"
   },
   {
    "duration": 4,
    "start_time": "2023-03-25T15:44:09.668Z"
   },
   {
    "duration": 4,
    "start_time": "2023-03-25T15:44:10.108Z"
   },
   {
    "duration": 5,
    "start_time": "2023-03-25T15:44:10.488Z"
   },
   {
    "duration": 6,
    "start_time": "2023-03-25T15:44:12.358Z"
   },
   {
    "duration": 4385,
    "start_time": "2023-03-25T15:44:15.909Z"
   },
   {
    "duration": 13697,
    "start_time": "2023-03-25T15:45:03.928Z"
   },
   {
    "duration": 1208,
    "start_time": "2023-03-25T15:45:19.848Z"
   },
   {
    "duration": 38,
    "start_time": "2023-03-25T15:45:21.059Z"
   },
   {
    "duration": 3,
    "start_time": "2023-03-25T15:45:23.049Z"
   },
   {
    "duration": 16,
    "start_time": "2023-03-25T15:45:23.199Z"
   },
   {
    "duration": 3,
    "start_time": "2023-03-25T15:45:23.719Z"
   },
   {
    "duration": 5,
    "start_time": "2023-03-25T15:45:23.879Z"
   },
   {
    "duration": 2305,
    "start_time": "2023-03-25T15:45:24.068Z"
   },
   {
    "duration": 43,
    "start_time": "2023-03-25T15:45:26.376Z"
   },
   {
    "duration": 3,
    "start_time": "2023-03-25T15:45:27.950Z"
   },
   {
    "duration": 40,
    "start_time": "2023-03-25T15:45:28.099Z"
   },
   {
    "duration": 32,
    "start_time": "2023-03-25T15:45:28.248Z"
   },
   {
    "duration": 4,
    "start_time": "2023-03-25T15:45:28.390Z"
   },
   {
    "duration": 4,
    "start_time": "2023-03-25T15:45:28.579Z"
   },
   {
    "duration": 5,
    "start_time": "2023-03-25T15:45:28.938Z"
   },
   {
    "duration": 6,
    "start_time": "2023-03-25T15:45:30.969Z"
   },
   {
    "duration": 4455,
    "start_time": "2023-03-25T15:45:50.200Z"
   },
   {
    "duration": 5,
    "start_time": "2023-03-25T15:46:01.649Z"
   },
   {
    "duration": 13234,
    "start_time": "2023-03-25T15:46:40.071Z"
   },
   {
    "duration": 1258,
    "start_time": "2023-03-25T15:46:53.308Z"
   },
   {
    "duration": 35,
    "start_time": "2023-03-25T15:46:54.568Z"
   },
   {
    "duration": 3,
    "start_time": "2023-03-25T15:46:54.605Z"
   },
   {
    "duration": 24,
    "start_time": "2023-03-25T15:46:54.610Z"
   },
   {
    "duration": 3,
    "start_time": "2023-03-25T15:46:54.636Z"
   },
   {
    "duration": 11,
    "start_time": "2023-03-25T15:46:54.641Z"
   },
   {
    "duration": 2378,
    "start_time": "2023-03-25T15:46:54.653Z"
   },
   {
    "duration": 45,
    "start_time": "2023-03-25T15:46:57.032Z"
   },
   {
    "duration": 4,
    "start_time": "2023-03-25T15:46:57.079Z"
   },
   {
    "duration": 45,
    "start_time": "2023-03-25T15:46:57.084Z"
   },
   {
    "duration": 32,
    "start_time": "2023-03-25T15:46:57.142Z"
   },
   {
    "duration": 5,
    "start_time": "2023-03-25T15:46:57.177Z"
   },
   {
    "duration": 11,
    "start_time": "2023-03-25T15:46:57.184Z"
   },
   {
    "duration": 18,
    "start_time": "2023-03-25T15:46:57.197Z"
   },
   {
    "duration": 236,
    "start_time": "2023-03-25T15:46:57.217Z"
   },
   {
    "duration": 4412,
    "start_time": "2023-03-25T15:47:08.041Z"
   },
   {
    "duration": 4,
    "start_time": "2023-03-25T15:47:12.456Z"
   },
   {
    "duration": 148,
    "start_time": "2023-03-25T15:47:51.032Z"
   },
   {
    "duration": 4418,
    "start_time": "2023-03-25T15:47:54.821Z"
   },
   {
    "duration": 7035,
    "start_time": "2023-03-25T15:47:59.992Z"
   },
   {
    "duration": 4,
    "start_time": "2023-03-25T15:48:10.531Z"
   },
   {
    "duration": 5,
    "start_time": "2023-03-25T15:48:30.102Z"
   },
   {
    "duration": 5,
    "start_time": "2023-03-25T15:48:48.542Z"
   },
   {
    "duration": 50,
    "start_time": "2023-03-25T15:49:15.512Z"
   },
   {
    "duration": 16,
    "start_time": "2023-03-25T15:49:18.972Z"
   },
   {
    "duration": 41501,
    "start_time": "2023-03-25T15:50:05.052Z"
   },
   {
    "duration": 48651,
    "start_time": "2023-03-25T15:51:36.605Z"
   },
   {
    "duration": 12278,
    "start_time": "2023-03-25T15:56:23.509Z"
   },
   {
    "duration": 816,
    "start_time": "2023-03-25T15:56:35.789Z"
   },
   {
    "duration": 42,
    "start_time": "2023-03-25T15:56:36.607Z"
   },
   {
    "duration": 3,
    "start_time": "2023-03-25T15:56:36.652Z"
   },
   {
    "duration": 39,
    "start_time": "2023-03-25T15:56:36.657Z"
   },
   {
    "duration": 27,
    "start_time": "2023-03-25T15:56:36.697Z"
   },
   {
    "duration": 19,
    "start_time": "2023-03-25T15:56:36.727Z"
   },
   {
    "duration": 2114,
    "start_time": "2023-03-25T15:56:36.749Z"
   },
   {
    "duration": 41,
    "start_time": "2023-03-25T15:56:38.865Z"
   },
   {
    "duration": 2,
    "start_time": "2023-03-25T15:56:38.909Z"
   },
   {
    "duration": 50,
    "start_time": "2023-03-25T15:56:38.913Z"
   },
   {
    "duration": 30,
    "start_time": "2023-03-25T15:56:38.964Z"
   },
   {
    "duration": 4,
    "start_time": "2023-03-25T15:56:38.996Z"
   },
   {
    "duration": 12,
    "start_time": "2023-03-25T15:56:39.001Z"
   },
   {
    "duration": 12,
    "start_time": "2023-03-25T15:56:39.015Z"
   },
   {
    "duration": 218,
    "start_time": "2023-03-25T15:56:39.029Z"
   },
   {
    "duration": 4125,
    "start_time": "2023-03-25T15:56:39.249Z"
   },
   {
    "duration": 6560,
    "start_time": "2023-03-25T15:56:43.376Z"
   },
   {
    "duration": 5,
    "start_time": "2023-03-25T15:56:49.938Z"
   },
   {
    "duration": 17,
    "start_time": "2023-03-25T15:56:49.945Z"
   },
   {
    "duration": 116725,
    "start_time": "2023-03-25T15:56:57.888Z"
   },
   {
    "duration": 4,
    "start_time": "2023-03-25T16:01:38.573Z"
   },
   {
    "duration": 4,
    "start_time": "2023-03-25T16:01:41.192Z"
   },
   {
    "duration": 12,
    "start_time": "2023-03-25T16:01:43.154Z"
   },
   {
    "duration": 82,
    "start_time": "2023-03-25T16:01:52.154Z"
   },
   {
    "duration": 1165,
    "start_time": "2023-03-25T16:02:13.233Z"
   },
   {
    "duration": 10743,
    "start_time": "2023-03-25T16:02:32.215Z"
   },
   {
    "duration": 4,
    "start_time": "2023-03-25T16:07:19.628Z"
   },
   {
    "duration": 4,
    "start_time": "2023-03-25T16:08:00.519Z"
   },
   {
    "duration": 304,
    "start_time": "2023-03-25T16:08:03.171Z"
   },
   {
    "duration": 4,
    "start_time": "2023-03-25T16:08:25.328Z"
   },
   {
    "duration": 3,
    "start_time": "2023-03-25T16:08:28.301Z"
   },
   {
    "duration": 391,
    "start_time": "2023-03-25T16:08:28.608Z"
   },
   {
    "duration": 99,
    "start_time": "2023-03-25T16:08:44.478Z"
   },
   {
    "duration": 4,
    "start_time": "2023-03-25T16:11:07.352Z"
   },
   {
    "duration": 6,
    "start_time": "2023-03-25T16:11:07.732Z"
   },
   {
    "duration": 129,
    "start_time": "2023-03-25T16:11:26.601Z"
   },
   {
    "duration": 32,
    "start_time": "2023-03-25T16:11:56.442Z"
   },
   {
    "duration": 105,
    "start_time": "2023-03-25T16:11:58.342Z"
   },
   {
    "duration": 826,
    "start_time": "2023-03-25T16:12:18.332Z"
   },
   {
    "duration": 12,
    "start_time": "2023-03-25T16:12:28.122Z"
   },
   {
    "duration": 6,
    "start_time": "2023-03-25T16:12:37.912Z"
   },
   {
    "duration": 131040,
    "start_time": "2023-03-25T16:12:52.753Z"
   },
   {
    "duration": 12,
    "start_time": "2023-03-25T16:15:03.795Z"
   },
   {
    "duration": 4,
    "start_time": "2023-03-25T16:15:36.295Z"
   },
   {
    "duration": 4,
    "start_time": "2023-03-25T16:15:38.855Z"
   },
   {
    "duration": 4,
    "start_time": "2023-03-25T16:15:41.435Z"
   },
   {
    "duration": 4,
    "start_time": "2023-03-25T16:15:44.647Z"
   },
   {
    "duration": 5,
    "start_time": "2023-03-25T16:15:47.645Z"
   },
   {
    "duration": 4,
    "start_time": "2023-03-25T16:15:50.675Z"
   },
   {
    "duration": 5,
    "start_time": "2023-03-25T16:15:56.085Z"
   },
   {
    "duration": 6,
    "start_time": "2023-03-25T16:16:26.670Z"
   },
   {
    "duration": 4,
    "start_time": "2023-03-25T16:16:31.572Z"
   },
   {
    "duration": 5,
    "start_time": "2023-03-25T16:16:40.576Z"
   },
   {
    "duration": 4,
    "start_time": "2023-03-25T16:16:52.986Z"
   },
   {
    "duration": 52,
    "start_time": "2023-03-25T16:16:53.125Z"
   },
   {
    "duration": 40,
    "start_time": "2023-03-25T16:16:53.286Z"
   },
   {
    "duration": 4,
    "start_time": "2023-03-25T16:16:53.586Z"
   },
   {
    "duration": 5,
    "start_time": "2023-03-25T16:16:54.067Z"
   },
   {
    "duration": 6,
    "start_time": "2023-03-25T16:16:54.336Z"
   },
   {
    "duration": 5,
    "start_time": "2023-03-25T16:16:56.106Z"
   },
   {
    "duration": 4516,
    "start_time": "2023-03-25T16:16:56.295Z"
   },
   {
    "duration": 7113,
    "start_time": "2023-03-25T16:17:00.813Z"
   },
   {
    "duration": 14,
    "start_time": "2023-03-25T16:17:07.928Z"
   },
   {
    "duration": 17,
    "start_time": "2023-03-25T16:17:12.070Z"
   },
   {
    "duration": 13666,
    "start_time": "2023-03-25T16:17:16.296Z"
   },
   {
    "duration": 24729,
    "start_time": "2023-03-25T16:17:31.038Z"
   },
   {
    "duration": 247113,
    "start_time": "2023-03-25T16:18:48.108Z"
   },
   {
    "duration": 613050,
    "start_time": "2023-03-25T16:23:44.892Z"
   },
   {
    "duration": 0,
    "start_time": "2023-03-25T16:35:08.403Z"
   },
   {
    "duration": 1941701,
    "start_time": "2023-03-25T16:57:15.792Z"
   },
   {
    "duration": 15,
    "start_time": "2023-03-25T17:30:48.529Z"
   },
   {
    "duration": 573,
    "start_time": "2023-03-25T17:30:55.939Z"
   },
   {
    "duration": 2189,
    "start_time": "2023-03-30T18:08:16.194Z"
   },
   {
    "duration": 5,
    "start_time": "2023-03-30T18:08:34.570Z"
   },
   {
    "duration": 2677,
    "start_time": "2023-03-30T18:08:37.006Z"
   },
   {
    "duration": 33,
    "start_time": "2023-03-30T18:08:39.685Z"
   },
   {
    "duration": 4,
    "start_time": "2023-03-30T18:08:39.720Z"
   },
   {
    "duration": 1326,
    "start_time": "2023-03-30T18:08:39.736Z"
   },
   {
    "duration": 3,
    "start_time": "2023-03-30T18:08:41.064Z"
   },
   {
    "duration": 24,
    "start_time": "2023-03-30T18:08:41.068Z"
   },
   {
    "duration": 144943,
    "start_time": "2023-03-30T18:08:41.094Z"
   },
   {
    "duration": 39,
    "start_time": "2023-03-30T18:11:06.040Z"
   },
   {
    "duration": 13,
    "start_time": "2023-03-30T18:11:06.081Z"
   },
   {
    "duration": 52,
    "start_time": "2023-03-30T18:11:06.096Z"
   },
   {
    "duration": 4,
    "start_time": "2023-03-30T18:11:06.150Z"
   },
   {
    "duration": 6,
    "start_time": "2023-03-30T18:11:06.155Z"
   },
   {
    "duration": 153,
    "start_time": "2023-03-30T18:11:26.604Z"
   },
   {
    "duration": 6,
    "start_time": "2023-03-30T18:11:45.989Z"
   },
   {
    "duration": 137,
    "start_time": "2023-03-30T18:11:54.868Z"
   },
   {
    "duration": 2,
    "start_time": "2023-03-30T18:11:55.229Z"
   },
   {
    "duration": 10,
    "start_time": "2023-03-30T18:12:22.779Z"
   },
   {
    "duration": 5,
    "start_time": "2023-03-30T18:12:33.769Z"
   },
   {
    "duration": 4278,
    "start_time": "2023-03-30T18:12:38.680Z"
   },
   {
    "duration": 31311,
    "start_time": "2023-03-30T18:13:19.893Z"
   },
   {
    "duration": 5,
    "start_time": "2023-03-30T18:14:08.038Z"
   },
   {
    "duration": 65,
    "start_time": "2023-03-30T18:17:15.329Z"
   },
   {
    "duration": 65,
    "start_time": "2023-03-30T18:17:23.559Z"
   },
   {
    "duration": 69,
    "start_time": "2023-03-30T18:17:49.903Z"
   },
   {
    "duration": 75,
    "start_time": "2023-03-30T18:18:02.433Z"
   },
   {
    "duration": 4789,
    "start_time": "2023-03-30T18:18:16.463Z"
   },
   {
    "duration": 9771,
    "start_time": "2023-03-30T18:18:59.645Z"
   },
   {
    "duration": 548413,
    "start_time": "2023-03-30T18:19:23.885Z"
   },
   {
    "duration": 4,
    "start_time": "2023-03-30T18:28:32.300Z"
   },
   {
    "duration": 376,
    "start_time": "2023-03-30T18:28:50.521Z"
   },
   {
    "duration": 4900889,
    "start_time": "2023-03-30T18:29:08.255Z"
   },
   {
    "duration": 5,
    "start_time": "2023-03-30T19:50:49.234Z"
   },
   {
    "duration": 24,
    "start_time": "2023-03-30T19:50:49.241Z"
   },
   {
    "duration": 1004359,
    "start_time": "2023-03-30T19:53:16.346Z"
   },
   {
    "duration": 4,
    "start_time": "2023-03-30T20:10:00.707Z"
   },
   {
    "duration": 42,
    "start_time": "2023-03-30T20:10:00.713Z"
   },
   {
    "duration": 13,
    "start_time": "2023-03-30T20:22:49.033Z"
   },
   {
    "duration": 1421,
    "start_time": "2023-03-30T20:22:54.787Z"
   }
  ],
  "kernelspec": {
   "display_name": "Python 3 (ipykernel)",
   "language": "python",
   "name": "python3"
  },
  "language_info": {
   "codemirror_mode": {
    "name": "ipython",
    "version": 3
   },
   "file_extension": ".py",
   "mimetype": "text/x-python",
   "name": "python",
   "nbconvert_exporter": "python",
   "pygments_lexer": "ipython3",
   "version": "3.9.5"
  },
  "toc": {
   "base_numbering": 1,
   "nav_menu": {},
   "number_sections": true,
   "sideBar": true,
   "skip_h1_title": true,
   "title_cell": "Содержание",
   "title_sidebar": "Contents",
   "toc_cell": true,
   "toc_position": {
    "height": "calc(100% - 180px)",
    "left": "10px",
    "top": "150px",
    "width": "302.391px"
   },
   "toc_section_display": true,
   "toc_window_display": false
  }
 },
 "nbformat": 4,
 "nbformat_minor": 2
}
