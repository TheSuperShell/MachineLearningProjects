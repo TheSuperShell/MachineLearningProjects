{
 "cells": [
  {
   "cell_type": "markdown",
   "metadata": {},
   "source": [
    "# Определение стоимости автомобилей"
   ]
  },
  {
   "attachments": {},
   "cell_type": "markdown",
   "metadata": {},
   "source": [
    "Сервис по продаже автомобилей разрабатывает приложение для привлечения новых клиентов. В нём можно быстро узнать рыночную стоимость своего автомобиля. В вашем распоряжении исторические данные: технические характеристики, комплектации и цены автомобилей. Вам нужно построить модель для определения стоимости. \n",
    "\n",
    "Заказчику важны:\n",
    "\n",
    "- качество предсказания;\n",
    "- скорость предсказания;\n",
    "- время обучения."
   ]
  },
  {
   "cell_type": "code",
   "execution_count": 1,
   "metadata": {},
   "outputs": [],
   "source": [
    "import numpy as np\n",
    "import matplotlib.pyplot as plt\n",
    "import pandas as pd\n",
    "import seaborn as sns\n",
    "import sklearn\n",
    "from sklearn.metrics import r2_score\n",
    "from sklearn.metrics import mean_squared_error\n",
    "from sklearn.model_selection import train_test_split\n",
    "from sklearn.model_selection import GridSearchCV\n",
    "from sklearn.model_selection import cross_val_score\n",
    "from sklearn.dummy import DummyRegressor\n",
    "from sklearn.tree import DecisionTreeRegressor\n",
    "import lightgbm"
   ]
  },
  {
   "cell_type": "markdown",
   "metadata": {},
   "source": [
    "## Подготовка данных"
   ]
  },
  {
   "cell_type": "markdown",
   "metadata": {},
   "source": [
    "### Загрузка данных"
   ]
  },
  {
   "cell_type": "code",
   "execution_count": 2,
   "metadata": {},
   "outputs": [
    {
     "data": {
      "text/html": [
       "<div>\n",
       "<style scoped>\n",
       "    .dataframe tbody tr th:only-of-type {\n",
       "        vertical-align: middle;\n",
       "    }\n",
       "\n",
       "    .dataframe tbody tr th {\n",
       "        vertical-align: top;\n",
       "    }\n",
       "\n",
       "    .dataframe thead th {\n",
       "        text-align: right;\n",
       "    }\n",
       "</style>\n",
       "<table border=\"1\" class=\"dataframe\">\n",
       "  <thead>\n",
       "    <tr style=\"text-align: right;\">\n",
       "      <th></th>\n",
       "      <th>DateCrawled</th>\n",
       "      <th>Price</th>\n",
       "      <th>VehicleType</th>\n",
       "      <th>RegistrationYear</th>\n",
       "      <th>Gearbox</th>\n",
       "      <th>Power</th>\n",
       "      <th>Model</th>\n",
       "      <th>Kilometer</th>\n",
       "      <th>RegistrationMonth</th>\n",
       "      <th>FuelType</th>\n",
       "      <th>Brand</th>\n",
       "      <th>Repaired</th>\n",
       "      <th>DateCreated</th>\n",
       "      <th>NumberOfPictures</th>\n",
       "      <th>PostalCode</th>\n",
       "      <th>LastSeen</th>\n",
       "    </tr>\n",
       "  </thead>\n",
       "  <tbody>\n",
       "    <tr>\n",
       "      <th>55185</th>\n",
       "      <td>2016-03-05 16:44:01</td>\n",
       "      <td>100</td>\n",
       "      <td>small</td>\n",
       "      <td>1991</td>\n",
       "      <td>manual</td>\n",
       "      <td>0</td>\n",
       "      <td>fiesta</td>\n",
       "      <td>80000</td>\n",
       "      <td>3</td>\n",
       "      <td>NaN</td>\n",
       "      <td>ford</td>\n",
       "      <td>no</td>\n",
       "      <td>2016-03-05 00:00:00</td>\n",
       "      <td>0</td>\n",
       "      <td>30926</td>\n",
       "      <td>2016-03-06 04:45:01</td>\n",
       "    </tr>\n",
       "    <tr>\n",
       "      <th>243323</th>\n",
       "      <td>2016-03-09 17:45:31</td>\n",
       "      <td>890</td>\n",
       "      <td>small</td>\n",
       "      <td>1999</td>\n",
       "      <td>manual</td>\n",
       "      <td>75</td>\n",
       "      <td>fiesta</td>\n",
       "      <td>150000</td>\n",
       "      <td>9</td>\n",
       "      <td>petrol</td>\n",
       "      <td>ford</td>\n",
       "      <td>no</td>\n",
       "      <td>2016-03-09 00:00:00</td>\n",
       "      <td>0</td>\n",
       "      <td>79591</td>\n",
       "      <td>2016-04-07 09:16:31</td>\n",
       "    </tr>\n",
       "    <tr>\n",
       "      <th>183760</th>\n",
       "      <td>2016-04-02 15:43:47</td>\n",
       "      <td>850</td>\n",
       "      <td>wagon</td>\n",
       "      <td>1997</td>\n",
       "      <td>manual</td>\n",
       "      <td>116</td>\n",
       "      <td>vectra</td>\n",
       "      <td>150000</td>\n",
       "      <td>6</td>\n",
       "      <td>petrol</td>\n",
       "      <td>opel</td>\n",
       "      <td>no</td>\n",
       "      <td>2016-04-02 00:00:00</td>\n",
       "      <td>0</td>\n",
       "      <td>84562</td>\n",
       "      <td>2016-04-06 14:16:50</td>\n",
       "    </tr>\n",
       "    <tr>\n",
       "      <th>99455</th>\n",
       "      <td>2016-03-08 14:58:24</td>\n",
       "      <td>4200</td>\n",
       "      <td>bus</td>\n",
       "      <td>2002</td>\n",
       "      <td>manual</td>\n",
       "      <td>125</td>\n",
       "      <td>other</td>\n",
       "      <td>100000</td>\n",
       "      <td>10</td>\n",
       "      <td>petrol</td>\n",
       "      <td>honda</td>\n",
       "      <td>NaN</td>\n",
       "      <td>2016-03-08 00:00:00</td>\n",
       "      <td>0</td>\n",
       "      <td>42327</td>\n",
       "      <td>2016-04-05 22:16:44</td>\n",
       "    </tr>\n",
       "    <tr>\n",
       "      <th>79920</th>\n",
       "      <td>2016-03-08 17:49:55</td>\n",
       "      <td>1390</td>\n",
       "      <td>small</td>\n",
       "      <td>2004</td>\n",
       "      <td>manual</td>\n",
       "      <td>101</td>\n",
       "      <td>fiesta</td>\n",
       "      <td>150000</td>\n",
       "      <td>7</td>\n",
       "      <td>petrol</td>\n",
       "      <td>ford</td>\n",
       "      <td>no</td>\n",
       "      <td>2016-03-08 00:00:00</td>\n",
       "      <td>0</td>\n",
       "      <td>40699</td>\n",
       "      <td>2016-04-07 08:44:55</td>\n",
       "    </tr>\n",
       "  </tbody>\n",
       "</table>\n",
       "</div>"
      ],
      "text/plain": [
       "                DateCrawled  Price VehicleType  RegistrationYear Gearbox  \\\n",
       "55185   2016-03-05 16:44:01    100       small              1991  manual   \n",
       "243323  2016-03-09 17:45:31    890       small              1999  manual   \n",
       "183760  2016-04-02 15:43:47    850       wagon              1997  manual   \n",
       "99455   2016-03-08 14:58:24   4200         bus              2002  manual   \n",
       "79920   2016-03-08 17:49:55   1390       small              2004  manual   \n",
       "\n",
       "        Power   Model  Kilometer  RegistrationMonth FuelType  Brand Repaired  \\\n",
       "55185       0  fiesta      80000                  3      NaN   ford       no   \n",
       "243323     75  fiesta     150000                  9   petrol   ford       no   \n",
       "183760    116  vectra     150000                  6   petrol   opel       no   \n",
       "99455     125   other     100000                 10   petrol  honda      NaN   \n",
       "79920     101  fiesta     150000                  7   petrol   ford       no   \n",
       "\n",
       "                DateCreated  NumberOfPictures  PostalCode             LastSeen  \n",
       "55185   2016-03-05 00:00:00                 0       30926  2016-03-06 04:45:01  \n",
       "243323  2016-03-09 00:00:00                 0       79591  2016-04-07 09:16:31  \n",
       "183760  2016-04-02 00:00:00                 0       84562  2016-04-06 14:16:50  \n",
       "99455   2016-03-08 00:00:00                 0       42327  2016-04-05 22:16:44  \n",
       "79920   2016-03-08 00:00:00                 0       40699  2016-04-07 08:44:55  "
      ]
     },
     "execution_count": 2,
     "metadata": {},
     "output_type": "execute_result"
    }
   ],
   "source": [
    "try:\n",
    "    df = pd.read_csv(\"autos.csv\")\n",
    "except:\n",
    "    df = pd.read_csv(\"/datasets/autos.csv\")\n",
    "\n",
    "df.sample(5)"
   ]
  },
  {
   "cell_type": "code",
   "execution_count": 3,
   "metadata": {},
   "outputs": [
    {
     "name": "stdout",
     "output_type": "stream",
     "text": [
      "<class 'pandas.core.frame.DataFrame'>\n",
      "RangeIndex: 354369 entries, 0 to 354368\n",
      "Data columns (total 16 columns):\n",
      " #   Column             Non-Null Count   Dtype \n",
      "---  ------             --------------   ----- \n",
      " 0   DateCrawled        354369 non-null  object\n",
      " 1   Price              354369 non-null  int64 \n",
      " 2   VehicleType        316879 non-null  object\n",
      " 3   RegistrationYear   354369 non-null  int64 \n",
      " 4   Gearbox            334536 non-null  object\n",
      " 5   Power              354369 non-null  int64 \n",
      " 6   Model              334664 non-null  object\n",
      " 7   Kilometer          354369 non-null  int64 \n",
      " 8   RegistrationMonth  354369 non-null  int64 \n",
      " 9   FuelType           321474 non-null  object\n",
      " 10  Brand              354369 non-null  object\n",
      " 11  Repaired           283215 non-null  object\n",
      " 12  DateCreated        354369 non-null  object\n",
      " 13  NumberOfPictures   354369 non-null  int64 \n",
      " 14  PostalCode         354369 non-null  int64 \n",
      " 15  LastSeen           354369 non-null  object\n",
      "dtypes: int64(7), object(9)\n",
      "memory usage: 43.3+ MB\n"
     ]
    }
   ],
   "source": [
    "df.info()"
   ]
  },
  {
   "cell_type": "code",
   "execution_count": 4,
   "metadata": {},
   "outputs": [
    {
     "data": {
      "text/html": [
       "<div>\n",
       "<style scoped>\n",
       "    .dataframe tbody tr th:only-of-type {\n",
       "        vertical-align: middle;\n",
       "    }\n",
       "\n",
       "    .dataframe tbody tr th {\n",
       "        vertical-align: top;\n",
       "    }\n",
       "\n",
       "    .dataframe thead th {\n",
       "        text-align: right;\n",
       "    }\n",
       "</style>\n",
       "<table border=\"1\" class=\"dataframe\">\n",
       "  <thead>\n",
       "    <tr style=\"text-align: right;\">\n",
       "      <th></th>\n",
       "      <th>Price</th>\n",
       "      <th>RegistrationYear</th>\n",
       "      <th>Power</th>\n",
       "      <th>Kilometer</th>\n",
       "      <th>RegistrationMonth</th>\n",
       "      <th>NumberOfPictures</th>\n",
       "      <th>PostalCode</th>\n",
       "    </tr>\n",
       "  </thead>\n",
       "  <tbody>\n",
       "    <tr>\n",
       "      <th>count</th>\n",
       "      <td>354369.000000</td>\n",
       "      <td>354369.000000</td>\n",
       "      <td>354369.000000</td>\n",
       "      <td>354369.000000</td>\n",
       "      <td>354369.000000</td>\n",
       "      <td>354369.0</td>\n",
       "      <td>354369.000000</td>\n",
       "    </tr>\n",
       "    <tr>\n",
       "      <th>mean</th>\n",
       "      <td>4416.656776</td>\n",
       "      <td>2004.234448</td>\n",
       "      <td>110.094337</td>\n",
       "      <td>128211.172535</td>\n",
       "      <td>5.714645</td>\n",
       "      <td>0.0</td>\n",
       "      <td>50508.689087</td>\n",
       "    </tr>\n",
       "    <tr>\n",
       "      <th>std</th>\n",
       "      <td>4514.158514</td>\n",
       "      <td>90.227958</td>\n",
       "      <td>189.850405</td>\n",
       "      <td>37905.341530</td>\n",
       "      <td>3.726421</td>\n",
       "      <td>0.0</td>\n",
       "      <td>25783.096248</td>\n",
       "    </tr>\n",
       "    <tr>\n",
       "      <th>min</th>\n",
       "      <td>0.000000</td>\n",
       "      <td>1000.000000</td>\n",
       "      <td>0.000000</td>\n",
       "      <td>5000.000000</td>\n",
       "      <td>0.000000</td>\n",
       "      <td>0.0</td>\n",
       "      <td>1067.000000</td>\n",
       "    </tr>\n",
       "    <tr>\n",
       "      <th>25%</th>\n",
       "      <td>1050.000000</td>\n",
       "      <td>1999.000000</td>\n",
       "      <td>69.000000</td>\n",
       "      <td>125000.000000</td>\n",
       "      <td>3.000000</td>\n",
       "      <td>0.0</td>\n",
       "      <td>30165.000000</td>\n",
       "    </tr>\n",
       "    <tr>\n",
       "      <th>50%</th>\n",
       "      <td>2700.000000</td>\n",
       "      <td>2003.000000</td>\n",
       "      <td>105.000000</td>\n",
       "      <td>150000.000000</td>\n",
       "      <td>6.000000</td>\n",
       "      <td>0.0</td>\n",
       "      <td>49413.000000</td>\n",
       "    </tr>\n",
       "    <tr>\n",
       "      <th>75%</th>\n",
       "      <td>6400.000000</td>\n",
       "      <td>2008.000000</td>\n",
       "      <td>143.000000</td>\n",
       "      <td>150000.000000</td>\n",
       "      <td>9.000000</td>\n",
       "      <td>0.0</td>\n",
       "      <td>71083.000000</td>\n",
       "    </tr>\n",
       "    <tr>\n",
       "      <th>max</th>\n",
       "      <td>20000.000000</td>\n",
       "      <td>9999.000000</td>\n",
       "      <td>20000.000000</td>\n",
       "      <td>150000.000000</td>\n",
       "      <td>12.000000</td>\n",
       "      <td>0.0</td>\n",
       "      <td>99998.000000</td>\n",
       "    </tr>\n",
       "  </tbody>\n",
       "</table>\n",
       "</div>"
      ],
      "text/plain": [
       "               Price  RegistrationYear          Power      Kilometer  \\\n",
       "count  354369.000000     354369.000000  354369.000000  354369.000000   \n",
       "mean     4416.656776       2004.234448     110.094337  128211.172535   \n",
       "std      4514.158514         90.227958     189.850405   37905.341530   \n",
       "min         0.000000       1000.000000       0.000000    5000.000000   \n",
       "25%      1050.000000       1999.000000      69.000000  125000.000000   \n",
       "50%      2700.000000       2003.000000     105.000000  150000.000000   \n",
       "75%      6400.000000       2008.000000     143.000000  150000.000000   \n",
       "max     20000.000000       9999.000000   20000.000000  150000.000000   \n",
       "\n",
       "       RegistrationMonth  NumberOfPictures     PostalCode  \n",
       "count      354369.000000          354369.0  354369.000000  \n",
       "mean            5.714645               0.0   50508.689087  \n",
       "std             3.726421               0.0   25783.096248  \n",
       "min             0.000000               0.0    1067.000000  \n",
       "25%             3.000000               0.0   30165.000000  \n",
       "50%             6.000000               0.0   49413.000000  \n",
       "75%             9.000000               0.0   71083.000000  \n",
       "max            12.000000               0.0   99998.000000  "
      ]
     },
     "execution_count": 4,
     "metadata": {},
     "output_type": "execute_result"
    }
   ],
   "source": [
    "df.describe()"
   ]
  },
  {
   "cell_type": "code",
   "execution_count": 5,
   "metadata": {
    "scrolled": true
   },
   "outputs": [
    {
     "data": {
      "text/html": [
       "<div>\n",
       "<style scoped>\n",
       "    .dataframe tbody tr th:only-of-type {\n",
       "        vertical-align: middle;\n",
       "    }\n",
       "\n",
       "    .dataframe tbody tr th {\n",
       "        vertical-align: top;\n",
       "    }\n",
       "\n",
       "    .dataframe thead th {\n",
       "        text-align: right;\n",
       "    }\n",
       "</style>\n",
       "<table border=\"1\" class=\"dataframe\">\n",
       "  <thead>\n",
       "    <tr style=\"text-align: right;\">\n",
       "      <th></th>\n",
       "      <th>Price</th>\n",
       "      <th>RegistrationYear</th>\n",
       "      <th>Power</th>\n",
       "      <th>Kilometer</th>\n",
       "      <th>RegistrationMonth</th>\n",
       "      <th>NumberOfPictures</th>\n",
       "      <th>PostalCode</th>\n",
       "    </tr>\n",
       "  </thead>\n",
       "  <tbody>\n",
       "    <tr>\n",
       "      <th>Price</th>\n",
       "      <td>1.000000</td>\n",
       "      <td>0.026916</td>\n",
       "      <td>0.158872</td>\n",
       "      <td>-0.333199</td>\n",
       "      <td>0.110581</td>\n",
       "      <td>NaN</td>\n",
       "      <td>0.076055</td>\n",
       "    </tr>\n",
       "    <tr>\n",
       "      <th>RegistrationYear</th>\n",
       "      <td>0.026916</td>\n",
       "      <td>1.000000</td>\n",
       "      <td>-0.000828</td>\n",
       "      <td>-0.053447</td>\n",
       "      <td>-0.011619</td>\n",
       "      <td>NaN</td>\n",
       "      <td>-0.003459</td>\n",
       "    </tr>\n",
       "    <tr>\n",
       "      <th>Power</th>\n",
       "      <td>0.158872</td>\n",
       "      <td>-0.000828</td>\n",
       "      <td>1.000000</td>\n",
       "      <td>0.024002</td>\n",
       "      <td>0.043380</td>\n",
       "      <td>NaN</td>\n",
       "      <td>0.021665</td>\n",
       "    </tr>\n",
       "    <tr>\n",
       "      <th>Kilometer</th>\n",
       "      <td>-0.333199</td>\n",
       "      <td>-0.053447</td>\n",
       "      <td>0.024002</td>\n",
       "      <td>1.000000</td>\n",
       "      <td>0.009571</td>\n",
       "      <td>NaN</td>\n",
       "      <td>-0.007698</td>\n",
       "    </tr>\n",
       "    <tr>\n",
       "      <th>RegistrationMonth</th>\n",
       "      <td>0.110581</td>\n",
       "      <td>-0.011619</td>\n",
       "      <td>0.043380</td>\n",
       "      <td>0.009571</td>\n",
       "      <td>1.000000</td>\n",
       "      <td>NaN</td>\n",
       "      <td>0.013995</td>\n",
       "    </tr>\n",
       "    <tr>\n",
       "      <th>NumberOfPictures</th>\n",
       "      <td>NaN</td>\n",
       "      <td>NaN</td>\n",
       "      <td>NaN</td>\n",
       "      <td>NaN</td>\n",
       "      <td>NaN</td>\n",
       "      <td>NaN</td>\n",
       "      <td>NaN</td>\n",
       "    </tr>\n",
       "    <tr>\n",
       "      <th>PostalCode</th>\n",
       "      <td>0.076055</td>\n",
       "      <td>-0.003459</td>\n",
       "      <td>0.021665</td>\n",
       "      <td>-0.007698</td>\n",
       "      <td>0.013995</td>\n",
       "      <td>NaN</td>\n",
       "      <td>1.000000</td>\n",
       "    </tr>\n",
       "  </tbody>\n",
       "</table>\n",
       "</div>"
      ],
      "text/plain": [
       "                      Price  RegistrationYear     Power  Kilometer  \\\n",
       "Price              1.000000          0.026916  0.158872  -0.333199   \n",
       "RegistrationYear   0.026916          1.000000 -0.000828  -0.053447   \n",
       "Power              0.158872         -0.000828  1.000000   0.024002   \n",
       "Kilometer         -0.333199         -0.053447  0.024002   1.000000   \n",
       "RegistrationMonth  0.110581         -0.011619  0.043380   0.009571   \n",
       "NumberOfPictures        NaN               NaN       NaN        NaN   \n",
       "PostalCode         0.076055         -0.003459  0.021665  -0.007698   \n",
       "\n",
       "                   RegistrationMonth  NumberOfPictures  PostalCode  \n",
       "Price                       0.110581               NaN    0.076055  \n",
       "RegistrationYear           -0.011619               NaN   -0.003459  \n",
       "Power                       0.043380               NaN    0.021665  \n",
       "Kilometer                   0.009571               NaN   -0.007698  \n",
       "RegistrationMonth           1.000000               NaN    0.013995  \n",
       "NumberOfPictures                 NaN               NaN         NaN  \n",
       "PostalCode                  0.013995               NaN    1.000000  "
      ]
     },
     "execution_count": 5,
     "metadata": {},
     "output_type": "execute_result"
    }
   ],
   "source": [
    "df.corr()"
   ]
  },
  {
   "cell_type": "markdown",
   "metadata": {},
   "source": [
    "### Удаление ненужных признаков"
   ]
  },
  {
   "cell_type": "markdown",
   "metadata": {},
   "source": [
    "В датасете имеются ненужные признаки: дата скачивания анкеты, количество фото, дата создания анкеты, почтовый индекс владельца, активность владельца"
   ]
  },
  {
   "cell_type": "code",
   "execution_count": 6,
   "metadata": {
    "scrolled": true
   },
   "outputs": [
    {
     "data": {
      "text/html": [
       "<div>\n",
       "<style scoped>\n",
       "    .dataframe tbody tr th:only-of-type {\n",
       "        vertical-align: middle;\n",
       "    }\n",
       "\n",
       "    .dataframe tbody tr th {\n",
       "        vertical-align: top;\n",
       "    }\n",
       "\n",
       "    .dataframe thead th {\n",
       "        text-align: right;\n",
       "    }\n",
       "</style>\n",
       "<table border=\"1\" class=\"dataframe\">\n",
       "  <thead>\n",
       "    <tr style=\"text-align: right;\">\n",
       "      <th></th>\n",
       "      <th>Price</th>\n",
       "      <th>VehicleType</th>\n",
       "      <th>RegistrationYear</th>\n",
       "      <th>Gearbox</th>\n",
       "      <th>Power</th>\n",
       "      <th>Model</th>\n",
       "      <th>Kilometer</th>\n",
       "      <th>RegistrationMonth</th>\n",
       "      <th>FuelType</th>\n",
       "      <th>Brand</th>\n",
       "      <th>Repaired</th>\n",
       "    </tr>\n",
       "  </thead>\n",
       "  <tbody>\n",
       "    <tr>\n",
       "      <th>277430</th>\n",
       "      <td>3500</td>\n",
       "      <td>bus</td>\n",
       "      <td>2003</td>\n",
       "      <td>manual</td>\n",
       "      <td>136</td>\n",
       "      <td>touran</td>\n",
       "      <td>150000</td>\n",
       "      <td>9</td>\n",
       "      <td>gasoline</td>\n",
       "      <td>volkswagen</td>\n",
       "      <td>no</td>\n",
       "    </tr>\n",
       "    <tr>\n",
       "      <th>202746</th>\n",
       "      <td>6999</td>\n",
       "      <td>small</td>\n",
       "      <td>2009</td>\n",
       "      <td>manual</td>\n",
       "      <td>92</td>\n",
       "      <td>swift</td>\n",
       "      <td>30000</td>\n",
       "      <td>3</td>\n",
       "      <td>petrol</td>\n",
       "      <td>suzuki</td>\n",
       "      <td>NaN</td>\n",
       "    </tr>\n",
       "    <tr>\n",
       "      <th>351981</th>\n",
       "      <td>850</td>\n",
       "      <td>wagon</td>\n",
       "      <td>1997</td>\n",
       "      <td>manual</td>\n",
       "      <td>150</td>\n",
       "      <td>a4</td>\n",
       "      <td>150000</td>\n",
       "      <td>4</td>\n",
       "      <td>petrol</td>\n",
       "      <td>audi</td>\n",
       "      <td>no</td>\n",
       "    </tr>\n",
       "    <tr>\n",
       "      <th>31289</th>\n",
       "      <td>4250</td>\n",
       "      <td>sedan</td>\n",
       "      <td>1985</td>\n",
       "      <td>manual</td>\n",
       "      <td>81</td>\n",
       "      <td>other</td>\n",
       "      <td>150000</td>\n",
       "      <td>7</td>\n",
       "      <td>petrol</td>\n",
       "      <td>volvo</td>\n",
       "      <td>no</td>\n",
       "    </tr>\n",
       "    <tr>\n",
       "      <th>261459</th>\n",
       "      <td>250</td>\n",
       "      <td>small</td>\n",
       "      <td>1998</td>\n",
       "      <td>manual</td>\n",
       "      <td>0</td>\n",
       "      <td>ka</td>\n",
       "      <td>150000</td>\n",
       "      <td>7</td>\n",
       "      <td>petrol</td>\n",
       "      <td>ford</td>\n",
       "      <td>no</td>\n",
       "    </tr>\n",
       "  </tbody>\n",
       "</table>\n",
       "</div>"
      ],
      "text/plain": [
       "        Price VehicleType  RegistrationYear Gearbox  Power   Model  Kilometer  \\\n",
       "277430   3500         bus              2003  manual    136  touran     150000   \n",
       "202746   6999       small              2009  manual     92   swift      30000   \n",
       "351981    850       wagon              1997  manual    150      a4     150000   \n",
       "31289    4250       sedan              1985  manual     81   other     150000   \n",
       "261459    250       small              1998  manual      0      ka     150000   \n",
       "\n",
       "        RegistrationMonth  FuelType       Brand Repaired  \n",
       "277430                  9  gasoline  volkswagen       no  \n",
       "202746                  3    petrol      suzuki      NaN  \n",
       "351981                  4    petrol        audi       no  \n",
       "31289                   7    petrol       volvo       no  \n",
       "261459                  7    petrol        ford       no  "
      ]
     },
     "execution_count": 6,
     "metadata": {},
     "output_type": "execute_result"
    }
   ],
   "source": [
    "df = df.drop(['DateCrawled', 'DateCreated', 'NumberOfPictures', 'PostalCode', 'LastSeen'], axis=1)\n",
    "df.sample(5)"
   ]
  },
  {
   "cell_type": "markdown",
   "metadata": {},
   "source": [
    "### Заполнение пропусков"
   ]
  },
  {
   "cell_type": "markdown",
   "metadata": {},
   "source": [
    "В датасете имеются пропуски. Связаны они могут быть с тем, что ползователь анкеты решил не заполнять эти поля"
   ]
  },
  {
   "cell_type": "code",
   "execution_count": 7,
   "metadata": {},
   "outputs": [
    {
     "data": {
      "text/plain": [
       "Price                    0\n",
       "VehicleType          37490\n",
       "RegistrationYear         0\n",
       "Gearbox              19833\n",
       "Power                    0\n",
       "Model                19705\n",
       "Kilometer                0\n",
       "RegistrationMonth        0\n",
       "FuelType             32895\n",
       "Brand                    0\n",
       "Repaired             71154\n",
       "dtype: int64"
      ]
     },
     "execution_count": 7,
     "metadata": {},
     "output_type": "execute_result"
    }
   ],
   "source": [
    "df.isna().sum()"
   ]
  },
  {
   "cell_type": "markdown",
   "metadata": {},
   "source": [
    "Пропуски в столбце Repared слабо связаны с другмим пропусками, к тому же их очень много. Скорее всего пропуск означает, что машина не была в ремонте"
   ]
  },
  {
   "cell_type": "code",
   "execution_count": 8,
   "metadata": {},
   "outputs": [],
   "source": [
    "df['Repaired'] = df['Repaired'].fillna('no')"
   ]
  },
  {
   "cell_type": "markdown",
   "metadata": {},
   "source": [
    "Пропуски в моделях невозможно восстановить, поэтому заполним значением 'Undefined'"
   ]
  },
  {
   "cell_type": "code",
   "execution_count": 9,
   "metadata": {},
   "outputs": [],
   "source": [
    "df['Model'] = df['Model'].fillna('undefined')"
   ]
  },
  {
   "cell_type": "markdown",
   "metadata": {},
   "source": [
    "Пропуски в других признаках:"
   ]
  },
  {
   "cell_type": "code",
   "execution_count": 10,
   "metadata": {},
   "outputs": [
    {
     "data": {
      "text/plain": [
       "array([nan, 'coupe', 'suv', 'small', 'sedan', 'convertible', 'bus',\n",
       "       'wagon', 'other'], dtype=object)"
      ]
     },
     "execution_count": 10,
     "metadata": {},
     "output_type": "execute_result"
    }
   ],
   "source": [
    "df['VehicleType'].unique()"
   ]
  },
  {
   "cell_type": "markdown",
   "metadata": {},
   "source": [
    "Заполним пропуски в типе машины значением other"
   ]
  },
  {
   "cell_type": "code",
   "execution_count": 11,
   "metadata": {},
   "outputs": [],
   "source": [
    "df['VehicleType'] = df['VehicleType'].fillna('other')"
   ]
  },
  {
   "cell_type": "code",
   "execution_count": 12,
   "metadata": {},
   "outputs": [
    {
     "data": {
      "text/plain": [
       "array(['manual', 'auto', nan], dtype=object)"
      ]
     },
     "execution_count": 12,
     "metadata": {},
     "output_type": "execute_result"
    }
   ],
   "source": [
    "df['Gearbox'].unique()"
   ]
  },
  {
   "cell_type": "markdown",
   "metadata": {},
   "source": [
    "Заполним пропуски значением undefined"
   ]
  },
  {
   "cell_type": "code",
   "execution_count": 13,
   "metadata": {},
   "outputs": [],
   "source": [
    "df['Gearbox'] = df['Gearbox'].fillna(\"undefined\")"
   ]
  },
  {
   "cell_type": "code",
   "execution_count": 14,
   "metadata": {},
   "outputs": [
    {
     "data": {
      "text/plain": [
       "array(['petrol', 'gasoline', nan, 'lpg', 'other', 'hybrid', 'cng',\n",
       "       'electric'], dtype=object)"
      ]
     },
     "execution_count": 14,
     "metadata": {},
     "output_type": "execute_result"
    }
   ],
   "source": [
    "df['FuelType'].unique()"
   ]
  },
  {
   "cell_type": "markdown",
   "metadata": {},
   "source": [
    "Заполним пропуски значением other"
   ]
  },
  {
   "cell_type": "code",
   "execution_count": 15,
   "metadata": {},
   "outputs": [],
   "source": [
    "df['FuelType'] = df['FuelType'].fillna('other')"
   ]
  },
  {
   "cell_type": "code",
   "execution_count": 16,
   "metadata": {
    "scrolled": true
   },
   "outputs": [
    {
     "data": {
      "text/plain": [
       "Price                0\n",
       "VehicleType          0\n",
       "RegistrationYear     0\n",
       "Gearbox              0\n",
       "Power                0\n",
       "Model                0\n",
       "Kilometer            0\n",
       "RegistrationMonth    0\n",
       "FuelType             0\n",
       "Brand                0\n",
       "Repaired             0\n",
       "dtype: int64"
      ]
     },
     "execution_count": 16,
     "metadata": {},
     "output_type": "execute_result"
    }
   ],
   "source": [
    "df.isna().sum()"
   ]
  },
  {
   "cell_type": "markdown",
   "metadata": {},
   "source": [
    "### Обработка аномальных значений"
   ]
  },
  {
   "cell_type": "markdown",
   "metadata": {},
   "source": [
    "Судя по desribe, аномальные значения присутсвуют в стообцах Price, RegistrationYear и Power"
   ]
  },
  {
   "cell_type": "markdown",
   "metadata": {},
   "source": [
    "#### Price"
   ]
  },
  {
   "cell_type": "code",
   "execution_count": 17,
   "metadata": {},
   "outputs": [
    {
     "data": {
      "text/plain": [
       "<AxesSubplot:>"
      ]
     },
     "execution_count": 17,
     "metadata": {},
     "output_type": "execute_result"
    },
    {
     "data": {
      "image/png": "[encoded data removed]",
      "text/plain": [
       "<Figure size 432x288 with 1 Axes>"
      ]
     },
     "metadata": {
      "needs_background": "light"
     },
     "output_type": "display_data"
    }
   ],
   "source": [
    "df['Price'].hist(bins=30)"
   ]
  },
  {
   "cell_type": "code",
   "execution_count": 18,
   "metadata": {
    "scrolled": false
   },
   "outputs": [
    {
     "data": {
      "text/plain": [
       "<AxesSubplot:>"
      ]
     },
     "execution_count": 18,
     "metadata": {},
     "output_type": "execute_result"
    },
    {
     "data": {
      "image/png": "[encoded data removed]",
      "text/plain": [
       "<Figure size 432x288 with 1 Axes>"
      ]
     },
     "metadata": {
      "needs_background": "light"
     },
     "output_type": "display_data"
    }
   ],
   "source": [
    "df.boxplot('Price')"
   ]
  },
  {
   "cell_type": "markdown",
   "metadata": {},
   "source": [
    "Есть аномально дорогие автомобили, однако, вероятнее всего это автомобили бизнес класса"
   ]
  },
  {
   "cell_type": "code",
   "execution_count": 19,
   "metadata": {},
   "outputs": [
    {
     "data": {
      "text/plain": [
       "10772"
      ]
     },
     "execution_count": 19,
     "metadata": {},
     "output_type": "execute_result"
    }
   ],
   "source": [
    "df[df['Price'] == 0]['Price'].count()"
   ]
  },
  {
   "cell_type": "code",
   "execution_count": 20,
   "metadata": {},
   "outputs": [
    {
     "data": {
      "text/plain": [
       "1189"
      ]
     },
     "execution_count": 20,
     "metadata": {},
     "output_type": "execute_result"
    }
   ],
   "source": [
    "df[(df['Price'] > 0) & (df['Price'] < 2)]['Price'].count()"
   ]
  },
  {
   "cell_type": "markdown",
   "metadata": {},
   "source": [
    "Некоторые атомабили стоят 0, есть те, что стоят от 0 до 2-х евро. Вероятнее всего это ошибка"
   ]
  },
  {
   "cell_type": "code",
   "execution_count": 21,
   "metadata": {},
   "outputs": [
    {
     "data": {
      "text/plain": [
       "<AxesSubplot:>"
      ]
     },
     "execution_count": 21,
     "metadata": {},
     "output_type": "execute_result"
    },
    {
     "data": {
      "image/png": "[encoded data removed]",
      "text/plain": [
       "<Figure size 432x288 with 1 Axes>"
      ]
     },
     "metadata": {
      "needs_background": "light"
     },
     "output_type": "display_data"
    }
   ],
   "source": [
    "df[df['Price'] < 500]['Price'].hist()"
   ]
  },
  {
   "cell_type": "markdown",
   "metadata": {},
   "source": [
    "Уберем значения ниже 100 евро"
   ]
  },
  {
   "cell_type": "code",
   "execution_count": 22,
   "metadata": {},
   "outputs": [],
   "source": [
    "df = df[df['Price'] >= 100]"
   ]
  },
  {
   "cell_type": "code",
   "execution_count": 23,
   "metadata": {},
   "outputs": [
    {
     "data": {
      "text/plain": [
       "(341055, 11)"
      ]
     },
     "execution_count": 23,
     "metadata": {},
     "output_type": "execute_result"
    }
   ],
   "source": [
    "df.shape"
   ]
  },
  {
   "cell_type": "markdown",
   "metadata": {},
   "source": [
    "#### Registration Year"
   ]
  },
  {
   "cell_type": "code",
   "execution_count": 24,
   "metadata": {},
   "outputs": [
    {
     "data": {
      "text/plain": [
       "<AxesSubplot:>"
      ]
     },
     "execution_count": 24,
     "metadata": {},
     "output_type": "execute_result"
    },
    {
     "data": {
      "image/png": "[encoded data removed]",
      "text/plain": [
       "<Figure size 432x288 with 1 Axes>"
      ]
     },
     "metadata": {
      "needs_background": "light"
     },
     "output_type": "display_data"
    }
   ],
   "source": [
    "df['RegistrationYear'].hist(bins=30)"
   ]
  },
  {
   "cell_type": "code",
   "execution_count": 25,
   "metadata": {},
   "outputs": [
    {
     "data": {
      "text/plain": [
       "<AxesSubplot:>"
      ]
     },
     "execution_count": 25,
     "metadata": {},
     "output_type": "execute_result"
    },
    {
     "data": {
      "image/png": "[encoded data removed]",
      "text/plain": [
       "<Figure size 432x288 with 1 Axes>"
      ]
     },
     "metadata": {
      "needs_background": "light"
     },
     "output_type": "display_data"
    }
   ],
   "source": [
    "df.boxplot('RegistrationYear')"
   ]
  },
  {
   "cell_type": "code",
   "execution_count": 26,
   "metadata": {},
   "outputs": [
    {
     "data": {
      "text/plain": [
       "(1960.0, 2030.0)"
      ]
     },
     "execution_count": 26,
     "metadata": {},
     "output_type": "execute_result"
    },
    {
     "data": {
      "image/png": "[encoded data removed]",
      "text/plain": [
       "<Figure size 432x288 with 1 Axes>"
      ]
     },
     "metadata": {
      "needs_background": "light"
     },
     "output_type": "display_data"
    }
   ],
   "source": [
    "df.boxplot('RegistrationYear')\n",
    "plt.ylim((1960, 2030))"
   ]
  },
  {
   "cell_type": "markdown",
   "metadata": {},
   "source": [
    "Есть множество аномальных неадекватно высоких или низких значений."
   ]
  },
  {
   "cell_type": "code",
   "execution_count": 27,
   "metadata": {},
   "outputs": [
    {
     "data": {
      "text/plain": [
       "72"
      ]
     },
     "execution_count": 27,
     "metadata": {},
     "output_type": "execute_result"
    }
   ],
   "source": [
    "df[df['RegistrationYear'] > 2023]['RegistrationYear'].count()"
   ]
  },
  {
   "cell_type": "code",
   "execution_count": 28,
   "metadata": {},
   "outputs": [
    {
     "data": {
      "text/plain": [
       "4855"
      ]
     },
     "execution_count": 28,
     "metadata": {},
     "output_type": "execute_result"
    }
   ],
   "source": [
    "df[df['RegistrationYear'] < 1985]['RegistrationYear'].count()"
   ]
  },
  {
   "cell_type": "markdown",
   "metadata": {},
   "source": [
    "Рассматривать машины до 1985 года нет смысла, поэтому откинем все аномально высокие и ненужные года"
   ]
  },
  {
   "cell_type": "code",
   "execution_count": 29,
   "metadata": {},
   "outputs": [
    {
     "data": {
      "text/plain": [
       "<AxesSubplot:>"
      ]
     },
     "execution_count": 29,
     "metadata": {},
     "output_type": "execute_result"
    },
    {
     "data": {
      "image/png": "[encoded data removed]",
      "text/plain": [
       "<Figure size 432x288 with 1 Axes>"
      ]
     },
     "metadata": {
      "needs_background": "light"
     },
     "output_type": "display_data"
    }
   ],
   "source": [
    "df = df[(df['RegistrationYear'] <= 2023) & (df['RegistrationYear'] >= 1985)]\n",
    "df['RegistrationYear'].hist()"
   ]
  },
  {
   "cell_type": "markdown",
   "metadata": {},
   "source": [
    "#### Power"
   ]
  },
  {
   "cell_type": "code",
   "execution_count": 30,
   "metadata": {},
   "outputs": [
    {
     "data": {
      "text/plain": [
       "<AxesSubplot:>"
      ]
     },
     "execution_count": 30,
     "metadata": {},
     "output_type": "execute_result"
    },
    {
     "data": {
      "image/png": "[encoded data removed]",
      "text/plain": [
       "<Figure size 432x288 with 1 Axes>"
      ]
     },
     "metadata": {
      "needs_background": "light"
     },
     "output_type": "display_data"
    }
   ],
   "source": [
    "df['Power'].hist()"
   ]
  },
  {
   "cell_type": "code",
   "execution_count": 31,
   "metadata": {},
   "outputs": [
    {
     "data": {
      "text/plain": [
       "<AxesSubplot:>"
      ]
     },
     "execution_count": 31,
     "metadata": {},
     "output_type": "execute_result"
    },
    {
     "data": {
      "image/png": "[encoded data removed]",
      "text/plain": [
       "<Figure size 432x288 with 1 Axes>"
      ]
     },
     "metadata": {
      "needs_background": "light"
     },
     "output_type": "display_data"
    }
   ],
   "source": [
    "df.boxplot('Power')"
   ]
  },
  {
   "cell_type": "code",
   "execution_count": 32,
   "metadata": {
    "scrolled": false
   },
   "outputs": [
    {
     "data": {
      "text/plain": [
       "(-100.0, 300.0)"
      ]
     },
     "execution_count": 32,
     "metadata": {},
     "output_type": "execute_result"
    },
    {
     "data": {
      "image/png": "[encoded data removed]",
      "text/plain": [
       "<Figure size 432x288 with 1 Axes>"
      ]
     },
     "metadata": {
      "needs_background": "light"
     },
     "output_type": "display_data"
    }
   ],
   "source": [
    "df.boxplot('Power')\n",
    "plt.ylim((-100, 300))"
   ]
  },
  {
   "cell_type": "code",
   "execution_count": 33,
   "metadata": {},
   "outputs": [
    {
     "data": {
      "text/plain": [
       "33779"
      ]
     },
     "execution_count": 33,
     "metadata": {},
     "output_type": "execute_result"
    }
   ],
   "source": [
    "df[df['Power'] == 0]['Power'].count()"
   ]
  },
  {
   "cell_type": "markdown",
   "metadata": {},
   "source": [
    "Удалим все значения выше 250 и значения равные 0"
   ]
  },
  {
   "cell_type": "code",
   "execution_count": 34,
   "metadata": {},
   "outputs": [],
   "source": [
    "df = df[(df['Power'] <= 250) & (df['Power'] != 0)]"
   ]
  },
  {
   "cell_type": "code",
   "execution_count": 35,
   "metadata": {},
   "outputs": [
    {
     "data": {
      "text/plain": [
       "<AxesSubplot:>"
      ]
     },
     "execution_count": 35,
     "metadata": {},
     "output_type": "execute_result"
    },
    {
     "data": {
      "image/png": "[encoded data removed]",
      "text/plain": [
       "<Figure size 432x288 with 1 Axes>"
      ]
     },
     "metadata": {
      "needs_background": "light"
     },
     "output_type": "display_data"
    }
   ],
   "source": [
    "df['Power'].hist(bins=20)"
   ]
  },
  {
   "cell_type": "code",
   "execution_count": 36,
   "metadata": {},
   "outputs": [
    {
     "name": "stdout",
     "output_type": "stream",
     "text": [
      "<class 'pandas.core.frame.DataFrame'>\n",
      "Int64Index: 295280 entries, 1 to 354368\n",
      "Data columns (total 11 columns):\n",
      " #   Column             Non-Null Count   Dtype \n",
      "---  ------             --------------   ----- \n",
      " 0   Price              295280 non-null  int64 \n",
      " 1   VehicleType        295280 non-null  object\n",
      " 2   RegistrationYear   295280 non-null  int64 \n",
      " 3   Gearbox            295280 non-null  object\n",
      " 4   Power              295280 non-null  int64 \n",
      " 5   Model              295280 non-null  object\n",
      " 6   Kilometer          295280 non-null  int64 \n",
      " 7   RegistrationMonth  295280 non-null  int64 \n",
      " 8   FuelType           295280 non-null  object\n",
      " 9   Brand              295280 non-null  object\n",
      " 10  Repaired           295280 non-null  object\n",
      "dtypes: int64(5), object(6)\n",
      "memory usage: 27.0+ MB\n"
     ]
    }
   ],
   "source": [
    "df.info()"
   ]
  },
  {
   "cell_type": "markdown",
   "metadata": {},
   "source": [
    "### Вывод раздела"
   ]
  },
  {
   "cell_type": "markdown",
   "metadata": {},
   "source": [
    "Была проведена предобработка данных: данные загружены, удалены ненужные столбцы, заполнены пропуски, обработаны аномальные значения"
   ]
  },
  {
   "cell_type": "markdown",
   "metadata": {},
   "source": [
    "## Обучение моделей"
   ]
  },
  {
   "cell_type": "markdown",
   "metadata": {},
   "source": [
    "### Выделение категориальных признаков"
   ]
  },
  {
   "cell_type": "markdown",
   "metadata": {},
   "source": [
    "Переведем категориальные признаки в тип int для обучения. LightGBM способен работать с категориальными признаками без OHE"
   ]
  },
  {
   "cell_type": "code",
   "execution_count": 37,
   "metadata": {},
   "outputs": [
    {
     "name": "stdout",
     "output_type": "stream",
     "text": [
      "<class 'pandas.core.frame.DataFrame'>\n",
      "Int64Index: 295280 entries, 1 to 354368\n",
      "Data columns (total 11 columns):\n",
      " #   Column             Non-Null Count   Dtype \n",
      "---  ------             --------------   ----- \n",
      " 0   Price              295280 non-null  int64 \n",
      " 1   VehicleType        295280 non-null  object\n",
      " 2   RegistrationYear   295280 non-null  int64 \n",
      " 3   Gearbox            295280 non-null  object\n",
      " 4   Power              295280 non-null  int64 \n",
      " 5   Model              295280 non-null  object\n",
      " 6   Kilometer          295280 non-null  int64 \n",
      " 7   RegistrationMonth  295280 non-null  int64 \n",
      " 8   FuelType           295280 non-null  object\n",
      " 9   Brand              295280 non-null  object\n",
      " 10  Repaired           295280 non-null  object\n",
      "dtypes: int64(5), object(6)\n",
      "memory usage: 27.0+ MB\n"
     ]
    }
   ],
   "source": [
    "df.info()"
   ]
  },
  {
   "cell_type": "code",
   "execution_count": 38,
   "metadata": {},
   "outputs": [],
   "source": [
    "df_categorical = df.copy()"
   ]
  },
  {
   "cell_type": "code",
   "execution_count": 39,
   "metadata": {},
   "outputs": [],
   "source": [
    "df_categorical['VehicleType'] = df_categorical['VehicleType'].astype('category').cat.codes\n",
    "df_categorical['Gearbox'] = df_categorical['Gearbox'].astype('category').cat.codes\n",
    "df_categorical['Model'] = df_categorical['Model'].astype('category').cat.codes\n",
    "df_categorical['FuelType'] = df_categorical['FuelType'].astype('category').cat.codes\n",
    "df_categorical['Brand'] = df_categorical['Brand'].astype('category').cat.codes\n",
    "df_categorical['Repaired'] = df_categorical['Repaired'].astype('category').cat.codes"
   ]
  },
  {
   "cell_type": "code",
   "execution_count": 40,
   "metadata": {},
   "outputs": [
    {
     "name": "stdout",
     "output_type": "stream",
     "text": [
      "<class 'pandas.core.frame.DataFrame'>\n",
      "Int64Index: 295280 entries, 1 to 354368\n",
      "Data columns (total 11 columns):\n",
      " #   Column             Non-Null Count   Dtype\n",
      "---  ------             --------------   -----\n",
      " 0   Price              295280 non-null  int64\n",
      " 1   VehicleType        295280 non-null  int8 \n",
      " 2   RegistrationYear   295280 non-null  int64\n",
      " 3   Gearbox            295280 non-null  int8 \n",
      " 4   Power              295280 non-null  int64\n",
      " 5   Model              295280 non-null  int16\n",
      " 6   Kilometer          295280 non-null  int64\n",
      " 7   RegistrationMonth  295280 non-null  int64\n",
      " 8   FuelType           295280 non-null  int8 \n",
      " 9   Brand              295280 non-null  int8 \n",
      " 10  Repaired           295280 non-null  int8 \n",
      "dtypes: int16(1), int64(5), int8(5)\n",
      "memory usage: 15.5 MB\n"
     ]
    }
   ],
   "source": [
    "df_categorical.info()"
   ]
  },
  {
   "cell_type": "markdown",
   "metadata": {},
   "source": [
    "### Разделение на выборки"
   ]
  },
  {
   "cell_type": "code",
   "execution_count": 41,
   "metadata": {},
   "outputs": [],
   "source": [
    "X, y = df_categorical.drop('Price', 1), df_categorical['Price']"
   ]
  },
  {
   "cell_type": "code",
   "execution_count": 42,
   "metadata": {},
   "outputs": [],
   "source": [
    "X_train, X_test, y_train, y_test = train_test_split(X, y, train_size=0.8, random_state=42)"
   ]
  },
  {
   "cell_type": "code",
   "execution_count": 43,
   "metadata": {},
   "outputs": [
    {
     "data": {
      "text/plain": [
       "(236224, 10)"
      ]
     },
     "execution_count": 43,
     "metadata": {},
     "output_type": "execute_result"
    }
   ],
   "source": [
    "X_train.shape"
   ]
  },
  {
   "cell_type": "code",
   "execution_count": 44,
   "metadata": {},
   "outputs": [
    {
     "data": {
      "text/plain": [
       "(59056, 10)"
      ]
     },
     "execution_count": 44,
     "metadata": {},
     "output_type": "execute_result"
    }
   ],
   "source": [
    "X_test.shape"
   ]
  },
  {
   "cell_type": "markdown",
   "metadata": {},
   "source": [
    "### Выбор модели"
   ]
  },
  {
   "cell_type": "markdown",
   "metadata": {},
   "source": [
    "Создадим scorer с метрикой rmse"
   ]
  },
  {
   "cell_type": "code",
   "execution_count": 45,
   "metadata": {},
   "outputs": [],
   "source": [
    "rmse = sklearn.metrics.make_scorer(lambda x, y: np.sqrt(mean_squared_error(x, y)), greater_is_better=False)"
   ]
  },
  {
   "cell_type": "markdown",
   "metadata": {},
   "source": [
    "#### Dummy model"
   ]
  },
  {
   "cell_type": "markdown",
   "metadata": {},
   "source": [
    "Для проверки на адекватность используем дамми модель"
   ]
  },
  {
   "cell_type": "code",
   "execution_count": 46,
   "metadata": {
    "scrolled": true
   },
   "outputs": [
    {
     "data": {
      "text/plain": [
       "-4444.406396776658"
      ]
     },
     "execution_count": 46,
     "metadata": {},
     "output_type": "execute_result"
    }
   ],
   "source": [
    "dummy_model = DummyRegressor()\n",
    "dummy_model_score = cross_val_score(dummy_model, X_train, y_train, scoring=rmse)\n",
    "np.mean(dummy_model_score)"
   ]
  },
  {
   "cell_type": "markdown",
   "metadata": {},
   "source": [
    "#### Decision Tree"
   ]
  },
  {
   "cell_type": "code",
   "execution_count": 47,
   "metadata": {},
   "outputs": [
    {
     "name": "stdout",
     "output_type": "stream",
     "text": [
      "CPU times: user 41.5 s, sys: 36.3 ms, total: 41.5 s\n",
      "Wall time: 41.7 s\n"
     ]
    }
   ],
   "source": [
    "%%time\n",
    "\n",
    "tree_regressor = DecisionTreeRegressor(random_state=42)\n",
    "tree_params = {'max_depth': range(1, 20)}\n",
    "tree_model = GridSearchCV(tree_regressor, param_grid=tree_params, scoring=rmse).fit(X_train, y_train)"
   ]
  },
  {
   "cell_type": "code",
   "execution_count": 48,
   "metadata": {},
   "outputs": [
    {
     "data": {
      "text/plain": [
       "{'max_depth': 13}"
      ]
     },
     "execution_count": 48,
     "metadata": {},
     "output_type": "execute_result"
    }
   ],
   "source": [
    "tree_model.best_params_"
   ]
  },
  {
   "cell_type": "code",
   "execution_count": 49,
   "metadata": {},
   "outputs": [
    {
     "data": {
      "text/plain": [
       "-1766.2187779185492"
      ]
     },
     "execution_count": 49,
     "metadata": {},
     "output_type": "execute_result"
    }
   ],
   "source": [
    "tree_model.best_score_"
   ]
  },
  {
   "cell_type": "markdown",
   "metadata": {},
   "source": [
    "#### LightGBM"
   ]
  },
  {
   "cell_type": "code",
   "execution_count": 50,
   "metadata": {},
   "outputs": [
    {
     "name": "stdout",
     "output_type": "stream",
     "text": [
      "CPU times: user 21min 1s, sys: 6.76 s, total: 21min 8s\n",
      "Wall time: 21min 20s\n"
     ]
    }
   ],
   "source": [
    "%%time\n",
    "\n",
    "lightgbm_regressor = lightgbm.LGBMRegressor(random_state=42)\n",
    "lightgbm_params = {'max_depth': range(10, 14), 'n_estimators': range(200, 401, 100)}\n",
    "lightgbm_model = GridSearchCV(lightgbm_regressor, param_grid=lightgbm_params, scoring=rmse).fit(X_train, y_train)"
   ]
  },
  {
   "cell_type": "code",
   "execution_count": 51,
   "metadata": {},
   "outputs": [
    {
     "data": {
      "text/plain": [
       "{'max_depth': 11, 'n_estimators': 400}"
      ]
     },
     "execution_count": 51,
     "metadata": {},
     "output_type": "execute_result"
    }
   ],
   "source": [
    "lightgbm_model.best_params_"
   ]
  },
  {
   "cell_type": "code",
   "execution_count": 52,
   "metadata": {
    "scrolled": true
   },
   "outputs": [
    {
     "data": {
      "text/plain": [
       "-1484.3221095522704"
      ]
     },
     "execution_count": 52,
     "metadata": {},
     "output_type": "execute_result"
    }
   ],
   "source": [
    "lightgbm_model.best_score_"
   ]
  },
  {
   "cell_type": "markdown",
   "metadata": {},
   "source": [
    "### Выводы"
   ]
  },
  {
   "cell_type": "markdown",
   "metadata": {},
   "source": [
    "Модель Lightgbm оказалась наилучшей (при ограниченом переборе гиперпараметров)."
   ]
  },
  {
   "cell_type": "markdown",
   "metadata": {},
   "source": [
    "## Анализ моделей"
   ]
  },
  {
   "cell_type": "markdown",
   "metadata": {},
   "source": [
    "Проверим время обучения и время предсказания моделей LightGBM и DecisionTree."
   ]
  },
  {
   "cell_type": "code",
   "execution_count": 53,
   "metadata": {},
   "outputs": [
    {
     "data": {
      "text/plain": [
       "(236224, 10)"
      ]
     },
     "execution_count": 53,
     "metadata": {},
     "output_type": "execute_result"
    }
   ],
   "source": [
    "X_train.shape  # Размер обучающей выборки"
   ]
  },
  {
   "cell_type": "code",
   "execution_count": 54,
   "metadata": {},
   "outputs": [
    {
     "data": {
      "text/plain": [
       "(59056, 10)"
      ]
     },
     "execution_count": 54,
     "metadata": {},
     "output_type": "execute_result"
    }
   ],
   "source": [
    "X_test.shape # Размер тестовой выборки"
   ]
  },
  {
   "cell_type": "markdown",
   "metadata": {},
   "source": [
    "### LightGBM"
   ]
  },
  {
   "cell_type": "code",
   "execution_count": 55,
   "metadata": {},
   "outputs": [
    {
     "name": "stdout",
     "output_type": "stream",
     "text": [
      "CPU times: user 1min 6s, sys: 308 ms, total: 1min 7s\n",
      "Wall time: 1min 7s\n"
     ]
    }
   ],
   "source": [
    "%%time \n",
    "\n",
    "lightgbm_model_best = lightgbm_model.best_estimator_.fit(X_train, y_train)"
   ]
  },
  {
   "cell_type": "code",
   "execution_count": 56,
   "metadata": {},
   "outputs": [
    {
     "name": "stdout",
     "output_type": "stream",
     "text": [
      "CPU times: user 5.48 s, sys: 17.3 ms, total: 5.5 s\n",
      "Wall time: 5.53 s\n"
     ]
    }
   ],
   "source": [
    "%%time\n",
    "\n",
    "lightgbm_predictions = lightgbm_model_best.predict(X_train)"
   ]
  },
  {
   "cell_type": "markdown",
   "metadata": {},
   "source": [
    "При тренировочной выборке размера порядка 240000 примеров, модель обучается примерно за 1 минуту. \n",
    "\n",
    "Время предсказания составляет 5.5 секунда.\n"
   ]
  },
  {
   "cell_type": "markdown",
   "metadata": {},
   "source": [
    "### DecisionTree"
   ]
  },
  {
   "cell_type": "code",
   "execution_count": 57,
   "metadata": {},
   "outputs": [
    {
     "name": "stdout",
     "output_type": "stream",
     "text": [
      "CPU times: user 630 ms, sys: 3.96 ms, total: 634 ms\n",
      "Wall time: 649 ms\n"
     ]
    }
   ],
   "source": [
    "%%time\n",
    "\n",
    "tree_model_best = tree_model.best_estimator_.fit(X_train, y_train)"
   ]
  },
  {
   "cell_type": "code",
   "execution_count": 58,
   "metadata": {},
   "outputs": [
    {
     "name": "stdout",
     "output_type": "stream",
     "text": [
      "CPU times: user 39.7 ms, sys: 4 µs, total: 39.7 ms\n",
      "Wall time: 43 ms\n"
     ]
    }
   ],
   "source": [
    "%%time\n",
    "\n",
    "tree_predictions = tree_model_best.predict(X_train)"
   ]
  },
  {
   "cell_type": "markdown",
   "metadata": {},
   "source": [
    "Скорость обучения и предсказания на несколько порядков ниже, 600 мс на обучение и 40 мс на предсказание."
   ]
  },
  {
   "cell_type": "markdown",
   "metadata": {},
   "source": [
    "### Итоги"
   ]
  },
  {
   "cell_type": "code",
   "execution_count": 61,
   "metadata": {},
   "outputs": [
    {
     "data": {
      "text/html": [
       "<div>\n",
       "<style scoped>\n",
       "    .dataframe tbody tr th:only-of-type {\n",
       "        vertical-align: middle;\n",
       "    }\n",
       "\n",
       "    .dataframe tbody tr th {\n",
       "        vertical-align: top;\n",
       "    }\n",
       "\n",
       "    .dataframe thead th {\n",
       "        text-align: right;\n",
       "    }\n",
       "</style>\n",
       "<table border=\"1\" class=\"dataframe\">\n",
       "  <thead>\n",
       "    <tr style=\"text-align: right;\">\n",
       "      <th></th>\n",
       "      <th>Train Time</th>\n",
       "      <th>Prediction Time</th>\n",
       "      <th>RMSE Score</th>\n",
       "    </tr>\n",
       "  </thead>\n",
       "  <tbody>\n",
       "    <tr>\n",
       "      <th>DecisionTree</th>\n",
       "      <td>0.6</td>\n",
       "      <td>0.04</td>\n",
       "      <td>1766</td>\n",
       "    </tr>\n",
       "    <tr>\n",
       "      <th>LightGBM</th>\n",
       "      <td>66.0</td>\n",
       "      <td>5.50</td>\n",
       "      <td>1484</td>\n",
       "    </tr>\n",
       "  </tbody>\n",
       "</table>\n",
       "</div>"
      ],
      "text/plain": [
       "              Train Time  Prediction Time  RMSE Score\n",
       "DecisionTree         0.6             0.04        1766\n",
       "LightGBM            66.0             5.50        1484"
      ]
     },
     "execution_count": 61,
     "metadata": {},
     "output_type": "execute_result"
    }
   ],
   "source": [
    "pd.DataFrame(data=[[0.6, 0.04, 1766], [66.0, 5.5, 1484]],\n",
    "             index=['DecisionTree', 'LightGBM'],\n",
    "             columns=['Train Time', 'Prediction Time', 'RMSE Score'])"
   ]
  },
  {
   "cell_type": "markdown",
   "metadata": {},
   "source": [
    "## Тестирование лучшей модели"
   ]
  },
  {
   "cell_type": "markdown",
   "metadata": {},
   "source": [
    "Лучшей оказалась модель LightGBM. Протестируем ее на тестовой выборке"
   ]
  },
  {
   "cell_type": "code",
   "execution_count": 60,
   "metadata": {},
   "outputs": [
    {
     "data": {
      "text/plain": [
       "1511.817455701587"
      ]
     },
     "execution_count": 60,
     "metadata": {},
     "output_type": "execute_result"
    }
   ],
   "source": [
    "np.sqrt(mean_squared_error(y_test, lightgbm_model_best.predict(X_test)))"
   ]
  },
  {
   "cell_type": "markdown",
   "metadata": {},
   "source": [
    "Модель обладает необходимой точностью"
   ]
  },
  {
   "cell_type": "markdown",
   "metadata": {},
   "source": [
    "## Выводы"
   ]
  },
  {
   "cell_type": "markdown",
   "metadata": {},
   "source": [
    "Было выполнено:\n",
    " - Загрузка и предобработка данных:\n",
    "  - Удалены ненужные столбцы\n",
    "  - Заполнены пропуски\n",
    "  - удалены аномальные значения\n",
    " - Был проведен подбор гиперпараметров для LightGBM и DecisionTree моделей, проведено сравнение с Dummy моделью\n",
    " - Была проведена проверка времени обучения и предсказания для двух моделей. LightGBM оказалась гораздо медленнее, однако качество rmse у модели лучше: 1550"
   ]
  }
 ],
 "metadata": {
  "ExecuteTimeLog": [
   {
    "duration": 818,
    "start_time": "2023-02-25T08:49:31.915Z"
   },
   {
    "duration": 3118,
    "start_time": "2023-02-25T08:50:42.026Z"
   },
   {
    "duration": 915,
    "start_time": "2023-02-25T08:50:49.914Z"
   },
   {
    "duration": 150,
    "start_time": "2023-02-25T08:51:11.444Z"
   },
   {
    "duration": 86,
    "start_time": "2023-02-25T08:53:33.661Z"
   },
   {
    "duration": 77,
    "start_time": "2023-02-25T08:55:11.566Z"
   },
   {
    "duration": 80,
    "start_time": "2023-02-25T08:55:14.687Z"
   },
   {
    "duration": 52,
    "start_time": "2023-02-25T09:07:47.162Z"
   },
   {
    "duration": 15,
    "start_time": "2023-02-25T09:07:54.779Z"
   },
   {
    "duration": 820,
    "start_time": "2023-02-25T09:07:58.796Z"
   },
   {
    "duration": 54,
    "start_time": "2023-02-25T09:08:03.119Z"
   },
   {
    "duration": 7,
    "start_time": "2023-02-25T09:23:55.434Z"
   },
   {
    "duration": 195,
    "start_time": "2023-02-25T09:24:03.339Z"
   },
   {
    "duration": 20,
    "start_time": "2023-02-25T09:31:07.949Z"
   },
   {
    "duration": 74,
    "start_time": "2023-02-25T09:38:06.183Z"
   },
   {
    "duration": 790,
    "start_time": "2023-02-25T09:38:31.285Z"
   },
   {
    "duration": 51,
    "start_time": "2023-02-25T09:38:35.496Z"
   },
   {
    "duration": 193,
    "start_time": "2023-02-25T09:38:38.486Z"
   },
   {
    "duration": 95,
    "start_time": "2023-02-25T09:38:40.646Z"
   },
   {
    "duration": 19,
    "start_time": "2023-02-25T09:41:33.198Z"
   },
   {
    "duration": 80,
    "start_time": "2023-02-25T09:42:09.580Z"
   },
   {
    "duration": 8,
    "start_time": "2023-02-25T09:42:42.798Z"
   },
   {
    "duration": 79,
    "start_time": "2023-02-25T09:43:30.514Z"
   },
   {
    "duration": 115,
    "start_time": "2023-02-25T09:45:13.443Z"
   },
   {
    "duration": 118,
    "start_time": "2023-02-25T09:45:36.408Z"
   },
   {
    "duration": 107,
    "start_time": "2023-02-25T09:45:45.628Z"
   },
   {
    "duration": 114,
    "start_time": "2023-02-25T09:47:23.038Z"
   },
   {
    "duration": 531,
    "start_time": "2023-02-25T09:47:49.996Z"
   },
   {
    "duration": 90,
    "start_time": "2023-02-25T09:48:02.100Z"
   },
   {
    "duration": 191,
    "start_time": "2023-02-25T09:50:53.422Z"
   },
   {
    "duration": 182,
    "start_time": "2023-02-25T09:51:52.474Z"
   },
   {
    "duration": 182,
    "start_time": "2023-02-25T09:51:55.621Z"
   },
   {
    "duration": 189,
    "start_time": "2023-02-25T09:52:17.917Z"
   },
   {
    "duration": 18,
    "start_time": "2023-02-25T09:53:52.391Z"
   },
   {
    "duration": 8,
    "start_time": "2023-02-25T09:54:44.373Z"
   },
   {
    "duration": 110,
    "start_time": "2023-02-25T09:54:49.691Z"
   },
   {
    "duration": 115,
    "start_time": "2023-02-25T09:54:52.223Z"
   },
   {
    "duration": 150,
    "start_time": "2023-02-25T09:55:07.373Z"
   },
   {
    "duration": 114,
    "start_time": "2023-02-25T09:56:24.934Z"
   },
   {
    "duration": 79,
    "start_time": "2023-02-25T09:58:10.217Z"
   },
   {
    "duration": 241,
    "start_time": "2023-02-25T09:58:24.270Z"
   },
   {
    "duration": 249,
    "start_time": "2023-02-25T09:58:31.905Z"
   },
   {
    "duration": 132,
    "start_time": "2023-02-25T10:00:20.396Z"
   },
   {
    "duration": 259,
    "start_time": "2023-02-25T10:00:46.596Z"
   },
   {
    "duration": 271,
    "start_time": "2023-02-25T10:00:54.859Z"
   },
   {
    "duration": 281,
    "start_time": "2023-02-25T10:01:11.567Z"
   },
   {
    "duration": 277,
    "start_time": "2023-02-25T10:01:18.268Z"
   },
   {
    "duration": 339,
    "start_time": "2023-02-25T10:01:30.867Z"
   },
   {
    "duration": 289,
    "start_time": "2023-02-25T10:02:01.196Z"
   },
   {
    "duration": 2218,
    "start_time": "2023-02-25T10:03:39.817Z"
   },
   {
    "duration": 2366,
    "start_time": "2023-02-25T10:04:31.264Z"
   },
   {
    "duration": 306,
    "start_time": "2023-02-25T10:04:38.399Z"
   },
   {
    "duration": 31,
    "start_time": "2023-02-25T10:08:32.130Z"
   },
   {
    "duration": 44,
    "start_time": "2023-02-25T10:08:38.272Z"
   },
   {
    "duration": 33,
    "start_time": "2023-02-25T10:09:06.792Z"
   },
   {
    "duration": 42,
    "start_time": "2023-02-25T10:09:13.905Z"
   },
   {
    "duration": 36,
    "start_time": "2023-02-25T10:09:21.650Z"
   },
   {
    "duration": 34,
    "start_time": "2023-02-25T10:09:24.491Z"
   },
   {
    "duration": 37,
    "start_time": "2023-02-25T10:09:32.083Z"
   },
   {
    "duration": 96,
    "start_time": "2023-02-25T10:09:52.066Z"
   },
   {
    "duration": 83,
    "start_time": "2023-02-25T10:10:05.595Z"
   },
   {
    "duration": 48,
    "start_time": "2023-02-25T10:10:08.992Z"
   },
   {
    "duration": 2181,
    "start_time": "2023-02-25T10:10:16.015Z"
   },
   {
    "duration": 32,
    "start_time": "2023-02-25T10:11:09.272Z"
   },
   {
    "duration": 250,
    "start_time": "2023-02-25T10:11:25.525Z"
   },
   {
    "duration": 264,
    "start_time": "2023-02-25T10:11:32.784Z"
   },
   {
    "duration": 300,
    "start_time": "2023-02-25T10:11:42.034Z"
   },
   {
    "duration": 263,
    "start_time": "2023-02-25T10:11:46.815Z"
   },
   {
    "duration": 265,
    "start_time": "2023-02-25T10:11:52.030Z"
   },
   {
    "duration": 207,
    "start_time": "2023-02-25T10:12:51.196Z"
   },
   {
    "duration": 17,
    "start_time": "2023-02-25T10:13:26.315Z"
   },
   {
    "duration": 49542,
    "start_time": "2023-02-25T10:13:43.945Z"
   },
   {
    "duration": 1,
    "start_time": "2023-02-25T10:14:33.491Z"
   },
   {
    "duration": 3063,
    "start_time": "2023-02-25T10:14:36.715Z"
   },
   {
    "duration": 257,
    "start_time": "2023-02-25T10:15:46.520Z"
   },
   {
    "duration": 35,
    "start_time": "2023-02-25T10:15:58.118Z"
   },
   {
    "duration": 183,
    "start_time": "2023-02-25T10:16:05.338Z"
   },
   {
    "duration": 83,
    "start_time": "2023-02-25T10:16:20.134Z"
   },
   {
    "duration": 37,
    "start_time": "2023-02-25T10:16:32.188Z"
   },
   {
    "duration": 10,
    "start_time": "2023-02-25T10:16:53.972Z"
   },
   {
    "duration": 30,
    "start_time": "2023-02-25T10:16:55.515Z"
   },
   {
    "duration": 123,
    "start_time": "2023-02-25T10:16:55.969Z"
   },
   {
    "duration": 57,
    "start_time": "2023-02-25T10:20:36.404Z"
   },
   {
    "duration": 48,
    "start_time": "2023-02-25T10:20:41.303Z"
   },
   {
    "duration": 55,
    "start_time": "2023-02-25T10:20:54.903Z"
   },
   {
    "duration": 45,
    "start_time": "2023-02-25T10:21:09.866Z"
   },
   {
    "duration": 10,
    "start_time": "2023-02-25T10:21:16.670Z"
   },
   {
    "duration": 15,
    "start_time": "2023-02-25T10:21:22.564Z"
   },
   {
    "duration": 384,
    "start_time": "2023-02-25T10:21:35.523Z"
   },
   {
    "duration": 363,
    "start_time": "2023-02-25T10:21:44.793Z"
   },
   {
    "duration": 395,
    "start_time": "2023-02-25T10:22:45.205Z"
   },
   {
    "duration": 10851,
    "start_time": "2023-02-25T10:23:21.125Z"
   },
   {
    "duration": 476,
    "start_time": "2023-02-25T10:24:51.131Z"
   },
   {
    "duration": 473,
    "start_time": "2023-02-25T10:25:02.475Z"
   },
   {
    "duration": 212,
    "start_time": "2023-02-25T10:25:10.936Z"
   },
   {
    "duration": 36,
    "start_time": "2023-02-25T10:26:09.835Z"
   },
   {
    "duration": 21,
    "start_time": "2023-02-25T10:27:25.871Z"
   },
   {
    "duration": 19,
    "start_time": "2023-02-25T10:27:54.209Z"
   },
   {
    "duration": 10,
    "start_time": "2023-02-25T10:28:31.479Z"
   },
   {
    "duration": 142,
    "start_time": "2023-02-25T10:28:33.871Z"
   },
   {
    "duration": 330,
    "start_time": "2023-02-25T10:29:01.866Z"
   },
   {
    "duration": 19,
    "start_time": "2023-02-25T10:29:46.271Z"
   },
   {
    "duration": 20,
    "start_time": "2023-02-25T10:30:01.425Z"
   },
   {
    "duration": 18,
    "start_time": "2023-02-25T10:30:37.725Z"
   },
   {
    "duration": 85,
    "start_time": "2023-02-25T10:30:43.573Z"
   },
   {
    "duration": 178,
    "start_time": "2023-02-25T10:37:17.329Z"
   },
   {
    "duration": 169,
    "start_time": "2023-02-25T10:37:26.471Z"
   },
   {
    "duration": 178,
    "start_time": "2023-02-25T10:37:43.429Z"
   },
   {
    "duration": 835,
    "start_time": "2023-02-25T10:38:37.289Z"
   },
   {
    "duration": 15,
    "start_time": "2023-02-25T10:38:43.143Z"
   },
   {
    "duration": 472,
    "start_time": "2023-02-25T10:38:52.022Z"
   },
   {
    "duration": 161,
    "start_time": "2023-02-25T10:39:30.731Z"
   },
   {
    "duration": 164,
    "start_time": "2023-02-25T10:39:37.943Z"
   },
   {
    "duration": 192,
    "start_time": "2023-02-25T10:39:40.375Z"
   },
   {
    "duration": 31,
    "start_time": "2023-02-25T10:40:45.330Z"
   },
   {
    "duration": 11,
    "start_time": "2023-02-25T10:40:55.560Z"
   },
   {
    "duration": 431,
    "start_time": "2023-02-25T10:41:37.342Z"
   },
   {
    "duration": 9,
    "start_time": "2023-02-25T10:43:34.183Z"
   },
   {
    "duration": 8,
    "start_time": "2023-02-25T10:43:41.045Z"
   },
   {
    "duration": 13,
    "start_time": "2023-02-25T10:43:55.103Z"
   },
   {
    "duration": 10,
    "start_time": "2023-02-25T10:44:02.165Z"
   },
   {
    "duration": 8,
    "start_time": "2023-02-25T10:44:05.328Z"
   },
   {
    "duration": 7,
    "start_time": "2023-02-25T10:44:07.995Z"
   },
   {
    "duration": 358,
    "start_time": "2023-02-25T10:45:14.259Z"
   },
   {
    "duration": 378,
    "start_time": "2023-02-25T10:45:36.243Z"
   },
   {
    "duration": 9,
    "start_time": "2023-02-25T10:45:55.523Z"
   },
   {
    "duration": 114,
    "start_time": "2023-02-25T10:47:21.320Z"
   },
   {
    "duration": 194,
    "start_time": "2023-02-25T10:47:36.987Z"
   },
   {
    "duration": 380,
    "start_time": "2023-02-25T10:47:59.259Z"
   },
   {
    "duration": 175,
    "start_time": "2023-02-25T10:49:25.521Z"
   },
   {
    "duration": 313,
    "start_time": "2023-02-25T10:49:37.839Z"
   },
   {
    "duration": 334,
    "start_time": "2023-02-25T10:49:56.801Z"
   },
   {
    "duration": 346,
    "start_time": "2023-02-25T10:50:02.189Z"
   },
   {
    "duration": 302,
    "start_time": "2023-02-25T10:50:07.421Z"
   },
   {
    "duration": 22,
    "start_time": "2023-02-25T10:52:37.771Z"
   },
   {
    "duration": 289,
    "start_time": "2023-02-25T10:52:50.704Z"
   },
   {
    "duration": 124,
    "start_time": "2023-02-25T10:53:03.625Z"
   },
   {
    "duration": 965,
    "start_time": "2023-02-25T10:54:02.998Z"
   },
   {
    "duration": 9,
    "start_time": "2023-02-25T10:54:09.065Z"
   },
   {
    "duration": 7,
    "start_time": "2023-02-25T10:54:13.506Z"
   },
   {
    "duration": 6,
    "start_time": "2023-02-25T10:54:16.326Z"
   },
   {
    "duration": 8,
    "start_time": "2023-02-25T10:54:19.133Z"
   },
   {
    "duration": 18,
    "start_time": "2023-02-25T10:57:26.939Z"
   },
   {
    "duration": 119,
    "start_time": "2023-02-25T10:57:30.520Z"
   },
   {
    "duration": 119,
    "start_time": "2023-02-25T10:57:39.679Z"
   },
   {
    "duration": 153,
    "start_time": "2023-02-25T10:57:48.190Z"
   },
   {
    "duration": 21,
    "start_time": "2023-02-25T10:58:13.690Z"
   },
   {
    "duration": 21,
    "start_time": "2023-02-25T10:58:45.200Z"
   },
   {
    "duration": 18,
    "start_time": "2023-02-25T10:58:51.667Z"
   },
   {
    "duration": 18,
    "start_time": "2023-02-25T10:58:56.170Z"
   },
   {
    "duration": 18,
    "start_time": "2023-02-25T10:59:02.984Z"
   },
   {
    "duration": 16,
    "start_time": "2023-02-25T10:59:11.475Z"
   },
   {
    "duration": 123,
    "start_time": "2023-02-25T10:59:25.960Z"
   },
   {
    "duration": 151,
    "start_time": "2023-02-25T10:59:35.365Z"
   },
   {
    "duration": 122,
    "start_time": "2023-02-25T10:59:43.557Z"
   },
   {
    "duration": 10,
    "start_time": "2023-02-25T11:00:14.393Z"
   },
   {
    "duration": 12,
    "start_time": "2023-02-25T11:00:25.104Z"
   },
   {
    "duration": 708,
    "start_time": "2023-02-25T11:00:39.230Z"
   },
   {
    "duration": 52,
    "start_time": "2023-02-25T11:00:47.033Z"
   },
   {
    "duration": 20,
    "start_time": "2023-02-25T11:00:52.693Z"
   },
   {
    "duration": 19,
    "start_time": "2023-02-25T11:00:53.771Z"
   },
   {
    "duration": 21,
    "start_time": "2023-02-25T11:00:54.384Z"
   },
   {
    "duration": 19,
    "start_time": "2023-02-25T11:00:55.692Z"
   },
   {
    "duration": 20,
    "start_time": "2023-02-25T11:00:55.842Z"
   },
   {
    "duration": 19,
    "start_time": "2023-02-25T11:00:56.195Z"
   },
   {
    "duration": 20,
    "start_time": "2023-02-25T11:00:56.413Z"
   },
   {
    "duration": 18,
    "start_time": "2023-02-25T11:00:58.123Z"
   },
   {
    "duration": 75,
    "start_time": "2023-02-25T11:00:58.393Z"
   },
   {
    "duration": 10,
    "start_time": "2023-02-25T11:01:08.894Z"
   },
   {
    "duration": 3,
    "start_time": "2023-02-25T11:01:14.822Z"
   },
   {
    "duration": 1045,
    "start_time": "2023-02-25T11:01:31.986Z"
   },
   {
    "duration": 771,
    "start_time": "2023-02-25T11:01:33.033Z"
   },
   {
    "duration": 129,
    "start_time": "2023-02-25T11:01:33.806Z"
   },
   {
    "duration": 94,
    "start_time": "2023-02-25T11:01:33.937Z"
   },
   {
    "duration": 83,
    "start_time": "2023-02-25T11:01:34.033Z"
   },
   {
    "duration": 79,
    "start_time": "2023-02-25T11:01:34.118Z"
   },
   {
    "duration": 102,
    "start_time": "2023-02-25T11:01:34.198Z"
   },
   {
    "duration": 25,
    "start_time": "2023-02-25T11:01:34.302Z"
   },
   {
    "duration": 27,
    "start_time": "2023-02-25T11:01:34.328Z"
   },
   {
    "duration": 21,
    "start_time": "2023-02-25T11:01:34.356Z"
   },
   {
    "duration": 23,
    "start_time": "2023-02-25T11:01:34.378Z"
   },
   {
    "duration": 18,
    "start_time": "2023-02-25T11:01:34.403Z"
   },
   {
    "duration": 45,
    "start_time": "2023-02-25T11:01:34.422Z"
   },
   {
    "duration": 19,
    "start_time": "2023-02-25T11:01:34.470Z"
   },
   {
    "duration": 22,
    "start_time": "2023-02-25T11:01:34.490Z"
   },
   {
    "duration": 78,
    "start_time": "2023-02-25T11:01:34.514Z"
   },
   {
    "duration": 187,
    "start_time": "2023-02-25T11:01:34.594Z"
   },
   {
    "duration": 392,
    "start_time": "2023-02-25T11:01:34.783Z"
   },
   {
    "duration": 11,
    "start_time": "2023-02-25T11:01:35.177Z"
   },
   {
    "duration": 7,
    "start_time": "2023-02-25T11:01:35.189Z"
   },
   {
    "duration": 184,
    "start_time": "2023-02-25T11:01:35.197Z"
   },
   {
    "duration": 37,
    "start_time": "2023-02-25T11:01:35.383Z"
   },
   {
    "duration": 5,
    "start_time": "2023-02-25T11:01:35.422Z"
   },
   {
    "duration": 159,
    "start_time": "2023-02-25T11:01:35.429Z"
   },
   {
    "duration": 386,
    "start_time": "2023-02-25T11:01:35.590Z"
   },
   {
    "duration": 353,
    "start_time": "2023-02-25T11:01:35.977Z"
   },
   {
    "duration": 16,
    "start_time": "2023-02-25T11:01:36.332Z"
   },
   {
    "duration": 12,
    "start_time": "2023-02-25T11:01:36.350Z"
   },
   {
    "duration": 172,
    "start_time": "2023-02-25T11:01:36.363Z"
   },
   {
    "duration": 149,
    "start_time": "2023-02-25T11:01:36.537Z"
   },
   {
    "duration": 368,
    "start_time": "2023-02-25T11:01:36.687Z"
   },
   {
    "duration": 298,
    "start_time": "2023-02-25T11:01:37.057Z"
   },
   {
    "duration": 21,
    "start_time": "2023-02-25T11:01:37.356Z"
   },
   {
    "duration": 141,
    "start_time": "2023-02-25T11:01:37.379Z"
   },
   {
    "duration": 78,
    "start_time": "2023-02-25T11:01:37.522Z"
   },
   {
    "duration": 205,
    "start_time": "2023-02-25T11:03:46.605Z"
   },
   {
    "duration": 14,
    "start_time": "2023-02-25T11:04:24.067Z"
   },
   {
    "duration": 70,
    "start_time": "2023-02-25T11:05:26.463Z"
   },
   {
    "duration": 84,
    "start_time": "2023-02-25T11:05:32.996Z"
   },
   {
    "duration": 51,
    "start_time": "2023-02-25T11:06:18.708Z"
   },
   {
    "duration": 4,
    "start_time": "2023-02-25T11:06:22.897Z"
   },
   {
    "duration": 4,
    "start_time": "2023-02-25T11:06:27.441Z"
   },
   {
    "duration": 5,
    "start_time": "2023-02-25T11:06:31.475Z"
   },
   {
    "duration": 3,
    "start_time": "2023-02-25T11:09:19.811Z"
   },
   {
    "duration": 4,
    "start_time": "2023-02-25T11:09:46.420Z"
   },
   {
    "duration": 42,
    "start_time": "2023-02-25T11:10:56.045Z"
   },
   {
    "duration": 4,
    "start_time": "2023-02-25T11:11:25.803Z"
   },
   {
    "duration": 100,
    "start_time": "2023-02-25T11:12:11.983Z"
   },
   {
    "duration": 3,
    "start_time": "2023-02-25T11:12:23.604Z"
   },
   {
    "duration": 70,
    "start_time": "2023-02-25T11:12:55.604Z"
   },
   {
    "duration": 3,
    "start_time": "2023-02-25T11:13:30.639Z"
   },
   {
    "duration": 13,
    "start_time": "2023-02-25T11:14:23.264Z"
   },
   {
    "duration": 65,
    "start_time": "2023-02-25T11:14:33.108Z"
   },
   {
    "duration": 64,
    "start_time": "2023-02-25T11:14:44.557Z"
   },
   {
    "duration": 75,
    "start_time": "2023-02-25T11:15:02.847Z"
   },
   {
    "duration": 3,
    "start_time": "2023-02-25T11:16:13.007Z"
   },
   {
    "duration": 3,
    "start_time": "2023-02-25T11:18:08.413Z"
   },
   {
    "duration": 5379,
    "start_time": "2023-02-25T11:19:08.670Z"
   },
   {
    "duration": 10,
    "start_time": "2023-02-25T11:26:10.326Z"
   },
   {
    "duration": 24,
    "start_time": "2023-02-25T11:26:27.050Z"
   },
   {
    "duration": 3,
    "start_time": "2023-02-25T11:28:17.152Z"
   },
   {
    "duration": 13,
    "start_time": "2023-02-25T11:31:24.270Z"
   },
   {
    "duration": 10,
    "start_time": "2023-02-25T11:32:16.295Z"
   },
   {
    "duration": 10,
    "start_time": "2023-02-25T11:32:32.948Z"
   },
   {
    "duration": 12,
    "start_time": "2023-02-25T11:32:56.461Z"
   },
   {
    "duration": 3,
    "start_time": "2023-02-25T11:33:44.913Z"
   },
   {
    "duration": 3586,
    "start_time": "2023-02-25T11:33:52.132Z"
   },
   {
    "duration": 49,
    "start_time": "2023-03-01T15:22:45.723Z"
   },
   {
    "duration": 1580,
    "start_time": "2023-03-01T15:22:56.435Z"
   },
   {
    "duration": 1087,
    "start_time": "2023-03-01T15:22:58.017Z"
   },
   {
    "duration": 117,
    "start_time": "2023-03-01T15:22:59.105Z"
   },
   {
    "duration": 94,
    "start_time": "2023-03-01T15:22:59.234Z"
   },
   {
    "duration": 77,
    "start_time": "2023-03-01T15:22:59.334Z"
   },
   {
    "duration": 74,
    "start_time": "2023-03-01T15:22:59.412Z"
   },
   {
    "duration": 83,
    "start_time": "2023-03-01T15:22:59.488Z"
   },
   {
    "duration": 20,
    "start_time": "2023-03-01T15:22:59.573Z"
   },
   {
    "duration": 41,
    "start_time": "2023-03-01T15:22:59.594Z"
   },
   {
    "duration": 21,
    "start_time": "2023-03-01T15:22:59.638Z"
   },
   {
    "duration": 20,
    "start_time": "2023-03-01T15:22:59.661Z"
   },
   {
    "duration": 19,
    "start_time": "2023-03-01T15:22:59.683Z"
   },
   {
    "duration": 40,
    "start_time": "2023-03-01T15:22:59.704Z"
   },
   {
    "duration": 19,
    "start_time": "2023-03-01T15:22:59.746Z"
   },
   {
    "duration": 22,
    "start_time": "2023-03-01T15:22:59.766Z"
   },
   {
    "duration": 95,
    "start_time": "2023-03-01T15:22:59.790Z"
   },
   {
    "duration": 203,
    "start_time": "2023-03-01T15:22:59.887Z"
   },
   {
    "duration": 452,
    "start_time": "2023-03-01T15:23:00.092Z"
   },
   {
    "duration": 11,
    "start_time": "2023-03-01T15:23:00.546Z"
   },
   {
    "duration": 43,
    "start_time": "2023-03-01T15:23:00.559Z"
   },
   {
    "duration": 203,
    "start_time": "2023-03-01T15:23:00.604Z"
   },
   {
    "duration": 36,
    "start_time": "2023-03-01T15:23:00.809Z"
   },
   {
    "duration": 38,
    "start_time": "2023-03-01T15:23:00.847Z"
   },
   {
    "duration": 274,
    "start_time": "2023-03-01T15:23:00.887Z"
   },
   {
    "duration": 440,
    "start_time": "2023-03-01T15:23:01.162Z"
   },
   {
    "duration": 406,
    "start_time": "2023-03-01T15:23:01.604Z"
   },
   {
    "duration": 6,
    "start_time": "2023-03-01T15:23:02.012Z"
   },
   {
    "duration": 8,
    "start_time": "2023-03-01T15:23:02.034Z"
   },
   {
    "duration": 198,
    "start_time": "2023-03-01T15:23:02.044Z"
   },
   {
    "duration": 176,
    "start_time": "2023-03-01T15:23:02.245Z"
   },
   {
    "duration": 311,
    "start_time": "2023-03-01T15:23:02.423Z"
   },
   {
    "duration": 324,
    "start_time": "2023-03-01T15:23:02.736Z"
   },
   {
    "duration": 23,
    "start_time": "2023-03-01T15:23:03.062Z"
   },
   {
    "duration": 162,
    "start_time": "2023-03-01T15:23:03.087Z"
   },
   {
    "duration": 83,
    "start_time": "2023-03-01T15:23:03.251Z"
   },
   {
    "duration": 16,
    "start_time": "2023-03-01T15:23:03.336Z"
   },
   {
    "duration": 86,
    "start_time": "2023-03-01T15:23:03.353Z"
   },
   {
    "duration": 67,
    "start_time": "2023-03-01T15:23:03.441Z"
   },
   {
    "duration": 4,
    "start_time": "2023-03-01T15:23:03.510Z"
   },
   {
    "duration": 4,
    "start_time": "2023-03-01T15:23:03.535Z"
   },
   {
    "duration": 14,
    "start_time": "2023-03-01T15:23:03.541Z"
   },
   {
    "duration": 84,
    "start_time": "2023-03-01T15:23:03.556Z"
   },
   {
    "duration": 5815,
    "start_time": "2023-03-01T15:23:03.641Z"
   },
   {
    "duration": 0,
    "start_time": "2023-03-01T15:23:09.457Z"
   },
   {
    "duration": 0,
    "start_time": "2023-03-01T15:23:09.458Z"
   },
   {
    "duration": 0,
    "start_time": "2023-03-01T15:23:09.459Z"
   },
   {
    "duration": 2,
    "start_time": "2023-03-01T15:23:13.596Z"
   },
   {
    "duration": 70,
    "start_time": "2023-03-01T15:25:17.949Z"
   },
   {
    "duration": 3,
    "start_time": "2023-03-01T15:26:14.774Z"
   },
   {
    "duration": 3,
    "start_time": "2023-03-01T15:31:51.803Z"
   },
   {
    "duration": 27,
    "start_time": "2023-03-01T15:32:55.274Z"
   },
   {
    "duration": 19,
    "start_time": "2023-03-01T15:34:09.200Z"
   },
   {
    "duration": 15,
    "start_time": "2023-03-01T15:34:29.472Z"
   },
   {
    "duration": 15,
    "start_time": "2023-03-01T15:34:40.477Z"
   },
   {
    "duration": 3,
    "start_time": "2023-03-01T15:34:43.476Z"
   },
   {
    "duration": 3,
    "start_time": "2023-03-01T15:34:43.745Z"
   },
   {
    "duration": 28,
    "start_time": "2023-03-01T15:34:44.136Z"
   },
   {
    "duration": 86,
    "start_time": "2023-03-01T15:36:16.876Z"
   },
   {
    "duration": 51,
    "start_time": "2023-03-01T15:36:25.037Z"
   },
   {
    "duration": 29,
    "start_time": "2023-03-01T15:37:08.878Z"
   },
   {
    "duration": 27,
    "start_time": "2023-03-01T15:37:46.227Z"
   },
   {
    "duration": 32,
    "start_time": "2023-03-01T15:38:24.259Z"
   },
   {
    "duration": 91,
    "start_time": "2023-03-01T15:38:58.850Z"
   },
   {
    "duration": 105,
    "start_time": "2023-03-01T15:39:05.760Z"
   },
   {
    "duration": 70,
    "start_time": "2023-03-01T15:40:10.300Z"
   },
   {
    "duration": 3,
    "start_time": "2023-03-01T15:40:57.971Z"
   },
   {
    "duration": 3,
    "start_time": "2023-03-01T15:40:58.951Z"
   },
   {
    "duration": 23,
    "start_time": "2023-03-01T15:40:59.101Z"
   },
   {
    "duration": 12,
    "start_time": "2023-03-01T15:43:02.613Z"
   },
   {
    "duration": 65,
    "start_time": "2023-03-01T15:43:21.294Z"
   },
   {
    "duration": 30,
    "start_time": "2023-03-01T15:43:36.483Z"
   },
   {
    "duration": 62,
    "start_time": "2023-03-01T15:43:40.404Z"
   },
   {
    "duration": 4,
    "start_time": "2023-03-01T15:43:46.223Z"
   },
   {
    "duration": 65,
    "start_time": "2023-03-01T15:43:47.676Z"
   },
   {
    "duration": 116,
    "start_time": "2023-03-01T15:44:39.155Z"
   },
   {
    "duration": 16,
    "start_time": "2023-03-01T15:44:42.014Z"
   },
   {
    "duration": 12,
    "start_time": "2023-03-01T15:44:57.085Z"
   },
   {
    "duration": 34,
    "start_time": "2023-03-01T15:44:57.525Z"
   },
   {
    "duration": 28,
    "start_time": "2023-03-01T15:44:58.006Z"
   },
   {
    "duration": 4,
    "start_time": "2023-03-01T15:44:58.405Z"
   },
   {
    "duration": 4,
    "start_time": "2023-03-01T15:44:58.785Z"
   },
   {
    "duration": 4,
    "start_time": "2023-03-01T15:44:59.656Z"
   },
   {
    "duration": 50,
    "start_time": "2023-03-01T15:45:01.765Z"
   },
   {
    "duration": 46447,
    "start_time": "2023-03-01T15:45:06.125Z"
   },
   {
    "duration": 3,
    "start_time": "2023-03-01T15:46:02.706Z"
   },
   {
    "duration": 3,
    "start_time": "2023-03-01T15:46:03.666Z"
   },
   {
    "duration": 0,
    "start_time": "2023-03-01T15:46:42.650Z"
   },
   {
    "duration": 0,
    "start_time": "2023-03-01T15:46:42.651Z"
   },
   {
    "duration": 4,
    "start_time": "2023-03-01T15:46:47.256Z"
   },
   {
    "duration": 13,
    "start_time": "2023-03-01T15:46:47.556Z"
   },
   {
    "duration": 3,
    "start_time": "2023-03-01T15:47:35.317Z"
   },
   {
    "duration": 3,
    "start_time": "2023-03-01T15:47:35.956Z"
   },
   {
    "duration": 9211,
    "start_time": "2023-03-01T15:47:36.527Z"
   },
   {
    "duration": 10,
    "start_time": "2023-03-01T15:49:08.739Z"
   },
   {
    "duration": 3,
    "start_time": "2023-03-01T15:49:58.147Z"
   },
   {
    "duration": 45997,
    "start_time": "2023-03-01T15:49:58.152Z"
   },
   {
    "duration": 31412,
    "start_time": "2023-03-01T15:52:20.432Z"
   },
   {
    "duration": 4,
    "start_time": "2023-03-01T15:54:05.953Z"
   },
   {
    "duration": 31784,
    "start_time": "2023-03-01T15:54:38.824Z"
   },
   {
    "duration": 235796,
    "start_time": "2023-03-01T15:55:43.274Z"
   },
   {
    "duration": 0,
    "start_time": "2023-03-01T15:59:39.072Z"
   },
   {
    "duration": 0,
    "start_time": "2023-03-01T15:59:39.073Z"
   },
   {
    "duration": 3,
    "start_time": "2023-03-01T15:59:41.207Z"
   },
   {
    "duration": 7640,
    "start_time": "2023-03-01T15:59:41.317Z"
   },
   {
    "duration": 2,
    "start_time": "2023-03-01T15:59:53.319Z"
   },
   {
    "duration": 0,
    "start_time": "2023-03-01T16:00:53.165Z"
   },
   {
    "duration": 0,
    "start_time": "2023-03-01T16:00:53.167Z"
   },
   {
    "duration": 3,
    "start_time": "2023-03-01T16:00:54.588Z"
   },
   {
    "duration": 8125,
    "start_time": "2023-03-01T16:00:54.728Z"
   },
   {
    "duration": 3,
    "start_time": "2023-03-01T16:01:32.140Z"
   },
   {
    "duration": 4417,
    "start_time": "2023-03-01T16:01:32.519Z"
   },
   {
    "duration": 3,
    "start_time": "2023-03-01T16:01:49.771Z"
   },
   {
    "duration": 27881,
    "start_time": "2023-03-01T16:01:50.070Z"
   },
   {
    "duration": 15,
    "start_time": "2023-03-01T16:02:33.862Z"
   },
   {
    "duration": 5,
    "start_time": "2023-03-01T16:02:47.450Z"
   },
   {
    "duration": 11,
    "start_time": "2023-03-01T16:04:41.312Z"
   },
   {
    "duration": 10,
    "start_time": "2023-03-01T16:04:46.542Z"
   },
   {
    "duration": 4,
    "start_time": "2023-03-01T16:04:55.703Z"
   },
   {
    "duration": 14,
    "start_time": "2023-03-01T16:21:10.936Z"
   },
   {
    "duration": 19,
    "start_time": "2023-03-01T16:21:20.726Z"
   },
   {
    "duration": 15,
    "start_time": "2023-03-01T16:21:31.966Z"
   },
   {
    "duration": 13,
    "start_time": "2023-03-01T16:21:36.336Z"
   },
   {
    "duration": 10,
    "start_time": "2023-03-01T16:22:55.178Z"
   },
   {
    "duration": 3,
    "start_time": "2023-03-01T16:23:05.888Z"
   },
   {
    "duration": 3,
    "start_time": "2023-03-01T16:23:32.898Z"
   },
   {
    "duration": 52,
    "start_time": "2023-03-01T16:23:42.830Z"
   },
   {
    "duration": 3,
    "start_time": "2023-03-01T16:24:02.659Z"
   },
   {
    "duration": 52,
    "start_time": "2023-03-01T16:24:03.959Z"
   },
   {
    "duration": 3,
    "start_time": "2023-03-01T16:24:27.950Z"
   },
   {
    "duration": 50,
    "start_time": "2023-03-01T16:24:29.309Z"
   },
   {
    "duration": 31651,
    "start_time": "2023-03-01T16:25:13.040Z"
   },
   {
    "duration": 4,
    "start_time": "2023-03-01T16:25:44.693Z"
   },
   {
    "duration": 6,
    "start_time": "2023-03-01T16:25:44.699Z"
   },
   {
    "duration": 13,
    "start_time": "2023-03-01T16:26:52.702Z"
   },
   {
    "duration": 852783,
    "start_time": "2023-03-01T16:27:10.461Z"
   },
   {
    "duration": 4,
    "start_time": "2023-03-01T16:41:23.246Z"
   },
   {
    "duration": 7,
    "start_time": "2023-03-01T16:41:23.252Z"
   },
   {
    "duration": 7,
    "start_time": "2023-03-01T16:44:50.027Z"
   },
   {
    "duration": 37,
    "start_time": "2023-03-01T16:44:50.317Z"
   },
   {
    "duration": 4,
    "start_time": "2023-03-01T16:44:50.657Z"
   },
   {
    "duration": 4,
    "start_time": "2023-03-01T16:44:51.086Z"
   },
   {
    "duration": 3,
    "start_time": "2023-03-01T16:44:54.066Z"
   },
   {
    "duration": 61,
    "start_time": "2023-03-01T16:44:56.296Z"
   },
   {
    "duration": 5400,
    "start_time": "2023-03-01T16:44:58.977Z"
   },
   {
    "duration": 75,
    "start_time": "2023-03-01T16:46:57.158Z"
   },
   {
    "duration": 14804,
    "start_time": "2023-03-01T16:47:35.439Z"
   },
   {
    "duration": 978,
    "start_time": "2023-03-01T16:48:28.080Z"
   },
   {
    "duration": 4,
    "start_time": "2023-03-01T16:49:17.914Z"
   },
   {
    "duration": 4,
    "start_time": "2023-03-01T16:49:39.140Z"
   },
   {
    "duration": 4,
    "start_time": "2023-03-01T16:49:44.920Z"
   },
   {
    "duration": 4,
    "start_time": "2023-03-01T16:49:52.271Z"
   },
   {
    "duration": 5,
    "start_time": "2023-03-01T16:50:43.572Z"
   },
   {
    "duration": 860,
    "start_time": "2023-03-01T16:51:33.752Z"
   },
   {
    "duration": 15,
    "start_time": "2023-03-01T16:54:41.825Z"
   },
   {
    "duration": 17,
    "start_time": "2023-03-01T16:54:48.006Z"
   },
   {
    "duration": 5,
    "start_time": "2023-03-01T16:55:10.056Z"
   },
   {
    "duration": 154,
    "start_time": "2023-03-01T16:58:08.478Z"
   },
   {
    "duration": 12,
    "start_time": "2023-03-01T16:58:55.486Z"
   },
   {
    "duration": 8,
    "start_time": "2023-03-01T16:59:32.369Z"
   },
   {
    "duration": 7,
    "start_time": "2023-03-01T16:59:37.879Z"
   },
   {
    "duration": 22,
    "start_time": "2023-03-01T17:00:11.370Z"
   },
   {
    "duration": 136,
    "start_time": "2023-03-01T17:00:11.921Z"
   },
   {
    "duration": 65,
    "start_time": "2023-03-01T17:00:16.001Z"
   },
   {
    "duration": 1622,
    "start_time": "2023-03-01T17:02:12.912Z"
   },
   {
    "duration": 145,
    "start_time": "2023-03-01T17:02:15.247Z"
   },
   {
    "duration": 12,
    "start_time": "2023-03-01T17:02:15.941Z"
   },
   {
    "duration": 4,
    "start_time": "2023-03-01T17:02:35.863Z"
   },
   {
    "duration": 24,
    "start_time": "2023-03-01T17:02:37.102Z"
   },
   {
    "duration": 132,
    "start_time": "2023-03-02T08:31:35.510Z"
   },
   {
    "duration": 9,
    "start_time": "2023-03-02T08:36:28.813Z"
   },
   {
    "duration": 8,
    "start_time": "2023-03-02T08:38:55.238Z"
   },
   {
    "duration": 1732,
    "start_time": "2023-03-02T08:38:59.964Z"
   },
   {
    "duration": 14,
    "start_time": "2023-03-02T08:39:05.224Z"
   },
   {
    "duration": 10,
    "start_time": "2023-03-02T08:39:43.939Z"
   },
   {
    "duration": 1561,
    "start_time": "2023-03-02T08:40:07.726Z"
   },
   {
    "duration": 1423,
    "start_time": "2023-03-02T08:40:09.290Z"
   },
   {
    "duration": 248,
    "start_time": "2023-03-02T08:40:10.715Z"
   },
   {
    "duration": 142,
    "start_time": "2023-03-02T08:40:10.967Z"
   },
   {
    "duration": 88,
    "start_time": "2023-03-02T08:40:11.111Z"
   },
   {
    "duration": 88,
    "start_time": "2023-03-02T08:40:11.201Z"
   },
   {
    "duration": 123,
    "start_time": "2023-03-02T08:40:11.292Z"
   },
   {
    "duration": 29,
    "start_time": "2023-03-02T08:40:11.417Z"
   },
   {
    "duration": 21,
    "start_time": "2023-03-02T08:40:11.448Z"
   },
   {
    "duration": 22,
    "start_time": "2023-03-02T08:40:11.473Z"
   },
   {
    "duration": 20,
    "start_time": "2023-03-02T08:40:11.521Z"
   },
   {
    "duration": 25,
    "start_time": "2023-03-02T08:40:11.543Z"
   },
   {
    "duration": 23,
    "start_time": "2023-03-02T08:40:11.570Z"
   },
   {
    "duration": 40,
    "start_time": "2023-03-02T08:40:11.595Z"
   },
   {
    "duration": 24,
    "start_time": "2023-03-02T08:40:11.636Z"
   },
   {
    "duration": 91,
    "start_time": "2023-03-02T08:40:11.662Z"
   },
   {
    "duration": 186,
    "start_time": "2023-03-02T08:40:11.755Z"
   },
   {
    "duration": 467,
    "start_time": "2023-03-02T08:40:11.942Z"
   },
   {
    "duration": 17,
    "start_time": "2023-03-02T08:40:12.411Z"
   },
   {
    "duration": 10,
    "start_time": "2023-03-02T08:40:12.430Z"
   },
   {
    "duration": 175,
    "start_time": "2023-03-02T08:40:12.442Z"
   },
   {
    "duration": 35,
    "start_time": "2023-03-02T08:40:12.619Z"
   },
   {
    "duration": 4,
    "start_time": "2023-03-02T08:40:12.655Z"
   },
   {
    "duration": 262,
    "start_time": "2023-03-02T08:40:12.661Z"
   },
   {
    "duration": 473,
    "start_time": "2023-03-02T08:40:12.924Z"
   },
   {
    "duration": 472,
    "start_time": "2023-03-02T08:40:13.399Z"
   },
   {
    "duration": 6,
    "start_time": "2023-03-02T08:40:13.872Z"
   },
   {
    "duration": 13,
    "start_time": "2023-03-02T08:40:13.881Z"
   },
   {
    "duration": 210,
    "start_time": "2023-03-02T08:40:13.896Z"
   },
   {
    "duration": 182,
    "start_time": "2023-03-02T08:40:14.109Z"
   },
   {
    "duration": 429,
    "start_time": "2023-03-02T08:40:14.293Z"
   },
   {
    "duration": 362,
    "start_time": "2023-03-02T08:40:14.724Z"
   },
   {
    "duration": 11,
    "start_time": "2023-03-02T08:40:15.088Z"
   },
   {
    "duration": 43,
    "start_time": "2023-03-02T08:40:15.101Z"
   },
   {
    "duration": 155,
    "start_time": "2023-03-02T08:40:15.146Z"
   },
   {
    "duration": 82,
    "start_time": "2023-03-02T08:40:15.303Z"
   },
   {
    "duration": 89,
    "start_time": "2023-03-02T08:40:15.387Z"
   },
   {
    "duration": 10,
    "start_time": "2023-03-02T08:40:15.478Z"
   },
   {
    "duration": 160,
    "start_time": "2023-03-02T08:40:15.490Z"
   },
   {
    "duration": 17,
    "start_time": "2023-03-02T08:40:15.652Z"
   },
   {
    "duration": 9,
    "start_time": "2023-03-02T08:40:15.671Z"
   },
   {
    "duration": 58,
    "start_time": "2023-03-02T08:40:15.682Z"
   },
   {
    "duration": 4,
    "start_time": "2023-03-02T08:40:15.742Z"
   },
   {
    "duration": 8,
    "start_time": "2023-03-02T08:40:15.749Z"
   },
   {
    "duration": 6,
    "start_time": "2023-03-02T08:40:15.759Z"
   },
   {
    "duration": 82,
    "start_time": "2023-03-02T08:40:15.767Z"
   },
   {
    "duration": 41665,
    "start_time": "2023-03-02T08:40:15.851Z"
   },
   {
    "duration": 7,
    "start_time": "2023-03-02T08:40:57.518Z"
   },
   {
    "duration": 12,
    "start_time": "2023-03-02T08:40:57.527Z"
   },
   {
    "duration": 1280291,
    "start_time": "2023-03-02T08:40:57.542Z"
   },
   {
    "duration": 4,
    "start_time": "2023-03-02T09:02:17.835Z"
   },
   {
    "duration": 81,
    "start_time": "2023-03-02T09:02:17.841Z"
   },
   {
    "duration": 4,
    "start_time": "2023-03-02T09:02:17.924Z"
   },
   {
    "duration": 10,
    "start_time": "2023-03-02T09:02:17.930Z"
   },
   {
    "duration": 67791,
    "start_time": "2023-03-02T09:02:17.942Z"
   },
   {
    "duration": 5531,
    "start_time": "2023-03-02T09:03:25.735Z"
   },
   {
    "duration": 653,
    "start_time": "2023-03-02T09:03:31.321Z"
   },
   {
    "duration": 47,
    "start_time": "2023-03-02T09:03:31.975Z"
   },
   {
    "duration": 9,
    "start_time": "2023-03-02T09:03:32.023Z"
   },
   {
    "duration": 1307,
    "start_time": "2023-03-02T09:03:32.034Z"
   },
   {
    "duration": 10,
    "start_time": "2023-03-02T09:35:32.209Z"
   }
  ],
  "kernelspec": {
   "display_name": "Python 3 (ipykernel)",
   "language": "python",
   "name": "python3"
  },
  "language_info": {
   "codemirror_mode": {
    "name": "ipython",
    "version": 3
   },
   "file_extension": ".py",
   "mimetype": "text/x-python",
   "name": "python",
   "nbconvert_exporter": "python",
   "pygments_lexer": "ipython3",
   "version": "3.9.5"
  },
  "toc": {
   "base_numbering": 1,
   "nav_menu": {},
   "number_sections": true,
   "sideBar": true,
   "skip_h1_title": true,
   "title_cell": "Table of Contents",
   "title_sidebar": "Contents",
   "toc_cell": false,
   "toc_position": {},
   "toc_section_display": true,
   "toc_window_display": false
  }
 },
 "nbformat": 4,
 "nbformat_minor": 2
}
